{
 "cells": [
  {
   "cell_type": "markdown",
   "metadata": {
    "papermill": {
     "duration": 0.046342,
     "end_time": "2021-03-11T08:55:43.552864",
     "exception": false,
     "start_time": "2021-03-11T08:55:43.506522",
     "status": "completed"
    },
    "tags": []
   },
   "source": [
   ]
  },
  {
   "cell_type": "code",
   "execution_count": 1,
   "metadata": {
    "_cell_guid": "b1076dfc-b9ad-4769-8c92-a6c4dae69d19",
    "_uuid": "8f2839f25d086af736a60e9eeb907d3b93b6e0e5",
    "execution": {
     "iopub.execute_input": "2021-03-11T08:55:43.648385Z",
     "iopub.status.busy": "2021-03-11T08:55:43.647267Z",
     "iopub.status.idle": "2021-03-11T08:55:43.649758Z",
     "shell.execute_reply": "2021-03-11T08:55:43.650192Z"
    },
    "papermill": {
     "duration": 0.05257,
     "end_time": "2021-03-11T08:55:43.650318",
     "exception": false,
     "start_time": "2021-03-11T08:55:43.597748",
     "status": "completed"
    },
    "tags": []
   },
   "outputs": [],
   "source": [
    "import codecs\n",
    "import copy\n",
    "import csv\n",
    "import gc\n",
    "import os\n",
    "import pickle\n",
    "import random\n",
    "import time\n",
    "from typing import Dict, List, Tuple, Union"
   ]
  },
  {
   "cell_type": "code",
   "execution_count": 2,
   "metadata": {
    "execution": {
     "iopub.execute_input": "2021-03-11T08:55:43.746151Z",
     "iopub.status.busy": "2021-03-11T08:55:43.744891Z",
     "iopub.status.idle": "2021-03-11T08:55:43.747281Z",
     "shell.execute_reply": "2021-03-11T08:55:43.747694Z"
    },
    "papermill": {
     "duration": 0.05162,
     "end_time": "2021-03-11T08:55:43.747803",
     "exception": false,
     "start_time": "2021-03-11T08:55:43.696183",
     "status": "completed"
    },
    "tags": []
   },
   "outputs": [],
   "source": [
    "os.environ['TF_CPP_MIN_LOG_LEVEL'] = '2'"
   ]
  },
  {
   "cell_type": "code",
   "execution_count": 3,
   "metadata": {
    "_cell_guid": "79c7e3d0-c299-4dcb-8224-4455121ee9b0",
    "_uuid": "d629ff2d2480ee46fbb7e2d37f6b5fab8052498a",
    "execution": {
     "iopub.execute_input": "2021-03-11T08:55:43.844319Z",
     "iopub.status.busy": "2021-03-11T08:55:43.843709Z",
     "iopub.status.idle": "2021-03-11T08:55:53.615499Z",
     "shell.execute_reply": "2021-03-11T08:55:53.614360Z"
    },
    "papermill": {
     "duration": 9.822835,
     "end_time": "2021-03-11T08:55:53.615609",
     "exception": false,
     "start_time": "2021-03-11T08:55:43.792774",
     "status": "completed"
    },
    "tags": []
   },
   "outputs": [
    {
     "name": "stderr",
     "output_type": "stream",
     "text": [
      "\u001b[34m\u001b[1mwandb\u001b[0m: \u001b[33mWARNING\u001b[0m W&B installed but not logged in.  Run `wandb login` or set the WANDB_API_KEY env variable.\n"
     ]
    }
   ],
   "source": [
    "import matplotlib.pyplot as plt\n",
    "from nltk import wordpunct_tokenize\n",
    "import numpy as np\n",
    "from sklearn.manifold import TSNE\n",
    "from sklearn.model_selection import train_test_split\n",
    "import tensorflow as tf\n",
    "import tensorflow_addons as tfa\n",
    "from tensorflow.python.framework import ops, tensor_util\n",
    "from tensorflow.python.keras.utils import losses_utils, tf_utils\n",
    "from tensorflow.python.ops import math_ops\n",
    "from tensorflow.python.ops.losses import util as tf_losses_util\n",
    "from tqdm.notebook import tqdm\n",
    "from transformers import AutoTokenizer, XLMRobertaTokenizer\n",
    "from transformers import TFXLMRobertaModel, XLMRobertaConfig"
   ]
  },
  {
   "cell_type": "code",
   "execution_count": 4,
   "metadata": {
    "execution": {
     "iopub.execute_input": "2021-03-11T08:55:53.720293Z",
     "iopub.status.busy": "2021-03-11T08:55:53.719569Z",
     "iopub.status.idle": "2021-03-11T08:55:53.722664Z",
     "shell.execute_reply": "2021-03-11T08:55:53.723033Z"
    },
    "papermill": {
     "duration": 0.060668,
     "end_time": "2021-03-11T08:55:53.723156",
     "exception": false,
     "start_time": "2021-03-11T08:55:53.662488",
     "status": "completed"
    },
    "tags": []
   },
   "outputs": [],
   "source": [
    "class LossFunctionWrapper(tf.keras.losses.Loss):\n",
    "    def __init__(self,\n",
    "                 fn,\n",
    "                 reduction=losses_utils.ReductionV2.AUTO,\n",
    "                 name=None,\n",
    "                 **kwargs):\n",
    "        super(LossFunctionWrapper, self).__init__(reduction=reduction,\n",
    "                                                  name=name)\n",
    "        self.fn = fn\n",
    "        self._fn_kwargs = kwargs\n",
    "\n",
    "    def call(self, y_true, y_pred):\n",
    "        if tensor_util.is_tensor(y_pred) and tensor_util.is_tensor(y_true):\n",
    "            y_pred, y_true = tf_losses_util.squeeze_or_expand_dimensions(\n",
    "                y_pred, y_true\n",
    "            )\n",
    "        return self.fn(y_true, y_pred, **self._fn_kwargs)\n",
    "\n",
    "    def get_config(self):\n",
    "        config = {}\n",
    "        for k, v in six.iteritems(self._fn_kwargs):\n",
    "            config[k] = tf.keras.backend.eval(v) \\\n",
    "                if tf_utils.is_tensor_or_variable(v) \\\n",
    "                else v\n",
    "        base_config = super(LossFunctionWrapper, self).get_config()\n",
    "        return dict(list(base_config.items()) + list(config.items()))"
   ]
  },
  {
   "cell_type": "code",
   "execution_count": 5,
   "metadata": {
    "execution": {
     "iopub.execute_input": "2021-03-11T08:55:53.828156Z",
     "iopub.status.busy": "2021-03-11T08:55:53.827407Z",
     "iopub.status.idle": "2021-03-11T08:55:53.831926Z",
     "shell.execute_reply": "2021-03-11T08:55:53.832321Z"
    },
    "papermill": {
     "duration": 0.060266,
     "end_time": "2021-03-11T08:55:53.832422",
     "exception": false,
     "start_time": "2021-03-11T08:55:53.772156",
     "status": "completed"
    },
    "tags": []
   },
   "outputs": [],
   "source": [
    "def distance_based_log_loss(y_true, y_pred):\n",
    "    y_pred = ops.convert_to_tensor(y_pred)\n",
    "    y_true = math_ops.cast(y_true, y_pred.dtype)\n",
    "    margin = 1.0\n",
    "    p = (1.0 + tf.math.exp(-margin)) / (1.0 + tf.math.exp(y_pred - margin))\n",
    "    return tf.keras.backend.binary_crossentropy(target=y_true, output=p)"
   ]
  },
  {
   "cell_type": "code",
   "execution_count": 6,
   "metadata": {
    "execution": {
     "iopub.execute_input": "2021-03-11T08:55:53.933700Z",
     "iopub.status.busy": "2021-03-11T08:55:53.933009Z",
     "iopub.status.idle": "2021-03-11T08:55:53.935833Z",
     "shell.execute_reply": "2021-03-11T08:55:53.935428Z"
    },
    "papermill": {
     "duration": 0.055811,
     "end_time": "2021-03-11T08:55:53.935918",
     "exception": false,
     "start_time": "2021-03-11T08:55:53.880107",
     "status": "completed"
    },
    "tags": []
   },
   "outputs": [],
   "source": [
    "class DBLLogLoss(LossFunctionWrapper):\n",
    "    def __init__(self, reduction=losses_utils.ReductionV2.AUTO,\n",
    "                 name='distance_based_log_loss'):\n",
    "        super(DBLLogLoss, self).__init__(distance_based_log_loss, name=name,\n",
    "                                         reduction=reduction)"
   ]
  },
  {
   "cell_type": "code",
   "execution_count": 7,
   "metadata": {
    "execution": {
     "iopub.execute_input": "2021-03-11T08:55:54.037418Z",
     "iopub.status.busy": "2021-03-11T08:55:54.036684Z",
     "iopub.status.idle": "2021-03-11T08:55:54.038986Z",
     "shell.execute_reply": "2021-03-11T08:55:54.039418Z"
    },
    "papermill": {
     "duration": 0.05581,
     "end_time": "2021-03-11T08:55:54.039514",
     "exception": false,
     "start_time": "2021-03-11T08:55:53.983704",
     "status": "completed"
    },
    "tags": []
   },
   "outputs": [],
   "source": [
    "class AttentionMaskLayer(tf.keras.layers.Layer):\n",
    "    def __init__(self, pad_token_id: int, **kwargs):\n",
    "        self.pad_token_id = pad_token_id\n",
    "        super(AttentionMaskLayer, self).__init__(**kwargs)\n",
    "\n",
    "    def build(self, input_shape):\n",
    "        super(AttentionMaskLayer, self).build(input_shape)\n",
    "\n",
    "    def call(self, inputs, **kwargs):\n",
    "        return tf.keras.backend.cast(\n",
    "            x=tf.math.not_equal(\n",
    "                x=inputs,\n",
    "                y=self.pad_token_id\n",
    "            ),\n",
    "            dtype='int32'\n",
    "        )\n",
    "\n",
    "    def compute_output_shape(self, input_shape):\n",
    "        return input_shape\n",
    "\n",
    "    def get_config(self):\n",
    "        return {\"pad_token_id\": self.pad_token_id}"
   ]
  },
  {
   "cell_type": "markdown",
   "metadata": {
    "papermill": {
     "duration": 0.045713,
     "end_time": "2021-03-11T08:55:54.131333",
     "exception": false,
     "start_time": "2021-03-11T08:55:54.085620",
     "status": "completed"
    },
    "tags": []
   },
   "source": [
    "**def tokenize_all(...)**\n",
    "\n",
    "This function transforms input texts to token IDs for XLM-RoBERTa. It returns a 2-d numpy array with integer values."
   ]
  },
  {
   "cell_type": "code",
   "execution_count": 8,
   "metadata": {
    "execution": {
     "iopub.execute_input": "2021-03-11T08:55:54.234480Z",
     "iopub.status.busy": "2021-03-11T08:55:54.233773Z",
     "iopub.status.idle": "2021-03-11T08:55:54.236544Z",
     "shell.execute_reply": "2021-03-11T08:55:54.236139Z"
    },
    "papermill": {
     "duration": 0.05915,
     "end_time": "2021-03-11T08:55:54.236645",
     "exception": false,
     "start_time": "2021-03-11T08:55:54.177495",
     "status": "completed"
    },
    "tags": []
   },
   "outputs": [],
   "source": [
    "def tokenize_all(texts: List[str], tokenizer: XLMRobertaTokenizer,\n",
    "                 maxlen: int) -> List[List[int]]:\n",
    "    if not isinstance(texts, list):\n",
    "        err_msg = '\"{0}\" is wrong type for the text list!'.format(type(texts))\n",
    "        raise ValueError(err_msg)\n",
    "    n_texts = len(texts)\n",
    "    all_tokenized_texts = []\n",
    "    for cur_text in tqdm(texts):\n",
    "        full_words = wordpunct_tokenize(cur_text)\n",
    "        sub_words = []\n",
    "        for cur_word in filter(lambda it2: len(it2) > 0,\n",
    "                               map(lambda it1: it1.strip(), full_words)):\n",
    "            bpe = tokenizer.tokenize(cur_word)\n",
    "            if tokenizer.unk_token in bpe:\n",
    "                sub_words.append(tokenizer.unk_token)\n",
    "            else:\n",
    "                sub_words += bpe\n",
    "        sub_words = [tokenizer.bos_token] + sub_words + \\\n",
    "                    [tokenizer.eos_token]\n",
    "        if len(sub_words) > maxlen:\n",
    "            sub_words = sub_words[:maxlen]\n",
    "        elif len(sub_words) < maxlen:\n",
    "            ndiff = maxlen - len(sub_words)\n",
    "            for _ in range(ndiff):\n",
    "                sub_words.append(tokenizer.pad_token)\n",
    "        all_tokenized_texts.append(\n",
    "            tokenizer.convert_tokens_to_ids(sub_words)\n",
    "        )\n",
    "        del sub_words, full_words\n",
    "    return all_tokenized_texts"
   ]
  },
  {
   "cell_type": "markdown",
   "metadata": {
    "papermill": {
     "duration": 0.046198,
     "end_time": "2021-03-11T08:55:54.329020",
     "exception": false,
     "start_time": "2021-03-11T08:55:54.282822",
     "status": "completed"
    },
    "tags": []
   },
   "source": [
    "**def load_train_set(...)**\n",
    "\n",
    "This function loads multilingual labeled text corpus for training from the CSV file. If there is no information about language in this CSV file, then I think that all texts language is English.\n",
    "    \n",
    "It returns a special dictionary with information about texts and their binary toxicity labels (integer values) by languages (language is a key, and a list of texts and labels is a value)."
   ]
  },
  {
   "cell_type": "code",
   "execution_count": 9,
   "metadata": {
    "execution": {
     "iopub.execute_input": "2021-03-11T08:55:54.436098Z",
     "iopub.status.busy": "2021-03-11T08:55:54.435278Z",
     "iopub.status.idle": "2021-03-11T08:55:54.454344Z",
     "shell.execute_reply": "2021-03-11T08:55:54.454838Z"
    },
    "papermill": {
     "duration": 0.068535,
     "end_time": "2021-03-11T08:55:54.454939",
     "exception": false,
     "start_time": "2021-03-11T08:55:54.386404",
     "status": "completed"
    },
    "tags": []
   },
   "outputs": [],
   "source": [
    "def load_train_set(file_name: str, text_field: str, sentiment_fields: List[str],\n",
    "                   lang_field: str) -> Dict[str, List[Tuple[str, int]]]:\n",
    "    assert len(sentiment_fields) > 0, 'List of sentiment fields is empty!'\n",
    "    header = []\n",
    "    line_idx = 1\n",
    "    data_by_lang = dict()\n",
    "    with codecs.open(file_name, mode='r', encoding='utf-8', errors='ignore') as fp:\n",
    "        data_reader = csv.reader(fp, quotechar='\"', delimiter=',')\n",
    "        for row in data_reader:\n",
    "            if len(row) > 0:\n",
    "                err_msg = 'File \"{0}\": line {1} is wrong!'.format(file_name, line_idx)\n",
    "                if len(header) == 0:\n",
    "                    header = copy.copy(row)\n",
    "                    err_msg2 = err_msg + ' Field \"{0}\" is not found!'.format(text_field)\n",
    "                    assert text_field in header, err_msg2\n",
    "                    for cur_field in sentiment_fields:\n",
    "                        err_msg2 = err_msg + ' Field \"{0}\" is not found!'.format(\n",
    "                            cur_field)\n",
    "                        assert cur_field in header, err_msg2\n",
    "                    text_field_index = header.index(text_field)\n",
    "                    try:\n",
    "                        lang_field_index = header.index(lang_field)\n",
    "                    except:\n",
    "                        lang_field_index = -1\n",
    "                    indices_of_sentiment_fields = []\n",
    "                    for cur_field in sentiment_fields:\n",
    "                        indices_of_sentiment_fields.append(header.index(cur_field))\n",
    "                else:\n",
    "                    if len(row) == len(header):\n",
    "                        text = row[text_field_index].strip()\n",
    "                        assert len(text) > 0, err_msg + ' Text is empty!'\n",
    "                        if lang_field_index >= 0:\n",
    "                            cur_lang = row[lang_field_index].strip()\n",
    "                            assert len(cur_lang) > 0, err_msg + ' Language is empty!'\n",
    "                        else:\n",
    "                            cur_lang = 'en'\n",
    "                        max_proba = 0.0\n",
    "                        for cur_field_idx in indices_of_sentiment_fields:\n",
    "                            try:\n",
    "                                cur_proba = float(row[cur_field_idx])\n",
    "                            except:\n",
    "                                cur_proba = -1.0\n",
    "                            err_msg2 = err_msg + ' Value {0} is wrong!'.format(\n",
    "                                row[cur_field_idx]\n",
    "                            )\n",
    "                            assert (cur_proba >= 0.0) and (cur_proba <= 1.0), err_msg2\n",
    "                            if cur_proba > max_proba:\n",
    "                                max_proba = cur_proba\n",
    "                        new_label = 1 if max_proba >= 0.5 else 0\n",
    "                        if cur_lang not in data_by_lang:\n",
    "                            data_by_lang[cur_lang] = []\n",
    "                        data_by_lang[cur_lang].append((text, new_label))\n",
    "            if line_idx % 10000 == 0:\n",
    "                print('{0} lines of the \"{1}\" have been processed...'.format(\n",
    "                    line_idx, file_name\n",
    "                ))\n",
    "            line_idx += 1\n",
    "    if line_idx > 0:\n",
    "        if (line_idx - 1) % 10000 != 0:\n",
    "            print('{0} lines of the \"{1}\" have been processed...'.format(\n",
    "                line_idx - 1, file_name\n",
    "            ))\n",
    "    return data_by_lang"
   ]
  },
  {
   "cell_type": "markdown",
   "metadata": {
    "papermill": {
     "duration": 0.046029,
     "end_time": "2021-03-11T08:55:54.547559",
     "exception": false,
     "start_time": "2021-03-11T08:55:54.501530",
     "status": "completed"
    },
    "tags": []
   },
   "source": [
    "**def load_test_set(...)**\n",
    "\n",
    "This function loads multilingual unlabeled text corpus for submission from the CSV file. If there is no information about language in this CSV file, then I think that all texts language is English.\n",
    "    \n",
    "It returns a special dictionary with information about texts and their integer identifiers by languages (language is a key, and a list of texts and identifiers is a value).\n",
    "\n",
    "The function differs from the previous load_train_set only in the expected structure (field set) of the parsed CSV file, and these functions are the same by the structure of returned objects (but special identifiers for submission are used instead of toxicity labels)."
   ]
  },
  {
   "cell_type": "code",
   "execution_count": 10,
   "metadata": {
    "execution": {
     "iopub.execute_input": "2021-03-11T08:55:54.656588Z",
     "iopub.status.busy": "2021-03-11T08:55:54.655813Z",
     "iopub.status.idle": "2021-03-11T08:55:54.658545Z",
     "shell.execute_reply": "2021-03-11T08:55:54.658136Z"
    },
    "papermill": {
     "duration": 0.064839,
     "end_time": "2021-03-11T08:55:54.658627",
     "exception": false,
     "start_time": "2021-03-11T08:55:54.593788",
     "status": "completed"
    },
    "tags": []
   },
   "outputs": [],
   "source": [
    "def load_test_set(file_name: str, id_field: str, text_field: str,\n",
    "                  lang_field: str) -> Dict[str, List[Tuple[str, int]]]:\n",
    "    header = []\n",
    "    line_idx = 1\n",
    "    data_by_lang = dict()\n",
    "    with codecs.open(file_name, mode='r', encoding='utf-8', errors='ignore') as fp:\n",
    "        data_reader = csv.reader(fp, quotechar='\"', delimiter=',')\n",
    "        for row in data_reader:\n",
    "            if len(row) > 0:\n",
    "                err_msg = 'File \"{0}\": line {1} is wrong!'.format(file_name, line_idx)\n",
    "                if len(header) == 0:\n",
    "                    header = copy.copy(row)\n",
    "                    err_msg2 = err_msg + ' Field \"{0}\" is not found!'.format(text_field)\n",
    "                    assert text_field in header, err_msg2\n",
    "                    err_msg2 = err_msg + ' Field \"{0}\" is not found!'.format(id_field)\n",
    "                    assert id_field in header, err_msg2\n",
    "                    err_msg2 = err_msg + ' Field \"{0}\" is not found!'.format(lang_field)\n",
    "                    assert lang_field in header, err_msg2\n",
    "                    id_field_index = header.index(id_field)\n",
    "                    text_field_index = header.index(text_field)\n",
    "                    lang_field_index = header.index(lang_field)\n",
    "                else:\n",
    "                    if len(row) == len(header):\n",
    "                        try:\n",
    "                            id_value = int(row[id_field_index])\n",
    "                        except:\n",
    "                            id_value = -1\n",
    "                        err_msg2 = err_msg + ' {0} is wrong ID!'.format(\n",
    "                            row[id_field_index])\n",
    "                        assert id_value >= 0, err_msg2\n",
    "                        text = row[text_field_index].strip()\n",
    "                        assert len(text) > 0, err_msg + ' Text is empty!'\n",
    "                        if lang_field_index >= 0:\n",
    "                            cur_lang = row[lang_field_index].strip()\n",
    "                            assert len(cur_lang) > 0, err_msg + ' Language is empty!'\n",
    "                        else:\n",
    "                            cur_lang = 'en'\n",
    "                        if cur_lang not in data_by_lang:\n",
    "                            data_by_lang[cur_lang] = []\n",
    "                        data_by_lang[cur_lang].append((text, id_value))\n",
    "            if line_idx % 10000 == 0:\n",
    "                print('{0} lines of the \"{1}\" have been processed...'.format(\n",
    "                    line_idx, file_name\n",
    "                ))\n",
    "            line_idx += 1\n",
    "    if line_idx > 0:\n",
    "        if (line_idx - 1) % 10000 != 0:\n",
    "            print('{0} lines of the \"{1}\" have been processed...'.format(\n",
    "                line_idx - 1, file_name\n",
    "            ))\n",
    "    return data_by_lang"
   ]
  },
  {
   "cell_type": "markdown",
   "metadata": {
    "papermill": {
     "duration": 0.046278,
     "end_time": "2021-03-11T08:55:54.751345",
     "exception": false,
     "start_time": "2021-03-11T08:55:54.705067",
     "status": "completed"
    },
    "tags": []
   },
   "source": [
    "**def generate_text_probabilities(...)**\n",
    "\n",
    "This function generates probabilities of text This function generates probabilities of each text random selection from list of all texts. Selection probability is the greater, the shorter the corresponded text."
   ]
  },
  {
   "cell_type": "code",
   "execution_count": 11,
   "metadata": {
    "execution": {
     "iopub.execute_input": "2021-03-11T08:55:54.854609Z",
     "iopub.status.busy": "2021-03-11T08:55:54.853893Z",
     "iopub.status.idle": "2021-03-11T08:55:54.856817Z",
     "shell.execute_reply": "2021-03-11T08:55:54.856301Z"
    },
    "papermill": {
     "duration": 0.059168,
     "end_time": "2021-03-11T08:55:54.856898",
     "exception": false,
     "start_time": "2021-03-11T08:55:54.797730",
     "status": "completed"
    },
    "tags": []
   },
   "outputs": [],
   "source": [
    "def generate_text_probabilities(source_texts: List[Tuple[str, int]],\n",
    "                                interesting_indices: List[int]) -> np.ndarray:\n",
    "    lengths_of_texts = []\n",
    "    max_chars_number = 0\n",
    "    for idx in interesting_indices:\n",
    "        cur_chars_number = len(source_texts[idx][0])\n",
    "        lengths_of_texts.append(cur_chars_number)\n",
    "        if cur_chars_number > max_chars_number:\n",
    "            max_chars_number = cur_chars_number\n",
    "    assert max_chars_number > 100\n",
    "    probabilities = np.zeros((len(lengths_of_texts),), dtype=np.float64)\n",
    "    counter = 0\n",
    "    for idx, val in enumerate(lengths_of_texts):\n",
    "        if val > 10:\n",
    "            probabilities[idx] = max_chars_number * 10 - val\n",
    "        else:\n",
    "            counter += 1\n",
    "    assert counter == 0\n",
    "    probabilities /= np.sum(probabilities)\n",
    "    min_proba = 0.5 / float(probabilities.shape[0])\n",
    "    for idx in range(probabilities.shape[0]):\n",
    "        if probabilities[idx] > 0.0:\n",
    "            if probabilities[idx] < min_proba:\n",
    "                probabilities[idx] = min_proba\n",
    "    return probabilities / np.sum(probabilities)"
   ]
  },
  {
   "cell_type": "markdown",
   "metadata": {
    "papermill": {
     "duration": 0.046635,
     "end_time": "2021-03-11T08:55:54.950048",
     "exception": false,
     "start_time": "2021-03-11T08:55:54.903413",
     "status": "completed"
    },
    "tags": []
   },
   "source": [
    "**def build_siamese_dataset(...)**\n",
    "\n",
    "This function transforms a labeled text corpus in format, which is like to result of the *load_train_set* function, into a special Tensorflow dataset with considering of specified mini-batch size. Also, it returns the total number of mini-batches in this dataset."
   ]
  },
  {
   "cell_type": "code",
   "execution_count": 12,
   "metadata": {
    "execution": {
     "iopub.execute_input": "2021-03-11T08:55:55.047494Z",
     "iopub.status.busy": "2021-03-11T08:55:55.046531Z",
     "iopub.status.idle": "2021-03-11T08:55:55.108498Z",
     "shell.execute_reply": "2021-03-11T08:55:55.108080Z"
    },
    "papermill": {
     "duration": 0.112256,
     "end_time": "2021-03-11T08:55:55.108583",
     "exception": false,
     "start_time": "2021-03-11T08:55:54.996327",
     "status": "completed"
    },
    "tags": []
   },
   "outputs": [],
   "source": [
    "def build_siamese_dataset(texts: Dict[str, List[Tuple[str, int]]],\n",
    "                          dataset_size: int, tokenizer: XLMRobertaTokenizer,\n",
    "                          maxlen: int, batch_size: int,\n",
    "                          shuffle: bool) -> Tuple[tf.data.Dataset, int]:\n",
    "    language_pairs = set()\n",
    "    for language in texts.keys():\n",
    "        for other_language in texts:\n",
    "            if other_language == language:\n",
    "                language_pairs.add((language, other_language))\n",
    "            else:\n",
    "                pair_1 = (language, other_language)\n",
    "                pair_2 = (other_language, language)\n",
    "                if (pair_1 not in language_pairs) and (pair_2 not in language_pairs):\n",
    "                    language_pairs.add(pair_1)\n",
    "    language_pairs = sorted(list(language_pairs))\n",
    "    print('Possible language pairs are: {0}.'.format(language_pairs))\n",
    "    err_msg = '{0} is too small size of the data set!'.format(dataset_size)\n",
    "    assert dataset_size >= (len(language_pairs) * 10), err_msg\n",
    "    n_samples_for_lang_pair = int(np.ceil(dataset_size / float(len(language_pairs))))\n",
    "    text_pairs_and_labels = []\n",
    "    for left_lang, right_lang in language_pairs:\n",
    "        print('{0}-{1}:'.format(left_lang, right_lang))\n",
    "        left_positive_indices = list(filter(\n",
    "            lambda idx: ((texts[left_lang][idx][1] > 0) and \\\n",
    "                         (len(texts[left_lang][idx][0]) > 10)),\n",
    "            range(len(texts[left_lang]))\n",
    "        ))\n",
    "        left_positive_probas = generate_text_probabilities(\n",
    "            source_texts=texts[left_lang],\n",
    "            interesting_indices=left_positive_indices\n",
    "        )\n",
    "        left_negative_indices = list(filter(\n",
    "            lambda idx: ((texts[left_lang][idx][1] == 0) and \\\n",
    "                         (len(texts[left_lang][idx][0]) > 10)),\n",
    "            range(len(texts[left_lang]))\n",
    "        ))\n",
    "        left_negative_probas = generate_text_probabilities(\n",
    "            source_texts=texts[left_lang],\n",
    "            interesting_indices=left_negative_indices\n",
    "        )\n",
    "        right_positive_indices = list(filter(\n",
    "            lambda idx: ((texts[right_lang][idx][1] > 0) and \\\n",
    "                         (len(texts[right_lang][idx][0]) > 10)),\n",
    "            range(len(texts[right_lang]))\n",
    "        ))\n",
    "        right_positive_probas = generate_text_probabilities(\n",
    "            source_texts=texts[right_lang],\n",
    "            interesting_indices=right_positive_indices\n",
    "        )\n",
    "        right_negative_indices = list(filter(\n",
    "            lambda idx: ((texts[right_lang][idx][1] == 0) and \\\n",
    "                         (len(texts[right_lang][idx][0]) > 10)),\n",
    "            range(len(texts[right_lang]))\n",
    "        ))\n",
    "        right_negative_probas = generate_text_probabilities(\n",
    "            source_texts=texts[right_lang],\n",
    "            interesting_indices=right_negative_indices\n",
    "        )\n",
    "        used_pairs = set()\n",
    "        number_of_samples = 0\n",
    "        iterations = n_samples_for_lang_pair // 4\n",
    "        if len(left_positive_indices) > iterations:\n",
    "            left_indices = np.random.choice(\n",
    "                left_positive_indices,\n",
    "                min(iterations * 2, len(left_positive_indices)),\n",
    "                p=left_positive_probas, replace=False\n",
    "            ).tolist()\n",
    "        else:\n",
    "            left_indices = left_positive_indices\n",
    "        if len(right_positive_indices) > iterations:\n",
    "            right_indices = np.random.choice(\n",
    "                right_positive_indices,\n",
    "                min(iterations * 2, len(right_positive_indices)),\n",
    "                p=right_positive_probas, replace=False\n",
    "            ).tolist()\n",
    "        else:\n",
    "            right_indices = right_positive_indices\n",
    "        if len(left_indices) < len(right_indices):\n",
    "            right_indices = right_indices[:len(left_indices)]\n",
    "        elif len(left_indices) > len(right_indices):\n",
    "            left_indices = left_indices[:len(right_indices)]\n",
    "        random.shuffle(left_indices)\n",
    "        random.shuffle(right_indices)\n",
    "        for left_idx, right_idx in zip(left_indices, right_indices):\n",
    "            if (right_idx == left_idx) and (left_lang == right_lang):\n",
    "                continue\n",
    "            if (left_idx, right_idx) in used_pairs:\n",
    "                continue\n",
    "            used_pairs.add((left_idx, right_idx))\n",
    "            used_pairs.add((right_idx, left_idx))\n",
    "            text_pairs_and_labels.append(\n",
    "                (\n",
    "                    texts[left_lang][left_idx][0],\n",
    "                    texts[right_lang][right_idx][0],\n",
    "                    1\n",
    "                )\n",
    "            )\n",
    "            number_of_samples += 1\n",
    "            if number_of_samples >= iterations:\n",
    "                break\n",
    "        del left_indices, right_indices\n",
    "        print('  number of \"1-1\" pairs is {0};'.format(number_of_samples))\n",
    "        number_of_samples = 0\n",
    "        iterations = (2 * n_samples_for_lang_pair) // 4\n",
    "        iterations -= n_samples_for_lang_pair // 4\n",
    "        if len(left_negative_indices) > iterations:\n",
    "            left_indices = np.random.choice(\n",
    "                left_negative_indices,\n",
    "                min(iterations * 2, len(left_negative_indices)),\n",
    "                p=left_negative_probas, replace=False\n",
    "            ).tolist()\n",
    "        else:\n",
    "            left_indices = left_negative_indices\n",
    "        if len(right_negative_indices) > iterations:\n",
    "            right_indices = np.random.choice(\n",
    "                right_negative_indices,\n",
    "                min(iterations * 2, len(right_negative_indices)),\n",
    "                p=right_negative_probas, replace=False\n",
    "            ).tolist()\n",
    "        else:\n",
    "            right_indices = right_negative_indices\n",
    "        if len(left_indices) < len(right_indices):\n",
    "            right_indices = right_indices[:len(left_indices)]\n",
    "        elif len(left_indices) > len(right_indices):\n",
    "            left_indices = left_indices[:len(right_indices)]\n",
    "        random.shuffle(left_indices)\n",
    "        random.shuffle(right_indices)\n",
    "        for left_idx, right_idx in zip(left_indices, right_indices):\n",
    "            if (right_idx == left_idx) and (left_lang == right_lang):\n",
    "                continue\n",
    "            if (left_idx, right_idx) in used_pairs:\n",
    "                continue\n",
    "            used_pairs.add((left_idx, right_idx))\n",
    "            used_pairs.add((right_idx, left_idx))\n",
    "            text_pairs_and_labels.append(\n",
    "                (\n",
    "                    texts[left_lang][left_idx][0],\n",
    "                    texts[right_lang][right_idx][0],\n",
    "                    1\n",
    "                )\n",
    "            )\n",
    "            number_of_samples += 1\n",
    "            if number_of_samples >= iterations:\n",
    "                break\n",
    "        del left_indices, right_indices\n",
    "        print('  number of \"0-0\" pairs is {0};'.format(number_of_samples))\n",
    "        number_of_samples = 0\n",
    "        iterations = n_samples_for_lang_pair\n",
    "        iterations -= (2 * n_samples_for_lang_pair) // 4\n",
    "        if len(left_negative_indices) > iterations:\n",
    "            left_indices = np.random.choice(\n",
    "                left_negative_indices,\n",
    "                min(iterations * 2, len(left_negative_indices)),\n",
    "                p=left_negative_probas, replace=False\n",
    "            ).tolist()\n",
    "        else:\n",
    "            left_indices = left_negative_indices\n",
    "        if len(right_positive_indices) > iterations:\n",
    "            right_indices = np.random.choice(\n",
    "                right_positive_indices,\n",
    "                min(iterations * 2, len(right_positive_indices)),\n",
    "                p=right_positive_probas, replace=False\n",
    "            ).tolist()\n",
    "        else:\n",
    "            right_indices = right_positive_indices\n",
    "        if len(left_indices) < len(right_indices):\n",
    "            right_indices = right_indices[:len(left_indices)]\n",
    "        elif len(left_indices) > len(right_indices):\n",
    "            left_indices = left_indices[:len(right_indices)]\n",
    "        random.shuffle(left_indices)\n",
    "        random.shuffle(right_indices)\n",
    "        for left_idx, right_idx in zip(left_indices, right_indices):\n",
    "            if (right_idx == left_idx) and (left_lang == right_lang):\n",
    "                continue\n",
    "            if (left_idx, right_idx) in used_pairs:\n",
    "                continue\n",
    "            used_pairs.add((left_idx, right_idx))\n",
    "            used_pairs.add((right_idx, left_idx))\n",
    "            if random.random() >= 0.5:\n",
    "                text_pairs_and_labels.append(\n",
    "                    (\n",
    "                        texts[left_lang][left_idx][0],\n",
    "                        texts[right_lang][right_idx][0],\n",
    "                        0\n",
    "                    )\n",
    "                )\n",
    "            else:\n",
    "                text_pairs_and_labels.append(\n",
    "                    (\n",
    "                        texts[right_lang][right_idx][0],\n",
    "                        texts[left_lang][left_idx][0],\n",
    "                        0\n",
    "                    )\n",
    "                )\n",
    "            number_of_samples += 1\n",
    "            if number_of_samples >= iterations:\n",
    "                break\n",
    "        del left_indices, right_indices\n",
    "        print('  number of \"0-1\" or \"1-0\" pairs is {0}.'.format(\n",
    "            number_of_samples\n",
    "        ))\n",
    "    random.shuffle(text_pairs_and_labels)\n",
    "    n_steps = len(text_pairs_and_labels) // batch_size\n",
    "    print('Samples number of the data set is {0}.'.format(\n",
    "        len(text_pairs_and_labels)\n",
    "    ))\n",
    "    print('Samples number per each language pair is {0}.'.format(\n",
    "        n_samples_for_lang_pair\n",
    "    ))\n",
    "    tokens_of_left_texts = tokenize_all(\n",
    "        texts=[cur[0] for cur in text_pairs_and_labels],\n",
    "        tokenizer=tokenizer, maxlen=maxlen\n",
    "    )\n",
    "    tokens_of_left_texts = np.array(tokens_of_left_texts, dtype=np.int32)\n",
    "    print('')\n",
    "    print('3 examples of left texts after tokenization:')\n",
    "    for _ in range(3):\n",
    "        idx = random.randint(0, len(text_pairs_and_labels) - 1)\n",
    "        print('  {0}'.format(text_pairs_and_labels[idx][0]))\n",
    "        print('  {0}'.format(tokens_of_left_texts[idx].tolist()))\n",
    "        print('')\n",
    "    tokens_of_right_texts = tokenize_all(\n",
    "        texts=[cur[1] for cur in text_pairs_and_labels],\n",
    "        tokenizer=tokenizer, maxlen=maxlen\n",
    "    )\n",
    "    tokens_of_right_texts = np.array(tokens_of_right_texts, dtype=np.int32)\n",
    "    print('3 examples of right texts after tokenization:')\n",
    "    for _ in range(3):\n",
    "        idx = random.randint(0, len(text_pairs_and_labels) - 1)\n",
    "        print('  {0}'.format(text_pairs_and_labels[idx][1]))\n",
    "        print('  {0}'.format(tokens_of_right_texts[idx].tolist()))\n",
    "        print('')\n",
    "    siamese_labels = np.array([cur[2] for cur in text_pairs_and_labels],\n",
    "                              dtype=np.int32)\n",
    "    print('Number of positive siamese samples is {0} from {1}.'.format(\n",
    "        int(sum(siamese_labels)), siamese_labels.shape[0]))\n",
    "    err_msg = '{0} != 2'.format(len(tokens_of_left_texts.shape))\n",
    "    assert len(tokens_of_left_texts.shape) == 2, err_msg\n",
    "    err_msg = '{0} != 1'.format(len(siamese_labels.shape))\n",
    "    assert len(siamese_labels.shape) == 1, err_msg\n",
    "    err_msg = '{0} != {1}'.format(tokens_of_left_texts.shape, tokens_of_right_texts.shape)\n",
    "    assert tokens_of_left_texts.shape == tokens_of_right_texts.shape, err_msg\n",
    "    err_msg = '{0} != {1}'.format(tokens_of_left_texts.shape[0], siamese_labels.shape[0])\n",
    "    assert tokens_of_left_texts.shape[0] == siamese_labels.shape[0], err_msg\n",
    "    if shuffle:\n",
    "        err_msg = '{0} is too small number of samples for the data set!'.format(\n",
    "            len(text_pairs_and_labels))\n",
    "        assert n_steps >= 50, err_msg\n",
    "        dataset = tf.data.Dataset.from_tensor_slices(\n",
    "            (\n",
    "                (\n",
    "                    tokens_of_left_texts,\n",
    "                    tokens_of_right_texts\n",
    "                ),\n",
    "                siamese_labels\n",
    "            )\n",
    "        ).repeat().batch(batch_size)\n",
    "    else:\n",
    "        dataset = tf.data.Dataset.from_tensor_slices(\n",
    "            (\n",
    "                (\n",
    "                    tokens_of_left_texts,\n",
    "                    tokens_of_right_texts\n",
    "                ),\n",
    "                siamese_labels\n",
    "            )\n",
    "        ).batch(batch_size)\n",
    "    del text_pairs_and_labels\n",
    "    return dataset, n_steps"
   ]
  },
  {
   "cell_type": "markdown",
   "metadata": {
    "papermill": {
     "duration": 0.046395,
     "end_time": "2021-03-11T08:55:55.201968",
     "exception": false,
     "start_time": "2021-03-11T08:55:55.155573",
     "status": "completed"
    },
    "tags": []
   },
   "source": [
    "**def build_feature_extractor(...)**\n",
    "\n",
    "This function builds a sentence embedder, based on XLM-RoBERTa, as a Keras model."
   ]
  },
  {
   "cell_type": "code",
   "execution_count": 13,
   "metadata": {
    "execution": {
     "iopub.execute_input": "2021-03-11T08:55:55.305767Z",
     "iopub.status.busy": "2021-03-11T08:55:55.302817Z",
     "iopub.status.idle": "2021-03-11T08:55:55.309005Z",
     "shell.execute_reply": "2021-03-11T08:55:55.308481Z"
    },
    "papermill": {
     "duration": 0.060296,
     "end_time": "2021-03-11T08:55:55.309085",
     "exception": false,
     "start_time": "2021-03-11T08:55:55.248789",
     "status": "completed"
    },
    "tags": []
   },
   "outputs": [],
   "source": [
    "def build_feature_extractor(transformer_name: str, padding: int,\n",
    "                            max_len: int) -> tf.keras.Model:\n",
    "    xlmroberta_config = XLMRobertaConfig.from_pretrained(transformer_name)\n",
    "    max_position_embeddings = xlmroberta_config.max_position_embeddings\n",
    "    if max_len > (max_position_embeddings - 2):\n",
    "        err_msg = 'max_text_len = {0} is too large! It must be less ' \\\n",
    "                  'then {1}.'.format(max_text_len, max_position_embeddings - 1)\n",
    "        raise ValueError(err_msg)\n",
    "    output_embedding_size = xlmroberta_config.hidden_size\n",
    "    word_ids = tf.keras.layers.Input(shape=(max_len,), dtype=tf.int32,\n",
    "                                     name=\"base_word_ids_FE\")\n",
    "    attention_mask = AttentionMaskLayer(\n",
    "        pad_token_id=padding, name='base_attention_mask_FE',\n",
    "        trainable=False\n",
    "    )(word_ids)\n",
    "    del xlmroberta_config\n",
    "    transformer_layer = TFXLMRobertaModel.from_pretrained(\n",
    "        pretrained_model_name_or_path=transformer_name,\n",
    "        name='Transformer'\n",
    "    )\n",
    "    sequence_output = transformer_layer(\n",
    "        [word_ids, attention_mask]\n",
    "    )[0]\n",
    "    output_mask = tf.cast(attention_mask, dtype=tf.bool)\n",
    "    pooled_output = tf.keras.layers.GlobalAvgPool1D(\n",
    "        name='AvePool_FE'\n",
    "    )(sequence_output, mask=output_mask)\n",
    "    text_embedding = tf.keras.layers.LayerNormalization(\n",
    "        name='Emdedding_FE'\n",
    "    )(pooled_output)\n",
    "    fe_model = tf.keras.Model(\n",
    "        inputs=word_ids,\n",
    "        outputs=text_embedding,\n",
    "        name='FeatureExtractor'\n",
    "    )\n",
    "    fe_model.build(input_shape=(None, max_len))\n",
    "    return fe_model"
   ]
  },
  {
   "cell_type": "code",
   "execution_count": 14,
   "metadata": {
    "execution": {
     "iopub.execute_input": "2021-03-11T08:55:55.408455Z",
     "iopub.status.busy": "2021-03-11T08:55:55.407671Z",
     "iopub.status.idle": "2021-03-11T08:55:55.410247Z",
     "shell.execute_reply": "2021-03-11T08:55:55.409782Z"
    },
    "papermill": {
     "duration": 0.054335,
     "end_time": "2021-03-11T08:55:55.410326",
     "exception": false,
     "start_time": "2021-03-11T08:55:55.355991",
     "status": "completed"
    },
    "tags": []
   },
   "outputs": [],
   "source": [
    "def euclidean_distance(vects):\n",
    "    x, y = vects\n",
    "    sum_square = tf.keras.backend.sum(tf.keras.backend.square(x - y),\n",
    "                                      axis=1, keepdims=True)\n",
    "    return tf.keras.backend.sqrt(\n",
    "        tf.keras.backend.maximum(sum_square, tf.keras.backend.epsilon())\n",
    "    )"
   ]
  },
  {
   "cell_type": "code",
   "execution_count": 15,
   "metadata": {
    "execution": {
     "iopub.execute_input": "2021-03-11T08:55:55.508429Z",
     "iopub.status.busy": "2021-03-11T08:55:55.507799Z",
     "iopub.status.idle": "2021-03-11T08:55:55.510659Z",
     "shell.execute_reply": "2021-03-11T08:55:55.510245Z"
    },
    "papermill": {
     "duration": 0.053848,
     "end_time": "2021-03-11T08:55:55.510743",
     "exception": false,
     "start_time": "2021-03-11T08:55:55.456895",
     "status": "completed"
    },
    "tags": []
   },
   "outputs": [],
   "source": [
    "def eucl_dist_output_shape(shapes):\n",
    "    shape1, shape2 = shapes\n",
    "    return (shape1[0], 1)"
   ]
  },
  {
   "cell_type": "markdown",
   "metadata": {
    "papermill": {
     "duration": 0.046453,
     "end_time": "2021-03-11T08:55:55.604285",
     "exception": false,
     "start_time": "2021-03-11T08:55:55.557832",
     "status": "completed"
    },
    "tags": []
   },
   "source": [
    "**def build_siamese_nn(...)**\n",
    "\n",
    "This function builds a Siamese neural network, which consists of two XLM-RoBERTa sentence embedders with shared weights (the XLM-RoBERTa sentence embedder is created using the *build_feature_extractor* function), a Euclidean distance layer, and a distance-based logistic loss.\n",
    "\n",
    "When I compile my *tf.keras.Model* object, then I set an [Adam](https://arxiv.org/abs/1711.05101) algorithm as optimizer with ."
   ]
  },
  {
   "cell_type": "code",
   "execution_count": 16,
   "metadata": {
    "execution": {
     "iopub.execute_input": "2021-03-11T08:55:55.709061Z",
     "iopub.status.busy": "2021-03-11T08:55:55.708292Z",
     "iopub.status.idle": "2021-03-11T08:55:55.710488Z",
     "shell.execute_reply": "2021-03-11T08:55:55.710941Z"
    },
    "papermill": {
     "duration": 0.059698,
     "end_time": "2021-03-11T08:55:55.711036",
     "exception": false,
     "start_time": "2021-03-11T08:55:55.651338",
     "status": "completed"
    },
    "tags": []
   },
   "outputs": [],
   "source": [
    "def build_siamese_nn(transformer_name: str, max_len: int, padding: int,\n",
    "                     stepsize: int) -> Tuple[tf.keras.Model, tf.keras.Model]:\n",
    "    left_word_ids = tf.keras.layers.Input(shape=(max_len,), dtype=tf.int32,\n",
    "                                          name=\"left_word_ids\")\n",
    "    right_word_ids = tf.keras.layers.Input(shape=(max_len,), dtype=tf.int32,\n",
    "                                           name=\"right_word_ids\")\n",
    "    fe_ = build_feature_extractor(\n",
    "        transformer_name=transformer_name,\n",
    "        padding=padding,\n",
    "        max_len=max_len\n",
    "    )\n",
    "    left_text_embedding = fe_(left_word_ids)\n",
    "    right_text_embedding = fe_(right_word_ids)\n",
    "    distance_layer = tf.keras.layers.Lambda(\n",
    "        function=euclidean_distance,\n",
    "        output_shape=eucl_dist_output_shape,\n",
    "        name='L2DistLayer'\n",
    "    )([left_text_embedding, right_text_embedding])\n",
    "    nn = tf.keras.Model(\n",
    "        inputs=[left_word_ids, right_word_ids],\n",
    "        outputs=distance_layer,\n",
    "        name='SiameseXLMR'\n",
    "    )\n",
    "    lr_schedule = tfa.optimizers.Triangular2CyclicalLearningRate(\n",
    "        initial_learning_rate=1e-6,\n",
    "        maximal_learning_rate=5e-5,\n",
    "        step_size=3 * stepsize\n",
    "    )\n",
    "    optimizer = tf.keras.optimizers.Adam(learning_rate=lr_schedule)\n",
    "    nn.compile(\n",
    "        optimizer=optimizer,\n",
    "        loss=DBLLogLoss()\n",
    "    )\n",
    "    fe_.summary()\n",
    "    print('')\n",
    "    nn.summary()\n",
    "    return nn, fe_"
   ]
  },
  {
   "cell_type": "markdown",
   "metadata": {
    "papermill": {
     "duration": 0.046977,
     "end_time": "2021-03-11T08:55:55.805144",
     "exception": false,
     "start_time": "2021-03-11T08:55:55.758167",
     "status": "completed"
    },
    "tags": []
   },
   "source": [
    "**def show_training_process(...)**\n",
    "\n",
    "This function shows a training metric curve and a validation one using a Tensorflow log (i.e. the *tf.keras.callbacks.History* object). A kind of metric (loss, accuracy, or any other measure) is specified by the additional parameter *metric_name*."
   ]
  },
  {
   "cell_type": "code",
   "execution_count": 17,
   "metadata": {
    "execution": {
     "iopub.execute_input": "2021-03-11T08:55:55.909701Z",
     "iopub.status.busy": "2021-03-11T08:55:55.908976Z",
     "iopub.status.idle": "2021-03-11T08:55:55.911903Z",
     "shell.execute_reply": "2021-03-11T08:55:55.911371Z"
    },
    "papermill": {
     "duration": 0.05923,
     "end_time": "2021-03-11T08:55:55.911994",
     "exception": false,
     "start_time": "2021-03-11T08:55:55.852764",
     "status": "completed"
    },
    "tags": []
   },
   "outputs": [],
   "source": [
    "def show_training_process(history: tf.keras.callbacks.History, metric_name: str,\n",
    "                          figure_id: int=1):\n",
    "    val_metric_name = 'val_' + metric_name\n",
    "    err_msg = 'The metric \"{0}\" is not found! Available metrics are: {1}'.format(\n",
    "        metric_name, list(history.history.keys()))\n",
    "    assert metric_name in history.history, err_msg\n",
    "    plt.figure(figure_id, figsize=(5, 5))\n",
    "    plt.plot(list(range(len(history.history[metric_name]))),\n",
    "             history.history[metric_name], label='Training {0}'.format(metric_name))\n",
    "    if val_metric_name in history.history:\n",
    "        assert len(history.history[metric_name]) == len(history.history['val_' + metric_name])\n",
    "        plt.plot(list(range(len(history.history['val_' + metric_name]))),\n",
    "                 history.history['val_' + metric_name], label='Validation {0}'.format(metric_name))\n",
    "    plt.xlabel('Epochs')\n",
    "    plt.ylabel(metric_name)\n",
    "    plt.title('Training process')\n",
    "    plt.legend(loc='best')\n",
    "    plt.show()"
   ]
  },
  {
   "cell_type": "markdown",
   "metadata": {
    "papermill": {
     "duration": 0.047183,
     "end_time": "2021-03-11T08:55:56.006582",
     "exception": false,
     "start_time": "2021-03-11T08:55:55.959399",
     "status": "completed"
    },
    "tags": []
   },
   "source": [
    "**def train_siamese_nn(...)**\n",
    "\n",
    "This function applies a training procedure to a specified Siamese neural network. Two stopping criteria are used at the same time: 1) \"classical\" early stopping criterion; 2) stopping by exceeding of maximal training duration (in seconds). The best weights of the neural network, which correspond to training moment with a minimal value of validation loss, are saved in the special binary file *model_weights_path*."
   ]
  },
  {
   "cell_type": "code",
   "execution_count": 18,
   "metadata": {
    "execution": {
     "iopub.execute_input": "2021-03-11T08:55:56.110957Z",
     "iopub.status.busy": "2021-03-11T08:55:56.110261Z",
     "iopub.status.idle": "2021-03-11T08:55:56.112633Z",
     "shell.execute_reply": "2021-03-11T08:55:56.113042Z"
    },
    "papermill": {
     "duration": 0.058976,
     "end_time": "2021-03-11T08:55:56.113167",
     "exception": false,
     "start_time": "2021-03-11T08:55:56.054191",
     "status": "completed"
    },
    "tags": []
   },
   "outputs": [],
   "source": [
    "def train_siamese_nn(nn: tf.keras.Model, trainset: tf.data.Dataset, steps_per_trainset: int,\n",
    "                     steps_per_epoch: int, validset: tf.data.Dataset, max_duration: int,\n",
    "                     model_weights_path: str):\n",
    "    assert steps_per_trainset >= steps_per_epoch\n",
    "    n_epochs = max(30, int(round(10.0 * steps_per_trainset / float(steps_per_epoch))))\n",
    "    print('Maximal duration of the Siamese XLM-R training is {0} '\\\n",
    "          'seconds.'.format(max_duration))\n",
    "    callbacks = [\n",
    "        tf.keras.callbacks.EarlyStopping(patience=9, monitor='val_loss', mode='min',\n",
    "                                         restore_best_weights=False, verbose=True),\n",
    "        tf.keras.callbacks.ModelCheckpoint(model_weights_path, monitor='val_loss',\n",
    "                                           mode='min', save_best_only=True,\n",
    "                                           save_weights_only=True, verbose=True),\n",
    "        tfa.callbacks.TimeStopping(seconds=max_duration, verbose=True)\n",
    "    ]\n",
    "    history = nn.fit(\n",
    "        trainset,\n",
    "        steps_per_epoch=steps_per_epoch,\n",
    "        validation_data=validset,\n",
    "        epochs=n_epochs,\n",
    "        callbacks=callbacks\n",
    "    )\n",
    "    show_training_process(history, 'loss')"
   ]
  },
  {
   "cell_type": "markdown",
   "metadata": {
    "papermill": {
     "duration": 0.04694,
     "end_time": "2021-03-11T08:55:56.208226",
     "exception": false,
     "start_time": "2021-03-11T08:55:56.161286",
     "status": "completed"
    },
    "tags": []
   },
   "source": [
    "**def calculate_features_of_texts(...)**\n",
    "\n",
    "This function calculates sentence embeddings (i.e. fixed-size semantic vectors for sentences) using a trained XLM-RoBERTa-based feature extractor. Input texts with their toxicity labels (or integer identifiers instead of labels) are specified in a format which is like as a result format of the *load_train_set* and the *load_test_set* functions.\n",
    "\n",
    "The returned object is a dictionary, where a key is a language and a value is a tuple consists of two NumPy arrays (the first of them is a matrix of sentence vectors, and the second of them is a 1d-array of integer labels or identifiers)."
   ]
  },
  {
   "cell_type": "code",
   "execution_count": 19,
   "metadata": {
    "execution": {
     "iopub.execute_input": "2021-03-11T08:55:56.337152Z",
     "iopub.status.busy": "2021-03-11T08:55:56.336401Z",
     "iopub.status.idle": "2021-03-11T08:55:56.338766Z",
     "shell.execute_reply": "2021-03-11T08:55:56.339287Z"
    },
    "papermill": {
     "duration": 0.082141,
     "end_time": "2021-03-11T08:55:56.339388",
     "exception": false,
     "start_time": "2021-03-11T08:55:56.257247",
     "status": "completed"
    },
    "tags": []
   },
   "outputs": [],
   "source": [
    "def calculate_features_of_texts(texts: Dict[str, List[Tuple[str, int]]],\n",
    "                                tokenizer: XLMRobertaTokenizer, maxlen: int,\n",
    "                                fe: tf.keras.Model, batch_size: int,\n",
    "                                max_dataset_size: int = 0) -> \\\n",
    "        Tuple[Dict[str, Tuple[np.ndarray, np.ndarray]]]:\n",
    "    languages = sorted(list(texts.keys()))\n",
    "    datasets_by_languages = dict()\n",
    "    if max_dataset_size > 0:\n",
    "        max_size_per_lang = max_dataset_size // len(languages)\n",
    "        err_msg = '{0} is too small number of dataset samples!'.format(max_dataset_size)\n",
    "        assert max_size_per_lang > 0, err_msg\n",
    "    else:\n",
    "        max_size_per_lang = 0\n",
    "    print('Number of languages is {0}.'.format(len(texts)))\n",
    "    for cur_lang in languages:\n",
    "        print('')\n",
    "        print('Language \"{0}\": featurizing is started.'.format(cur_lang))\n",
    "        selected_indices = list(range(len(texts[cur_lang])))\n",
    "        print('Number of texts is {0}.'.format(len(selected_indices)))\n",
    "        if max_size_per_lang > 0:\n",
    "            if len(selected_indices) > max_size_per_lang:\n",
    "                selected_indices = random.sample(\n",
    "                    population=selected_indices,\n",
    "                    k=max_size_per_lang\n",
    "                )\n",
    "        tokens_of_texts = tokenize_all(\n",
    "            texts=[texts[cur_lang][idx][0] for idx in selected_indices],\n",
    "            tokenizer=tokenizer, maxlen=maxlen\n",
    "        )\n",
    "        tokens_of_texts = np.array(tokens_of_texts, dtype=np.int32)\n",
    "        print('')\n",
    "        print('3 examples of texts after tokenization:')\n",
    "        for _ in range(3):\n",
    "            idx = random.randint(0, len(selected_indices) - 1)\n",
    "            print('  {0}'.format(texts[cur_lang][selected_indices[idx]][0]))\n",
    "            print('  {0}'.format(tokens_of_texts[idx].tolist()))\n",
    "            print('')\n",
    "        X = []\n",
    "        n_batches = int(np.ceil(len(selected_indices) / float(batch_size)))\n",
    "        if n_batches >= 10:\n",
    "            n_data_parts = 10\n",
    "            data_part_size = int(np.ceil(n_batches / float(n_data_parts)))\n",
    "        else:\n",
    "            n_data_parts = 0\n",
    "        data_part_counter = 0\n",
    "        for batch_idx in range(n_batches):\n",
    "            batch_start = batch_idx * batch_size\n",
    "            batch_end = min(len(selected_indices), batch_start + batch_size)\n",
    "            res = fe.predict_on_batch(tokens_of_texts[batch_start:batch_end])\n",
    "            if not isinstance(res, np.ndarray):\n",
    "                res = res.numpy()\n",
    "            X.append(res)\n",
    "            del res\n",
    "            if n_data_parts > 0:\n",
    "                if (batch_idx + 1) % data_part_size == 0:\n",
    "                    data_part_counter += 1\n",
    "                    print('  {0}% of texts are featured.'.format(data_part_counter * 10))\n",
    "        if (n_data_parts > 0) and (data_part_counter < n_data_parts):\n",
    "            print('  100% of texts are featured.')\n",
    "        X = np.vstack(X)\n",
    "        y = np.array([texts[cur_lang][idx][1] for idx in selected_indices], dtype=np.int32)\n",
    "        datasets_by_languages[cur_lang] = (X, y)\n",
    "        del X, y, selected_indices\n",
    "        print('Language \"{0}\": featurizing is finished.'.format(cur_lang))\n",
    "    return datasets_by_languages"
   ]
  },
  {
   "cell_type": "markdown",
   "metadata": {
    "papermill": {
     "duration": 0.047396,
     "end_time": "2021-03-11T08:55:56.434290",
     "exception": false,
     "start_time": "2021-03-11T08:55:56.386894",
     "status": "completed"
    },
    "tags": []
   },
   "source": [
    "**def generate_featured_data(...)**\n",
    "\n",
    "This function prepares all generated feature vectors for training and submission in a form that is more comfortable for future experiments with various classifiers in the new feature space. The result of the function is a 3-element tuple:\n",
    "\n",
    "1. training data as two NumPy arrays: matrix of feature vectors for the training of a final classifier and vector of corresponded toxicity labels;\n",
    "2. splitting of training data by languages as a dictionary of train/test indices by language name (so, one cross-validation fold corresponds to one language);\n",
    "3. data for submitting as two NumPy arrays: matrix of feature vectors as inputs for the final classifier and vector of corresponded submission samples identifiers."
   ]
  },
  {
   "cell_type": "code",
   "execution_count": 20,
   "metadata": {
    "execution": {
     "iopub.execute_input": "2021-03-11T08:55:56.551353Z",
     "iopub.status.busy": "2021-03-11T08:55:56.550553Z",
     "iopub.status.idle": "2021-03-11T08:55:56.553190Z",
     "shell.execute_reply": "2021-03-11T08:55:56.552769Z"
    },
    "papermill": {
     "duration": 0.071258,
     "end_time": "2021-03-11T08:55:56.553277",
     "exception": false,
     "start_time": "2021-03-11T08:55:56.482019",
     "status": "completed"
    },
    "tags": []
   },
   "outputs": [],
   "source": [
    "def generate_featured_data(\n",
    "    features_by_lang: Dict[str, Tuple[np.ndarray, np.ndarray]],\n",
    "    features_for_submission: Union[Dict[str, Tuple[np.ndarray, np.ndarray]], None] = None,\n",
    ") -> Tuple[Tuple[np.ndarray, np.ndarray], Dict[str, Tuple[np.ndarray, np.ndarray]], \\\n",
    "           Union[Tuple[np.ndarray, np.ndarray]], None]:\n",
    "    X_embedded = []\n",
    "    y_embedded = []\n",
    "    split_by_languages = dict()\n",
    "    start_pos = 0\n",
    "    for cur_lang in features_by_lang:\n",
    "        X_embedded.append(features_by_lang[cur_lang][0])\n",
    "        y_embedded.append(features_by_lang[cur_lang][1])\n",
    "        split_by_languages[cur_lang] = (\n",
    "            set(),\n",
    "            set(range(start_pos, start_pos + features_by_lang[cur_lang][1].shape[0]))\n",
    "        )\n",
    "        start_pos = start_pos + features_by_lang[cur_lang][1].shape[0]\n",
    "    featured_data_for_training = (\n",
    "        np.vstack(X_embedded),\n",
    "        np.concatenate(y_embedded)\n",
    "    )\n",
    "    del X_embedded, y_embedded\n",
    "    err_msg = '{0} != {1}'.format(featured_data_for_training[0].shape[0],\n",
    "                                  featured_data_for_training[1].shape[0])\n",
    "    assert featured_data_for_training[0].shape[0] == featured_data_for_training[1].shape[0], err_msg\n",
    "    for cur_lang in features_by_lang:\n",
    "        indices_for_testing = split_by_languages[cur_lang][1]\n",
    "        indices_for_training = set(range(featured_data_for_training[0].shape[0]))\n",
    "        indices_for_training -= indices_for_testing\n",
    "        split_by_languages[cur_lang] = (\n",
    "            np.array(sorted(list(indices_for_training)), dtype=np.int32),\n",
    "            np.array(sorted(list(indices_for_testing)), dtype=np.int32)\n",
    "        )\n",
    "        del indices_for_training, indices_for_testing\n",
    "    all_languages = sorted(list(split_by_languages.keys()))\n",
    "    prev_lang = all_languages[0]\n",
    "    assert len(set(split_by_languages[prev_lang][1].tolist()) & \\\n",
    "               set(split_by_languages[prev_lang][0].tolist())) == 0\n",
    "    for cur_lang in all_languages[1:]:\n",
    "        assert len(set(split_by_languages[cur_lang][1].tolist()) & \\\n",
    "                   set(split_by_languages[cur_lang][0].tolist())) == 0\n",
    "        assert len(set(split_by_languages[cur_lang][1].tolist()) & \\\n",
    "                   set(split_by_languages[prev_lang][1].tolist())) == 0\n",
    "        prev_lang = cur_lang\n",
    "    if features_for_submission is None:\n",
    "        return featured_data_for_training, split_by_languages\n",
    "    featured_inputs_for_submission = []\n",
    "    identifies_for_submission = []\n",
    "    for cur_lang in features_for_submission:\n",
    "        featured_inputs_for_submission.append(features_for_submission[cur_lang][0])\n",
    "        identifies_for_submission.append(features_for_submission[cur_lang][1])\n",
    "    featured_data_for_submission = (\n",
    "        np.vstack(featured_inputs_for_submission),\n",
    "        np.concatenate(identifies_for_submission)\n",
    "    )\n",
    "    del featured_inputs_for_submission, identifies_for_submission\n",
    "    n_samples_for_submission = featured_data_for_submission[0].shape[0]\n",
    "    n_IDs_for_submission = featured_data_for_submission[1].shape[0]\n",
    "    err_msg = '{0} != {1}'.format(n_samples_for_submission, n_IDs_for_submission)\n",
    "    assert n_samples_for_submission == n_IDs_for_submission, err_msg\n",
    "    return (featured_data_for_training, split_by_languages, featured_data_for_submission)"
   ]
  },
  {
   "cell_type": "markdown",
   "metadata": {
    "papermill": {
     "duration": 0.047219,
     "end_time": "2021-03-11T08:55:56.647849",
     "exception": false,
     "start_time": "2021-03-11T08:55:56.600630",
     "status": "completed"
    },
    "tags": []
   },
   "source": [
    "**def calculate_projections(...)**\n",
    "\n",
    "This function is needed to calculate T-SNE projections of labeled data and their visualization on the 2d space."
   ]
  },
  {
   "cell_type": "code",
   "execution_count": 21,
   "metadata": {
    "execution": {
     "iopub.execute_input": "2021-03-11T08:55:56.756578Z",
     "iopub.status.busy": "2021-03-11T08:55:56.755700Z",
     "iopub.status.idle": "2021-03-11T08:55:56.759316Z",
     "shell.execute_reply": "2021-03-11T08:55:56.758871Z"
    },
    "papermill": {
     "duration": 0.063961,
     "end_time": "2021-03-11T08:55:56.759396",
     "exception": false,
     "start_time": "2021-03-11T08:55:56.695435",
     "status": "completed"
    },
    "tags": []
   },
   "outputs": [],
   "source": [
    "def calculate_projections(labeled_data: Tuple[np.ndarray, np.ndarray],\n",
    "                          additional_title: str):\n",
    "    X_prj = labeled_data[0]\n",
    "    y_prj = labeled_data[1]\n",
    "    assert len(X_prj.shape) == 2\n",
    "    assert len(y_prj.shape) == 1\n",
    "    n_samples = X_prj.shape[0]\n",
    "    err_msg = '{0} != {1}'.format(n_samples, y_prj.shape[0])\n",
    "    assert n_samples == y_prj.shape[0], err_msg\n",
    "    if n_samples > 3000:\n",
    "        test_size = 1500.0 / float(n_samples)\n",
    "        _, X_prj, _, y_prj = train_test_split(X_prj, y_prj, test_size=test_size,\n",
    "                                              random_state=42, stratify=y_prj)\n",
    "    X_prj = TSNE(n_components=2, n_jobs=-1).fit_transform(X_prj)\n",
    "    plt.figure(figsize=(10, 10))\n",
    "    indices_of_negative_classes = list(filter(\n",
    "        lambda sample_idx: y_prj[sample_idx] == 0,\n",
    "        range(y_prj.shape[0])\n",
    "    ))\n",
    "    xy = X_prj[indices_of_negative_classes]\n",
    "    plt.plot(xy[:, 0], xy[:, 1], 'o', color='g', markersize=4,\n",
    "             label='Normal texts')\n",
    "    indices_of_positive_classes = list(filter(\n",
    "        lambda sample_idx: y_prj[sample_idx] > 0,\n",
    "        range(y_prj.shape[0])\n",
    "    ))\n",
    "    xy = X_prj[indices_of_positive_classes]\n",
    "    plt.plot(xy[:, 0], xy[:, 1], 'o', color='r', markersize=6,\n",
    "             label='Toxic texts')\n",
    "    if len(additional_title) > 0:\n",
    "        if additional_title[0].isalnum():\n",
    "            plt.title('Toxic and normal texts {0}'.format(additional_title))\n",
    "        else:\n",
    "            plt.title('Toxic and normal texts{0}'.format(additional_title))\n",
    "    else:\n",
    "        plt.title('Toxic and normal texts')\n",
    "    plt.legend(loc='best')\n",
    "    plt.show()"
   ]
  },
  {
   "cell_type": "markdown",
   "metadata": {
    "papermill": {
     "duration": 0.047191,
     "end_time": "2021-03-11T08:55:56.854102",
     "exception": false,
     "start_time": "2021-03-11T08:55:56.806911",
     "status": "completed"
    },
    "tags": []
   },
   "source": [
    "# Declaration of all functions is finished, and now I start to write the main code"
   ]
  },
  {
   "cell_type": "markdown",
   "metadata": {
    "papermill": {
     "duration": 0.047147,
     "end_time": "2021-03-11T08:55:56.948396",
     "exception": false,
     "start_time": "2021-03-11T08:55:56.901249",
     "status": "completed"
    },
    "tags": []
   },
   "source": [
    "I fix start time moment of experiments"
   ]
  },
  {
   "cell_type": "code",
   "execution_count": 22,
   "metadata": {
    "execution": {
     "iopub.execute_input": "2021-03-11T08:55:57.047282Z",
     "iopub.status.busy": "2021-03-11T08:55:57.046498Z",
     "iopub.status.idle": "2021-03-11T08:55:57.049010Z",
     "shell.execute_reply": "2021-03-11T08:55:57.049423Z"
    },
    "papermill": {
     "duration": 0.053823,
     "end_time": "2021-03-11T08:55:57.049540",
     "exception": false,
     "start_time": "2021-03-11T08:55:56.995717",
     "status": "completed"
    },
    "tags": []
   },
   "outputs": [],
   "source": [
    "experiment_start_time = time.time()"
   ]
  },
  {
   "cell_type": "markdown",
   "metadata": {
    "papermill": {
     "duration": 0.048094,
     "end_time": "2021-03-11T08:55:57.145526",
     "exception": false,
     "start_time": "2021-03-11T08:55:57.097432",
     "status": "completed"
    },
    "tags": []
   },
   "source": [
    "I detect a hardware for my experiments (GPU or TPU) and create a corresponded [distribution strategy](https://www.tensorflow.org/guide/distributed_training) as a special Tensorflow object."
   ]
  },
  {
   "cell_type": "code",
   "execution_count": 23,
   "metadata": {
    "execution": {
     "iopub.execute_input": "2021-03-11T08:55:57.508323Z",
     "iopub.status.busy": "2021-03-11T08:55:57.250187Z",
     "iopub.status.idle": "2021-03-11T08:55:57.513271Z",
     "shell.execute_reply": "2021-03-11T08:55:57.512806Z"
    },
    "papermill": {
     "duration": 0.319302,
     "end_time": "2021-03-11T08:55:57.513365",
     "exception": false,
     "start_time": "2021-03-11T08:55:57.194063",
     "status": "completed"
    },
    "tags": []
   },
   "outputs": [
    {
     "name": "stdout",
     "output_type": "stream",
     "text": [
      "REPLICAS:  1\n",
      "Model name: jplu/tf-xlm-roberta-base\n",
      "Maximal length of sequence is 128\n",
      "Batch size for the Siamese XLM-RoBERTa is 32\n"
     ]
    }
   ],
   "source": [
    "try:\n",
    "    tpu = tf.distribute.cluster_resolver.TPUClusterResolver()\n",
    "    print('Running on TPU ', tpu.master())\n",
    "except ValueError:\n",
    "    tpu = None\n",
    "if tpu:\n",
    "    tf.config.experimental_connect_to_cluster(tpu)\n",
    "    tf.tpu.experimental.initialize_tpu_system(tpu)\n",
    "    strategy = tf.distribute.experimental.TPUStrategy(tpu)\n",
    "else:\n",
    "    strategy = tf.distribute.get_strategy()\n",
    "    physical_devices = tf.config.list_physical_devices('GPU')\n",
    "    for device_idx in range(strategy.num_replicas_in_sync):\n",
    "        tf.config.experimental.set_memory_growth(physical_devices[device_idx], True)\n",
    "model_name = 'jplu/tf-xlm-roberta-base'\n",
    "max_seq_len = 128\n",
    "batch_size_for_siamese = 32 * strategy.num_replicas_in_sync\n",
    "print(\"REPLICAS: \", strategy.num_replicas_in_sync)\n",
    "print('Model name: {0}'.format(model_name))\n",
    "print('Maximal length of sequence is {0}'.format(max_seq_len))\n",
    "print('Batch size for the Siamese XLM-RoBERTa is {0}'.format(\n",
    "    batch_size_for_siamese))"
   ]
  },
  {
   "cell_type": "markdown",
   "metadata": {
    "papermill": {
     "duration": 0.04841,
     "end_time": "2021-03-11T08:55:57.610821",
     "exception": false,
     "start_time": "2021-03-11T08:55:57.562411",
     "status": "completed"
    },
    "tags": []
   },
   "source": [
    "I initialize a seed for all pseudo-random generators. This thing is very important for an experiment reproducibility!"
   ]
  },
  {
   "cell_type": "code",
   "execution_count": 24,
   "metadata": {
    "execution": {
     "iopub.execute_input": "2021-03-11T08:55:57.711082Z",
     "iopub.status.busy": "2021-03-11T08:55:57.710448Z",
     "iopub.status.idle": "2021-03-11T08:55:57.712947Z",
     "shell.execute_reply": "2021-03-11T08:55:57.713427Z"
    },
    "papermill": {
     "duration": 0.054545,
     "end_time": "2021-03-11T08:55:57.713527",
     "exception": false,
     "start_time": "2021-03-11T08:55:57.658982",
     "status": "completed"
    },
    "tags": []
   },
   "outputs": [],
   "source": [
    "random.seed(42)\n",
    "np.random.seed(42)\n",
    "tf.random.set_seed(42)"
   ]
  },
  {
   "cell_type": "markdown",
   "metadata": {
    "papermill": {
     "duration": 0.048177,
     "end_time": "2021-03-11T08:55:57.810005",
     "exception": false,
     "start_time": "2021-03-11T08:55:57.761828",
     "status": "completed"
    },
    "tags": []
   },
   "source": [
    "I set all file paths to the input data and to all generated results, i.e. trained Siamese XLM-R and featured data for competition, calculated using this model."
   ]
  },
  {
   "cell_type": "code",
   "execution_count": 25,
   "metadata": {
    "execution": {
     "iopub.execute_input": "2021-03-11T08:55:57.911592Z",
     "iopub.status.busy": "2021-03-11T08:55:57.910809Z",
     "iopub.status.idle": "2021-03-11T08:55:57.913818Z",
     "shell.execute_reply": "2021-03-11T08:55:57.913409Z"
    },
    "papermill": {
     "duration": 0.054961,
     "end_time": "2021-03-11T08:55:57.913901",
     "exception": false,
     "start_time": "2021-03-11T08:55:57.858940",
     "status": "completed"
    },
    "tags": []
   },
   "outputs": [],
   "source": [
    "dataset_dir = '/kaggle/input/jigsaw-multilingual-toxic-comment-classification'\n",
    "tmp_roberta_name = '/kaggle/working/siamese_xlmr.h5'\n",
    "feature_extractor_name = '/kaggle/working/xlmr_fe.h5'\n",
    "tmp_features_name = '/kaggle/working/features_by_siamese_xlmr.pkl'"
   ]
  },
  {
   "cell_type": "markdown",
   "metadata": {
    "papermill": {
     "duration": 0.048152,
     "end_time": "2021-03-11T08:55:58.010963",
     "exception": false,
     "start_time": "2021-03-11T08:55:57.962811",
     "status": "completed"
    },
    "tags": []
   },
   "source": [
    "I download meta-information about selected XLM-R from the Hugginface Transformers, and I prepare the configuration and tokenizer accordingly to this meta-information."
   ]
  },
  {
   "cell_type": "code",
   "execution_count": 26,
   "metadata": {
    "execution": {
     "iopub.execute_input": "2021-03-11T08:55:58.112721Z",
     "iopub.status.busy": "2021-03-11T08:55:58.111930Z",
     "iopub.status.idle": "2021-03-11T08:56:02.709894Z",
     "shell.execute_reply": "2021-03-11T08:56:02.709287Z"
    },
    "papermill": {
     "duration": 4.650258,
     "end_time": "2021-03-11T08:56:02.710023",
     "exception": false,
     "start_time": "2021-03-11T08:55:58.059765",
     "status": "completed"
    },
    "tags": []
   },
   "outputs": [
    {
     "data": {
      "application/vnd.jupyter.widget-view+json": {
       "model_id": "7338ba78aead42e09552ded85429664d",
       "version_major": 2,
       "version_minor": 0
      },
      "text/plain": [
       "HBox(children=(FloatProgress(value=0.0, description='Downloading', max=512.0, style=ProgressStyle(description_…"
      ]
     },
     "metadata": {},
     "output_type": "display_data"
    },
    {
     "name": "stdout",
     "output_type": "stream",
     "text": [
      "\n"
     ]
    },
    {
     "data": {
      "application/vnd.jupyter.widget-view+json": {
       "model_id": "e2d7a83541f6428d85aade9e34cb49d1",
       "version_major": 2,
       "version_minor": 0
      },
      "text/plain": [
       "HBox(children=(FloatProgress(value=0.0, description='Downloading', max=5069051.0, style=ProgressStyle(descript…"
      ]
     },
     "metadata": {},
     "output_type": "display_data"
    },
    {
     "name": "stdout",
     "output_type": "stream",
     "text": [
      "\n",
      "XLMRobertaConfig {\n",
      "  \"architectures\": [\n",
      "    \"XLMRobertaForMaskedLM\"\n",
      "  ],\n",
      "  \"attention_probs_dropout_prob\": 0.1,\n",
      "  \"bos_token_id\": 0,\n",
      "  \"eos_token_id\": 2,\n",
      "  \"gradient_checkpointing\": false,\n",
      "  \"hidden_act\": \"gelu\",\n",
      "  \"hidden_dropout_prob\": 0.1,\n",
      "  \"hidden_size\": 768,\n",
      "  \"initializer_range\": 0.02,\n",
      "  \"intermediate_size\": 3072,\n",
      "  \"layer_norm_eps\": 1e-05,\n",
      "  \"max_position_embeddings\": 514,\n",
      "  \"model_type\": \"xlm-roberta\",\n",
      "  \"num_attention_heads\": 12,\n",
      "  \"num_hidden_layers\": 12,\n",
      "  \"output_past\": true,\n",
      "  \"pad_token_id\": 1,\n",
      "  \"type_vocab_size\": 1,\n",
      "  \"vocab_size\": 250002\n",
      "}\n",
      "\n",
      "xlmroberta_tokenizer.pad_token_id 1\n"
     ]
    }
   ],
   "source": [
    "xlmroberta_tokenizer = AutoTokenizer.from_pretrained(model_name)\n",
    "xlmroberta_config = XLMRobertaConfig.from_pretrained(model_name)\n",
    "print(xlmroberta_config)\n",
    "print('xlmroberta_tokenizer.pad_token_id',\n",
    "      xlmroberta_tokenizer.pad_token_id)"
   ]
  },
  {
   "cell_type": "markdown",
   "metadata": {
    "papermill": {
     "duration": 0.051455,
     "end_time": "2021-03-11T08:56:02.813802",
     "exception": false,
     "start_time": "2021-03-11T08:56:02.762347",
     "status": "completed"
    },
    "tags": []
   },
   "source": [
    "I detect a sentence embedding size from the XLM-R configuration, and I check a maximal length of token sequence accordingly to this configuration."
   ]
  },
  {
   "cell_type": "code",
   "execution_count": 27,
   "metadata": {
    "execution": {
     "iopub.execute_input": "2021-03-11T08:56:02.921236Z",
     "iopub.status.busy": "2021-03-11T08:56:02.920555Z",
     "iopub.status.idle": "2021-03-11T08:56:02.924179Z",
     "shell.execute_reply": "2021-03-11T08:56:02.924775Z"
    },
    "papermill": {
     "duration": 0.059602,
     "end_time": "2021-03-11T08:56:02.924916",
     "exception": false,
     "start_time": "2021-03-11T08:56:02.865314",
     "status": "completed"
    },
    "tags": []
   },
   "outputs": [
    {
     "name": "stdout",
     "output_type": "stream",
     "text": [
      "Sentence embedding size is 768\n"
     ]
    }
   ],
   "source": [
    "sentence_embedding_size = xlmroberta_config.hidden_size\n",
    "print('Sentence embedding size is {0}'.format(sentence_embedding_size))\n",
    "assert max_seq_len <= xlmroberta_config.max_position_embeddings"
   ]
  },
  {
   "cell_type": "markdown",
   "metadata": {
    "papermill": {
     "duration": 0.050663,
     "end_time": "2021-03-11T08:56:03.027892",
     "exception": false,
     "start_time": "2021-03-11T08:56:02.977229",
     "status": "completed"
    },
    "tags": []
   },
   "source": [
    "I load data for training. These data must contain labeled English texts."
   ]
  },
  {
   "cell_type": "code",
   "execution_count": 28,
   "metadata": {
    "execution": {
     "iopub.execute_input": "2021-03-11T08:56:03.135897Z",
     "iopub.status.busy": "2021-03-11T08:56:03.135320Z",
     "iopub.status.idle": "2021-03-11T08:57:21.092623Z",
     "shell.execute_reply": "2021-03-11T08:57:21.091746Z"
    },
    "papermill": {
     "duration": 78.012306,
     "end_time": "2021-03-11T08:57:21.092734",
     "exception": false,
     "start_time": "2021-03-11T08:56:03.080428",
     "status": "completed"
    },
    "tags": []
   },
   "outputs": [
    {
     "name": "stdout",
     "output_type": "stream",
     "text": [
      "10000 lines of the \"/kaggle/input/jigsaw-multilingual-toxic-comment-classification/jigsaw-unintended-bias-train.csv\" have been processed...\n",
      "20000 lines of the \"/kaggle/input/jigsaw-multilingual-toxic-comment-classification/jigsaw-unintended-bias-train.csv\" have been processed...\n",
      "30000 lines of the \"/kaggle/input/jigsaw-multilingual-toxic-comment-classification/jigsaw-unintended-bias-train.csv\" have been processed...\n",
      "40000 lines of the \"/kaggle/input/jigsaw-multilingual-toxic-comment-classification/jigsaw-unintended-bias-train.csv\" have been processed...\n",
      "50000 lines of the \"/kaggle/input/jigsaw-multilingual-toxic-comment-classification/jigsaw-unintended-bias-train.csv\" have been processed...\n",
      "60000 lines of the \"/kaggle/input/jigsaw-multilingual-toxic-comment-classification/jigsaw-unintended-bias-train.csv\" have been processed...\n",
      "70000 lines of the \"/kaggle/input/jigsaw-multilingual-toxic-comment-classification/jigsaw-unintended-bias-train.csv\" have been processed...\n",
      "80000 lines of the \"/kaggle/input/jigsaw-multilingual-toxic-comment-classification/jigsaw-unintended-bias-train.csv\" have been processed...\n",
      "90000 lines of the \"/kaggle/input/jigsaw-multilingual-toxic-comment-classification/jigsaw-unintended-bias-train.csv\" have been processed...\n",
      "100000 lines of the \"/kaggle/input/jigsaw-multilingual-toxic-comment-classification/jigsaw-unintended-bias-train.csv\" have been processed...\n",
      "110000 lines of the \"/kaggle/input/jigsaw-multilingual-toxic-comment-classification/jigsaw-unintended-bias-train.csv\" have been processed...\n",
      "120000 lines of the \"/kaggle/input/jigsaw-multilingual-toxic-comment-classification/jigsaw-unintended-bias-train.csv\" have been processed...\n",
      "130000 lines of the \"/kaggle/input/jigsaw-multilingual-toxic-comment-classification/jigsaw-unintended-bias-train.csv\" have been processed...\n",
      "140000 lines of the \"/kaggle/input/jigsaw-multilingual-toxic-comment-classification/jigsaw-unintended-bias-train.csv\" have been processed...\n",
      "150000 lines of the \"/kaggle/input/jigsaw-multilingual-toxic-comment-classification/jigsaw-unintended-bias-train.csv\" have been processed...\n",
      "160000 lines of the \"/kaggle/input/jigsaw-multilingual-toxic-comment-classification/jigsaw-unintended-bias-train.csv\" have been processed...\n",
      "170000 lines of the \"/kaggle/input/jigsaw-multilingual-toxic-comment-classification/jigsaw-unintended-bias-train.csv\" have been processed...\n",
      "180000 lines of the \"/kaggle/input/jigsaw-multilingual-toxic-comment-classification/jigsaw-unintended-bias-train.csv\" have been processed...\n",
      "190000 lines of the \"/kaggle/input/jigsaw-multilingual-toxic-comment-classification/jigsaw-unintended-bias-train.csv\" have been processed...\n",
      "200000 lines of the \"/kaggle/input/jigsaw-multilingual-toxic-comment-classification/jigsaw-unintended-bias-train.csv\" have been processed...\n",
      "210000 lines of the \"/kaggle/input/jigsaw-multilingual-toxic-comment-classification/jigsaw-unintended-bias-train.csv\" have been processed...\n",
      "220000 lines of the \"/kaggle/input/jigsaw-multilingual-toxic-comment-classification/jigsaw-unintended-bias-train.csv\" have been processed...\n",
      "230000 lines of the \"/kaggle/input/jigsaw-multilingual-toxic-comment-classification/jigsaw-unintended-bias-train.csv\" have been processed...\n",
      "240000 lines of the \"/kaggle/input/jigsaw-multilingual-toxic-comment-classification/jigsaw-unintended-bias-train.csv\" have been processed...\n",
      "250000 lines of the \"/kaggle/input/jigsaw-multilingual-toxic-comment-classification/jigsaw-unintended-bias-train.csv\" have been processed...\n",
      "260000 lines of the \"/kaggle/input/jigsaw-multilingual-toxic-comment-classification/jigsaw-unintended-bias-train.csv\" have been processed...\n",
      "270000 lines of the \"/kaggle/input/jigsaw-multilingual-toxic-comment-classification/jigsaw-unintended-bias-train.csv\" have been processed...\n",
      "280000 lines of the \"/kaggle/input/jigsaw-multilingual-toxic-comment-classification/jigsaw-unintended-bias-train.csv\" have been processed...\n",
      "290000 lines of the \"/kaggle/input/jigsaw-multilingual-toxic-comment-classification/jigsaw-unintended-bias-train.csv\" have been processed...\n",
      "300000 lines of the \"/kaggle/input/jigsaw-multilingual-toxic-comment-classification/jigsaw-unintended-bias-train.csv\" have been processed...\n",
      "310000 lines of the \"/kaggle/input/jigsaw-multilingual-toxic-comment-classification/jigsaw-unintended-bias-train.csv\" have been processed...\n",
      "320000 lines of the \"/kaggle/input/jigsaw-multilingual-toxic-comment-classification/jigsaw-unintended-bias-train.csv\" have been processed...\n",
      "330000 lines of the \"/kaggle/input/jigsaw-multilingual-toxic-comment-classification/jigsaw-unintended-bias-train.csv\" have been processed...\n",
      "340000 lines of the \"/kaggle/input/jigsaw-multilingual-toxic-comment-classification/jigsaw-unintended-bias-train.csv\" have been processed...\n",
      "350000 lines of the \"/kaggle/input/jigsaw-multilingual-toxic-comment-classification/jigsaw-unintended-bias-train.csv\" have been processed...\n",
      "360000 lines of the \"/kaggle/input/jigsaw-multilingual-toxic-comment-classification/jigsaw-unintended-bias-train.csv\" have been processed...\n",
      "370000 lines of the \"/kaggle/input/jigsaw-multilingual-toxic-comment-classification/jigsaw-unintended-bias-train.csv\" have been processed...\n",
      "380000 lines of the \"/kaggle/input/jigsaw-multilingual-toxic-comment-classification/jigsaw-unintended-bias-train.csv\" have been processed...\n",
      "390000 lines of the \"/kaggle/input/jigsaw-multilingual-toxic-comment-classification/jigsaw-unintended-bias-train.csv\" have been processed...\n",
      "400000 lines of the \"/kaggle/input/jigsaw-multilingual-toxic-comment-classification/jigsaw-unintended-bias-train.csv\" have been processed...\n",
      "410000 lines of the \"/kaggle/input/jigsaw-multilingual-toxic-comment-classification/jigsaw-unintended-bias-train.csv\" have been processed...\n",
      "420000 lines of the \"/kaggle/input/jigsaw-multilingual-toxic-comment-classification/jigsaw-unintended-bias-train.csv\" have been processed...\n",
      "430000 lines of the \"/kaggle/input/jigsaw-multilingual-toxic-comment-classification/jigsaw-unintended-bias-train.csv\" have been processed...\n",
      "440000 lines of the \"/kaggle/input/jigsaw-multilingual-toxic-comment-classification/jigsaw-unintended-bias-train.csv\" have been processed...\n",
      "450000 lines of the \"/kaggle/input/jigsaw-multilingual-toxic-comment-classification/jigsaw-unintended-bias-train.csv\" have been processed...\n",
      "460000 lines of the \"/kaggle/input/jigsaw-multilingual-toxic-comment-classification/jigsaw-unintended-bias-train.csv\" have been processed...\n",
      "470000 lines of the \"/kaggle/input/jigsaw-multilingual-toxic-comment-classification/jigsaw-unintended-bias-train.csv\" have been processed...\n",
      "480000 lines of the \"/kaggle/input/jigsaw-multilingual-toxic-comment-classification/jigsaw-unintended-bias-train.csv\" have been processed...\n",
      "490000 lines of the \"/kaggle/input/jigsaw-multilingual-toxic-comment-classification/jigsaw-unintended-bias-train.csv\" have been processed...\n",
      "500000 lines of the \"/kaggle/input/jigsaw-multilingual-toxic-comment-classification/jigsaw-unintended-bias-train.csv\" have been processed...\n",
      "510000 lines of the \"/kaggle/input/jigsaw-multilingual-toxic-comment-classification/jigsaw-unintended-bias-train.csv\" have been processed...\n",
      "520000 lines of the \"/kaggle/input/jigsaw-multilingual-toxic-comment-classification/jigsaw-unintended-bias-train.csv\" have been processed...\n",
      "530000 lines of the \"/kaggle/input/jigsaw-multilingual-toxic-comment-classification/jigsaw-unintended-bias-train.csv\" have been processed...\n",
      "540000 lines of the \"/kaggle/input/jigsaw-multilingual-toxic-comment-classification/jigsaw-unintended-bias-train.csv\" have been processed...\n",
      "550000 lines of the \"/kaggle/input/jigsaw-multilingual-toxic-comment-classification/jigsaw-unintended-bias-train.csv\" have been processed...\n",
      "560000 lines of the \"/kaggle/input/jigsaw-multilingual-toxic-comment-classification/jigsaw-unintended-bias-train.csv\" have been processed...\n",
      "570000 lines of the \"/kaggle/input/jigsaw-multilingual-toxic-comment-classification/jigsaw-unintended-bias-train.csv\" have been processed...\n",
      "580000 lines of the \"/kaggle/input/jigsaw-multilingual-toxic-comment-classification/jigsaw-unintended-bias-train.csv\" have been processed...\n",
      "590000 lines of the \"/kaggle/input/jigsaw-multilingual-toxic-comment-classification/jigsaw-unintended-bias-train.csv\" have been processed...\n",
      "600000 lines of the \"/kaggle/input/jigsaw-multilingual-toxic-comment-classification/jigsaw-unintended-bias-train.csv\" have been processed...\n",
      "610000 lines of the \"/kaggle/input/jigsaw-multilingual-toxic-comment-classification/jigsaw-unintended-bias-train.csv\" have been processed...\n",
      "620000 lines of the \"/kaggle/input/jigsaw-multilingual-toxic-comment-classification/jigsaw-unintended-bias-train.csv\" have been processed...\n",
      "630000 lines of the \"/kaggle/input/jigsaw-multilingual-toxic-comment-classification/jigsaw-unintended-bias-train.csv\" have been processed...\n",
      "640000 lines of the \"/kaggle/input/jigsaw-multilingual-toxic-comment-classification/jigsaw-unintended-bias-train.csv\" have been processed...\n",
      "650000 lines of the \"/kaggle/input/jigsaw-multilingual-toxic-comment-classification/jigsaw-unintended-bias-train.csv\" have been processed...\n",
      "660000 lines of the \"/kaggle/input/jigsaw-multilingual-toxic-comment-classification/jigsaw-unintended-bias-train.csv\" have been processed...\n",
      "670000 lines of the \"/kaggle/input/jigsaw-multilingual-toxic-comment-classification/jigsaw-unintended-bias-train.csv\" have been processed...\n",
      "680000 lines of the \"/kaggle/input/jigsaw-multilingual-toxic-comment-classification/jigsaw-unintended-bias-train.csv\" have been processed...\n",
      "690000 lines of the \"/kaggle/input/jigsaw-multilingual-toxic-comment-classification/jigsaw-unintended-bias-train.csv\" have been processed...\n",
      "700000 lines of the \"/kaggle/input/jigsaw-multilingual-toxic-comment-classification/jigsaw-unintended-bias-train.csv\" have been processed...\n",
      "710000 lines of the \"/kaggle/input/jigsaw-multilingual-toxic-comment-classification/jigsaw-unintended-bias-train.csv\" have been processed...\n",
      "720000 lines of the \"/kaggle/input/jigsaw-multilingual-toxic-comment-classification/jigsaw-unintended-bias-train.csv\" have been processed...\n",
      "730000 lines of the \"/kaggle/input/jigsaw-multilingual-toxic-comment-classification/jigsaw-unintended-bias-train.csv\" have been processed...\n",
      "740000 lines of the \"/kaggle/input/jigsaw-multilingual-toxic-comment-classification/jigsaw-unintended-bias-train.csv\" have been processed...\n",
      "750000 lines of the \"/kaggle/input/jigsaw-multilingual-toxic-comment-classification/jigsaw-unintended-bias-train.csv\" have been processed...\n",
      "760000 lines of the \"/kaggle/input/jigsaw-multilingual-toxic-comment-classification/jigsaw-unintended-bias-train.csv\" have been processed...\n",
      "770000 lines of the \"/kaggle/input/jigsaw-multilingual-toxic-comment-classification/jigsaw-unintended-bias-train.csv\" have been processed...\n",
      "780000 lines of the \"/kaggle/input/jigsaw-multilingual-toxic-comment-classification/jigsaw-unintended-bias-train.csv\" have been processed...\n",
      "790000 lines of the \"/kaggle/input/jigsaw-multilingual-toxic-comment-classification/jigsaw-unintended-bias-train.csv\" have been processed...\n",
      "800000 lines of the \"/kaggle/input/jigsaw-multilingual-toxic-comment-classification/jigsaw-unintended-bias-train.csv\" have been processed...\n",
      "810000 lines of the \"/kaggle/input/jigsaw-multilingual-toxic-comment-classification/jigsaw-unintended-bias-train.csv\" have been processed...\n",
      "820000 lines of the \"/kaggle/input/jigsaw-multilingual-toxic-comment-classification/jigsaw-unintended-bias-train.csv\" have been processed...\n",
      "830000 lines of the \"/kaggle/input/jigsaw-multilingual-toxic-comment-classification/jigsaw-unintended-bias-train.csv\" have been processed...\n",
      "840000 lines of the \"/kaggle/input/jigsaw-multilingual-toxic-comment-classification/jigsaw-unintended-bias-train.csv\" have been processed...\n",
      "850000 lines of the \"/kaggle/input/jigsaw-multilingual-toxic-comment-classification/jigsaw-unintended-bias-train.csv\" have been processed...\n",
      "860000 lines of the \"/kaggle/input/jigsaw-multilingual-toxic-comment-classification/jigsaw-unintended-bias-train.csv\" have been processed...\n",
      "870000 lines of the \"/kaggle/input/jigsaw-multilingual-toxic-comment-classification/jigsaw-unintended-bias-train.csv\" have been processed...\n",
      "880000 lines of the \"/kaggle/input/jigsaw-multilingual-toxic-comment-classification/jigsaw-unintended-bias-train.csv\" have been processed...\n",
      "890000 lines of the \"/kaggle/input/jigsaw-multilingual-toxic-comment-classification/jigsaw-unintended-bias-train.csv\" have been processed...\n",
      "900000 lines of the \"/kaggle/input/jigsaw-multilingual-toxic-comment-classification/jigsaw-unintended-bias-train.csv\" have been processed...\n",
      "910000 lines of the \"/kaggle/input/jigsaw-multilingual-toxic-comment-classification/jigsaw-unintended-bias-train.csv\" have been processed...\n",
      "920000 lines of the \"/kaggle/input/jigsaw-multilingual-toxic-comment-classification/jigsaw-unintended-bias-train.csv\" have been processed...\n",
      "930000 lines of the \"/kaggle/input/jigsaw-multilingual-toxic-comment-classification/jigsaw-unintended-bias-train.csv\" have been processed...\n",
      "940000 lines of the \"/kaggle/input/jigsaw-multilingual-toxic-comment-classification/jigsaw-unintended-bias-train.csv\" have been processed...\n",
      "950000 lines of the \"/kaggle/input/jigsaw-multilingual-toxic-comment-classification/jigsaw-unintended-bias-train.csv\" have been processed...\n",
      "960000 lines of the \"/kaggle/input/jigsaw-multilingual-toxic-comment-classification/jigsaw-unintended-bias-train.csv\" have been processed...\n",
      "970000 lines of the \"/kaggle/input/jigsaw-multilingual-toxic-comment-classification/jigsaw-unintended-bias-train.csv\" have been processed...\n",
      "980000 lines of the \"/kaggle/input/jigsaw-multilingual-toxic-comment-classification/jigsaw-unintended-bias-train.csv\" have been processed...\n",
      "990000 lines of the \"/kaggle/input/jigsaw-multilingual-toxic-comment-classification/jigsaw-unintended-bias-train.csv\" have been processed...\n",
      "1000000 lines of the \"/kaggle/input/jigsaw-multilingual-toxic-comment-classification/jigsaw-unintended-bias-train.csv\" have been processed...\n",
      "1010000 lines of the \"/kaggle/input/jigsaw-multilingual-toxic-comment-classification/jigsaw-unintended-bias-train.csv\" have been processed...\n",
      "1020000 lines of the \"/kaggle/input/jigsaw-multilingual-toxic-comment-classification/jigsaw-unintended-bias-train.csv\" have been processed...\n",
      "1030000 lines of the \"/kaggle/input/jigsaw-multilingual-toxic-comment-classification/jigsaw-unintended-bias-train.csv\" have been processed...\n",
      "1040000 lines of the \"/kaggle/input/jigsaw-multilingual-toxic-comment-classification/jigsaw-unintended-bias-train.csv\" have been processed...\n",
      "1050000 lines of the \"/kaggle/input/jigsaw-multilingual-toxic-comment-classification/jigsaw-unintended-bias-train.csv\" have been processed...\n",
      "1060000 lines of the \"/kaggle/input/jigsaw-multilingual-toxic-comment-classification/jigsaw-unintended-bias-train.csv\" have been processed...\n",
      "1070000 lines of the \"/kaggle/input/jigsaw-multilingual-toxic-comment-classification/jigsaw-unintended-bias-train.csv\" have been processed...\n",
      "1080000 lines of the \"/kaggle/input/jigsaw-multilingual-toxic-comment-classification/jigsaw-unintended-bias-train.csv\" have been processed...\n",
      "1090000 lines of the \"/kaggle/input/jigsaw-multilingual-toxic-comment-classification/jigsaw-unintended-bias-train.csv\" have been processed...\n",
      "1100000 lines of the \"/kaggle/input/jigsaw-multilingual-toxic-comment-classification/jigsaw-unintended-bias-train.csv\" have been processed...\n",
      "1110000 lines of the \"/kaggle/input/jigsaw-multilingual-toxic-comment-classification/jigsaw-unintended-bias-train.csv\" have been processed...\n",
      "1120000 lines of the \"/kaggle/input/jigsaw-multilingual-toxic-comment-classification/jigsaw-unintended-bias-train.csv\" have been processed...\n",
      "1130000 lines of the \"/kaggle/input/jigsaw-multilingual-toxic-comment-classification/jigsaw-unintended-bias-train.csv\" have been processed...\n",
      "1140000 lines of the \"/kaggle/input/jigsaw-multilingual-toxic-comment-classification/jigsaw-unintended-bias-train.csv\" have been processed...\n",
      "1150000 lines of the \"/kaggle/input/jigsaw-multilingual-toxic-comment-classification/jigsaw-unintended-bias-train.csv\" have been processed...\n",
      "1160000 lines of the \"/kaggle/input/jigsaw-multilingual-toxic-comment-classification/jigsaw-unintended-bias-train.csv\" have been processed...\n",
      "1170000 lines of the \"/kaggle/input/jigsaw-multilingual-toxic-comment-classification/jigsaw-unintended-bias-train.csv\" have been processed...\n",
      "1180000 lines of the \"/kaggle/input/jigsaw-multilingual-toxic-comment-classification/jigsaw-unintended-bias-train.csv\" have been processed...\n",
      "1190000 lines of the \"/kaggle/input/jigsaw-multilingual-toxic-comment-classification/jigsaw-unintended-bias-train.csv\" have been processed...\n",
      "1200000 lines of the \"/kaggle/input/jigsaw-multilingual-toxic-comment-classification/jigsaw-unintended-bias-train.csv\" have been processed...\n",
      "1210000 lines of the \"/kaggle/input/jigsaw-multilingual-toxic-comment-classification/jigsaw-unintended-bias-train.csv\" have been processed...\n",
      "1220000 lines of the \"/kaggle/input/jigsaw-multilingual-toxic-comment-classification/jigsaw-unintended-bias-train.csv\" have been processed...\n",
      "1230000 lines of the \"/kaggle/input/jigsaw-multilingual-toxic-comment-classification/jigsaw-unintended-bias-train.csv\" have been processed...\n",
      "1240000 lines of the \"/kaggle/input/jigsaw-multilingual-toxic-comment-classification/jigsaw-unintended-bias-train.csv\" have been processed...\n",
      "1250000 lines of the \"/kaggle/input/jigsaw-multilingual-toxic-comment-classification/jigsaw-unintended-bias-train.csv\" have been processed...\n",
      "1260000 lines of the \"/kaggle/input/jigsaw-multilingual-toxic-comment-classification/jigsaw-unintended-bias-train.csv\" have been processed...\n",
      "1270000 lines of the \"/kaggle/input/jigsaw-multilingual-toxic-comment-classification/jigsaw-unintended-bias-train.csv\" have been processed...\n",
      "1280000 lines of the \"/kaggle/input/jigsaw-multilingual-toxic-comment-classification/jigsaw-unintended-bias-train.csv\" have been processed...\n",
      "1290000 lines of the \"/kaggle/input/jigsaw-multilingual-toxic-comment-classification/jigsaw-unintended-bias-train.csv\" have been processed...\n",
      "1300000 lines of the \"/kaggle/input/jigsaw-multilingual-toxic-comment-classification/jigsaw-unintended-bias-train.csv\" have been processed...\n",
      "1310000 lines of the \"/kaggle/input/jigsaw-multilingual-toxic-comment-classification/jigsaw-unintended-bias-train.csv\" have been processed...\n",
      "1320000 lines of the \"/kaggle/input/jigsaw-multilingual-toxic-comment-classification/jigsaw-unintended-bias-train.csv\" have been processed...\n",
      "1330000 lines of the \"/kaggle/input/jigsaw-multilingual-toxic-comment-classification/jigsaw-unintended-bias-train.csv\" have been processed...\n",
      "1340000 lines of the \"/kaggle/input/jigsaw-multilingual-toxic-comment-classification/jigsaw-unintended-bias-train.csv\" have been processed...\n",
      "1350000 lines of the \"/kaggle/input/jigsaw-multilingual-toxic-comment-classification/jigsaw-unintended-bias-train.csv\" have been processed...\n",
      "1360000 lines of the \"/kaggle/input/jigsaw-multilingual-toxic-comment-classification/jigsaw-unintended-bias-train.csv\" have been processed...\n",
      "1370000 lines of the \"/kaggle/input/jigsaw-multilingual-toxic-comment-classification/jigsaw-unintended-bias-train.csv\" have been processed...\n",
      "1380000 lines of the \"/kaggle/input/jigsaw-multilingual-toxic-comment-classification/jigsaw-unintended-bias-train.csv\" have been processed...\n",
      "1390000 lines of the \"/kaggle/input/jigsaw-multilingual-toxic-comment-classification/jigsaw-unintended-bias-train.csv\" have been processed...\n",
      "1400000 lines of the \"/kaggle/input/jigsaw-multilingual-toxic-comment-classification/jigsaw-unintended-bias-train.csv\" have been processed...\n",
      "1410000 lines of the \"/kaggle/input/jigsaw-multilingual-toxic-comment-classification/jigsaw-unintended-bias-train.csv\" have been processed...\n",
      "1420000 lines of the \"/kaggle/input/jigsaw-multilingual-toxic-comment-classification/jigsaw-unintended-bias-train.csv\" have been processed...\n",
      "1430000 lines of the \"/kaggle/input/jigsaw-multilingual-toxic-comment-classification/jigsaw-unintended-bias-train.csv\" have been processed...\n",
      "1440000 lines of the \"/kaggle/input/jigsaw-multilingual-toxic-comment-classification/jigsaw-unintended-bias-train.csv\" have been processed...\n",
      "1450000 lines of the \"/kaggle/input/jigsaw-multilingual-toxic-comment-classification/jigsaw-unintended-bias-train.csv\" have been processed...\n",
      "1460000 lines of the \"/kaggle/input/jigsaw-multilingual-toxic-comment-classification/jigsaw-unintended-bias-train.csv\" have been processed...\n",
      "1470000 lines of the \"/kaggle/input/jigsaw-multilingual-toxic-comment-classification/jigsaw-unintended-bias-train.csv\" have been processed...\n",
      "1480000 lines of the \"/kaggle/input/jigsaw-multilingual-toxic-comment-classification/jigsaw-unintended-bias-train.csv\" have been processed...\n",
      "1490000 lines of the \"/kaggle/input/jigsaw-multilingual-toxic-comment-classification/jigsaw-unintended-bias-train.csv\" have been processed...\n",
      "1500000 lines of the \"/kaggle/input/jigsaw-multilingual-toxic-comment-classification/jigsaw-unintended-bias-train.csv\" have been processed...\n",
      "1510000 lines of the \"/kaggle/input/jigsaw-multilingual-toxic-comment-classification/jigsaw-unintended-bias-train.csv\" have been processed...\n",
      "1520000 lines of the \"/kaggle/input/jigsaw-multilingual-toxic-comment-classification/jigsaw-unintended-bias-train.csv\" have been processed...\n",
      "1530000 lines of the \"/kaggle/input/jigsaw-multilingual-toxic-comment-classification/jigsaw-unintended-bias-train.csv\" have been processed...\n",
      "1540000 lines of the \"/kaggle/input/jigsaw-multilingual-toxic-comment-classification/jigsaw-unintended-bias-train.csv\" have been processed...\n",
      "1550000 lines of the \"/kaggle/input/jigsaw-multilingual-toxic-comment-classification/jigsaw-unintended-bias-train.csv\" have been processed...\n",
      "1560000 lines of the \"/kaggle/input/jigsaw-multilingual-toxic-comment-classification/jigsaw-unintended-bias-train.csv\" have been processed...\n",
      "1570000 lines of the \"/kaggle/input/jigsaw-multilingual-toxic-comment-classification/jigsaw-unintended-bias-train.csv\" have been processed...\n",
      "1580000 lines of the \"/kaggle/input/jigsaw-multilingual-toxic-comment-classification/jigsaw-unintended-bias-train.csv\" have been processed...\n",
      "1590000 lines of the \"/kaggle/input/jigsaw-multilingual-toxic-comment-classification/jigsaw-unintended-bias-train.csv\" have been processed...\n",
      "1600000 lines of the \"/kaggle/input/jigsaw-multilingual-toxic-comment-classification/jigsaw-unintended-bias-train.csv\" have been processed...\n",
      "1610000 lines of the \"/kaggle/input/jigsaw-multilingual-toxic-comment-classification/jigsaw-unintended-bias-train.csv\" have been processed...\n",
      "1620000 lines of the \"/kaggle/input/jigsaw-multilingual-toxic-comment-classification/jigsaw-unintended-bias-train.csv\" have been processed...\n",
      "1630000 lines of the \"/kaggle/input/jigsaw-multilingual-toxic-comment-classification/jigsaw-unintended-bias-train.csv\" have been processed...\n",
      "1640000 lines of the \"/kaggle/input/jigsaw-multilingual-toxic-comment-classification/jigsaw-unintended-bias-train.csv\" have been processed...\n",
      "1650000 lines of the \"/kaggle/input/jigsaw-multilingual-toxic-comment-classification/jigsaw-unintended-bias-train.csv\" have been processed...\n",
      "1660000 lines of the \"/kaggle/input/jigsaw-multilingual-toxic-comment-classification/jigsaw-unintended-bias-train.csv\" have been processed...\n",
      "1670000 lines of the \"/kaggle/input/jigsaw-multilingual-toxic-comment-classification/jigsaw-unintended-bias-train.csv\" have been processed...\n",
      "1680000 lines of the \"/kaggle/input/jigsaw-multilingual-toxic-comment-classification/jigsaw-unintended-bias-train.csv\" have been processed...\n",
      "1690000 lines of the \"/kaggle/input/jigsaw-multilingual-toxic-comment-classification/jigsaw-unintended-bias-train.csv\" have been processed...\n",
      "1700000 lines of the \"/kaggle/input/jigsaw-multilingual-toxic-comment-classification/jigsaw-unintended-bias-train.csv\" have been processed...\n",
      "1710000 lines of the \"/kaggle/input/jigsaw-multilingual-toxic-comment-classification/jigsaw-unintended-bias-train.csv\" have been processed...\n",
      "1720000 lines of the \"/kaggle/input/jigsaw-multilingual-toxic-comment-classification/jigsaw-unintended-bias-train.csv\" have been processed...\n",
      "1730000 lines of the \"/kaggle/input/jigsaw-multilingual-toxic-comment-classification/jigsaw-unintended-bias-train.csv\" have been processed...\n",
      "1740000 lines of the \"/kaggle/input/jigsaw-multilingual-toxic-comment-classification/jigsaw-unintended-bias-train.csv\" have been processed...\n",
      "1750000 lines of the \"/kaggle/input/jigsaw-multilingual-toxic-comment-classification/jigsaw-unintended-bias-train.csv\" have been processed...\n",
      "1760000 lines of the \"/kaggle/input/jigsaw-multilingual-toxic-comment-classification/jigsaw-unintended-bias-train.csv\" have been processed...\n",
      "1770000 lines of the \"/kaggle/input/jigsaw-multilingual-toxic-comment-classification/jigsaw-unintended-bias-train.csv\" have been processed...\n",
      "1780000 lines of the \"/kaggle/input/jigsaw-multilingual-toxic-comment-classification/jigsaw-unintended-bias-train.csv\" have been processed...\n",
      "1790000 lines of the \"/kaggle/input/jigsaw-multilingual-toxic-comment-classification/jigsaw-unintended-bias-train.csv\" have been processed...\n",
      "1800000 lines of the \"/kaggle/input/jigsaw-multilingual-toxic-comment-classification/jigsaw-unintended-bias-train.csv\" have been processed...\n",
      "1810000 lines of the \"/kaggle/input/jigsaw-multilingual-toxic-comment-classification/jigsaw-unintended-bias-train.csv\" have been processed...\n",
      "1820000 lines of the \"/kaggle/input/jigsaw-multilingual-toxic-comment-classification/jigsaw-unintended-bias-train.csv\" have been processed...\n",
      "1830000 lines of the \"/kaggle/input/jigsaw-multilingual-toxic-comment-classification/jigsaw-unintended-bias-train.csv\" have been processed...\n",
      "1840000 lines of the \"/kaggle/input/jigsaw-multilingual-toxic-comment-classification/jigsaw-unintended-bias-train.csv\" have been processed...\n",
      "1850000 lines of the \"/kaggle/input/jigsaw-multilingual-toxic-comment-classification/jigsaw-unintended-bias-train.csv\" have been processed...\n",
      "1860000 lines of the \"/kaggle/input/jigsaw-multilingual-toxic-comment-classification/jigsaw-unintended-bias-train.csv\" have been processed...\n",
      "1870000 lines of the \"/kaggle/input/jigsaw-multilingual-toxic-comment-classification/jigsaw-unintended-bias-train.csv\" have been processed...\n",
      "1880000 lines of the \"/kaggle/input/jigsaw-multilingual-toxic-comment-classification/jigsaw-unintended-bias-train.csv\" have been processed...\n",
      "1890000 lines of the \"/kaggle/input/jigsaw-multilingual-toxic-comment-classification/jigsaw-unintended-bias-train.csv\" have been processed...\n",
      "1900000 lines of the \"/kaggle/input/jigsaw-multilingual-toxic-comment-classification/jigsaw-unintended-bias-train.csv\" have been processed...\n",
      "1902197 lines of the \"/kaggle/input/jigsaw-multilingual-toxic-comment-classification/jigsaw-unintended-bias-train.csv\" have been processed...\n"
     ]
    }
   ],
   "source": [
    "corpus_for_training = load_train_set(\n",
    "    os.path.join(dataset_dir, \"jigsaw-unintended-bias-train.csv\"),\n",
    "    text_field=\"comment_text\", lang_field=\"lang\",\n",
    "    sentiment_fields=[\"toxic\", \"severe_toxicity\", \"obscene\", \"identity_attack\",\n",
    "                      \"insult\", \"threat\"]\n",
    ")\n",
    "assert 'en' in corpus_for_training"
   ]
  },
  {
   "cell_type": "markdown",
   "metadata": {
    "papermill": {
     "duration": 0.105884,
     "end_time": "2021-03-11T08:57:21.301370",
     "exception": false,
     "start_time": "2021-03-11T08:57:21.195486",
     "status": "completed"
    },
    "tags": []
   },
   "source": [
    "I load multilingual data for training in addition to the abovementioned English data. These data must represent texts in three languages (non-English only)"
   ]
  },
  {
   "cell_type": "code",
   "execution_count": 29,
   "metadata": {
    "execution": {
     "iopub.execute_input": "2021-03-11T08:57:21.515049Z",
     "iopub.status.busy": "2021-03-11T08:57:21.514389Z",
     "iopub.status.idle": "2021-03-11T08:57:21.765738Z",
     "shell.execute_reply": "2021-03-11T08:57:21.766175Z"
    },
    "papermill": {
     "duration": 0.361159,
     "end_time": "2021-03-11T08:57:21.766305",
     "exception": false,
     "start_time": "2021-03-11T08:57:21.405146",
     "status": "completed"
    },
    "tags": []
   },
   "outputs": [
    {
     "name": "stdout",
     "output_type": "stream",
     "text": [
      "8001 lines of the \"/kaggle/input/jigsaw-multilingual-toxic-comment-classification/validation.csv\" have been processed...\n",
      "Multilingual data:\n",
      "  es\t\t2500 samples\n",
      "  it\t\t2500 samples\n",
      "  tr\t\t3000 samples\n"
     ]
    }
   ],
   "source": [
    "multilingual_corpus = load_train_set(\n",
    "    os.path.join(dataset_dir, \"validation.csv\"),\n",
    "    text_field=\"comment_text\", lang_field=\"lang\", sentiment_fields=[\"toxic\", ]\n",
    ")\n",
    "assert 'en' not in multilingual_corpus\n",
    "max_size = 0\n",
    "print('Multilingual data:')\n",
    "for language in sorted(list(multilingual_corpus.keys())):\n",
    "    print('  {0}\\t\\t{1} samples'.format(language, len(multilingual_corpus[language])))\n",
    "    assert set(map(lambda cur: cur[1], multilingual_corpus[language])) == {0, 1}\n",
    "    if len(multilingual_corpus[language]) > max_size:\n",
    "        max_size = len(multilingual_corpus[language])"
   ]
  },
  {
   "cell_type": "markdown",
   "metadata": {
    "papermill": {
     "duration": 0.104147,
     "end_time": "2021-03-11T08:57:21.974590",
     "exception": false,
     "start_time": "2021-03-11T08:57:21.870443",
     "status": "completed"
    },
    "tags": []
   },
   "source": [
    "I split the text corpus in English into three parts. The first part will rich the multilingual corpus for training (as the fourth language). The second part will be used as a data source for a Siamese network validation to implement early stopping. Finally, the third part, which is the largest, will be used as a data source for the training set of a Siamese network."
   ]
  },
  {
   "cell_type": "code",
   "execution_count": 30,
   "metadata": {
    "execution": {
     "iopub.execute_input": "2021-03-11T08:57:22.219749Z",
     "iopub.status.busy": "2021-03-11T08:57:22.203436Z",
     "iopub.status.idle": "2021-03-11T08:57:24.359024Z",
     "shell.execute_reply": "2021-03-11T08:57:24.358521Z"
    },
    "papermill": {
     "duration": 2.282061,
     "end_time": "2021-03-11T08:57:24.359140",
     "exception": false,
     "start_time": "2021-03-11T08:57:22.077079",
     "status": "completed"
    },
    "tags": []
   },
   "outputs": [],
   "source": [
    "err_msg = 'Size of English corpus = {0} is too small!'.format(\n",
    "    len(corpus_for_training['en'])\n",
    ")\n",
    "assert len(corpus_for_training['en']) >= (max_size * 10), err_msg\n",
    "random.shuffle(corpus_for_training['en'])\n",
    "multilingual_corpus['en'] = corpus_for_training['en'][:max_size]\n",
    "n_validation = int(round(0.1 * (len(corpus_for_training['en']) - max_size)))\n",
    "corpus_for_validation = {'en': corpus_for_training['en'][max_size:(max_size + n_validation)]}\n",
    "corpus_for_training = {'en': corpus_for_training['en'][(n_validation + max_size):]}"
   ]
  },
  {
   "cell_type": "markdown",
   "metadata": {
    "papermill": {
     "duration": 0.104695,
     "end_time": "2021-03-11T08:57:24.568372",
     "exception": false,
     "start_time": "2021-03-11T08:57:24.463677",
     "status": "completed"
    },
    "tags": []
   },
   "source": [
    "I load multilingual data for final toxicity classification and submitting to the competition."
   ]
  },
  {
   "cell_type": "code",
   "execution_count": 31,
   "metadata": {
    "execution": {
     "iopub.execute_input": "2021-03-11T08:57:24.780501Z",
     "iopub.status.busy": "2021-03-11T08:57:24.779923Z",
     "iopub.status.idle": "2021-03-11T08:57:26.993862Z",
     "shell.execute_reply": "2021-03-11T08:57:26.994437Z"
    },
    "papermill": {
     "duration": 2.322385,
     "end_time": "2021-03-11T08:57:26.994573",
     "exception": false,
     "start_time": "2021-03-11T08:57:24.672188",
     "status": "completed"
    },
    "tags": []
   },
   "outputs": [
    {
     "name": "stdout",
     "output_type": "stream",
     "text": [
      "10000 lines of the \"/kaggle/input/jigsaw-multilingual-toxic-comment-classification/test.csv\" have been processed...\n",
      "20000 lines of the \"/kaggle/input/jigsaw-multilingual-toxic-comment-classification/test.csv\" have been processed...\n",
      "30000 lines of the \"/kaggle/input/jigsaw-multilingual-toxic-comment-classification/test.csv\" have been processed...\n",
      "40000 lines of the \"/kaggle/input/jigsaw-multilingual-toxic-comment-classification/test.csv\" have been processed...\n",
      "50000 lines of the \"/kaggle/input/jigsaw-multilingual-toxic-comment-classification/test.csv\" have been processed...\n",
      "60000 lines of the \"/kaggle/input/jigsaw-multilingual-toxic-comment-classification/test.csv\" have been processed...\n",
      "63813 lines of the \"/kaggle/input/jigsaw-multilingual-toxic-comment-classification/test.csv\" have been processed...\n",
      "Data for submission:\n",
      "  es\t\t8438 samples\n",
      "  fr\t\t10920 samples\n",
      "  it\t\t8494 samples\n",
      "  pt\t\t11012 samples\n",
      "  ru\t\t10948 samples\n",
      "  tr\t\t14000 samples\n"
     ]
    }
   ],
   "source": [
    "texts_for_submission = load_test_set(\n",
    "    os.path.join(dataset_dir, \"test.csv\"),\n",
    "    text_field=\"content\", lang_field=\"lang\", id_field=\"id\"\n",
    ")\n",
    "print('Data for submission:')\n",
    "for language in sorted(list(texts_for_submission.keys())):\n",
    "    print('  {0}\\t\\t{1} samples'.format(language, len(texts_for_submission[language])))"
   ]
  },
  {
   "cell_type": "markdown",
   "metadata": {
    "papermill": {
     "duration": 0.10552,
     "end_time": "2021-03-11T08:57:27.206175",
     "exception": false,
     "start_time": "2021-03-11T08:57:27.100655",
     "status": "completed"
    },
    "tags": []
   },
   "source": [
    "I prepare a dataset for the Siamese XLM-R training (the number of labeled pairs in this dataset is equal to 500000)."
   ]
  },
  {
   "cell_type": "code",
   "execution_count": 32,
   "metadata": {
    "execution": {
     "iopub.execute_input": "2021-03-11T08:57:27.538955Z",
     "iopub.status.busy": "2021-03-11T08:57:27.538151Z",
     "iopub.status.idle": "2021-03-11T09:24:00.946272Z",
     "shell.execute_reply": "2021-03-11T09:24:00.945208Z"
    },
    "papermill": {
     "duration": 1593.597303,
     "end_time": "2021-03-11T09:24:00.946471",
     "exception": false,
     "start_time": "2021-03-11T08:57:27.349168",
     "status": "completed"
    },
    "tags": []
   },
   "outputs": [
    {
     "name": "stdout",
     "output_type": "stream",
     "text": [
      "Possible language pairs are: [('en', 'en')].\n",
      "en-en:\n",
      "  number of \"1-1\" pairs is 125000;\n",
      "  number of \"0-0\" pairs is 125000;\n",
      "  number of \"0-1\" or \"1-0\" pairs is 139561.\n",
      "Samples number of the data set is 389561.\n",
      "Samples number per each language pair is 500000.\n"
     ]
    },
    {
     "data": {
      "application/vnd.jupyter.widget-view+json": {
       "model_id": "1472ac5c57d140f3a2277439c209df43",
       "version_major": 2,
       "version_minor": 0
      },
      "text/plain": [
       "HBox(children=(FloatProgress(value=0.0, max=389561.0), HTML(value='')))"
      ]
     },
     "metadata": {},
     "output_type": "display_data"
    },
    {
     "name": "stdout",
     "output_type": "stream",
     "text": [
      "\n",
      "\n",
      "3 examples of left texts after tokenization:\n",
      "  great.  now they have the chance to play more 6'2\" 245 lbs dudes against 300 lbs like washington gets to play.  And it is a sad state of affairs when you have thugs, criminals and gangsters on your team and you are still mediocre.\n",
      "  [0, 6782, 6, 5, 5036, 1836, 765, 70, 18227, 47, 11301, 1286, 305, 242, 116, 44, 122416, 96, 16145, 115, 988, 26548, 2668, 96, 16145, 1884, 509, 127, 42562, 62163, 47, 11301, 6, 5, 3493, 442, 83, 10, 17110, 11341, 111, 103086, 7, 3229, 398, 765, 68180, 7, 6, 4, 49602, 7, 136, 4642, 37499, 98, 935, 7175, 136, 398, 621, 7464, 8738, 7612, 6, 5, 2, 1, 1, 1, 1, 1, 1, 1, 1, 1, 1, 1, 1, 1, 1, 1, 1, 1, 1, 1, 1, 1, 1, 1, 1, 1, 1, 1, 1, 1, 1, 1, 1, 1, 1, 1, 1, 1, 1, 1, 1, 1, 1, 1, 1, 1, 1, 1, 1, 1, 1, 1, 1, 1, 1, 1, 1, 1, 1, 1, 1, 1]\n",
      "\n",
      "  This is coming from the same guy that said if he considered it a bad law he would have no problem breaking it?  Smells like a Hypocrite to me.\n",
      "  [0, 3293, 83, 38162, 1295, 70, 5701, 48948, 450, 2804, 2174, 764, 90698, 442, 10, 6494, 27165, 764, 2806, 765, 110, 2967, 116987, 442, 705, 24965, 88510, 1884, 10, 168034, 59869, 13, 47, 163, 6, 5, 2, 1, 1, 1, 1, 1, 1, 1, 1, 1, 1, 1, 1, 1, 1, 1, 1, 1, 1, 1, 1, 1, 1, 1, 1, 1, 1, 1, 1, 1, 1, 1, 1, 1, 1, 1, 1, 1, 1, 1, 1, 1, 1, 1, 1, 1, 1, 1, 1, 1, 1, 1, 1, 1, 1, 1, 1, 1, 1, 1, 1, 1, 1, 1, 1, 1, 1, 1, 1, 1, 1, 1, 1, 1, 1, 1, 1, 1, 1, 1, 1, 1, 1, 1, 1, 1, 1, 1, 1, 1, 1, 1]\n",
      "\n",
      "  What is your point?\n",
      "\n",
      "Gandhi, Mandela were non-violent, yes. Not so Ho Chi Minh. That was a bloody civil war.\n",
      "\n",
      "Sun Yat Sen? He was a revolutionary who most certainly was not non-violent. That followed the typical revolution pattern: a moderate starts it, then extremists take it from there and chaos ensues.\n",
      "\n",
      "So again, what is your point?\n",
      "  [0, 4865, 83, 935, 6275, 705, 139274, 6, 4, 145646, 3542, 351, 20, 48673, 6, 4, 72272, 6, 5, 11205, 221, 2291, 5585, 13985, 6, 5, 9925, 509, 10, 59714, 53, 9782, 1631, 6, 5, 7550, 2369, 18, 4311, 705, 1529, 509, 10, 98834, 6635, 2750, 2684, 68782, 509, 959, 351, 20, 48673, 6, 5, 9925, 134629, 70, 222201, 98834, 103510, 152, 10, 71644, 13, 4034, 7, 442, 6, 4, 7068, 21870, 64370, 5646, 442, 1295, 2685, 136, 156059, 22, 1159, 90, 6, 5, 1061, 13438, 6, 4, 2367, 83, 935, 6275, 705, 2, 1, 1, 1, 1, 1, 1, 1, 1, 1, 1, 1, 1, 1, 1, 1, 1, 1, 1, 1, 1, 1, 1, 1, 1, 1, 1, 1, 1, 1, 1, 1, 1, 1, 1]\n",
      "\n"
     ]
    },
    {
     "data": {
      "application/vnd.jupyter.widget-view+json": {
       "model_id": "f4e68e60ac034259ad6c2828c679fb25",
       "version_major": 2,
       "version_minor": 0
      },
      "text/plain": [
       "HBox(children=(FloatProgress(value=0.0, max=389561.0), HTML(value='')))"
      ]
     },
     "metadata": {},
     "output_type": "display_data"
    },
    {
     "name": "stdout",
     "output_type": "stream",
     "text": [
      "\n",
      "3 examples of right texts after tokenization:\n",
      "  Trump is only responsible for what he actually said, not how you understood and interpreted what he said. Trump never asked Russia to actively hack Hillary's emails, however that is exactly what the far left refuses to accept.\n",
      "  [0, 5879, 83, 4734, 102778, 100, 2367, 764, 20653, 2804, 6, 4, 959, 3642, 398, 217064, 136, 29481, 297, 2367, 764, 2804, 6, 5, 5879, 8306, 37170, 49002, 47, 36457, 538, 85526, 124830, 242, 91, 3340, 7, 6, 4, 49903, 450, 83, 66161, 2367, 70, 2060, 25737, 128120, 7, 47, 26946, 6, 5, 2, 1, 1, 1, 1, 1, 1, 1, 1, 1, 1, 1, 1, 1, 1, 1, 1, 1, 1, 1, 1, 1, 1, 1, 1, 1, 1, 1, 1, 1, 1, 1, 1, 1, 1, 1, 1, 1, 1, 1, 1, 1, 1, 1, 1, 1, 1, 1, 1, 1, 1, 1, 1, 1, 1, 1, 1, 1, 1, 1, 1, 1, 1, 1, 1, 1, 1, 1, 1, 1, 1, 1, 1, 1, 1]\n",
      "\n",
      "  i don't think we must talk down this prison..... it will nicely accommodate most of Zuma's family and his Executive, the Guptas, Singh, Molefe, Abrahams, Monyane and more..... and its location, ideal for the Zulu's and others from KZN who comprise so much of future inmates.... and visiting rights from the few left in Zuma's family.... there and back in the day. \n",
      "So thoughtful!!\n",
      "  [0, 17, 2301, 242, 808, 5351, 642, 8110, 22120, 7565, 903, 101085, 14594, 442, 1221, 26267, 538, 211196, 67, 2684, 111, 95973, 242, 91, 14449, 136, 1919, 130922, 6, 4, 70, 203185, 7, 6, 4, 25961, 6, 4, 101828, 2242, 6, 4, 58480, 7, 6, 4, 2501, 273, 86, 136, 1286, 14594, 136, 6863, 31913, 6, 4, 6397, 100, 70, 98545, 34, 242, 91, 136, 27060, 1295, 341, 67295, 2750, 48402, 13, 221, 5045, 111, 22690, 23, 120126, 153, 5, 136, 150080, 38109, 1295, 70, 10846, 25737, 23, 95973, 242, 91, 14449, 153, 5, 2685, 136, 4420, 23, 70, 5155, 6, 5, 1061, 17569, 7844, 6506, 2, 1, 1, 1, 1, 1, 1, 1, 1, 1, 1, 1, 1, 1, 1, 1, 1, 1, 1, 1, 1, 1]\n",
      "\n",
      "  i will take fiscal sanity from the tory scum over the economic and alt left complete ignorance on the economy and fiscal insanity of the left scum  anytime\n",
      "  [0, 17, 1221, 5646, 23991, 112243, 53, 1295, 70, 6, 31667, 91, 10591, 645, 70, 25313, 136, 2641, 25737, 28484, 80523, 3956, 98, 70, 111503, 136, 23991, 8371, 2481, 111, 70, 25737, 91, 10591, 2499, 6032, 2, 1, 1, 1, 1, 1, 1, 1, 1, 1, 1, 1, 1, 1, 1, 1, 1, 1, 1, 1, 1, 1, 1, 1, 1, 1, 1, 1, 1, 1, 1, 1, 1, 1, 1, 1, 1, 1, 1, 1, 1, 1, 1, 1, 1, 1, 1, 1, 1, 1, 1, 1, 1, 1, 1, 1, 1, 1, 1, 1, 1, 1, 1, 1, 1, 1, 1, 1, 1, 1, 1, 1, 1, 1, 1, 1, 1, 1, 1, 1, 1, 1, 1, 1, 1, 1, 1, 1, 1, 1, 1, 1]\n",
      "\n",
      "Number of positive siamese samples is 250000 from 389561.\n"
     ]
    }
   ],
   "source": [
    "dataset_for_training, n_batches_per_data = build_siamese_dataset(\n",
    "    texts=corpus_for_training, dataset_size=500000,\n",
    "    tokenizer=xlmroberta_tokenizer, maxlen=max_seq_len,\n",
    "    batch_size=batch_size_for_siamese, shuffle=True\n",
    ")"
   ]
  },
  {
   "cell_type": "markdown",
   "metadata": {
    "papermill": {
     "duration": 0.107443,
     "end_time": "2021-03-11T09:24:01.162981",
     "exception": false,
     "start_time": "2021-03-11T09:24:01.055538",
     "status": "completed"
    },
    "tags": []
   },
   "source": [
    "I prepare a dataset for the Siamese XLM-R validation during training (the number of labeled pairs in this dataset is equal to 1000)."
   ]
  },
  {
   "cell_type": "code",
   "execution_count": 33,
   "metadata": {
    "execution": {
     "iopub.execute_input": "2021-03-11T09:24:01.408312Z",
     "iopub.status.busy": "2021-03-11T09:24:01.397947Z",
     "iopub.status.idle": "2021-03-11T09:24:06.606844Z",
     "shell.execute_reply": "2021-03-11T09:24:06.606402Z"
    },
    "papermill": {
     "duration": 5.335138,
     "end_time": "2021-03-11T09:24:06.606949",
     "exception": false,
     "start_time": "2021-03-11T09:24:01.271811",
     "status": "completed"
    },
    "tags": []
   },
   "outputs": [
    {
     "name": "stdout",
     "output_type": "stream",
     "text": [
      "Possible language pairs are: [('en', 'en')].\n",
      "en-en:\n",
      "  number of \"1-1\" pairs is 250;\n",
      "  number of \"0-0\" pairs is 250;\n",
      "  number of \"0-1\" or \"1-0\" pairs is 500.\n",
      "Samples number of the data set is 1000.\n",
      "Samples number per each language pair is 1000.\n"
     ]
    },
    {
     "data": {
      "application/vnd.jupyter.widget-view+json": {
       "model_id": "ee718c8d1dce4ff298b725d332e449fd",
       "version_major": 2,
       "version_minor": 0
      },
      "text/plain": [
       "HBox(children=(FloatProgress(value=0.0, max=1000.0), HTML(value='')))"
      ]
     },
     "metadata": {},
     "output_type": "display_data"
    },
    {
     "name": "stdout",
     "output_type": "stream",
     "text": [
      "\n",
      "\n",
      "3 examples of left texts after tokenization:\n",
      "  AlwaysThere: I appreciate that you offer your ideas. I do wonder if some religious people think they are their ideas or ideas as God has spoken to them. Where do your thoughts come from?\n",
      "First, \"God is the creator of morality\". I am not sure all Christians think that, but then some would say, they are not Christians. That seems circular. But the main point is the notion that God has a corner on right and wrong. This gets into free will. \n",
      "As far as society falling into nihilism and chaos as we see now, people have been saying that for centuries. I guess one could say we are always falling, but we seem to get back up. \n",
      "It appears you are questioning the legitimacy of Gary's comment about Trump as just opinion. But maybe God spoke to him in God's own way. \n",
      "The last part about never having access to truth unless one is born of the spirit is veiled superiority, which I am not attacking. But I believe that we are given the gift of reason, which is furthered by education, not conversion.\n",
      "  [0, 203623, 116959, 152, 87, 77947, 450, 398, 18645, 935, 25647, 6, 5, 87, 54, 32195, 2174, 3060, 167821, 3395, 5351, 1836, 621, 2363, 25647, 707, 25647, 237, 3430, 1556, 113091, 19, 47, 2856, 6, 5, 78662, 54, 935, 38514, 1380, 1295, 705, 23972, 6, 4, 44, 3430, 83, 70, 179505, 111, 14392, 2481, 44, 5, 87, 444, 959, 9077, 756, 14949, 7, 5351, 450, 6, 4, 1284, 7068, 3060, 2806, 5154, 6, 4, 1836, 621, 959, 14949, 7, 6, 5, 9925, 37202, 115339, 6, 5, 4966, 70, 5201, 6275, 83, 70, 110, 1363, 450, 3430, 1556, 10, 107767, 98, 7108, 136, 44691, 6, 5, 3293, 62163, 3934, 4092, 1221, 6, 5, 1301, 2060, 237, 100510, 6817, 214, 3934, 25370, 8780, 136, 156059, 237, 642, 1957, 5036, 6]\n",
      "\n",
      "  Yes, People STILL use Checks. And the Problem is what? Credit/Debit Card Fraud is also\n",
      "on the Gangsters 'List'. Every Day somewhere and anywhere. If you have an Idea for a \n",
      "100% total secure way concerning Money. Let's hear it.\n",
      "  [0, 32635, 6, 4, 41021, 16992, 57912, 4527, 38679, 7, 6, 5, 3493, 70, 15649, 83, 2367, 705, 68021, 248, 262, 3137, 23660, 28519, 71, 83, 2843, 98, 70, 46294, 37499, 242, 32036, 242, 5, 87769, 10013, 174653, 136, 151107, 6, 5, 4263, 398, 765, 142, 77298, 100, 10, 805, 1745, 3622, 111670, 3917, 50509, 214, 81669, 6, 5, 10842, 242, 91, 36802, 442, 6, 5, 2, 1, 1, 1, 1, 1, 1, 1, 1, 1, 1, 1, 1, 1, 1, 1, 1, 1, 1, 1, 1, 1, 1, 1, 1, 1, 1, 1, 1, 1, 1, 1, 1, 1, 1, 1, 1, 1, 1, 1, 1, 1, 1, 1, 1, 1, 1, 1, 1, 1, 1, 1, 1, 1, 1, 1, 1, 1, 1, 1, 1, 1]\n",
      "\n",
      "  Ok..You had me at Charles Djou's idea to have recipients of housing vouchers be mandated to save money to buy a house. Where does he live ?  No really, what city is he referring to ? Honolulu. I am literally rolling-on-the-floor-laughing-my-(unmentionable )-off. Ludicrous.\n",
      "  [0, 9972, 1468, 2583, 1902, 163, 99, 28166, 391, 50683, 242, 91, 6528, 47, 765, 134003, 7, 111, 185517, 127568, 7, 186, 20777, 297, 47, 30098, 17265, 47, 22113, 10, 18276, 6, 5, 78662, 14602, 764, 6867, 705, 438, 6183, 6, 4, 2367, 26349, 83, 764, 15005, 2852, 47, 705, 13015, 31, 88856, 6, 5, 87, 444, 218500, 21972, 214, 20, 98, 20, 70, 20, 74912, 20, 94518, 214, 20, 759, 20, 132, 51, 674, 1830, 2886, 1388, 9, 5773, 6, 5, 49513, 14, 15322, 223, 6, 5, 2, 1, 1, 1, 1, 1, 1, 1, 1, 1, 1, 1, 1, 1, 1, 1, 1, 1, 1, 1, 1, 1, 1, 1, 1, 1, 1, 1, 1, 1, 1, 1, 1, 1, 1, 1, 1, 1, 1, 1]\n",
      "\n"
     ]
    },
    {
     "data": {
      "application/vnd.jupyter.widget-view+json": {
       "model_id": "36703d1e4b40486791e40d7ed9630ae2",
       "version_major": 2,
       "version_minor": 0
      },
      "text/plain": [
       "HBox(children=(FloatProgress(value=0.0, max=1000.0), HTML(value='')))"
      ]
     },
     "metadata": {},
     "output_type": "display_data"
    },
    {
     "name": "stdout",
     "output_type": "stream",
     "text": [
      "\n",
      "3 examples of right texts after tokenization:\n",
      "  Dion has strength and moxy and integrity and the courage of his principles. He had the guts to try to do something about climate change when everyone else either had their finger in the wind, or actively opposed it. I greatly admire him. I wish him great success in his further endeavours.\n",
      "  [0, 803, 191, 1556, 90254, 136, 347, 76634, 136, 9114, 2481, 136, 70, 116252, 111, 1919, 24702, 1577, 6, 5, 1529, 1902, 70, 5768, 7, 47, 9790, 47, 54, 9844, 1672, 153552, 15549, 3229, 30309, 37076, 40101, 1902, 2363, 51287, 23, 70, 32382, 6, 4, 707, 36457, 538, 233, 144429, 442, 6, 5, 87, 6782, 538, 73275, 13, 4049, 6, 5, 87, 32599, 4049, 6782, 36272, 23, 1919, 53333, 28117, 141775, 7, 6, 5, 2, 1, 1, 1, 1, 1, 1, 1, 1, 1, 1, 1, 1, 1, 1, 1, 1, 1, 1, 1, 1, 1, 1, 1, 1, 1, 1, 1, 1, 1, 1, 1, 1, 1, 1, 1, 1, 1, 1, 1, 1, 1, 1, 1, 1, 1, 1, 1, 1, 1, 1, 1, 1, 1]\n",
      "\n",
      "  So you must have voted for Harper because he was cute? Is that how it works, or is it only silly little women who vote on looks?\n",
      "  [0, 1061, 398, 8110, 765, 43374, 71, 100, 1950, 1264, 6637, 764, 509, 99942, 705, 2071, 450, 3642, 442, 43240, 6, 4, 707, 83, 442, 4734, 78, 12097, 10176, 24793, 2750, 43374, 98, 33342, 705, 2, 1, 1, 1, 1, 1, 1, 1, 1, 1, 1, 1, 1, 1, 1, 1, 1, 1, 1, 1, 1, 1, 1, 1, 1, 1, 1, 1, 1, 1, 1, 1, 1, 1, 1, 1, 1, 1, 1, 1, 1, 1, 1, 1, 1, 1, 1, 1, 1, 1, 1, 1, 1, 1, 1, 1, 1, 1, 1, 1, 1, 1, 1, 1, 1, 1, 1, 1, 1, 1, 1, 1, 1, 1, 1, 1, 1, 1, 1, 1, 1, 1, 1, 1, 1, 1, 1, 1, 1, 1, 1, 1, 1]\n",
      "\n",
      "  What? Silly false equivalence.\n",
      "  [0, 4865, 705, 602, 12097, 98320, 224743, 3956, 6, 5, 2, 1, 1, 1, 1, 1, 1, 1, 1, 1, 1, 1, 1, 1, 1, 1, 1, 1, 1, 1, 1, 1, 1, 1, 1, 1, 1, 1, 1, 1, 1, 1, 1, 1, 1, 1, 1, 1, 1, 1, 1, 1, 1, 1, 1, 1, 1, 1, 1, 1, 1, 1, 1, 1, 1, 1, 1, 1, 1, 1, 1, 1, 1, 1, 1, 1, 1, 1, 1, 1, 1, 1, 1, 1, 1, 1, 1, 1, 1, 1, 1, 1, 1, 1, 1, 1, 1, 1, 1, 1, 1, 1, 1, 1, 1, 1, 1, 1, 1, 1, 1, 1, 1, 1, 1, 1, 1, 1, 1, 1, 1, 1, 1, 1, 1, 1, 1, 1]\n",
      "\n",
      "Number of positive siamese samples is 500 from 1000.\n"
     ]
    }
   ],
   "source": [
    "dataset_for_validation, n_batches_per_epoch = build_siamese_dataset(\n",
    "    texts=corpus_for_validation, dataset_size=1000,\n",
    "    tokenizer=xlmroberta_tokenizer, maxlen=max_seq_len,\n",
    "    batch_size=batch_size_for_siamese, shuffle=False\n",
    ")"
   ]
  },
  {
   "cell_type": "markdown",
   "metadata": {
    "papermill": {
     "duration": 0.109589,
     "end_time": "2021-03-11T09:24:06.827036",
     "exception": false,
     "start_time": "2021-03-11T09:24:06.717447",
     "status": "completed"
    },
    "tags": []
   },
   "source": [
    "I specify optimal number of steps (mini-batches) per single training epoch as value which is less than full number of mini-batches in the training data, because waiting for full training set processing per epoch is not rational."
   ]
  },
  {
   "cell_type": "code",
   "execution_count": 34,
   "metadata": {
    "execution": {
     "iopub.execute_input": "2021-03-11T09:24:07.050850Z",
     "iopub.status.busy": "2021-03-11T09:24:07.050217Z",
     "iopub.status.idle": "2021-03-11T09:24:07.053138Z",
     "shell.execute_reply": "2021-03-11T09:24:07.053556Z"
    },
    "papermill": {
     "duration": 0.117215,
     "end_time": "2021-03-11T09:24:07.053660",
     "exception": false,
     "start_time": "2021-03-11T09:24:06.936445",
     "status": "completed"
    },
    "tags": []
   },
   "outputs": [
    {
     "name": "stdout",
     "output_type": "stream",
     "text": [
      "Number of steps (mini-batches) per single epoch is 620.\n"
     ]
    }
   ],
   "source": [
    "steps_per_single_epoch = min(20 * n_batches_per_epoch, n_batches_per_data)\n",
    "print('Number of steps (mini-batches) per single epoch is {0}.'.format(\n",
    "    steps_per_single_epoch\n",
    "))"
   ]
  },
  {
   "cell_type": "markdown",
   "metadata": {
    "papermill": {
     "duration": 0.109315,
     "end_time": "2021-03-11T09:24:07.272734",
     "exception": false,
     "start_time": "2021-03-11T09:24:07.163419",
     "status": "completed"
    },
    "tags": []
   },
   "source": [
    "I delete all data which becomes unnecessary and call the garbage collector."
   ]
  },
  {
   "cell_type": "code",
   "execution_count": 35,
   "metadata": {
    "execution": {
     "iopub.execute_input": "2021-03-11T09:24:08.356009Z",
     "iopub.status.busy": "2021-03-11T09:24:08.348383Z",
     "iopub.status.idle": "2021-03-11T09:24:08.360051Z",
     "shell.execute_reply": "2021-03-11T09:24:08.360506Z"
    },
    "papermill": {
     "duration": 0.979275,
     "end_time": "2021-03-11T09:24:08.360630",
     "exception": false,
     "start_time": "2021-03-11T09:24:07.381355",
     "status": "completed"
    },
    "tags": []
   },
   "outputs": [
    {
     "data": {
      "text/plain": [
       "48"
      ]
     },
     "execution_count": 35,
     "metadata": {},
     "output_type": "execute_result"
    }
   ],
   "source": [
    "del corpus_for_training, corpus_for_validation\n",
    "gc.collect()"
   ]
  },
  {
   "cell_type": "markdown",
   "metadata": {
    "papermill": {
     "duration": 0.110074,
     "end_time": "2021-03-11T09:24:08.581399",
     "exception": false,
     "start_time": "2021-03-11T09:24:08.471325",
     "status": "completed"
    },
    "tags": []
   },
   "source": [
    "I fix the duration of all preparing procedures, implemented in the abovementioned code."
   ]
  },
  {
   "cell_type": "code",
   "execution_count": 36,
   "metadata": {
    "execution": {
     "iopub.execute_input": "2021-03-11T09:24:08.819220Z",
     "iopub.status.busy": "2021-03-11T09:24:08.817470Z",
     "iopub.status.idle": "2021-03-11T09:24:08.821055Z",
     "shell.execute_reply": "2021-03-11T09:24:08.820597Z"
    },
    "papermill": {
     "duration": 0.130144,
     "end_time": "2021-03-11T09:24:08.821156",
     "exception": false,
     "start_time": "2021-03-11T09:24:08.691012",
     "status": "completed"
    },
    "tags": []
   },
   "outputs": [
    {
     "name": "stdout",
     "output_type": "stream",
     "text": [
      "Duration of data loading and preparing to the Siamese NN training is 1692 seconds.\n"
     ]
    }
   ],
   "source": [
    "preparing_end_time = time.time()\n",
    "preparing_duration = int(round(preparing_end_time - experiment_start_time))\n",
    "print(\"Duration of data loading and preparing to the Siamese NN training is \"\n",
    "      \"{0} seconds.\".format(preparing_duration))"
   ]
  },
  {
   "cell_type": "markdown",
   "metadata": {
    "papermill": {
     "duration": 0.111125,
     "end_time": "2021-03-11T09:24:09.042737",
     "exception": false,
     "start_time": "2021-03-11T09:24:08.931612",
     "status": "completed"
    },
    "tags": []
   },
   "source": [
    "I build the Siamese XLM-R."
   ]
  },
  {
   "cell_type": "code",
   "execution_count": 37,
   "metadata": {
    "execution": {
     "iopub.execute_input": "2021-03-11T09:24:09.271357Z",
     "iopub.status.busy": "2021-03-11T09:24:09.270831Z",
     "iopub.status.idle": "2021-03-11T09:25:09.835523Z",
     "shell.execute_reply": "2021-03-11T09:25:09.835953Z"
    },
    "papermill": {
     "duration": 60.682706,
     "end_time": "2021-03-11T09:25:09.836103",
     "exception": false,
     "start_time": "2021-03-11T09:24:09.153397",
     "status": "completed"
    },
    "tags": []
   },
   "outputs": [
    {
     "data": {
      "application/vnd.jupyter.widget-view+json": {
       "model_id": "97e1caf20fbb41908c363778e2ca7680",
       "version_major": 2,
       "version_minor": 0
      },
      "text/plain": [
       "HBox(children=(FloatProgress(value=0.0, description='Downloading', max=1885418496.0, style=ProgressStyle(descr…"
      ]
     },
     "metadata": {},
     "output_type": "display_data"
    },
    {
     "name": "stdout",
     "output_type": "stream",
     "text": [
      "\n"
     ]
    },
    {
     "name": "stderr",
     "output_type": "stream",
     "text": [
      "Some layers from the model checkpoint at jplu/tf-xlm-roberta-base were not used when initializing TFXLMRobertaModel: ['lm_head']\n",
      "- This IS expected if you are initializing TFXLMRobertaModel from the checkpoint of a model trained on another task or with another architecture (e.g. initializing a BertForSequenceClassification model from a BertForPretraining model).\n",
      "- This IS NOT expected if you are initializing TFXLMRobertaModel from the checkpoint of a model that you expect to be exactly identical (initializing a BertForSequenceClassification model from a BertForSequenceClassification model).\n",
      "All the layers of TFXLMRobertaModel were initialized from the model checkpoint at jplu/tf-xlm-roberta-base.\n",
      "If your task is similar to the task the model of the checkpoint was trained on, you can already use TFXLMRobertaModel for predictions without further training.\n"
     ]
    },
    {
     "name": "stdout",
     "output_type": "stream",
     "text": [
      "Model: \"FeatureExtractor\"\n",
      "__________________________________________________________________________________________________\n",
      "Layer (type)                    Output Shape         Param #     Connected to                     \n",
      "==================================================================================================\n",
      "base_word_ids_FE (InputLayer)   [(None, 128)]        0                                            \n",
      "__________________________________________________________________________________________________\n",
      "base_attention_mask_FE (Attenti (None, 128)          0           base_word_ids_FE[0][0]           \n",
      "__________________________________________________________________________________________________\n",
      "Transformer (TFXLMRobertaModel) ((None, 128, 768), ( 278043648   base_word_ids_FE[0][0]           \n",
      "                                                                 base_attention_mask_FE[0][0]     \n",
      "__________________________________________________________________________________________________\n",
      "tf_op_layer_Cast (TensorFlowOpL multiple             0           base_attention_mask_FE[0][0]     \n",
      "__________________________________________________________________________________________________\n",
      "AvePool_FE (GlobalAveragePoolin (None, 768)          0           Transformer[0][0]                \n",
      "                                                                 tf_op_layer_Cast[0][0]           \n",
      "__________________________________________________________________________________________________\n",
      "Emdedding_FE (LayerNormalizatio (None, 768)          1536        AvePool_FE[0][0]                 \n",
      "==================================================================================================\n",
      "Total params: 278,045,184\n",
      "Trainable params: 278,045,184\n",
      "Non-trainable params: 0\n",
      "__________________________________________________________________________________________________\n",
      "\n",
      "Model: \"SiameseXLMR\"\n",
      "__________________________________________________________________________________________________\n",
      "Layer (type)                    Output Shape         Param #     Connected to                     \n",
      "==================================================================================================\n",
      "left_word_ids (InputLayer)      [(None, 128)]        0                                            \n",
      "__________________________________________________________________________________________________\n",
      "right_word_ids (InputLayer)     [(None, 128)]        0                                            \n",
      "__________________________________________________________________________________________________\n",
      "FeatureExtractor (Functional)   (None, 768)          278045184   left_word_ids[0][0]              \n",
      "                                                                 right_word_ids[0][0]             \n",
      "__________________________________________________________________________________________________\n",
      "L2DistLayer (Lambda)            (None, 1)            0           FeatureExtractor[0][0]           \n",
      "                                                                 FeatureExtractor[1][0]           \n",
      "==================================================================================================\n",
      "Total params: 278,045,184\n",
      "Trainable params: 278,045,184\n",
      "Non-trainable params: 0\n",
      "__________________________________________________________________________________________________\n"
     ]
    }
   ],
   "source": [
    "with strategy.scope():\n",
    "    siamese_network, feature_extractor = build_siamese_nn(\n",
    "        transformer_name=model_name,\n",
    "        max_len=max_seq_len,\n",
    "        padding=xlmroberta_tokenizer.pad_token_id,\n",
    "        stepsize=steps_per_single_epoch\n",
    "    )"
   ]
  },
  {
   "cell_type": "markdown",
   "metadata": {
    "papermill": {
     "duration": 0.113133,
     "end_time": "2021-03-11T09:25:10.061806",
     "exception": false,
     "start_time": "2021-03-11T09:25:09.948673",
     "status": "completed"
    },
    "tags": []
   },
   "source": [
    "I calculate the featured training set for the final classifier using an untrained XLM-R-based feature extractor. In reality, these data need not for any classifier training, but they need for their 2d projections representation."
   ]
  },
  {
   "cell_type": "code",
   "execution_count": 38,
   "metadata": {
    "execution": {
     "iopub.execute_input": "2021-03-11T09:25:10.311212Z",
     "iopub.status.busy": "2021-03-11T09:25:10.310364Z",
     "iopub.status.idle": "2021-03-11T09:26:33.201973Z",
     "shell.execute_reply": "2021-03-11T09:26:33.201511Z"
    },
    "papermill": {
     "duration": 83.027693,
     "end_time": "2021-03-11T09:26:33.202074",
     "exception": false,
     "start_time": "2021-03-11T09:25:10.174381",
     "status": "completed"
    },
    "tags": []
   },
   "outputs": [
    {
     "name": "stdout",
     "output_type": "stream",
     "text": [
      "Number of languages is 4.\n",
      "\n",
      "Language \"en\": featurizing is started.\n",
      "Number of texts is 3000.\n"
     ]
    },
    {
     "data": {
      "application/vnd.jupyter.widget-view+json": {
       "model_id": "834a6e978c69430490f539e0046616bf",
       "version_major": 2,
       "version_minor": 0
      },
      "text/plain": [
       "HBox(children=(FloatProgress(value=0.0, max=3000.0), HTML(value='')))"
      ]
     },
     "metadata": {},
     "output_type": "display_data"
    },
    {
     "name": "stdout",
     "output_type": "stream",
     "text": [
      "\n",
      "\n",
      "3 examples of texts after tokenization:\n",
      "  See what Dr. Fred Baughman had to say about druggin military personell, and how they dont die from suicide they die from a combination of antipsychotics  in combination with antidepressants. They die in their sleep from cardiac arrest. See what Dr. BREGGIN HAS TO SAY. ALSO dr. BREGGINS NEW BOOK IS ALL ABOUT PSTCHIATRIC DRUG WITHDRAWAL,\n",
      "  [0, 6872, 2367, 1773, 6, 5, 47192, 1853, 58968, 669, 1902, 47, 5154, 1672, 48683, 6820, 116338, 6, 216039, 6, 4, 136, 3642, 1836, 13319, 68, 1295, 193341, 1836, 68, 1295, 10, 162515, 111, 2874, 51775, 3089, 41637, 23, 162515, 678, 2874, 112, 11856, 10840, 6, 5, 10660, 68, 23, 2363, 60268, 1295, 165441, 34784, 6, 5, 6872, 2367, 1773, 6, 5, 335, 153189, 108526, 6, 101413, 9926, 153857, 6, 5, 9804, 13055, 3568, 6, 5, 6, 51722, 46754, 85717, 80111, 6, 158617, 15744, 58837, 11321, 52001, 436, 8545, 50620, 14609, 110804, 391, 197181, 55766, 23415, 100987, 135824, 6, 4, 2, 1, 1, 1, 1, 1, 1, 1, 1, 1, 1, 1, 1, 1, 1, 1, 1, 1, 1, 1, 1, 1, 1, 1, 1, 1, 1, 1]\n",
      "\n",
      "  Comprehensive sex education is the best way, nay, the ONLY way, to reduce the total number of abortions. If you don't agree with that, you're willfully ignorant, which is even worse than being openly deceptive, which you also are. People like Jim Minnery are an embarrassment to Alaska.\n",
      "  [0, 142158, 3220, 29888, 1100, 53019, 83, 70, 2965, 3917, 6, 4, 7630, 6, 4, 70, 29197, 19917, 3917, 6, 4, 47, 34390, 70, 3622, 14012, 111, 64853, 17514, 6, 5, 4263, 398, 2301, 242, 808, 53520, 678, 450, 6, 4, 398, 242, 456, 1221, 126351, 169095, 6, 4, 3129, 83, 3853, 124632, 3501, 8035, 9803, 538, 8, 16615, 4935, 6, 4, 3129, 398, 2843, 621, 6, 5, 41021, 1884, 41994, 4211, 1679, 53, 621, 142, 352, 88500, 7, 7, 674, 47, 168064, 6, 5, 2, 1, 1, 1, 1, 1, 1, 1, 1, 1, 1, 1, 1, 1, 1, 1, 1, 1, 1, 1, 1, 1, 1, 1, 1, 1, 1, 1, 1, 1, 1, 1, 1, 1, 1, 1, 1, 1, 1, 1, 1, 1, 1]\n",
      "\n",
      "  What do you think happens when demand increases and supply stays the same?  (prices rise, its called inflation)  What is your answer?  More highways?\n",
      "\n",
      "Fact remains Oahu has a major problem when it comes to mobility.  The mayor has tried to address this with mass transit and bike lanes but what would you do?  It is always easy to be so negative and critical but what would you do?  I suggest anything you would propose would just maike the situation worse.  We really need to just get the system built.\n",
      "  [0, 4865, 54, 398, 5351, 96276, 3229, 35968, 51312, 7, 136, 100677, 24765, 7, 70, 5701, 705, 15, 112034, 6, 58944, 6, 4, 6863, 35839, 41036, 1363, 1388, 4865, 83, 935, 35166, 705, 5455, 11192, 102966, 705, 132640, 47143, 7, 180, 52032, 1556, 10, 13036, 2967, 3229, 442, 32497, 47, 3268, 2481, 6, 5, 581, 15333, 1556, 37842, 47, 29823, 903, 678, 46889, 62621, 136, 15528, 21, 1444, 1284, 2367, 2806, 398, 54, 705, 1650, 83, 11343, 23468, 47, 186, 221, 40907, 136, 130306, 1284, 2367, 2806, 398, 54, 705, 87, 42459, 23937, 398, 2806, 26171, 2806, 1660, 409, 350, 70, 16648, 124632, 6, 5, 1401, 6183, 3871, 47, 1660, 2046, 70, 5426, 88303, 6, 5, 2, 1, 1, 1, 1, 1, 1, 1, 1, 1, 1, 1]\n",
      "\n",
      "  10% of texts are featured.\n",
      "  20% of texts are featured.\n",
      "  30% of texts are featured.\n",
      "  40% of texts are featured.\n",
      "  50% of texts are featured.\n",
      "  60% of texts are featured.\n",
      "  70% of texts are featured.\n",
      "  80% of texts are featured.\n",
      "  90% of texts are featured.\n",
      "  100% of texts are featured.\n",
      "Language \"en\": featurizing is finished.\n",
      "\n",
      "Language \"es\": featurizing is started.\n",
      "Number of texts is 2500.\n"
     ]
    },
    {
     "data": {
      "application/vnd.jupyter.widget-view+json": {
       "model_id": "9ab058b83682439a8b4028e6fc6c5095",
       "version_major": 2,
       "version_minor": 0
      },
      "text/plain": [
       "HBox(children=(FloatProgress(value=0.0, max=2500.0), HTML(value='')))"
      ]
     },
     "metadata": {},
     "output_type": "display_data"
    },
    {
     "name": "stdout",
     "output_type": "stream",
     "text": [
      "\n",
      "\n",
      "3 examples of texts after tokenization:\n",
      "  Se ha renombrado esta cuenta como parte de la finalización de la cuenta de acceso unificada. Si esta cuenta le pertenece, entonces puede ingresar utilizando su nombre de usuario y contraseña anteriores para obtener más información. Si no le gusta el nuevo nombre de la cuenta, puede elegir el que desee con este formulario después de ingresar: . Keegan (WMF) (discusión) 10:17 21 abr 2015 (UTC)\n",
      "  [0, 503, 256, 102545, 2844, 246, 1642, 9472, 533, 1235, 8, 21, 2704, 11313, 8, 21, 9472, 8, 24611, 75, 81332, 85, 6, 5, 602, 1642, 9472, 95, 190653, 6, 4, 58333, 5171, 23, 17562, 147, 47352, 166, 11610, 8, 54367, 113, 234293, 53675, 121, 68367, 1005, 6693, 6, 5, 602, 110, 95, 16057, 88, 16386, 11610, 8, 21, 9472, 6, 4, 5171, 101091, 88, 41, 8, 21231, 158, 473, 105584, 20034, 8, 23, 17562, 147, 152, 6, 5, 1345, 13, 1972, 15, 601, 65692, 1388, 15, 209126, 1388, 209, 152, 729, 952, 10, 3267, 918, 15, 99577, 1388, 2, 1, 1, 1, 1, 1, 1, 1, 1, 1, 1, 1, 1, 1, 1, 1, 1, 1, 1, 1, 1, 1, 1, 1, 1, 1, 1, 1, 1]\n",
      "\n",
      "  Se ha dado una serie de casos en facebook cual la señorita Gomez tiene fans Homosexuales pues las chicas estas tienen fantasias sexuales con su idola, el punto es? la señorita gomez acepta la homosexualidad?\n",
      "  [0, 503, 256, 40196, 220, 6432, 8, 16728, 22, 10899, 17472, 21, 75013, 913, 187696, 5904, 35992, 58479, 91153, 90, 33007, 576, 87904, 7, 1397, 17432, 122645, 7, 17688, 90, 158, 166, 102728, 11, 6, 4, 88, 8400, 198, 705, 21, 75013, 913, 738, 11723, 96936, 21, 161211, 3812, 705, 2, 1, 1, 1, 1, 1, 1, 1, 1, 1, 1, 1, 1, 1, 1, 1, 1, 1, 1, 1, 1, 1, 1, 1, 1, 1, 1, 1, 1, 1, 1, 1, 1, 1, 1, 1, 1, 1, 1, 1, 1, 1, 1, 1, 1, 1, 1, 1, 1, 1, 1, 1, 1, 1, 1, 1, 1, 1, 1, 1, 1, 1, 1, 1, 1, 1, 1, 1, 1, 1, 1, 1, 1, 1, 1, 1, 1, 1]\n",
      "\n",
      "  Ya te vi que andas al pendiente condenadote, en este momento ando en mi  descanzo  ¿descanzo?, bueno, es un decir    El BetoCG    -      ¿decías?      18:03 22 jun 2008 (UTC)\n",
      "  [0, 2369, 120, 279, 41, 1565, 7, 144, 170924, 176805, 67, 6, 4, 22, 473, 3594, 136, 31, 22, 324, 224, 4398, 1158, 3936, 224, 4398, 1158, 705, 4, 53834, 6, 4, 198, 51, 19187, 540, 873, 188, 56367, 20, 3936, 8, 41054, 7, 705, 543, 152, 5098, 1039, 27022, 2021, 15, 99577, 1388, 2, 1, 1, 1, 1, 1, 1, 1, 1, 1, 1, 1, 1, 1, 1, 1, 1, 1, 1, 1, 1, 1, 1, 1, 1, 1, 1, 1, 1, 1, 1, 1, 1, 1, 1, 1, 1, 1, 1, 1, 1, 1, 1, 1, 1, 1, 1, 1, 1, 1, 1, 1, 1, 1, 1, 1, 1, 1, 1, 1, 1, 1, 1, 1, 1, 1, 1, 1, 1, 1, 1, 1, 1, 1]\n",
      "\n",
      "  10% of texts are featured.\n",
      "  20% of texts are featured.\n",
      "  30% of texts are featured.\n",
      "  40% of texts are featured.\n",
      "  50% of texts are featured.\n",
      "  60% of texts are featured.\n",
      "  70% of texts are featured.\n",
      "  80% of texts are featured.\n",
      "  90% of texts are featured.\n",
      "  100% of texts are featured.\n",
      "Language \"es\": featurizing is finished.\n",
      "\n",
      "Language \"it\": featurizing is started.\n",
      "Number of texts is 2500.\n"
     ]
    },
    {
     "data": {
      "application/vnd.jupyter.widget-view+json": {
       "model_id": "3adcb7e02b9b42ddb5e6cf37706fa038",
       "version_major": 2,
       "version_minor": 0
      },
      "text/plain": [
       "HBox(children=(FloatProgress(value=0.0, max=2500.0), HTML(value='')))"
      ]
     },
     "metadata": {},
     "output_type": "display_data"
    },
    {
     "name": "stdout",
     "output_type": "stream",
     "text": [
      "\n",
      "\n",
      "3 examples of texts after tokenization:\n",
      "  Grazie per aver migliorato i miei stub di pesci e molluschi. Mi sono avventurato nella classificazione, ma non sono affatto esperto in materia. Li ho inseriti principalmente per motivi   gastronomici  . Un saluto, Guarracino (msg)\n",
      "  [0, 49746, 117, 18405, 167354, 188, 17, 64884, 6, 136057, 45, 22973, 318, 28, 931, 72994, 1861, 6, 5, 1208, 1389, 6, 186065, 188, 3578, 40865, 1782, 6, 4, 291, 351, 1389, 39109, 45430, 200771, 23, 17295, 6, 5, 1261, 739, 28046, 1890, 32649, 117, 81608, 59975, 318, 6, 5, 992, 26913, 31, 6, 4, 6955, 19305, 44924, 15, 68163, 177, 1388, 2, 1, 1, 1, 1, 1, 1, 1, 1, 1, 1, 1, 1, 1, 1, 1, 1, 1, 1, 1, 1, 1, 1, 1, 1, 1, 1, 1, 1, 1, 1, 1, 1, 1, 1, 1, 1, 1, 1, 1, 1, 1, 1, 1, 1, 1, 1, 1, 1, 1, 1, 1, 1, 1, 1, 1, 1, 1, 1, 1, 1, 1, 1, 1, 1, 1]\n",
      "\n",
      "  Quella frase era già presente nell articolo prima che lo modificassi, come faccio a sapere da dove l hanno presa gli altri utenti? No, non sono così stupido da copiare da PubMed.Lunar Eclipse (msg)\n",
      "  [0, 48556, 143, 66709, 1615, 9645, 8121, 10076, 82059, 2829, 290, 459, 24367, 12551, 6, 4, 1380, 146674, 10, 57656, 48, 7543, 96, 5662, 33387, 1978, 11346, 59083, 705, 438, 6, 4, 351, 1389, 10499, 110833, 31, 48, 41625, 107, 48, 105269, 71721, 6, 5, 42873, 42, 234962, 15, 68163, 177, 1388, 2, 1, 1, 1, 1, 1, 1, 1, 1, 1, 1, 1, 1, 1, 1, 1, 1, 1, 1, 1, 1, 1, 1, 1, 1, 1, 1, 1, 1, 1, 1, 1, 1, 1, 1, 1, 1, 1, 1, 1, 1, 1, 1, 1, 1, 1, 1, 1, 1, 1, 1, 1, 1, 1, 1, 1, 1, 1, 1, 1, 1, 1, 1, 1, 1, 1, 1, 1, 1, 1, 1, 1, 1, 1, 1, 1]\n",
      "\n",
      "  Ciao, I tecnici della Wikimedia Foundation stanno modificando il funzionamento delle utenze. Ciò fa parte dei nostri continui sforzi per fornire nuovi e migliori strumenti ai nostri utenti, come le notifiche interwiki. Di conseguenza, ogni utente avrà lo stesso nome utente su tutti i progetti. Ciò renderà possibili nuove funzioni per modificare e discutere meglio, nonché permessi utente più flessibili. In particolare, i nomi utente dovranno ora essere univoci in tutti i 900 progetti Wikimedia. Per maggiori informazioni, leggi l annuncio. Sfortunatamente, un altra persona usa il tuo nome utente,  Zaakir , altrove. Per essere sicuri che in futuro entrambi possiate contribuire senza problemi ai nostri progetti, il tuo nome utente sarà cambiato in  Zaakir~itwiki . Se ti piace, non serve che tu faccia nulla; ma puoi richiedere un nome utente diverso. La tua utenza funzionerà esattamente come prima e ti saranno attribuite tutte le modifiche che hai fatto, ma dovrai usare il tuo nuovo nome utente per accedere. Ci scusiamo per il disagio. Cordialmente,Keegan PeterzellCommunity Liaison, Wikimedia\n",
      "  [0, 107786, 6, 4, 87, 142042, 832, 38998, 32807, 78827, 24367, 557, 211, 176650, 1864, 10595, 731, 6, 5, 171771, 1071, 1235, 1613, 11863, 19686, 14, 91, 2472, 708, 117, 119025, 37677, 28, 38224, 73063, 1300, 11863, 59083, 6, 4, 1380, 95, 110, 7737, 9034, 1940, 13691, 6, 5, 803, 162263, 6, 4, 7141, 6, 112902, 140237, 459, 19053, 7766, 6, 112902, 166, 4796, 17, 61811, 6, 5, 171771, 89159, 1298, 97370, 41809, 132484, 117, 63423, 13, 28, 152544, 13, 25050, 6, 4, 126932, 117, 148799, 6, 112902, 1526, 1238, 9393, 36584, 6, 5, 360, 25642, 6, 4, 17, 52904, 6, 112902, 164289, 3620, 3553, 51, 5777, 318, 23, 4796, 17, 18351, 61811, 38998, 6, 5, 908, 92391, 21970, 6, 4, 111210, 96, 6, 223402, 6, 5, 159]\n",
      "\n",
      "  10% of texts are featured.\n",
      "  20% of texts are featured.\n",
      "  30% of texts are featured.\n",
      "  40% of texts are featured.\n",
      "  50% of texts are featured.\n",
      "  60% of texts are featured.\n",
      "  70% of texts are featured.\n",
      "  80% of texts are featured.\n",
      "  90% of texts are featured.\n",
      "  100% of texts are featured.\n",
      "Language \"it\": featurizing is finished.\n",
      "\n",
      "Language \"tr\": featurizing is started.\n",
      "Number of texts is 3000.\n"
     ]
    },
    {
     "data": {
      "application/vnd.jupyter.widget-view+json": {
       "model_id": "e9ac6276f6ac4494b4ec0cbb6056f964",
       "version_major": 2,
       "version_minor": 0
      },
      "text/plain": [
       "HBox(children=(FloatProgress(value=0.0, max=3000.0), HTML(value='')))"
      ]
     },
     "metadata": {},
     "output_type": "display_data"
    },
    {
     "name": "stdout",
     "output_type": "stream",
     "text": [
      "\n",
      "\n",
      "3 examples of texts after tokenization:\n",
      "  Merhaba, Bas hatalı yönlendirilmiş, anlam ayrım sayfası yapılması doğru olur.  Bas (insan sesi)  adı bas şarkıcılar için uygun görünüyor. Bas (insan sesi) ile açmak istediğiniz maddeye başlayabilirsiniz bence. İsim değişikliği her zaman mümkün. Kolay gelsin. tema  ileti\n",
      "  [0, 120906, 6, 4, 12506, 15018, 1304, 193435, 29919, 6, 4, 83951, 21120, 39, 36902, 2540, 85262, 13074, 9209, 6, 5, 12506, 15, 8371, 54380, 1388, 26566, 4950, 71457, 58057, 1099, 20473, 171602, 6, 5, 12506, 15, 8371, 54380, 1388, 1350, 129709, 92, 118794, 88110, 1033, 3852, 157286, 145117, 6, 5, 63770, 464, 208926, 604, 3859, 25639, 6, 5, 108905, 53, 6434, 1596, 6, 5, 2644, 1350, 118, 2, 1, 1, 1, 1, 1, 1, 1, 1, 1, 1, 1, 1, 1, 1, 1, 1, 1, 1, 1, 1, 1, 1, 1, 1, 1, 1, 1, 1, 1, 1, 1, 1, 1, 1, 1, 1, 1, 1, 1, 1, 1, 1, 1, 1, 1, 1, 1, 1, 1, 1, 1, 1, 1, 1, 1, 1, 1, 1, 1]\n",
      "\n",
      "  Evet, Tokat lı olup olmadığınızı merak ettiğimden sormuştum. Memleketinizi ziyaret etmiştim; birkaç ay önce hoş bir yer, küçük, sakin lakin biraz daha alt-üst yapı sorunları halledilse Safranbolu yu anımsatır diye düşünüyorum. İleriki günlerde tekrar ziyaret etmek istiyorum. Sorum olcak demiştim; şu ki şehrin kalesi ve üzerine bir başlık açmayı düşünüyorum. Bilginiz varsa rica edecektim. -    Nebe?   viye\n",
      "  [0, 116005, 6, 4, 717, 2337, 6, 1304, 37663, 69892, 73694, 62303, 42208, 39, 555, 6217, 21154, 2555, 6, 5, 17443, 133, 3473, 44775, 28572, 40832, 5083, 2819, 79157, 537, 10395, 64907, 263, 4098, 6, 4, 38761, 6, 4, 71499, 21, 875, 35304, 1856, 2641, 20, 31803, 17917, 121724, 1870, 52835, 11971, 947, 56975, 128272, 113, 34, 142, 9984, 433, 11701, 9816, 126532, 6, 5, 4661, 1341, 301, 117983, 43212, 28572, 25194, 71685, 6, 5, 159, 4160, 4998, 20264, 8, 52902, 39, 2819, 16990, 200, 135689, 4646, 172, 173, 24803, 263, 203806, 30366, 28234, 126532, 6, 5, 79433, 16523, 50318, 43281, 65891, 5083, 6, 5, 20, 799, 372, 705, 279, 1033, 2, 1, 1, 1, 1, 1, 1, 1, 1, 1, 1, 1, 1, 1, 1, 1, 1]\n",
      "\n",
      "  Solidworks Explorer · Solidworks ve Autocad dosyalarını görüntüleme · Solidworks part dosyalarının hangi montajlarda kullanıldığını bulma · Solidworks dosyalarını indeksleme · Montaj dosyalarını etkilemeyecek şekilde part dosyalarının ismini değiştirme ya da konumunu değiştirme PDMWorks Çalışma Grubu Yönetimi · Dosyalara güvenli erişim · Tasarımlarda tekrar kullanımları kolaylaştırma · Otomatik revizyon takibi · Tasarım ekibi için ortak çalışma alanı · Proje paylaşımı PDMWorks Enterprise § İş Dağılımı § Hataları önleme § Her an en güncel dataya ulaşabilme § Performans arttırma § Otomatik onay süreci § İş akış süreci tarifi § İletişim arttırma § MRP/ERP Uyumluluğu § Malzeme listesi senkronizasyonu § MRP/ERP entegrasyonu Kullanıcıların sürekli güncel data ile çalışmasını sağlarken ağda çalışmanın getirdiği performans kayıplarını engeller . Otomatik onay süreci sayesin de kontrolden geçmemiş teknik resimler in imalata gitmesinin önüne geçer, SolidWorks PDM Konu Açıklaması\n",
      "  [0, 95823, 18244, 7, 56489, 1275, 95823, 18244, 7, 173, 4396, 25426, 121983, 4242, 54977, 14230, 1275, 95823, 18244, 7, 2831, 121983, 4793, 49514, 159262, 3793, 234457, 4920, 183685, 1275, 95823, 18244, 7, 121983, 4242, 60878, 14230, 1275, 82508, 170, 121983, 4242, 28924, 133, 109712, 9992, 2831, 121983, 4793, 83, 9222, 179964, 151, 48, 75082, 11351, 179964, 436, 31246, 108259, 7, 112505, 161373, 58125, 14, 1275, 31033, 92775, 11, 127955, 192067, 1275, 140914, 3793, 43212, 89696, 980, 198815, 192, 1275, 37098, 43551, 456, 145737, 466, 21751, 1275, 140914, 87612, 1099, 53278, 25843, 76053, 1275, 80719, 117285, 1057, 436, 31246, 108259, 7, 102247, 5360, 20468, 391, 14417, 141, 29506, 5360, 45750, 980, 138788, 13, 5360, 1840, 142, 22, 125636, 2053, 395, 43197, 16144, 282, 5360, 169033, 10133, 125359, 192]\n",
      "\n",
      "  10% of texts are featured.\n",
      "  20% of texts are featured.\n",
      "  30% of texts are featured.\n",
      "  40% of texts are featured.\n",
      "  50% of texts are featured.\n",
      "  60% of texts are featured.\n",
      "  70% of texts are featured.\n",
      "  80% of texts are featured.\n",
      "  90% of texts are featured.\n",
      "  100% of texts are featured.\n",
      "Language \"tr\": featurizing is finished.\n"
     ]
    }
   ],
   "source": [
    "dataset_for_training_ = calculate_features_of_texts(\n",
    "    texts=multilingual_corpus,\n",
    "    tokenizer=xlmroberta_tokenizer, maxlen=max_seq_len,\n",
    "    fe=feature_extractor,\n",
    "    batch_size=batch_size_for_siamese\n",
    ")\n",
    "assert len(dataset_for_training_) == 4"
   ]
  },
  {
   "cell_type": "markdown",
   "metadata": {
    "papermill": {
     "duration": 0.126517,
     "end_time": "2021-03-11T09:26:33.456430",
     "exception": false,
     "start_time": "2021-03-11T09:26:33.329913",
     "status": "completed"
    },
    "tags": []
   },
   "source": [
    "I simplify the abovementioned data by means of their transforming from a dictionary by languages to a \"normal\" NumPy arrays pair (*X* and *y*)."
   ]
  },
  {
   "cell_type": "code",
   "execution_count": 39,
   "metadata": {
    "execution": {
     "iopub.execute_input": "2021-03-11T09:26:33.714788Z",
     "iopub.status.busy": "2021-03-11T09:26:33.713150Z",
     "iopub.status.idle": "2021-03-11T09:26:33.734999Z",
     "shell.execute_reply": "2021-03-11T09:26:33.734467Z"
    },
    "papermill": {
     "duration": 0.152638,
     "end_time": "2021-03-11T09:26:33.735088",
     "exception": false,
     "start_time": "2021-03-11T09:26:33.582450",
     "status": "completed"
    },
    "tags": []
   },
   "outputs": [],
   "source": [
    "data_for_cls_training, _ = generate_featured_data(dataset_for_training_)"
   ]
  },
  {
   "cell_type": "markdown",
   "metadata": {
    "papermill": {
     "duration": 0.125948,
     "end_time": "2021-03-11T09:26:33.986842",
     "exception": false,
     "start_time": "2021-03-11T09:26:33.860894",
     "status": "completed"
    },
    "tags": []
   },
   "source": [
    "I delete all data which becomes unnecessary and call the garbage collector."
   ]
  },
  {
   "cell_type": "code",
   "execution_count": 40,
   "metadata": {
    "execution": {
     "iopub.execute_input": "2021-03-11T09:26:34.451298Z",
     "iopub.status.busy": "2021-03-11T09:26:34.450093Z",
     "iopub.status.idle": "2021-03-11T09:26:34.455529Z",
     "shell.execute_reply": "2021-03-11T09:26:34.453667Z"
    },
    "papermill": {
     "duration": 0.342641,
     "end_time": "2021-03-11T09:26:34.455627",
     "exception": false,
     "start_time": "2021-03-11T09:26:34.112986",
     "status": "completed"
    },
    "tags": []
   },
   "outputs": [
    {
     "data": {
      "text/plain": [
       "56"
      ]
     },
     "execution_count": 40,
     "metadata": {},
     "output_type": "execute_result"
    }
   ],
   "source": [
    "del dataset_for_training_\n",
    "gc.collect()"
   ]
  },
  {
   "cell_type": "markdown",
   "metadata": {
    "papermill": {
     "duration": 0.12612,
     "end_time": "2021-03-11T09:26:34.708818",
     "exception": false,
     "start_time": "2021-03-11T09:26:34.582698",
     "status": "completed"
    },
    "tags": []
   },
   "source": [
    "I show projections of data, which are featured by an untrained XLM-R."
   ]
  },
  {
   "cell_type": "code",
   "execution_count": 41,
   "metadata": {
    "execution": {
     "iopub.execute_input": "2021-03-11T09:26:34.967146Z",
     "iopub.status.busy": "2021-03-11T09:26:34.966625Z",
     "iopub.status.idle": "2021-03-11T09:26:47.679396Z",
     "shell.execute_reply": "2021-03-11T09:26:47.680470Z"
    },
    "papermill": {
     "duration": 12.846789,
     "end_time": "2021-03-11T09:26:47.680647",
     "exception": false,
     "start_time": "2021-03-11T09:26:34.833858",
     "status": "completed"
    },
    "tags": []
   },
   "outputs": [
    {
     "data": {
      "image/png": "[encoded data removed]",
      "text/plain": [
       "<Figure size 720x720 with 1 Axes>"
      ]
     },
     "metadata": {
      "needs_background": "light"
     },
     "output_type": "display_data"
    }
   ],
   "source": [
    "calculate_projections(data_for_cls_training, 'before XLM-R training')"
   ]
  },
  {
   "cell_type": "markdown",
   "metadata": {
    "papermill": {
     "duration": 0.132315,
     "end_time": "2021-03-11T09:26:48.017380",
     "exception": false,
     "start_time": "2021-03-11T09:26:47.885065",
     "status": "completed"
    },
    "tags": []
   },
   "source": [
    "I delete all data which becomes unnecessary and call the garbage collector."
   ]
  },
  {
   "cell_type": "code",
   "execution_count": 42,
   "metadata": {
    "execution": {
     "iopub.execute_input": "2021-03-11T09:26:48.510553Z",
     "iopub.status.busy": "2021-03-11T09:26:48.509250Z",
     "iopub.status.idle": "2021-03-11T09:26:48.512907Z",
     "shell.execute_reply": "2021-03-11T09:26:48.513371Z"
    },
    "papermill": {
     "duration": 0.368398,
     "end_time": "2021-03-11T09:26:48.513538",
     "exception": false,
     "start_time": "2021-03-11T09:26:48.145140",
     "status": "completed"
    },
    "tags": []
   },
   "outputs": [
    {
     "data": {
      "text/plain": [
       "2620"
      ]
     },
     "execution_count": 42,
     "metadata": {},
     "output_type": "execute_result"
    }
   ],
   "source": [
    "del data_for_cls_training\n",
    "gc.collect()"
   ]
  },
  {
   "cell_type": "markdown",
   "metadata": {
    "papermill": {
     "duration": 0.140313,
     "end_time": "2021-03-11T09:26:48.796708",
     "exception": false,
     "start_time": "2021-03-11T09:26:48.656395",
     "status": "completed"
    },
    "tags": []
   },
   "source": [
    "I fix the duration of all procedures for data projecting."
   ]
  },
  {
   "cell_type": "code",
   "execution_count": 43,
   "metadata": {
    "execution": {
     "iopub.execute_input": "2021-03-11T09:26:49.087017Z",
     "iopub.status.busy": "2021-03-11T09:26:49.086326Z",
     "iopub.status.idle": "2021-03-11T09:26:49.091176Z",
     "shell.execute_reply": "2021-03-11T09:26:49.090464Z"
    },
    "papermill": {
     "duration": 0.152622,
     "end_time": "2021-03-11T09:26:49.091284",
     "exception": false,
     "start_time": "2021-03-11T09:26:48.938662",
     "status": "completed"
    },
    "tags": []
   },
   "outputs": [
    {
     "name": "stdout",
     "output_type": "stream",
     "text": [
      "Duration of data projection is 160 seconds.\n"
     ]
    }
   ],
   "source": [
    "projecting_duration = int(round(time.time() - preparing_end_time))\n",
    "print(\"Duration of data projection is {0} seconds.\".format(projecting_duration))"
   ]
  },
  {
   "cell_type": "markdown",
   "metadata": {
    "papermill": {
     "duration": 0.133337,
     "end_time": "2021-03-11T09:26:49.362132",
     "exception": false,
     "start_time": "2021-03-11T09:26:49.228795",
     "status": "completed"
    },
    "tags": []
   },
   "source": [
    "Lastly, I train my Siamese XLM-R."
   ]
  },
  {
   "cell_type": "code",
   "execution_count": 44,
   "metadata": {
    "execution": {
     "iopub.execute_input": "2021-03-11T09:26:49.631702Z",
     "iopub.status.busy": "2021-03-11T09:26:49.630839Z",
     "iopub.status.idle": "2021-03-11T11:25:54.258648Z",
     "shell.execute_reply": "2021-03-11T11:25:54.258178Z"
    },
    "papermill": {
     "duration": 7144.766369,
     "end_time": "2021-03-11T11:25:54.258755",
     "exception": false,
     "start_time": "2021-03-11T09:26:49.492386",
     "status": "completed"
    },
    "tags": []
   },
   "outputs": [
    {
     "name": "stdout",
     "output_type": "stream",
     "text": [
      "Maximal duration of the Siamese XLM-R training is 6828 seconds.\n",
      "Epoch 1/196\n",
      "620/620 [==============================] - ETA: 0s - loss: 0.7777\n",
      "Epoch 00001: val_loss improved from inf to 0.78727, saving model to /kaggle/working/siamese_xlmr.h5\n",
      "620/620 [==============================] - 596s 961ms/step - loss: 0.7777 - val_loss: 0.7873\n",
      "Epoch 2/196\n",
      "620/620 [==============================] - ETA: 0s - loss: 0.5558\n",
      "Epoch 00002: val_loss did not improve from 0.78727\n",
      "620/620 [==============================] - 589s 950ms/step - loss: 0.5558 - val_loss: 0.8315\n",
      "Epoch 3/196\n",
      "620/620 [==============================] - ETA: 0s - loss: 0.5483\n",
      "Epoch 00003: val_loss improved from 0.78727 to 0.69639, saving model to /kaggle/working/siamese_xlmr.h5\n",
      "620/620 [==============================] - 592s 955ms/step - loss: 0.5483 - val_loss: 0.6964\n",
      "Epoch 4/196\n",
      "620/620 [==============================] - ETA: 0s - loss: 0.5176\n",
      "Epoch 00004: val_loss improved from 0.69639 to 0.63544, saving model to /kaggle/working/siamese_xlmr.h5\n",
      "620/620 [==============================] - 593s 956ms/step - loss: 0.5176 - val_loss: 0.6354\n",
      "Epoch 5/196\n",
      "620/620 [==============================] - ETA: 0s - loss: 0.4898\n",
      "Epoch 00005: val_loss improved from 0.63544 to 0.59645, saving model to /kaggle/working/siamese_xlmr.h5\n",
      "620/620 [==============================] - 593s 957ms/step - loss: 0.4898 - val_loss: 0.5965\n",
      "Epoch 6/196\n",
      "620/620 [==============================] - ETA: 0s - loss: 0.4608\n",
      "Epoch 00006: val_loss improved from 0.59645 to 0.53575, saving model to /kaggle/working/siamese_xlmr.h5\n",
      "620/620 [==============================] - 593s 957ms/step - loss: 0.4608 - val_loss: 0.5357\n",
      "Epoch 7/196\n",
      "620/620 [==============================] - ETA: 0s - loss: 0.4591\n",
      "Epoch 00007: val_loss improved from 0.53575 to 0.50189, saving model to /kaggle/working/siamese_xlmr.h5\n",
      "620/620 [==============================] - 593s 956ms/step - loss: 0.4591 - val_loss: 0.5019\n",
      "Epoch 8/196\n",
      "620/620 [==============================] - ETA: 0s - loss: 0.4590\n",
      "Epoch 00008: val_loss did not improve from 0.50189\n",
      "620/620 [==============================] - 589s 951ms/step - loss: 0.4590 - val_loss: 0.5141\n",
      "Epoch 9/196\n",
      "620/620 [==============================] - ETA: 0s - loss: 0.4541\n",
      "Epoch 00009: val_loss did not improve from 0.50189\n",
      "620/620 [==============================] - 589s 951ms/step - loss: 0.4541 - val_loss: 0.5125\n",
      "Epoch 10/196\n",
      "620/620 [==============================] - ETA: 0s - loss: 0.4576\n",
      "Epoch 00010: val_loss did not improve from 0.50189\n",
      "620/620 [==============================] - 590s 951ms/step - loss: 0.4576 - val_loss: 0.5142\n",
      "Epoch 11/196\n",
      "620/620 [==============================] - ETA: 0s - loss: 0.4515\n",
      "Epoch 00011: val_loss improved from 0.50189 to 0.48925, saving model to /kaggle/working/siamese_xlmr.h5\n",
      "620/620 [==============================] - 594s 958ms/step - loss: 0.4515 - val_loss: 0.4892\n",
      "Epoch 12/196\n",
      "620/620 [==============================] - ETA: 0s - loss: 0.4397\n",
      "Epoch 00012: val_loss improved from 0.48925 to 0.48381, saving model to /kaggle/working/siamese_xlmr.h5\n",
      "620/620 [==============================] - 593s 956ms/step - loss: 0.4397 - val_loss: 0.4838\n",
      "Timed stopping at epoch 12 after training for 1:53:48\n"
     ]
    },
    {
     "data": {
      "image/png": "[encoded data removed]",
      "text/plain": [
       "<Figure size 360x360 with 1 Axes>"
      ]
     },
     "metadata": {
      "needs_background": "light"
     },
     "output_type": "display_data"
    }
   ],
   "source": [
    "train_siamese_nn(nn=siamese_network, trainset=dataset_for_training,\n",
    "                 steps_per_trainset=n_batches_per_data,\n",
    "                 steps_per_epoch=steps_per_single_epoch,\n",
    "                 validset=dataset_for_validation,\n",
    "                 max_duration=int(round(\n",
    "                     3600 * 2.5 - preparing_duration - 3.0 * projecting_duration\n",
    "                 )),\n",
    "                 model_weights_path=tmp_roberta_name)"
   ]
  },
  {
   "cell_type": "markdown",
   "metadata": {
    "papermill": {
     "duration": 3.845392,
     "end_time": "2021-03-11T11:26:00.779910",
     "exception": false,
     "start_time": "2021-03-11T11:25:56.934518",
     "status": "completed"
    },
    "tags": []
   },
   "source": [
    "I delete all data which becomes unnecessary and call the garbage collector."
   ]
  },
  {
   "cell_type": "code",
   "execution_count": 45,
   "metadata": {
    "execution": {
     "iopub.execute_input": "2021-03-11T11:26:05.549662Z",
     "iopub.status.busy": "2021-03-11T11:26:05.548767Z",
     "iopub.status.idle": "2021-03-11T11:26:05.552227Z",
     "shell.execute_reply": "2021-03-11T11:26:05.552657Z"
    },
    "papermill": {
     "duration": 2.497276,
     "end_time": "2021-03-11T11:26:05.552773",
     "exception": false,
     "start_time": "2021-03-11T11:26:03.055497",
     "status": "completed"
    },
    "tags": []
   },
   "outputs": [
    {
     "data": {
      "text/plain": [
       "2919"
      ]
     },
     "execution_count": 45,
     "metadata": {},
     "output_type": "execute_result"
    }
   ],
   "source": [
    "del dataset_for_training\n",
    "del dataset_for_validation\n",
    "gc.collect()"
   ]
  },
  {
   "cell_type": "markdown",
   "metadata": {
    "papermill": {
     "duration": 2.310996,
     "end_time": "2021-03-11T11:26:09.974432",
     "exception": false,
     "start_time": "2021-03-11T11:26:07.663436",
     "status": "completed"
    },
    "tags": []
   },
   "source": [
    "I load the best weights of XLM-R, found during the training process, from the HDF5 binary data file."
   ]
  },
  {
   "cell_type": "code",
   "execution_count": 46,
   "metadata": {
    "execution": {
     "iopub.execute_input": "2021-03-11T11:26:14.213722Z",
     "iopub.status.busy": "2021-03-11T11:26:14.208848Z",
     "iopub.status.idle": "2021-03-11T11:26:17.948148Z",
     "shell.execute_reply": "2021-03-11T11:26:17.948920Z"
    },
    "papermill": {
     "duration": 5.861033,
     "end_time": "2021-03-11T11:26:17.949163",
     "exception": false,
     "start_time": "2021-03-11T11:26:12.088130",
     "status": "completed"
    },
    "tags": []
   },
   "outputs": [],
   "source": [
    "siamese_network.load_weights(tmp_roberta_name)\n",
    "os.remove(tmp_roberta_name)\n",
    "feature_extractor.save_weights(feature_extractor_name)"
   ]
  },
  {
   "cell_type": "markdown",
   "metadata": {
    "papermill": {
     "duration": 2.151669,
     "end_time": "2021-03-11T11:26:22.511472",
     "exception": false,
     "start_time": "2021-03-11T11:26:20.359803",
     "status": "completed"
    },
    "tags": []
   },
   "source": [
    "I delete the Siamese XLM-R (but not the XLM-R-based feature extractor!), and after that, I call the garbage collector."
   ]
  },
  {
   "cell_type": "code",
   "execution_count": 47,
   "metadata": {
    "execution": {
     "iopub.execute_input": "2021-03-11T11:26:27.777337Z",
     "iopub.status.busy": "2021-03-11T11:26:27.776405Z",
     "iopub.status.idle": "2021-03-11T11:26:28.632385Z",
     "shell.execute_reply": "2021-03-11T11:26:28.633166Z"
    },
    "papermill": {
     "duration": 3.354645,
     "end_time": "2021-03-11T11:26:28.633369",
     "exception": false,
     "start_time": "2021-03-11T11:26:25.278724",
     "status": "completed"
    },
    "tags": []
   },
   "outputs": [
    {
     "data": {
      "text/plain": [
       "5879"
      ]
     },
     "execution_count": 47,
     "metadata": {},
     "output_type": "execute_result"
    }
   ],
   "source": [
    "del siamese_network\n",
    "gc.collect()"
   ]
  },
  {
   "cell_type": "markdown",
   "metadata": {
    "papermill": {
     "duration": 2.090357,
     "end_time": "2021-03-11T11:26:33.772740",
     "exception": false,
     "start_time": "2021-03-11T11:26:31.682383",
     "status": "completed"
    },
    "tags": []
   },
   "source": [
    "I calculate the featured training set for the final classifier using a trained XLM-R-based feature extractor."
   ]
  },
  {
   "cell_type": "code",
   "execution_count": 48,
   "metadata": {
    "execution": {
     "iopub.execute_input": "2021-03-11T11:26:38.063271Z",
     "iopub.status.busy": "2021-03-11T11:26:38.062460Z",
     "iopub.status.idle": "2021-03-11T11:27:54.141590Z",
     "shell.execute_reply": "2021-03-11T11:27:54.140744Z"
    },
    "papermill": {
     "duration": 78.223359,
     "end_time": "2021-03-11T11:27:54.141698",
     "exception": false,
     "start_time": "2021-03-11T11:26:35.918339",
     "status": "completed"
    },
    "tags": []
   },
   "outputs": [
    {
     "name": "stdout",
     "output_type": "stream",
     "text": [
      "Number of languages is 4.\n",
      "\n",
      "Language \"en\": featurizing is started.\n",
      "Number of texts is 3000.\n"
     ]
    },
    {
     "data": {
      "application/vnd.jupyter.widget-view+json": {
       "model_id": "491afdc7622c467984880689c72e71bc",
       "version_major": 2,
       "version_minor": 0
      },
      "text/plain": [
       "HBox(children=(FloatProgress(value=0.0, max=3000.0), HTML(value='')))"
      ]
     },
     "metadata": {},
     "output_type": "display_data"
    },
    {
     "name": "stdout",
     "output_type": "stream",
     "text": [
      "\n",
      "\n",
      "3 examples of texts after tokenization:\n",
      "  \" ... -rather than rich, white and elite suburbanites at their rich, white and elite country clubs, drinking their rich, elite 75 dollar a glass scotch, with their pinky in the air congratulating themselves on caring about people.\"\n",
      "That sounds more like the bishops and the K of C to me than the Democrats, who are busy trying to help people retain their right to vote.\n",
      "  [0, 44, 153, 20, 43257, 3501, 98870, 6, 4, 35011, 136, 100307, 165473, 761, 52164, 99, 2363, 98870, 6, 4, 35011, 136, 100307, 23295, 117406, 6, 4, 23417, 214, 2363, 98870, 6, 4, 100307, 4948, 15437, 10, 47589, 14753, 18, 206, 6, 4, 678, 2363, 77233, 53, 23, 70, 1831, 242799, 1916, 61261, 98, 2258, 214, 1672, 3395, 6, 1242, 9925, 102678, 1286, 1884, 70, 333, 10534, 7, 136, 70, 341, 111, 313, 47, 163, 3501, 70, 138235, 7, 6, 4, 2750, 621, 86352, 31577, 47, 4358, 3395, 112033, 73, 2363, 7108, 47, 43374, 6, 5, 2, 1, 1, 1, 1, 1, 1, 1, 1, 1, 1, 1, 1, 1, 1, 1, 1, 1, 1, 1, 1, 1, 1, 1, 1, 1, 1, 1, 1, 1, 1, 1]\n",
      "\n",
      "  How do you suggest we achieve this energy density? If this is easily achievable why is it not talked about?  I'm not presenting a theory. I'm talking about energy return on energy invested. It's widely known.\n",
      "  [0, 11249, 54, 398, 42459, 642, 69307, 903, 48302, 168, 7, 2481, 705, 4263, 903, 83, 72546, 10, 1861, 4854, 2886, 15400, 83, 442, 959, 22120, 297, 1672, 705, 87, 242, 347, 959, 13379, 214, 10, 154453, 6, 5, 87, 242, 347, 56661, 1672, 48302, 30646, 98, 48302, 14145, 297, 6, 5, 1650, 242, 91, 38134, 538, 51529, 6, 5, 2, 1, 1, 1, 1, 1, 1, 1, 1, 1, 1, 1, 1, 1, 1, 1, 1, 1, 1, 1, 1, 1, 1, 1, 1, 1, 1, 1, 1, 1, 1, 1, 1, 1, 1, 1, 1, 1, 1, 1, 1, 1, 1, 1, 1, 1, 1, 1, 1, 1, 1, 1, 1, 1, 1, 1, 1, 1, 1, 1, 1, 1, 1, 1, 1, 1, 1, 1]\n",
      "\n",
      "  Gen. Kelly is moving fast to drive the idiots out of the WH, good for him!  Here are a few more suggestions for the ax:\n",
      "\n",
      "1) Jared Kushner - For recommending Scaramucci in the first place, general ineptitude and zero experience.\n",
      "2) Ivanka Trump - See Jared Kushner above, exact same reasons apply.\n",
      "\n",
      "I'd suggest Trump himself, but that's congress' job.  I hope they follow Kelly's example, and soon.\n",
      "  [0, 15937, 6, 5, 95062, 83, 98567, 4271, 47, 22648, 70, 68649, 7, 1810, 111, 70, 601, 841, 6, 4, 4127, 100, 4049, 711, 11853, 621, 10, 10846, 1286, 157666, 100, 70, 10, 425, 152, 106, 1388, 823, 2822, 77225, 1679, 20, 1326, 67330, 214, 76639, 302, 45740, 23, 70, 5117, 3687, 6, 4, 4537, 23, 4517, 35810, 136, 45234, 16981, 6, 5, 116, 1388, 23698, 161, 5879, 20, 6872, 823, 2822, 77225, 1679, 36917, 6, 4, 24763, 5701, 89397, 59911, 6, 5, 87, 242, 104, 42459, 5879, 66570, 6, 4, 1284, 450, 242, 91, 158, 19623, 242, 12447, 6, 5, 87, 15673, 1836, 28960, 95062, 242, 91, 27781, 6, 4, 136, 33662, 6, 5, 2, 1, 1, 1, 1, 1, 1, 1, 1, 1, 1, 1, 1]\n",
      "\n",
      "  10% of texts are featured.\n",
      "  20% of texts are featured.\n",
      "  30% of texts are featured.\n",
      "  40% of texts are featured.\n",
      "  50% of texts are featured.\n",
      "  60% of texts are featured.\n",
      "  70% of texts are featured.\n",
      "  80% of texts are featured.\n",
      "  90% of texts are featured.\n",
      "  100% of texts are featured.\n",
      "Language \"en\": featurizing is finished.\n",
      "\n",
      "Language \"es\": featurizing is started.\n",
      "Number of texts is 2500.\n"
     ]
    },
    {
     "data": {
      "application/vnd.jupyter.widget-view+json": {
       "model_id": "ff2be2e2268549ba98a21890ed1b742f",
       "version_major": 2,
       "version_minor": 0
      },
      "text/plain": [
       "HBox(children=(FloatProgress(value=0.0, max=2500.0), HTML(value='')))"
      ]
     },
     "metadata": {},
     "output_type": "display_data"
    },
    {
     "name": "stdout",
     "output_type": "stream",
     "text": [
      "\n",
      "\n",
      "3 examples of texts after tokenization:\n",
      "  Hola De verdad pensaste, que no te iba a encontrar?, te lo dije, te estoy rastreando, estoy rastreando tus comentarios, tus insultos y tus lloriqueos, pronto sabrás de mi.\n",
      "  [0, 47958, 262, 36370, 14946, 824, 6, 4, 41, 110, 120, 7824, 10, 15275, 705, 4, 120, 459, 44123, 6, 4, 120, 43250, 8737, 107, 3448, 6, 4, 43250, 8737, 107, 3448, 15875, 69287, 6, 4, 15875, 100567, 232, 113, 15875, 115219, 75087, 232, 6, 4, 33895, 29033, 26579, 8, 324, 6, 5, 2, 1, 1, 1, 1, 1, 1, 1, 1, 1, 1, 1, 1, 1, 1, 1, 1, 1, 1, 1, 1, 1, 1, 1, 1, 1, 1, 1, 1, 1, 1, 1, 1, 1, 1, 1, 1, 1, 1, 1, 1, 1, 1, 1, 1, 1, 1, 1, 1, 1, 1, 1, 1, 1, 1, 1, 1, 1, 1, 1, 1, 1, 1, 1, 1, 1, 1, 1, 1, 1, 1, 1, 1, 1, 1]\n",
      "\n",
      "  Hola a todos: ¿No os parece que la frase que dice que el Gobierno de Zapatero está bajo crítica de que ha violado la Constitución española con sus nuevas leyes orgánicas, además de español indio, es muy partidista? Primero, que no viene a cuento en este artículo, y segundo, que son palabras muy fuertes que incluso los recursos de inconstitucionalidad aún no respaldan. ¿Qué opináis? Javier Fernández Collantes (estoy inscrito, pero ya se me ha olvidado cómo conectarme)\n",
      "  [0, 47958, 10, 2194, 152, 3936, 438, 362, 12295, 41, 21, 66709, 41, 13747, 41, 88, 44744, 8, 825, 763, 24444, 1570, 29830, 72330, 8, 41, 256, 54567, 246, 21, 155972, 65398, 158, 1817, 46094, 172876, 52052, 46430, 6, 4, 23187, 8, 36131, 23, 5670, 6, 4, 198, 3591, 59302, 1035, 705, 46282, 31, 6, 4, 41, 110, 11024, 10, 163874, 22, 473, 44361, 6, 4, 113, 10064, 6, 4, 41, 775, 37575, 3591, 57721, 7, 41, 27749, 388, 14840, 8, 23, 2271, 13480, 15736, 3812, 37419, 110, 27582, 289, 549, 6, 5, 3936, 6, 32806, 233, 73, 54016, 705, 104099, 66995, 88842, 13917, 15, 43250, 59568, 31, 6, 4, 1788, 151, 40, 163, 256, 186764, 246, 20170, 168083, 282, 1388, 2, 1, 1, 1, 1, 1, 1]\n",
      "\n",
      "  No puede ser posible que mantengan la Generación Z desde 1996 hasta la Actualidad, ¿Que paso? ¿acaso no tienen creatividad para nombrar un sucesor? la gente va a tener hijos y van a pertenecer a la misma generación, eso no debería pasar, yo propongo dividir esta generación en 2 etapas de tiempo para evitar confusiones de la siguiente manera, Desde 1996 hasta 2005 una primera generación  Z  aun influenciada por la generación  Y , luego desde 2006 hasta 2015 la Generación  Z (2.0) que nació con las pantallas plasma, la tecnología táctil, y un considerable aumento del uso de redes sociales, ademas de crecer escuchando música electrónica como genero principal, es una buena solución para definir de una vez por todas el Cierre de la generación  Z , y comenzar un nuevo debate, sobre las bases que establezcan una nueva generación. tenemos hasta el 2015 desde entonces.\n",
      "  [0, 438, 5171, 520, 11295, 41, 31101, 1972, 21, 155370, 1150, 567, 3287, 11891, 5543, 21, 6, 100582, 3812, 6, 4, 3936, 5813, 20145, 705, 3936, 10, 83501, 110, 17432, 181560, 121, 110, 12846, 42, 51, 190803, 42, 705, 21, 9244, 307, 10, 9574, 70578, 113, 131, 10, 190653, 42, 10, 21, 26137, 138725, 6, 4, 11007, 110, 45731, 12024, 6, 4, 3005, 34914, 519, 61998, 42, 1642, 138725, 22, 116, 115438, 8, 7493, 121, 20417, 169463, 90, 8, 21, 37470, 7202, 6, 4, 22901, 11891, 5543, 4078, 220, 8800, 138725, 567, 10, 309, 76402, 85, 196, 21, 138725, 990, 6, 4, 43827, 3287, 3295, 5543, 918, 21, 155370, 1150, 567, 15, 116, 6, 5, 757, 1388, 41, 24, 1538, 158, 576, 61014, 7, 80796, 6, 4, 21]\n",
      "\n",
      "  10% of texts are featured.\n",
      "  20% of texts are featured.\n",
      "  30% of texts are featured.\n",
      "  40% of texts are featured.\n",
      "  50% of texts are featured.\n",
      "  60% of texts are featured.\n",
      "  70% of texts are featured.\n",
      "  80% of texts are featured.\n",
      "  90% of texts are featured.\n",
      "  100% of texts are featured.\n",
      "Language \"es\": featurizing is finished.\n",
      "\n",
      "Language \"it\": featurizing is started.\n",
      "Number of texts is 2500.\n"
     ]
    },
    {
     "data": {
      "application/vnd.jupyter.widget-view+json": {
       "model_id": "a12f7d792bdd47f985b1875cc31b5737",
       "version_major": 2,
       "version_minor": 0
      },
      "text/plain": [
       "HBox(children=(FloatProgress(value=0.0, max=2500.0), HTML(value='')))"
      ]
     },
     "metadata": {},
     "output_type": "display_data"
    },
    {
     "name": "stdout",
     "output_type": "stream",
     "text": [
      "\n",
      "\n",
      "3 examples of texts after tokenization:\n",
      "  Beh, ammetto che ne passa di differenza tra una TT F1 e una CRT, ma entrambe sono motociclette con ciclistica da prototipo e motore di serie profondamente elaborato. Io mi riferivo a questo e volevo far notare la non-novità del concetto alla base delle CRT. Micap (msg)\n",
      "  [0, 32208, 6, 4, 444, 1928, 188, 290, 108, 10434, 45, 101209, 1152, 220, 62497, 563, 418, 28, 220, 313, 20503, 6, 4, 291, 228488, 1389, 17498, 84229, 36711, 158, 6, 113880, 50482, 48, 147112, 31, 28, 2926, 13, 45, 6432, 39100, 4823, 121151, 31, 6, 5, 28136, 324, 66360, 56, 5777, 10, 3027, 28, 39898, 965, 2060, 110, 7696, 21, 351, 20, 92828, 146, 185947, 986, 3647, 1864, 313, 20503, 6, 5, 1208, 15644, 15, 68163, 177, 1388, 2, 1, 1, 1, 1, 1, 1, 1, 1, 1, 1, 1, 1, 1, 1, 1, 1, 1, 1, 1, 1, 1, 1, 1, 1, 1, 1, 1, 1, 1, 1, 1, 1, 1, 1, 1, 1, 1, 1, 1, 1, 1, 1, 1, 1, 1, 1, 1, 1]\n",
      "\n",
      "  non dovevi cancellare quello che avevo scritto su Jakidale perché è un grande e deve esserci anche lui nella pagina della città di Arona. Vergognati\n",
      "  [0, 351, 7543, 686, 126136, 107, 10295, 290, 112234, 52464, 166, 4422, 1683, 133, 10724, 565, 51, 3189, 28, 7226, 3533, 15019, 1968, 1869, 3578, 12978, 832, 18021, 45, 62, 41120, 6, 5, 1446, 519, 7456, 118, 2, 1, 1, 1, 1, 1, 1, 1, 1, 1, 1, 1, 1, 1, 1, 1, 1, 1, 1, 1, 1, 1, 1, 1, 1, 1, 1, 1, 1, 1, 1, 1, 1, 1, 1, 1, 1, 1, 1, 1, 1, 1, 1, 1, 1, 1, 1, 1, 1, 1, 1, 1, 1, 1, 1, 1, 1, 1, 1, 1, 1, 1, 1, 1, 1, 1, 1, 1, 1, 1, 1, 1, 1, 1, 1, 1, 1, 1, 1, 1, 1, 1, 1, 1, 1, 1, 1, 1, 1, 1, 1]\n",
      "\n",
      "  ma quella voce non andrebbe con l accento? cmq ho scritto in quella discussione, prima di fare qualsiasi lavoro    Helios\n",
      "  [0, 291, 15213, 26845, 351, 136, 37349, 158, 96, 78550, 31, 705, 1827, 864, 739, 52464, 23, 15213, 35107, 13, 6, 4, 2829, 45, 4889, 37331, 10243, 93219, 232, 2, 1, 1, 1, 1, 1, 1, 1, 1, 1, 1, 1, 1, 1, 1, 1, 1, 1, 1, 1, 1, 1, 1, 1, 1, 1, 1, 1, 1, 1, 1, 1, 1, 1, 1, 1, 1, 1, 1, 1, 1, 1, 1, 1, 1, 1, 1, 1, 1, 1, 1, 1, 1, 1, 1, 1, 1, 1, 1, 1, 1, 1, 1, 1, 1, 1, 1, 1, 1, 1, 1, 1, 1, 1, 1, 1, 1, 1, 1, 1, 1, 1, 1, 1, 1, 1, 1, 1, 1, 1, 1, 1, 1, 1, 1, 1, 1, 1, 1]\n",
      "\n",
      "  10% of texts are featured.\n",
      "  20% of texts are featured.\n",
      "  30% of texts are featured.\n",
      "  40% of texts are featured.\n",
      "  50% of texts are featured.\n",
      "  60% of texts are featured.\n",
      "  70% of texts are featured.\n",
      "  80% of texts are featured.\n",
      "  90% of texts are featured.\n",
      "  100% of texts are featured.\n",
      "Language \"it\": featurizing is finished.\n",
      "\n",
      "Language \"tr\": featurizing is started.\n",
      "Number of texts is 3000.\n"
     ]
    },
    {
     "data": {
      "application/vnd.jupyter.widget-view+json": {
       "model_id": "480b2df220f445b8b86fe92b38ecc200",
       "version_major": 2,
       "version_minor": 0
      },
      "text/plain": [
       "HBox(children=(FloatProgress(value=0.0, max=3000.0), HTML(value='')))"
      ]
     },
     "metadata": {},
     "output_type": "display_data"
    },
    {
     "name": "stdout",
     "output_type": "stream",
     "text": [
      "\n",
      "\n",
      "3 examples of texts after tokenization:\n",
      "  Rica ederim, ne demek... Küçük yeşil domuzcuk için yaptım biraz da ... (Okumadım ama izledim. Oyun olarak, bu sezonun iyilerinden biriydi.) İyivikiler...    ho?       ni!\n",
      "  [0, 92051, 68612, 6, 4, 108, 67746, 153, 117545, 142051, 54, 31558, 1010, 92, 1099, 38837, 39, 35304, 48, 153, 15, 81370, 143724, 2527, 35151, 5771, 6, 5, 38802, 2086, 6, 4, 373, 47238, 19, 5801, 18475, 7479, 16715, 6, 5, 16, 64414, 5342, 34759, 153, 739, 705, 300, 711, 2, 1, 1, 1, 1, 1, 1, 1, 1, 1, 1, 1, 1, 1, 1, 1, 1, 1, 1, 1, 1, 1, 1, 1, 1, 1, 1, 1, 1, 1, 1, 1, 1, 1, 1, 1, 1, 1, 1, 1, 1, 1, 1, 1, 1, 1, 1, 1, 1, 1, 1, 1, 1, 1, 1, 1, 1, 1, 1, 1, 1, 1, 1, 1, 1, 1, 1, 1, 1, 1, 1, 1, 1, 1, 1, 1, 1, 1]\n",
      "\n",
      "  45x45px|left Vikipedi kurallarına aykırı hareketleriniz nedeniyle, değişiklik yapmanıza bir süre için izin verilmiyor. Eğer yararlı katkılarda bulunmak isterseniz, engellenme sürenizin sonunda tekrar geri gelebilirsiniz. Mskyrider   ileti\n",
      "  [0, 2678, 425, 4633, 88684, 6, 58745, 25737, 6, 151168, 210785, 76, 226645, 25392, 80360, 49230, 6, 4, 181534, 192585, 11, 263, 18609, 1099, 30930, 48058, 50251, 6, 5, 51930, 217826, 65990, 3793, 64547, 92, 161199, 6, 4, 50249, 52976, 18609, 146860, 53739, 43212, 11227, 6434, 42156, 6, 5, 276, 4922, 416, 820, 1350, 118, 2, 1, 1, 1, 1, 1, 1, 1, 1, 1, 1, 1, 1, 1, 1, 1, 1, 1, 1, 1, 1, 1, 1, 1, 1, 1, 1, 1, 1, 1, 1, 1, 1, 1, 1, 1, 1, 1, 1, 1, 1, 1, 1, 1, 1, 1, 1, 1, 1, 1, 1, 1, 1, 1, 1, 1, 1, 1, 1, 1, 1, 1, 1, 1, 1, 1, 1, 1, 1, 1, 1, 1, 1]\n",
      "\n",
      "  Dersim İsyanı maddesinin Tartışma:Dersim İsyanı bölümüne de ekledim. Burdaki yazılanlara göre 70.000 insan öldürülmüş ve 100.000 insan sürgün edilmiş. Ancak Tunceli nin şu andaki nüfusu 93.000. Bu büyük çelişkiyi açıklamak için lütfen kaynakta geçen ifadeleri Dersim İsyanı maddesinin tartışma bölümüne veya Kaynak bölümüne yazınız. Ruzgar\n",
      "  [0, 1310, 5072, 63770, 103962, 132329, 694, 6760, 8670, 84228, 152, 1310, 5072, 63770, 103962, 110409, 86, 8, 1627, 133, 5771, 6, 5, 7362, 13255, 176360, 3945, 8124, 2358, 6, 5, 2445, 8371, 136740, 41917, 173, 805, 6, 5, 2445, 8371, 30369, 50685, 29425, 6, 5, 28844, 14493, 94146, 14610, 16990, 1565, 301, 149146, 34, 17461, 6, 5, 2445, 6, 5, 667, 7170, 176668, 9237, 301, 2387, 46595, 92, 1099, 148865, 44245, 102, 33941, 23350, 1341, 1310, 5072, 63770, 103962, 132329, 694, 135460, 110409, 86, 8330, 181922, 110409, 86, 20735, 30207, 6, 5, 4518, 72695, 2, 1, 1, 1, 1, 1, 1, 1, 1, 1, 1, 1, 1, 1, 1, 1, 1, 1, 1, 1, 1, 1, 1, 1, 1, 1, 1, 1, 1, 1, 1, 1, 1]\n",
      "\n",
      "  10% of texts are featured.\n",
      "  20% of texts are featured.\n",
      "  30% of texts are featured.\n",
      "  40% of texts are featured.\n",
      "  50% of texts are featured.\n",
      "  60% of texts are featured.\n",
      "  70% of texts are featured.\n",
      "  80% of texts are featured.\n",
      "  90% of texts are featured.\n",
      "  100% of texts are featured.\n",
      "Language \"tr\": featurizing is finished.\n"
     ]
    }
   ],
   "source": [
    "dataset_for_training_ = calculate_features_of_texts(\n",
    "    texts=multilingual_corpus,\n",
    "    tokenizer=xlmroberta_tokenizer, maxlen=max_seq_len,\n",
    "    fe=feature_extractor,\n",
    "    batch_size=batch_size_for_siamese\n",
    ")\n",
    "assert len(dataset_for_training_) == 4"
   ]
  },
  {
   "cell_type": "markdown",
   "metadata": {
    "papermill": {
     "duration": 2.466404,
     "end_time": "2021-03-11T11:27:58.821950",
     "exception": false,
     "start_time": "2021-03-11T11:27:56.355546",
     "status": "completed"
    },
    "tags": []
   },
   "source": [
    "Also, I calculate the featured data set, which will be used to submit predictions to the competition using some final classifier, trained on the abovementioned featured training set."
   ]
  },
  {
   "cell_type": "code",
   "execution_count": 49,
   "metadata": {
    "execution": {
     "iopub.execute_input": "2021-03-11T11:28:03.280438Z",
     "iopub.status.busy": "2021-03-11T11:28:03.279546Z",
     "iopub.status.idle": "2021-03-11T11:35:38.041021Z",
     "shell.execute_reply": "2021-03-11T11:35:38.042153Z"
    },
    "papermill": {
     "duration": 457.055548,
     "end_time": "2021-03-11T11:35:38.042345",
     "exception": false,
     "start_time": "2021-03-11T11:28:00.986797",
     "status": "completed"
    },
    "tags": []
   },
   "outputs": [
    {
     "name": "stdout",
     "output_type": "stream",
     "text": [
      "Number of languages is 6.\n",
      "\n",
      "Language \"es\": featurizing is started.\n",
      "Number of texts is 8438.\n"
     ]
    },
    {
     "data": {
      "application/vnd.jupyter.widget-view+json": {
       "model_id": "1604bf224c33452085bc23a893622503",
       "version_major": 2,
       "version_minor": 0
      },
      "text/plain": [
       "HBox(children=(FloatProgress(value=0.0, max=8438.0), HTML(value='')))"
      ]
     },
     "metadata": {},
     "output_type": "display_data"
    },
    {
     "name": "stdout",
     "output_type": "stream",
     "text": [
      "\n",
      "\n",
      "3 examples of texts after tokenization:\n",
      "  Usted es el vandalo aquí con las imagenes que pone incitadoras por muy 1950 que haya sido. El logo no está permitido y el  texto explicativo  no es más que un vulgar copyvio. Lea por favor WP:PVN antes de volver a contribuir. Nueva\n",
      "  [0, 345, 14437, 198, 88, 131, 88359, 9877, 158, 576, 53657, 90, 41, 34387, 23, 30483, 48174, 196, 3591, 27631, 41, 13860, 8431, 6, 5, 540, 7643, 110, 1570, 164442, 113, 88, 18946, 14149, 5600, 110, 198, 1005, 41, 51, 129474, 43658, 10023, 6, 5, 54642, 196, 10862, 100568, 152, 436, 40711, 6361, 8, 43665, 10, 86786, 6, 5, 111191, 2, 1, 1, 1, 1, 1, 1, 1, 1, 1, 1, 1, 1, 1, 1, 1, 1, 1, 1, 1, 1, 1, 1, 1, 1, 1, 1, 1, 1, 1, 1, 1, 1, 1, 1, 1, 1, 1, 1, 1, 1, 1, 1, 1, 1, 1, 1, 1, 1, 1, 1, 1, 1, 1, 1, 1, 1, 1, 1, 1, 1, 1, 1, 1, 1, 1, 1, 1]\n",
      "\n",
      "  «Michael Jackson and NSYNC» (colaboración de Jackson con N*Sync en los premios MTV VMA 2001). «Michael Jackson se inspira en Justin Timberlake y Usher» (Jackson hablando de su futuro álbum, influenciado por Timberlake). «Justin Timberlake podría unirse a Michael Jackson en sus conciertos de Londres» (posible colaboración de Timberlake en los conciertos de Jackson en Europa). «Justin Timberlake Admits He’s Copying Michael Jackson» (Timberlake admitiendo que copió el estilo de Jackson al lanzar   Justified  ). «The New King of Pop» (  Rolling Stone   nombrando a Justin como «El nuevo rey del pop»). Jorge\n",
      "  [0, 94, 11617, 52234, 136, 541, 62428, 36253, 340, 15, 42222, 8, 52234, 158, 541, 661, 6, 217835, 22, 388, 104938, 69882, 310, 8218, 6789, 6, 194, 94, 11617, 52234, 40, 33437, 22, 52561, 13320, 1297, 143, 350, 113, 345, 42687, 340, 15, 52234, 190299, 8, 166, 12084, 92078, 6, 4, 76402, 246, 196, 13320, 1297, 143, 350, 6, 194, 94, 52561, 13320, 1297, 143, 350, 36350, 51, 68154, 10, 11617, 52234, 22, 1817, 178932, 7, 8, 67557, 340, 15, 11295, 42222, 8, 13320, 1297, 143, 350, 22, 388, 178932, 7, 8, 52234, 22, 3974, 6, 194, 94, 52561, 13320, 1297, 143, 350, 3145, 4007, 7, 1529, 6, 26, 91, 146930, 214, 11617, 52234, 340, 15, 13320, 1297, 143, 350, 36456, 20736, 41, 11757, 12632, 88, 20557, 8]\n",
      "\n",
      "  He vuelto el artículo a mi edición anterior, pero agregando el párrafo que reclamas (cuya desaparición es lo único que objetas de mi edición) para proseguir la discusión. Sigo sosteniendo mis argumentos sobre la falsedad de ese párrafo. No hay una concepción materialista de la historia previa a Marx. Una concepción no es lo mismo que un conjunto de ideas desconectadas. Una concepción es un conjunto sistemático de ideas. Que hubo ideas materialistas sobre la historia antes de Marx es innegable, pero yo, al menos, no conozco una concepción materialista de la historia previa a la marxiana. Si la hay, debería ser referenciada. Ricardo\n",
      "  [0, 1529, 81, 20129, 188, 88, 44361, 10, 324, 21871, 14798, 6, 4, 1788, 75099, 557, 88, 7596, 11431, 31, 41, 41355, 7, 15, 314, 395, 220920, 198, 459, 19663, 41, 113955, 1073, 8, 324, 21871, 1388, 121, 190239, 42, 21, 209126, 6, 5, 602, 519, 47694, 20736, 1239, 100597, 7, 1028, 21, 98320, 12409, 8, 9333, 7596, 11431, 31, 6, 5, 438, 2054, 220, 69856, 1150, 4912, 1035, 8, 21, 4816, 109998, 10, 66128, 6, 5, 4228, 69856, 1150, 110, 198, 459, 9850, 41, 51, 48259, 8, 25647, 224, 208489, 1124, 6, 5, 4228, 69856, 1150, 198, 51, 48259, 3383, 62165, 8, 25647, 6, 5, 5813, 26708, 31, 25647, 4912, 12803, 1028, 21, 4816, 6361, 8, 66128, 198, 23, 3331, 2661, 6, 4, 1788, 3005, 6, 4]\n",
      "\n",
      "  10% of texts are featured.\n",
      "  20% of texts are featured.\n",
      "  30% of texts are featured.\n",
      "  40% of texts are featured.\n",
      "  50% of texts are featured.\n",
      "  60% of texts are featured.\n",
      "  70% of texts are featured.\n",
      "  80% of texts are featured.\n",
      "  90% of texts are featured.\n",
      "  100% of texts are featured.\n",
      "Language \"es\": featurizing is finished.\n",
      "\n",
      "Language \"fr\": featurizing is started.\n",
      "Number of texts is 10920.\n"
     ]
    },
    {
     "data": {
      "application/vnd.jupyter.widget-view+json": {
       "model_id": "2888def4fd3d47f9b42e81c78b705796",
       "version_major": 2,
       "version_minor": 0
      },
      "text/plain": [
       "HBox(children=(FloatProgress(value=0.0, max=10920.0), HTML(value='')))"
      ]
     },
     "metadata": {},
     "output_type": "display_data"
    },
    {
     "name": "stdout",
     "output_type": "stream",
     "text": [
      "\n",
      "\n",
      "3 examples of texts after tokenization:\n",
      "  Pourquoi avez vous supprimé  C est dur d être aimé par des cons  ? Parce que les culs bénis extrémistes (de toute religion) doivent faire la loi ? Cette phrase ne concernait que les    intégristes   , comme l avait bien indiqué Charlie Hebdo d ailleurs, et c est bien ce que j avais écrit, de façon me semble-t-il modérée. Et elle a été supprimée avant même que j’y ai ajouté la référence à l’article blasphème, qui faisait lui-même référence à cette citation entre crochets pour créer une page en attente, que je me suis donc empressé de compléter, ayant cette page de Charlie sous les yeux. colton (d)\n",
      "  [0, 104552, 19116, 1023, 15811, 35188, 446, 313, 437, 7920, 104, 4385, 149028, 366, 224, 158, 7, 705, 112635, 41, 199, 57940, 7, 5671, 2706, 101730, 21460, 15, 8, 13725, 42615, 1388, 60652, 2973, 21, 37135, 705, 20097, 113860, 108, 50509, 9898, 41, 199, 6, 119081, 21460, 6, 4, 3739, 96, 17095, 1806, 149841, 71305, 30488, 246, 104, 97867, 6, 4, 82, 501, 437, 1806, 405, 41, 1647, 6, 29551, 61150, 6, 4, 8, 32782, 163, 36777, 20, 808, 20, 211, 2811, 48536, 13, 6, 5, 1775, 7298, 10, 5325, 15811, 35188, 4170, 9600, 4360, 41, 1647, 6, 26, 113, 1300, 183031, 21, 96661, 253, 96, 6, 26, 5582, 97612, 11727, 23846, 6, 4, 569, 150486, 1869, 20, 4360, 96661, 253, 3393, 15869, 1363, 1148, 99546, 49344, 578]\n",
      "\n",
      "  Il n y a pas de double sens, il n y a que ton manque de culture. Tu confonds ordinateur et ordinateur personnel. Pour ton information il est possible de faire du traitement de texte sur une liseuse (une source http://www.mobilivres.fr/blog/2011/11/nook-touch-c%E2%80%99est-fun/), puisque certaines liseuses sont également des tablettes et qu il existe des traitements de texte pour tablette. Qui dénigre qui, ici ? Je t ai demandé des sources mais tu ne fais que rejeter en bloc les articles Wikipédia, les définitions officielles et l expérience des usagers. ChtiKorrigan (d)\n",
      "  [0, 891, 653, 113, 10, 452, 8, 41929, 12006, 6, 4, 211, 653, 113, 10, 41, 8721, 57335, 8, 29394, 6, 5, 1371, 158, 132530, 23335, 11685, 82, 23335, 11685, 35768, 6, 5, 5547, 8721, 4677, 211, 437, 7722, 8, 2973, 115, 66744, 8, 42907, 613, 773, 120625, 4032, 15, 773, 31344, 1621, 6, 696, 1426, 6, 5, 37110, 13567, 7, 6, 5, 14119, 248, 1415, 248, 1392, 248, 534, 248, 110, 685, 20, 23996, 20, 501, 1745, 241, 304, 1745, 2248, 1745, 10078, 525, 20, 7477, 248, 247, 121710, 67193, 120625, 29001, 2045, 14919, 224, 9961, 1636, 82, 1103, 211, 13835, 224, 66744, 7, 8, 42907, 578, 9961, 67, 6, 5, 7644, 3402, 93, 7134, 569, 6, 4, 25465, 705, 845, 808, 1300, 108406, 224, 97264, 732]\n",
      "\n",
      "  nike ta mere krizek je l encule tellement et puis ta meuf aussi petit con si ta des couilles vient a la tour eiffel le 15 novembre a 12h j y serai petit con et on vera c qui qui fait le malin fdp\n",
      "  [0, 6, 13001, 308, 2563, 110359, 92, 55, 96, 22, 75449, 95785, 82, 22790, 308, 4346, 420, 5206, 10174, 158, 78, 308, 224, 31816, 51432, 41571, 10, 21, 9742, 475, 54261, 95, 423, 15430, 10, 427, 127, 1647, 113, 7561, 14, 10174, 158, 82, 98, 6864, 501, 569, 569, 3193, 95, 960, 73, 1238, 71, 254, 2, 1, 1, 1, 1, 1, 1, 1, 1, 1, 1, 1, 1, 1, 1, 1, 1, 1, 1, 1, 1, 1, 1, 1, 1, 1, 1, 1, 1, 1, 1, 1, 1, 1, 1, 1, 1, 1, 1, 1, 1, 1, 1, 1, 1, 1, 1, 1, 1, 1, 1, 1, 1, 1, 1, 1, 1, 1, 1, 1, 1, 1, 1, 1, 1, 1, 1, 1, 1, 1, 1, 1]\n",
      "\n",
      "  10% of texts are featured.\n",
      "  20% of texts are featured.\n",
      "  30% of texts are featured.\n",
      "  40% of texts are featured.\n",
      "  50% of texts are featured.\n",
      "  60% of texts are featured.\n",
      "  70% of texts are featured.\n",
      "  80% of texts are featured.\n",
      "  90% of texts are featured.\n",
      "  100% of texts are featured.\n",
      "Language \"fr\": featurizing is finished.\n",
      "\n",
      "Language \"it\": featurizing is started.\n",
      "Number of texts is 8494.\n"
     ]
    },
    {
     "data": {
      "application/vnd.jupyter.widget-view+json": {
       "model_id": "82c78752d27f49dca22b4bd7ba495dff",
       "version_major": 2,
       "version_minor": 0
      },
      "text/plain": [
       "HBox(children=(FloatProgress(value=0.0, max=8494.0), HTML(value='')))"
      ]
     },
     "metadata": {},
     "output_type": "display_data"
    },
    {
     "name": "stdout",
     "output_type": "stream",
     "text": [
      "\n",
      "\n",
      "3 examples of texts after tokenization:\n",
      "  , ma sarebbe anche da aggiungere l obbligo di contattare il/i progetto/i di riferimento per la valutazione, allo stesso modo di quanto previsto per le cancellazioni (ciò risolve il problema di trovare valutatori competenti senza bisogno di contattare in talk utenti particolari, evitando il rischio di campagne selettive). Franz van Lanzee (msg)\n",
      "  [0, 6, 4, 291, 38147, 1968, 48, 138692, 96, 6, 172294, 45, 96108, 107, 211, 248, 17, 25117, 248, 17, 45, 56610, 117, 21, 122289, 6, 4, 24286, 19053, 3792, 45, 7045, 35948, 117, 95, 126136, 2813, 15, 29195, 1427, 86918, 211, 4105, 45, 34315, 53258, 3826, 6, 122103, 14, 7699, 46321, 45, 96108, 107, 23, 22120, 59083, 98283, 6, 4, 158543, 211, 67277, 45, 59679, 40, 1974, 4935, 6, 194, 86914, 131, 239, 25609, 13, 15, 68163, 177, 1388, 2, 1, 1, 1, 1, 1, 1, 1, 1, 1, 1, 1, 1, 1, 1, 1, 1, 1, 1, 1, 1, 1, 1, 1, 1, 1, 1, 1, 1, 1, 1, 1, 1, 1, 1, 1, 1, 1, 1, 1, 1, 1, 1, 1, 1, 1, 1, 1]\n",
      "\n",
      "  ANTIPATICO!!! CHE NE SAI TU!!! TUTTE LE PERSONE NON SONO COME TE!!! ANTIPATICO!!! SCOPPIA!!! E POI CHI TI CERCA, METTITI IN UN ANGOLINO E UN SACCHETTO IN TESTA CHE E  MEGLIO, NESSUNO VUOLE VEDERE LA TUA FACCIA. ti auguro sinceramente di morire.\n",
      "  [0, 6, 75706, 65135, 33028, 7625, 83556, 9960, 159, 11388, 16512, 7625, 16512, 122167, 17428, 179673, 647, 79325, 159, 110522, 179951, 13018, 7625, 6, 75706, 65135, 33028, 7625, 17715, 20880, 135398, 7625, 241, 8574, 568, 62455, 26906, 123625, 13133, 6, 4, 276, 85671, 35522, 5881, 8274, 49754, 71973, 8575, 241, 8274, 5377, 13709, 67365, 8727, 5881, 384, 55669, 83556, 241, 95116, 127399, 6, 4, 6, 36321, 136784, 670, 120403, 71621, 13668, 179866, 3358, 6, 134929, 155816, 40453, 6, 5, 1053, 76916, 516, 43699, 4823, 45, 125358, 13, 6, 5, 2, 1, 1, 1, 1, 1, 1, 1, 1, 1, 1, 1, 1, 1, 1, 1, 1, 1, 1, 1, 1, 1, 1, 1, 1, 1, 1, 1, 1, 1, 1, 1, 1, 1, 1, 1, 1, 1, 1]\n",
      "\n",
      "  Dobrij den, ili, esly ty khosesc, dobrij vecer. Oltre a cancellare in immediata e rubare punti in giro, hai controllato chi sono i due scherzatori? Li hai cazziati? Carlo Morino (dillo a zi  Carlo)  Buon giorno, o se preferisci, buo pomeriggio.. Hai cancellato in immediata una goliardata (Dobre). L ho messa in semplificata perché gli autori dello scherzo sono due uteni registrati o forse un unica persona con due registrazioni. Sarebbe il caso che un amministratore sorteggiato a caso gli desse un occhiata e bacchettasse loro le mani. La frase in russo è perchè dobre in russo significa bene. Carlo Neanche admin sei? Insomma non ti va di fare niente di niente. Abbasso la lazie  Anche l occhio vuole la sua parte  Abbasso la juve\n",
      "  [0, 37968, 19756, 168, 6, 4, 1499, 6, 4, 198, 538, 2281, 36013, 7, 6964, 6, 4, 88750, 170, 173, 3443, 6, 5, 109904, 10, 126136, 107, 23, 191794, 28, 21922, 1046, 46112, 23, 37585, 6, 4, 1337, 182799, 188, 1658, 1389, 17, 4743, 6, 40676, 169, 13300, 705, 1261, 1337, 25592, 5320, 118, 705, 83551, 5919, 4043, 15, 45, 9284, 10, 3546, 83551, 1388, 667, 191, 15611, 6, 4, 36, 40, 31554, 41820, 6, 4, 373, 31, 128787, 1468, 4368, 126136, 188, 23, 191794, 220, 8104, 40122, 10135, 15, 164491, 6, 194, 339, 739, 115288, 23, 216768, 102, 10724, 1978, 21395, 18739, 6, 40676, 1158, 1389, 4743, 10595, 14, 128670, 14, 36, 33722, 51, 90964, 5132, 158, 4743, 34983, 2813, 6, 5, 947, 37349, 211, 2941, 290]\n",
      "\n",
      "  10% of texts are featured.\n",
      "  20% of texts are featured.\n",
      "  30% of texts are featured.\n",
      "  40% of texts are featured.\n",
      "  50% of texts are featured.\n",
      "  60% of texts are featured.\n",
      "  70% of texts are featured.\n",
      "  80% of texts are featured.\n",
      "  90% of texts are featured.\n",
      "  100% of texts are featured.\n",
      "Language \"it\": featurizing is finished.\n",
      "\n",
      "Language \"pt\": featurizing is started.\n",
      "Number of texts is 11012.\n"
     ]
    },
    {
     "data": {
      "application/vnd.jupyter.widget-view+json": {
       "model_id": "2a057c07d6e14c08822962f1425585a3",
       "version_major": 2,
       "version_minor": 0
      },
      "text/plain": [
       "HBox(children=(FloatProgress(value=0.0, max=11012.0), HTML(value='')))"
      ]
     },
     "metadata": {},
     "output_type": "display_data"
    },
    {
     "name": "stdout",
     "output_type": "stream",
     "text": [
      "\n",
      "\n",
      "3 examples of texts after tokenization:\n",
      "  Olá Béria, na verdade a alteração que fiz na Página do Ex-Presidente Itamar Franco estava correta. Ele nasceu em Juiz de Fora e não em Salvador como diz lá. Talvez eu não tenha feito da forma correta, mas, de fato essa é a verdade. Eis uma fonte mais que confiável: http://www.presidencia.gov.br/info_historicas/galeria_pres/galitamar/galitamar/integrapresidente_view/ Obrigado. Um forte abraço. CH.\n",
      "  [0, 91906, 335, 48488, 6, 4, 24, 31522, 10, 42068, 1156, 41, 17148, 24, 199618, 54, 5443, 20, 34824, 1650, 62851, 36160, 17047, 174442, 6, 5, 12701, 53948, 34, 352, 3314, 1418, 8, 1326, 11, 28, 1027, 352, 61356, 533, 21111, 5648, 6, 5, 195391, 1175, 1027, 46388, 22247, 48, 1483, 174442, 6, 4, 1163, 6, 4, 8, 40887, 11865, 393, 10, 31522, 6, 5, 104331, 788, 53235, 732, 41, 17438, 21299, 152, 1621, 6, 696, 1426, 6, 5, 215193, 6, 5, 6, 12074, 6, 5, 5491, 248, 3004, 454, 66029, 9381, 248, 155043, 454, 9518, 248, 4662, 102, 1727, 248, 4662, 102, 1727, 248, 20603, 111800, 454, 22751, 248, 184981, 6, 5, 2793, 11966, 207038, 6, 5, 14045, 6, 5, 2, 1, 1, 1, 1, 1, 1]\n",
      "\n",
      "  Você não gosta de ser chamado de TONTO! Então não chame os outros!! (issó é muito velho mas talvez você não saiba...). Eu não sabia das 100 contribuições mínimas para se tornar administrador. Por outro lado VOCÊ não deveria ser administrador pela sua falta de educação. Vou esperar mais uns 8 meses (contribuindo direto) para então tentar de novo ser um EDUCADO administrador Lux The Guide\n",
      "  [0, 23316, 1027, 52949, 8, 520, 65119, 8, 384, 198871, 711, 66477, 1027, 1608, 282, 362, 7617, 6506, 15, 83, 20581, 393, 3628, 161142, 1163, 112473, 3427, 1027, 104053, 153, 194, 5177, 1027, 97893, 381, 805, 46426, 3175, 90596, 7, 121, 40, 37387, 193000, 6, 5, 1818, 13343, 13085, 177591, 23667, 1027, 118605, 520, 193000, 3171, 1646, 9829, 8, 81899, 6, 5, 88931, 51180, 732, 2234, 382, 11550, 15, 46426, 557, 5365, 188, 1388, 121, 27573, 54746, 8, 5474, 520, 286, 177377, 13223, 193000, 85561, 581, 44583, 2, 1, 1, 1, 1, 1, 1, 1, 1, 1, 1, 1, 1, 1, 1, 1, 1, 1, 1, 1, 1, 1, 1, 1, 1, 1, 1, 1, 1, 1, 1, 1, 1, 1, 1, 1, 1, 1, 1, 1, 1]\n",
      "\n",
      "  Nada, aquela Userbox não tem a ver com você não, são por causa dos malditos administradores, mas prefiro deixar isso pra lá! Eu pensava que a Wikificação tinha acabado! rsrsrs. Não precisa ter pressa não! afinal, você está me ajudando! Boas contribuições!    Gessinguer    hum?\n",
      "  [0, 60092, 6, 4, 84315, 53400, 11728, 1027, 1790, 10, 493, 375, 3427, 1027, 6, 4, 3854, 196, 7278, 655, 960, 55035, 7, 193000, 90, 6, 4, 1163, 479, 13448, 31, 16744, 6851, 1645, 5648, 711, 5177, 14946, 330, 41, 10, 601, 783, 127744, 28471, 171137, 711, 151756, 4295, 4295, 6, 5, 10527, 17452, 704, 24234, 11, 1027, 711, 10, 33870, 6, 4, 3427, 1570, 163, 26631, 557, 711, 2460, 162, 46426, 3175, 711, 2206, 38001, 16763, 12430, 705, 2, 1, 1, 1, 1, 1, 1, 1, 1, 1, 1, 1, 1, 1, 1, 1, 1, 1, 1, 1, 1, 1, 1, 1, 1, 1, 1, 1, 1, 1, 1, 1, 1, 1, 1, 1, 1, 1, 1, 1, 1, 1, 1, 1, 1, 1, 1, 1, 1]\n",
      "\n",
      "  10% of texts are featured.\n",
      "  20% of texts are featured.\n",
      "  30% of texts are featured.\n",
      "  40% of texts are featured.\n",
      "  50% of texts are featured.\n",
      "  60% of texts are featured.\n",
      "  70% of texts are featured.\n",
      "  80% of texts are featured.\n",
      "  90% of texts are featured.\n",
      "  100% of texts are featured.\n",
      "Language \"pt\": featurizing is finished.\n",
      "\n",
      "Language \"ru\": featurizing is started.\n",
      "Number of texts is 10948.\n"
     ]
    },
    {
     "data": {
      "application/vnd.jupyter.widget-view+json": {
       "model_id": "5895569e57904ebeadc9b79caab3155f",
       "version_major": 2,
       "version_minor": 0
      },
      "text/plain": [
       "HBox(children=(FloatProgress(value=0.0, max=10948.0), HTML(value='')))"
      ]
     },
     "metadata": {},
     "output_type": "display_data"
    },
    {
     "name": "stdout",
     "output_type": "stream",
     "text": [
      "\n",
      "\n",
      "3 examples of texts after tokenization:\n",
      "  Отвратительное оформление статьи: пример того, как они не должны оформляться. Три вида марок плюс какая-то монета - что они призваны проиллюстрировать? Текст теряется посреди этой филателической галиматьи.\n",
      "  [0, 3858, 55251, 80502, 103, 213506, 47190, 152, 12049, 2574, 6, 4, 819, 2792, 77, 13995, 204006, 2454, 6, 5, 27874, 20999, 22775, 2297, 56756, 84933, 20, 690, 89405, 59, 20, 414, 2792, 182830, 227, 591, 89, 133247, 15782, 16833, 705, 56968, 238084, 989, 147173, 89, 10757, 44363, 59, 11892, 31825, 29415, 3532, 1117, 89, 6, 5, 2, 1, 1, 1, 1, 1, 1, 1, 1, 1, 1, 1, 1, 1, 1, 1, 1, 1, 1, 1, 1, 1, 1, 1, 1, 1, 1, 1, 1, 1, 1, 1, 1, 1, 1, 1, 1, 1, 1, 1, 1, 1, 1, 1, 1, 1, 1, 1, 1, 1, 1, 1, 1, 1, 1, 1, 1, 1, 1, 1, 1, 1, 1, 1, 1, 1, 1, 1, 1, 1, 1]\n",
      "\n",
      "  А может наоборот? «Везде» «знатоки» переводят с английского без понятия о том, что же было в японском?)) Ну а насчет смешно: а мне имена-названия смешными не кажутся — у каждого свое чувство юмора, может кому-то имена Юлий или Иван кажутся такими (а уж балалайка уж точно смешное название^.~).\n",
      "  [0, 536, 3150, 125061, 705, 94, 417, 33901, 103, 340, 94, 9137, 328, 751, 340, 68902, 1343, 135, 143517, 695, 1093, 132128, 407, 2660, 6, 4, 414, 1355, 2120, 49, 76235, 7898, 705, 16, 16, 11331, 252, 29, 132027, 204184, 152, 252, 4042, 69069, 20, 22002, 2097, 5063, 736, 6467, 77, 52018, 13287, 292, 84, 51559, 20923, 53490, 3207, 23407, 6, 4, 3150, 22133, 20, 690, 69069, 9363, 546, 312, 637, 28101, 52018, 13287, 83851, 15, 252, 34295, 14970, 11693, 415, 34295, 12588, 204184, 103, 128755, 13331, 5, 2306, 194, 2, 1, 1, 1, 1, 1, 1, 1, 1, 1, 1, 1, 1, 1, 1, 1, 1, 1, 1, 1, 1, 1, 1, 1, 1, 1, 1, 1, 1, 1, 1, 1, 1, 1, 1, 1, 1, 1]\n",
      "\n",
      "  Осуждать я точно не буду. Могу не соглашаться с чем-то, но думаю, что я вашу позицию понял. Арбитры должны руководствоваться правилами, а не писать эти правила, что требовали в той заявке. Но это разница в подходе. Я могу с чем-то не соглашаться, но чужую позицию нужно уважать. И может вам и стоит поработать арбитром, чтобы понять, как получаются решения.\n",
      "  [0, 35908, 32083, 31728, 784, 12588, 77, 14826, 6, 5, 154991, 77, 242276, 2454, 135, 4703, 20, 690, 6, 4, 779, 28470, 6, 4, 414, 784, 102195, 203894, 65807, 6, 5, 6871, 33303, 5090, 13995, 89359, 82246, 192052, 6, 4, 252, 77, 121294, 11922, 20484, 6, 4, 414, 225633, 89, 49, 3821, 22263, 1269, 6, 5, 1851, 1097, 1080, 7405, 49, 40205, 103, 6, 5, 1509, 9647, 135, 4703, 20, 690, 77, 242276, 2454, 6, 4, 779, 6, 65057, 4798, 203894, 6944, 151524, 1117, 6, 5, 804, 3150, 4208, 35, 18510, 129, 92432, 6421, 33303, 17389, 6, 4, 3077, 46806, 6, 4, 819, 178364, 989, 19816, 6, 5, 2, 1, 1, 1, 1, 1, 1, 1, 1, 1, 1, 1, 1, 1, 1, 1, 1, 1, 1, 1]\n",
      "\n",
      "  10% of texts are featured.\n",
      "  20% of texts are featured.\n",
      "  30% of texts are featured.\n",
      "  40% of texts are featured.\n",
      "  50% of texts are featured.\n",
      "  60% of texts are featured.\n",
      "  70% of texts are featured.\n",
      "  80% of texts are featured.\n",
      "  90% of texts are featured.\n",
      "  100% of texts are featured.\n",
      "Language \"ru\": featurizing is finished.\n",
      "\n",
      "Language \"tr\": featurizing is started.\n",
      "Number of texts is 14000.\n"
     ]
    },
    {
     "data": {
      "application/vnd.jupyter.widget-view+json": {
       "model_id": "60bdc3191cf147948e071293497ffb4a",
       "version_major": 2,
       "version_minor": 0
      },
      "text/plain": [
       "HBox(children=(FloatProgress(value=0.0, max=14000.0), HTML(value='')))"
      ]
     },
     "metadata": {},
     "output_type": "display_data"
    },
    {
     "name": "stdout",
     "output_type": "stream",
     "text": [
      "\n",
      "\n",
      "3 examples of texts after tokenization:\n",
      "  Sayın Yalhı, Teşekkür ederim. Umarım silinmez. Bu yürüyüş parkuru hem tarihin yaşaması için önem arzediyor hemde yerel ekonomiye katkıda bulunarak köylerden kentlere göçü engelliyor. Köyde yaşayan insanların bulundukları yer ile gurur duymalarına vesile oluyor. Katkılarınızdan dolayı ayrıca teşekkür ederim. Selam ve sevgiler, Sedat Çakır Sedatcakir\n",
      "  [0, 116371, 2369, 79366, 1057, 6, 4, 208262, 68612, 6, 5, 2793, 80592, 78, 2397, 11723, 6, 5, 667, 184161, 366, 120209, 2360, 33700, 19, 24654, 8390, 1099, 64780, 187, 64807, 18369, 2360, 112, 115406, 6046, 1033, 65990, 85, 53877, 13489, 69041, 18328, 24603, 6660, 138797, 3449, 161674, 13437, 6, 5, 21621, 53, 112, 41327, 37403, 42095, 84552, 4098, 1350, 13455, 42, 16969, 192, 7551, 35882, 133, 38479, 6, 5, 7291, 12558, 66798, 549, 50069, 60888, 47902, 68612, 6, 5, 503, 3719, 173, 53967, 603, 6, 4, 4246, 257, 6725, 344, 3772, 4246, 257, 408, 8372, 2, 1, 1, 1, 1, 1, 1, 1, 1, 1, 1, 1, 1, 1, 1, 1, 1, 1, 1, 1, 1, 1, 1, 1, 1, 1, 1, 1, 1, 1, 1, 1]\n",
      "\n",
      "  Valla içeriğine bakmadım bile. Haklısın aslında. SAM edelim biz onu, vuralım gözüne gözüne.    Vito Genovese\n",
      "  [0, 130892, 170953, 86, 3472, 143724, 9361, 6, 5, 23493, 1304, 24061, 78618, 6, 5, 39699, 2223, 40251, 7124, 17107, 6, 4, 31429, 48274, 86428, 86, 86428, 86, 6, 5, 582, 188, 129885, 3132, 13, 2, 1, 1, 1, 1, 1, 1, 1, 1, 1, 1, 1, 1, 1, 1, 1, 1, 1, 1, 1, 1, 1, 1, 1, 1, 1, 1, 1, 1, 1, 1, 1, 1, 1, 1, 1, 1, 1, 1, 1, 1, 1, 1, 1, 1, 1, 1, 1, 1, 1, 1, 1, 1, 1, 1, 1, 1, 1, 1, 1, 1, 1, 1, 1, 1, 1, 1, 1, 1, 1, 1, 1, 1, 1, 1, 1, 1, 1, 1, 1, 1, 1, 1, 1, 1, 1, 1, 1, 1, 1, 1, 1, 1]\n",
      "\n",
      "  Miami Vice Logo sm.jpg dosyası kullanılmıyor           Miami Vice Logo sm.jpg    adlı dosyayı yüklediğiniz için teşekkürler. Dosya tanım sayfasında belirtildiği üzere, dosya adil kullanım dosyasıdır ve Vikipedi de adil kullanım politikası kriterlerini sağlamak zorundadır. Şu anda bu dosya hiçbir maddede kullanılmamaktadır. Eğer dosya maddeden çıkarıldıysa, neden çıkarıldığını kontrol ediniz. Eğer kullanılabilir olduğunu düşünüyorsanız yeniden ekleyebilirsiniz. Ancak resmin adil kullanım politikasına kesin olarak uyduğundan emin olunuz. Yüklediğiniz diğer dosyaları kontrol etmek için bu bağlantıyı tıklayınız.    Hızlı silme kriterleri gereğince hiçbir maddede kullanılmayan adil kullanım resimleri işaretlendikten bir hafta sonra silinirler   . Sorularınız için Vikipedi:Medya telif soruları sayfasını kullanabilirsiniz. Teşekkürler. Deniz (mesaj)\n",
      "  [0, 69563, 48180, 36684, 14050, 6, 5, 6, 25687, 655, 41057, 17005, 13605, 62316, 69563, 48180, 36684, 14050, 6, 5, 6, 25687, 30081, 121983, 8788, 38165, 133, 55975, 1099, 146896, 6, 5, 31033, 395, 86074, 36902, 10180, 49460, 76868, 23504, 6, 4, 121983, 130916, 89696, 121983, 123809, 173, 6, 151168, 8, 130916, 89696, 8724, 2540, 87499, 7339, 114075, 75987, 2544, 6, 5, 50649, 1565, 373, 121983, 39236, 88110, 112, 183958, 19703, 6, 5, 51930, 121983, 88110, 555, 16251, 20685, 55708, 6, 4, 22926, 16251, 169599, 7619, 28, 99955, 6, 5, 51930, 220293, 7033, 138827, 33914, 54813, 1627, 165996, 6, 5, 28844, 36685, 19, 130916, 89696, 8724, 14728, 85753, 2086, 15002, 39349, 7097, 122326, 18865, 3326, 6, 5, 990, 6025, 133, 55975, 14458, 121983, 980, 7619, 25194, 1099, 373]\n",
      "\n",
      "  10% of texts are featured.\n",
      "  20% of texts are featured.\n",
      "  30% of texts are featured.\n",
      "  40% of texts are featured.\n",
      "  50% of texts are featured.\n",
      "  60% of texts are featured.\n",
      "  70% of texts are featured.\n",
      "  80% of texts are featured.\n",
      "  90% of texts are featured.\n",
      "  100% of texts are featured.\n",
      "Language \"tr\": featurizing is finished.\n"
     ]
    }
   ],
   "source": [
    "dataset_for_submission_ = calculate_features_of_texts(\n",
    "    texts=texts_for_submission,\n",
    "    tokenizer=xlmroberta_tokenizer, maxlen=max_seq_len,\n",
    "    fe=feature_extractor,\n",
    "    batch_size=batch_size_for_siamese\n",
    ")"
   ]
  },
  {
   "cell_type": "markdown",
   "metadata": {
    "papermill": {
     "duration": 2.398231,
     "end_time": "2021-03-11T11:35:42.664149",
     "exception": false,
     "start_time": "2021-03-11T11:35:40.265918",
     "status": "completed"
    },
    "tags": []
   },
   "source": [
    "I delete the XLM-R-based feature extractor and corresponded tokenizer. They are no longer needed."
   ]
  },
  {
   "cell_type": "code",
   "execution_count": 50,
   "metadata": {
    "execution": {
     "iopub.execute_input": "2021-03-11T11:35:47.454889Z",
     "iopub.status.busy": "2021-03-11T11:35:47.454060Z",
     "iopub.status.idle": "2021-03-11T11:35:47.456965Z",
     "shell.execute_reply": "2021-03-11T11:35:47.457379Z"
    },
    "papermill": {
     "duration": 2.447197,
     "end_time": "2021-03-11T11:35:47.457505",
     "exception": false,
     "start_time": "2021-03-11T11:35:45.010308",
     "status": "completed"
    },
    "tags": []
   },
   "outputs": [],
   "source": [
    "del feature_extractor, xlmroberta_tokenizer"
   ]
  },
  {
   "cell_type": "markdown",
   "metadata": {
    "papermill": {
     "duration": 2.637605,
     "end_time": "2021-03-11T11:35:52.249778",
     "exception": false,
     "start_time": "2021-03-11T11:35:49.612173",
     "status": "completed"
    },
    "tags": []
   },
   "source": [
    "I simplify the abovementioned data for the final classifier training and submitting using this classifier. Simplification is realized by means of these data transforming from a dictionary by languages to a \"normal\" NumPy arrays pairs (X and y). Also, in this way, I get a CV splitting of training data."
   ]
  },
  {
   "cell_type": "code",
   "execution_count": 51,
   "metadata": {
    "execution": {
     "iopub.execute_input": "2021-03-11T11:35:56.658876Z",
     "iopub.status.busy": "2021-03-11T11:35:56.657227Z",
     "iopub.status.idle": "2021-03-11T11:35:56.720655Z",
     "shell.execute_reply": "2021-03-11T11:35:56.720174Z"
    },
    "papermill": {
     "duration": 2.247556,
     "end_time": "2021-03-11T11:35:56.720755",
     "exception": false,
     "start_time": "2021-03-11T11:35:54.473199",
     "status": "completed"
    },
    "tags": []
   },
   "outputs": [],
   "source": [
    "data_for_cls_training, cv_splitting, submission_data_for_cls = generate_featured_data(\n",
    "    dataset_for_training_,\n",
    "    dataset_for_submission_\n",
    ")"
   ]
  },
  {
   "cell_type": "markdown",
   "metadata": {
    "papermill": {
     "duration": 2.165296,
     "end_time": "2021-03-11T11:36:01.177916",
     "exception": false,
     "start_time": "2021-03-11T11:35:59.012620",
     "status": "completed"
    },
    "tags": []
   },
   "source": [
    "I delete all data which becomes unnecessary and call the garbage collector."
   ]
  },
  {
   "cell_type": "code",
   "execution_count": 52,
   "metadata": {
    "execution": {
     "iopub.execute_input": "2021-03-11T11:36:06.032605Z",
     "iopub.status.busy": "2021-03-11T11:36:06.030577Z",
     "iopub.status.idle": "2021-03-11T11:36:06.038008Z",
     "shell.execute_reply": "2021-03-11T11:36:06.033721Z"
    },
    "papermill": {
     "duration": 2.395846,
     "end_time": "2021-03-11T11:36:06.038106",
     "exception": false,
     "start_time": "2021-03-11T11:36:03.642260",
     "status": "completed"
    },
    "tags": []
   },
   "outputs": [
    {
     "data": {
      "text/plain": [
       "88"
      ]
     },
     "execution_count": 52,
     "metadata": {},
     "output_type": "execute_result"
    }
   ],
   "source": [
    "del dataset_for_training_, dataset_for_submission_\n",
    "gc.collect()"
   ]
  },
  {
   "cell_type": "markdown",
   "metadata": {
    "papermill": {
     "duration": 2.699245,
     "end_time": "2021-03-11T11:36:10.938113",
     "exception": false,
     "start_time": "2021-03-11T11:36:08.238868",
     "status": "completed"
    },
    "tags": []
   },
   "source": [
    "I show projections of data, which are featured by a trained XLM-R."
   ]
  },
  {
   "cell_type": "code",
   "execution_count": 53,
   "metadata": {
    "execution": {
     "iopub.execute_input": "2021-03-11T11:36:15.526840Z",
     "iopub.status.busy": "2021-03-11T11:36:15.526059Z",
     "iopub.status.idle": "2021-03-11T11:36:27.222888Z",
     "shell.execute_reply": "2021-03-11T11:36:27.222014Z"
    },
    "papermill": {
     "duration": 14.115325,
     "end_time": "2021-03-11T11:36:27.222990",
     "exception": false,
     "start_time": "2021-03-11T11:36:13.107665",
     "status": "completed"
    },
    "tags": []
   },
   "outputs": [
    {
     "data": {
      "image/png": "[encoded data removed]",
      "text/plain": [
       "<Figure size 720x720 with 1 Axes>"
      ]
     },
     "metadata": {
      "needs_background": "light"
     },
     "output_type": "display_data"
    }
   ],
   "source": [
    "calculate_projections(data_for_cls_training, 'after training of XLM-R as a Siamese network')"
   ]
  },
  {
   "cell_type": "markdown",
   "metadata": {
    "papermill": {
     "duration": 2.239484,
     "end_time": "2021-03-11T11:36:31.657545",
     "exception": false,
     "start_time": "2021-03-11T11:36:29.418061",
     "status": "completed"
    },
    "tags": []
   },
   "source": [
    "At last, I save all featured data in the special binary file. After that, I can re-use these data in any experiment with the final classifier. The Siamese XLM-R is no longer needed because it had done its work!"
   ]
  },
  {
   "cell_type": "code",
   "execution_count": 54,
   "metadata": {
    "execution": {
     "iopub.execute_input": "2021-03-11T11:36:36.285043Z",
     "iopub.status.busy": "2021-03-11T11:36:36.284172Z",
     "iopub.status.idle": "2021-03-11T11:36:36.620444Z",
     "shell.execute_reply": "2021-03-11T11:36:36.618852Z"
    },
    "papermill": {
     "duration": 2.800807,
     "end_time": "2021-03-11T11:36:36.620586",
     "exception": false,
     "start_time": "2021-03-11T11:36:33.819779",
     "status": "completed"
    },
    "tags": []
   },
   "outputs": [],
   "source": [
    "with open(tmp_features_name, 'wb') as fp:\n",
    "    pickle.dump(\n",
    "        obj=(data_for_cls_training, cv_splitting, submission_data_for_cls),\n",
    "        file=fp,\n",
    "        protocol=pickle.HIGHEST_PROTOCOL\n",
    "    )"
   ]
  }
 ],
 "metadata": {
  "kernelspec": {
   "display_name": "Python 3",
   "language": "python",
   "name": "python3"
  },
  "language_info": {
   "codemirror_mode": {
    "name": "ipython",
    "version": 3
   },
   "file_extension": ".py",
   "mimetype": "text/x-python",
   "name": "python",
   "nbconvert_exporter": "python",
   "pygments_lexer": "ipython3",
   "version": "3.7.6"
  },
  "papermill": {
   "duration": 9661.111328,
   "end_time": "2021-03-11T11:36:40.811554",
   "environment_variables": {},
   "exception": null,
   "input_path": "__notebook__.ipynb",
   "output_path": "__notebook__.ipynb",
   "parameters": {},
   "start_time": "2021-03-11T08:55:39.700226",
   "version": "2.1.0"
  },
  "widgets": {
   "application/vnd.jupyter.widget-state+json": {
    "state": {
     "003317c071644c5f9199b1f7c2248dcc": {
      "model_module": "@jupyter-widgets/base",
      "model_module_version": "1.2.0",
      "model_name": "LayoutModel",
      "state": {
       "_model_module": "@jupyter-widgets/base",
       "_model_module_version": "1.2.0",
       "_model_name": "LayoutModel",
       "_view_count": null,
       "_view_module": "@jupyter-widgets/base",
       "_view_module_version": "1.2.0",
       "_view_name": "LayoutView",
       "align_content": null,
       "align_items": null,
       "align_self": null,
       "border": null,
       "bottom": null,
       "display": null,
       "flex": null,
       "flex_flow": null,
       "grid_area": null,
       "grid_auto_columns": null,
       "grid_auto_flow": null,
       "grid_auto_rows": null,
       "grid_column": null,
       "grid_gap": null,
       "grid_row": null,
       "grid_template_areas": null,
       "grid_template_columns": null,
       "grid_template_rows": null,
       "height": null,
       "justify_content": null,
       "justify_items": null,
       "left": null,
       "margin": null,
       "max_height": null,
       "max_width": null,
       "min_height": null,
       "min_width": null,
       "object_fit": null,
       "object_position": null,
       "order": null,
       "overflow": null,
       "overflow_x": null,
       "overflow_y": null,
       "padding": null,
       "right": null,
       "top": null,
       "visibility": null,
       "width": null
      }
     },
     "00e7eb08180d45f1896b8ca3ebdeaf45": {
      "model_module": "@jupyter-widgets/controls",
      "model_module_version": "1.5.0",
      "model_name": "ProgressStyleModel",
      "state": {
       "_model_module": "@jupyter-widgets/controls",
       "_model_module_version": "1.5.0",
       "_model_name": "ProgressStyleModel",
       "_view_count": null,
       "_view_module": "@jupyter-widgets/base",
       "_view_module_version": "1.2.0",
       "_view_name": "StyleView",
       "bar_color": null,
       "description_width": "initial"
      }
     },
     "037db87ceaf34c3c82fd1b49a71ae39b": {
      "model_module": "@jupyter-widgets/base",
      "model_module_version": "1.2.0",
      "model_name": "LayoutModel",
      "state": {
       "_model_module": "@jupyter-widgets/base",
       "_model_module_version": "1.2.0",
       "_model_name": "LayoutModel",
       "_view_count": null,
       "_view_module": "@jupyter-widgets/base",
       "_view_module_version": "1.2.0",
       "_view_name": "LayoutView",
       "align_content": null,
       "align_items": null,
       "align_self": null,
       "border": null,
       "bottom": null,
       "display": null,
       "flex": null,
       "flex_flow": null,
       "grid_area": null,
       "grid_auto_columns": null,
       "grid_auto_flow": null,
       "grid_auto_rows": null,
       "grid_column": null,
       "grid_gap": null,
       "grid_row": null,
       "grid_template_areas": null,
       "grid_template_columns": null,
       "grid_template_rows": null,
       "height": null,
       "justify_content": null,
       "justify_items": null,
       "left": null,
       "margin": null,
       "max_height": null,
       "max_width": null,
       "min_height": null,
       "min_width": null,
       "object_fit": null,
       "object_position": null,
       "order": null,
       "overflow": null,
       "overflow_x": null,
       "overflow_y": null,
       "padding": null,
       "right": null,
       "top": null,
       "visibility": null,
       "width": null
      }
     },
     "058b5d07b9a3474689933dc425f7a8b1": {
      "model_module": "@jupyter-widgets/controls",
      "model_module_version": "1.5.0",
      "model_name": "DescriptionStyleModel",
      "state": {
       "_model_module": "@jupyter-widgets/controls",
       "_model_module_version": "1.5.0",
       "_model_name": "DescriptionStyleModel",
       "_view_count": null,
       "_view_module": "@jupyter-widgets/base",
       "_view_module_version": "1.2.0",
       "_view_name": "StyleView",
       "description_width": ""
      }
     },
     "069dbd5b8520498c9ea256e81a0fd979": {
      "model_module": "@jupyter-widgets/controls",
      "model_module_version": "1.5.0",
      "model_name": "FloatProgressModel",
      "state": {
       "_dom_classes": [],
       "_model_module": "@jupyter-widgets/controls",
       "_model_module_version": "1.5.0",
       "_model_name": "FloatProgressModel",
       "_view_count": null,
       "_view_module": "@jupyter-widgets/controls",
       "_view_module_version": "1.5.0",
       "_view_name": "ProgressView",
       "bar_style": "success",
       "description": "100%",
       "description_tooltip": null,
       "layout": "IPY_MODEL_1d967044c9cf48c6a1bbf74132eba303",
       "max": 3000.0,
       "min": 0.0,
       "orientation": "horizontal",
       "style": "IPY_MODEL_ac42c70c2dbe4e7a8c5767e8bd9859a1",
       "value": 3000.0
      }
     },
     "06e1f82c72534c0a925d7dfb386a51a5": {
      "model_module": "@jupyter-widgets/base",
      "model_module_version": "1.2.0",
      "model_name": "LayoutModel",
      "state": {
       "_model_module": "@jupyter-widgets/base",
       "_model_module_version": "1.2.0",
       "_model_name": "LayoutModel",
       "_view_count": null,
       "_view_module": "@jupyter-widgets/base",
       "_view_module_version": "1.2.0",
       "_view_name": "LayoutView",
       "align_content": null,
       "align_items": null,
       "align_self": null,
       "border": null,
       "bottom": null,
       "display": null,
       "flex": null,
       "flex_flow": null,
       "grid_area": null,
       "grid_auto_columns": null,
       "grid_auto_flow": null,
       "grid_auto_rows": null,
       "grid_column": null,
       "grid_gap": null,
       "grid_row": null,
       "grid_template_areas": null,
       "grid_template_columns": null,
       "grid_template_rows": null,
       "height": null,
       "justify_content": null,
       "justify_items": null,
       "left": null,
       "margin": null,
       "max_height": null,
       "max_width": null,
       "min_height": null,
       "min_width": null,
       "object_fit": null,
       "object_position": null,
       "order": null,
       "overflow": null,
       "overflow_x": null,
       "overflow_y": null,
       "padding": null,
       "right": null,
       "top": null,
       "visibility": null,
       "width": null
      }
     },
     "0708c6b5d6da4b7cb882a584a41217a2": {
      "model_module": "@jupyter-widgets/base",
      "model_module_version": "1.2.0",
      "model_name": "LayoutModel",
      "state": {
       "_model_module": "@jupyter-widgets/base",
       "_model_module_version": "1.2.0",
       "_model_name": "LayoutModel",
       "_view_count": null,
       "_view_module": "@jupyter-widgets/base",
       "_view_module_version": "1.2.0",
       "_view_name": "LayoutView",
       "align_content": null,
       "align_items": null,
       "align_self": null,
       "border": null,
       "bottom": null,
       "display": null,
       "flex": null,
       "flex_flow": null,
       "grid_area": null,
       "grid_auto_columns": null,
       "grid_auto_flow": null,
       "grid_auto_rows": null,
       "grid_column": null,
       "grid_gap": null,
       "grid_row": null,
       "grid_template_areas": null,
       "grid_template_columns": null,
       "grid_template_rows": null,
       "height": null,
       "justify_content": null,
       "justify_items": null,
       "left": null,
       "margin": null,
       "max_height": null,
       "max_width": null,
       "min_height": null,
       "min_width": null,
       "object_fit": null,
       "object_position": null,
       "order": null,
       "overflow": null,
       "overflow_x": null,
       "overflow_y": null,
       "padding": null,
       "right": null,
       "top": null,
       "visibility": null,
       "width": null
      }
     },
     "07a137577f0246f693e4e561f531df51": {
      "model_module": "@jupyter-widgets/controls",
      "model_module_version": "1.5.0",
      "model_name": "DescriptionStyleModel",
      "state": {
       "_model_module": "@jupyter-widgets/controls",
       "_model_module_version": "1.5.0",
       "_model_name": "DescriptionStyleModel",
       "_view_count": null,
       "_view_module": "@jupyter-widgets/base",
       "_view_module_version": "1.2.0",
       "_view_name": "StyleView",
       "description_width": ""
      }
     },
     "0a85a0bf97c842be9d11dfde03c89102": {
      "model_module": "@jupyter-widgets/base",
      "model_module_version": "1.2.0",
      "model_name": "LayoutModel",
      "state": {
       "_model_module": "@jupyter-widgets/base",
       "_model_module_version": "1.2.0",
       "_model_name": "LayoutModel",
       "_view_count": null,
       "_view_module": "@jupyter-widgets/base",
       "_view_module_version": "1.2.0",
       "_view_name": "LayoutView",
       "align_content": null,
       "align_items": null,
       "align_self": null,
       "border": null,
       "bottom": null,
       "display": null,
       "flex": null,
       "flex_flow": null,
       "grid_area": null,
       "grid_auto_columns": null,
       "grid_auto_flow": null,
       "grid_auto_rows": null,
       "grid_column": null,
       "grid_gap": null,
       "grid_row": null,
       "grid_template_areas": null,
       "grid_template_columns": null,
       "grid_template_rows": null,
       "height": null,
       "justify_content": null,
       "justify_items": null,
       "left": null,
       "margin": null,
       "max_height": null,
       "max_width": null,
       "min_height": null,
       "min_width": null,
       "object_fit": null,
       "object_position": null,
       "order": null,
       "overflow": null,
       "overflow_x": null,
       "overflow_y": null,
       "padding": null,
       "right": null,
       "top": null,
       "visibility": null,
       "width": null
      }
     },
     "0ef13f27061e4f2e97f9b7e8279c2c1b": {
      "model_module": "@jupyter-widgets/controls",
      "model_module_version": "1.5.0",
      "model_name": "HTMLModel",
      "state": {
       "_dom_classes": [],
       "_model_module": "@jupyter-widgets/controls",
       "_model_module_version": "1.5.0",
       "_model_name": "HTMLModel",
       "_view_count": null,
       "_view_module": "@jupyter-widgets/controls",
       "_view_module_version": "1.5.0",
       "_view_name": "HTMLView",
       "description": "",
       "description_tooltip": null,
       "layout": "IPY_MODEL_aeab48cc080043c58591da9fad3b2005",
       "placeholder": "​",
       "style": "IPY_MODEL_12059c209ba24b609062ef66cf783adf",
       "value": " 389561/389561 [13:20&lt;00:00, 486.39it/s]"
      }
     },
     "0fac6a3f34894de7895217c2ff32c4d8": {
      "model_module": "@jupyter-widgets/base",
      "model_module_version": "1.2.0",
      "model_name": "LayoutModel",
      "state": {
       "_model_module": "@jupyter-widgets/base",
       "_model_module_version": "1.2.0",
       "_model_name": "LayoutModel",
       "_view_count": null,
       "_view_module": "@jupyter-widgets/base",
       "_view_module_version": "1.2.0",
       "_view_name": "LayoutView",
       "align_content": null,
       "align_items": null,
       "align_self": null,
       "border": null,
       "bottom": null,
       "display": null,
       "flex": null,
       "flex_flow": null,
       "grid_area": null,
       "grid_auto_columns": null,
       "grid_auto_flow": null,
       "grid_auto_rows": null,
       "grid_column": null,
       "grid_gap": null,
       "grid_row": null,
       "grid_template_areas": null,
       "grid_template_columns": null,
       "grid_template_rows": null,
       "height": null,
       "justify_content": null,
       "justify_items": null,
       "left": null,
       "margin": null,
       "max_height": null,
       "max_width": null,
       "min_height": null,
       "min_width": null,
       "object_fit": null,
       "object_position": null,
       "order": null,
       "overflow": null,
       "overflow_x": null,
       "overflow_y": null,
       "padding": null,
       "right": null,
       "top": null,
       "visibility": null,
       "width": null
      }
     },
     "12059c209ba24b609062ef66cf783adf": {
      "model_module": "@jupyter-widgets/controls",
      "model_module_version": "1.5.0",
      "model_name": "DescriptionStyleModel",
      "state": {
       "_model_module": "@jupyter-widgets/controls",
       "_model_module_version": "1.5.0",
       "_model_name": "DescriptionStyleModel",
       "_view_count": null,
       "_view_module": "@jupyter-widgets/base",
       "_view_module_version": "1.2.0",
       "_view_name": "StyleView",
       "description_width": ""
      }
     },
     "12072110c32b4203874a48bb704923a3": {
      "model_module": "@jupyter-widgets/controls",
      "model_module_version": "1.5.0",
      "model_name": "DescriptionStyleModel",
      "state": {
       "_model_module": "@jupyter-widgets/controls",
       "_model_module_version": "1.5.0",
       "_model_name": "DescriptionStyleModel",
       "_view_count": null,
       "_view_module": "@jupyter-widgets/base",
       "_view_module_version": "1.2.0",
       "_view_name": "StyleView",
       "description_width": ""
      }
     },
     "13f39b500e3b498485596f71436483b4": {
      "model_module": "@jupyter-widgets/base",
      "model_module_version": "1.2.0",
      "model_name": "LayoutModel",
      "state": {
       "_model_module": "@jupyter-widgets/base",
       "_model_module_version": "1.2.0",
       "_model_name": "LayoutModel",
       "_view_count": null,
       "_view_module": "@jupyter-widgets/base",
       "_view_module_version": "1.2.0",
       "_view_name": "LayoutView",
       "align_content": null,
       "align_items": null,
       "align_self": null,
       "border": null,
       "bottom": null,
       "display": null,
       "flex": null,
       "flex_flow": null,
       "grid_area": null,
       "grid_auto_columns": null,
       "grid_auto_flow": null,
       "grid_auto_rows": null,
       "grid_column": null,
       "grid_gap": null,
       "grid_row": null,
       "grid_template_areas": null,
       "grid_template_columns": null,
       "grid_template_rows": null,
       "height": null,
       "justify_content": null,
       "justify_items": null,
       "left": null,
       "margin": null,
       "max_height": null,
       "max_width": null,
       "min_height": null,
       "min_width": null,
       "object_fit": null,
       "object_position": null,
       "order": null,
       "overflow": null,
       "overflow_x": null,
       "overflow_y": null,
       "padding": null,
       "right": null,
       "top": null,
       "visibility": null,
       "width": null
      }
     },
     "1472ac5c57d140f3a2277439c209df43": {
      "model_module": "@jupyter-widgets/controls",
      "model_module_version": "1.5.0",
      "model_name": "HBoxModel",
      "state": {
       "_dom_classes": [],
       "_model_module": "@jupyter-widgets/controls",
       "_model_module_version": "1.5.0",
       "_model_name": "HBoxModel",
       "_view_count": null,
       "_view_module": "@jupyter-widgets/controls",
       "_view_module_version": "1.5.0",
       "_view_name": "HBoxView",
       "box_style": "",
       "children": [
        "IPY_MODEL_2edfa0919f8e4414aec7ae2489bb3e1b",
        "IPY_MODEL_235df7ac70144a5d9d1ddee42a8a7bb6"
       ],
       "layout": "IPY_MODEL_66cef7cae30a4d82ad5d5d93b7f3a238"
      }
     },
     "1604bf224c33452085bc23a893622503": {
      "model_module": "@jupyter-widgets/controls",
      "model_module_version": "1.5.0",
      "model_name": "HBoxModel",
      "state": {
       "_dom_classes": [],
       "_model_module": "@jupyter-widgets/controls",
       "_model_module_version": "1.5.0",
       "_model_name": "HBoxModel",
       "_view_count": null,
       "_view_module": "@jupyter-widgets/controls",
       "_view_module_version": "1.5.0",
       "_view_name": "HBoxView",
       "box_style": "",
       "children": [
        "IPY_MODEL_e1f259ca7e66497a9cd94f340e6cb5ff",
        "IPY_MODEL_745500e2dcc4496bb26e6912bd2bde6d"
       ],
       "layout": "IPY_MODEL_4bdc724d7ca04070a2573c9a612ab15e"
      }
     },
     "167e8f440c034360afd55e547bbb011e": {
      "model_module": "@jupyter-widgets/controls",
      "model_module_version": "1.5.0",
      "model_name": "DescriptionStyleModel",
      "state": {
       "_model_module": "@jupyter-widgets/controls",
       "_model_module_version": "1.5.0",
       "_model_name": "DescriptionStyleModel",
       "_view_count": null,
       "_view_module": "@jupyter-widgets/base",
       "_view_module_version": "1.2.0",
       "_view_name": "StyleView",
       "description_width": ""
      }
     },
     "18825bc6e8d44069ba3b5d00e6413cef": {
      "model_module": "@jupyter-widgets/controls",
      "model_module_version": "1.5.0",
      "model_name": "ProgressStyleModel",
      "state": {
       "_model_module": "@jupyter-widgets/controls",
       "_model_module_version": "1.5.0",
       "_model_name": "ProgressStyleModel",
       "_view_count": null,
       "_view_module": "@jupyter-widgets/base",
       "_view_module_version": "1.2.0",
       "_view_name": "StyleView",
       "bar_color": null,
       "description_width": "initial"
      }
     },
     "1904ea4b66e24606a0eaef3375e68975": {
      "model_module": "@jupyter-widgets/controls",
      "model_module_version": "1.5.0",
      "model_name": "DescriptionStyleModel",
      "state": {
       "_model_module": "@jupyter-widgets/controls",
       "_model_module_version": "1.5.0",
       "_model_name": "DescriptionStyleModel",
       "_view_count": null,
       "_view_module": "@jupyter-widgets/base",
       "_view_module_version": "1.2.0",
       "_view_name": "StyleView",
       "description_width": ""
      }
     },
     "1991c386d7014ae7be5c6e589e5a1c49": {
      "model_module": "@jupyter-widgets/base",
      "model_module_version": "1.2.0",
      "model_name": "LayoutModel",
      "state": {
       "_model_module": "@jupyter-widgets/base",
       "_model_module_version": "1.2.0",
       "_model_name": "LayoutModel",
       "_view_count": null,
       "_view_module": "@jupyter-widgets/base",
       "_view_module_version": "1.2.0",
       "_view_name": "LayoutView",
       "align_content": null,
       "align_items": null,
       "align_self": null,
       "border": null,
       "bottom": null,
       "display": null,
       "flex": null,
       "flex_flow": null,
       "grid_area": null,
       "grid_auto_columns": null,
       "grid_auto_flow": null,
       "grid_auto_rows": null,
       "grid_column": null,
       "grid_gap": null,
       "grid_row": null,
       "grid_template_areas": null,
       "grid_template_columns": null,
       "grid_template_rows": null,
       "height": null,
       "justify_content": null,
       "justify_items": null,
       "left": null,
       "margin": null,
       "max_height": null,
       "max_width": null,
       "min_height": null,
       "min_width": null,
       "object_fit": null,
       "object_position": null,
       "order": null,
       "overflow": null,
       "overflow_x": null,
       "overflow_y": null,
       "padding": null,
       "right": null,
       "top": null,
       "visibility": null,
       "width": null
      }
     },
     "19b38f6debb04a60901fefa73adb9187": {
      "model_module": "@jupyter-widgets/base",
      "model_module_version": "1.2.0",
      "model_name": "LayoutModel",
      "state": {
       "_model_module": "@jupyter-widgets/base",
       "_model_module_version": "1.2.0",
       "_model_name": "LayoutModel",
       "_view_count": null,
       "_view_module": "@jupyter-widgets/base",
       "_view_module_version": "1.2.0",
       "_view_name": "LayoutView",
       "align_content": null,
       "align_items": null,
       "align_self": null,
       "border": null,
       "bottom": null,
       "display": null,
       "flex": null,
       "flex_flow": null,
       "grid_area": null,
       "grid_auto_columns": null,
       "grid_auto_flow": null,
       "grid_auto_rows": null,
       "grid_column": null,
       "grid_gap": null,
       "grid_row": null,
       "grid_template_areas": null,
       "grid_template_columns": null,
       "grid_template_rows": null,
       "height": null,
       "justify_content": null,
       "justify_items": null,
       "left": null,
       "margin": null,
       "max_height": null,
       "max_width": null,
       "min_height": null,
       "min_width": null,
       "object_fit": null,
       "object_position": null,
       "order": null,
       "overflow": null,
       "overflow_x": null,
       "overflow_y": null,
       "padding": null,
       "right": null,
       "top": null,
       "visibility": null,
       "width": null
      }
     },
     "1c384fd3663b48479c3eba202ba34105": {
      "model_module": "@jupyter-widgets/base",
      "model_module_version": "1.2.0",
      "model_name": "LayoutModel",
      "state": {
       "_model_module": "@jupyter-widgets/base",
       "_model_module_version": "1.2.0",
       "_model_name": "LayoutModel",
       "_view_count": null,
       "_view_module": "@jupyter-widgets/base",
       "_view_module_version": "1.2.0",
       "_view_name": "LayoutView",
       "align_content": null,
       "align_items": null,
       "align_self": null,
       "border": null,
       "bottom": null,
       "display": null,
       "flex": null,
       "flex_flow": null,
       "grid_area": null,
       "grid_auto_columns": null,
       "grid_auto_flow": null,
       "grid_auto_rows": null,
       "grid_column": null,
       "grid_gap": null,
       "grid_row": null,
       "grid_template_areas": null,
       "grid_template_columns": null,
       "grid_template_rows": null,
       "height": null,
       "justify_content": null,
       "justify_items": null,
       "left": null,
       "margin": null,
       "max_height": null,
       "max_width": null,
       "min_height": null,
       "min_width": null,
       "object_fit": null,
       "object_position": null,
       "order": null,
       "overflow": null,
       "overflow_x": null,
       "overflow_y": null,
       "padding": null,
       "right": null,
       "top": null,
       "visibility": null,
       "width": null
      }
     },
     "1d18a569c65347e49d149c6a7a1ef7e8": {
      "model_module": "@jupyter-widgets/controls",
      "model_module_version": "1.5.0",
      "model_name": "DescriptionStyleModel",
      "state": {
       "_model_module": "@jupyter-widgets/controls",
       "_model_module_version": "1.5.0",
       "_model_name": "DescriptionStyleModel",
       "_view_count": null,
       "_view_module": "@jupyter-widgets/base",
       "_view_module_version": "1.2.0",
       "_view_name": "StyleView",
       "description_width": ""
      }
     },
     "1d4824e56a38497891695a4144f6ff54": {
      "model_module": "@jupyter-widgets/base",
      "model_module_version": "1.2.0",
      "model_name": "LayoutModel",
      "state": {
       "_model_module": "@jupyter-widgets/base",
       "_model_module_version": "1.2.0",
       "_model_name": "LayoutModel",
       "_view_count": null,
       "_view_module": "@jupyter-widgets/base",
       "_view_module_version": "1.2.0",
       "_view_name": "LayoutView",
       "align_content": null,
       "align_items": null,
       "align_self": null,
       "border": null,
       "bottom": null,
       "display": null,
       "flex": null,
       "flex_flow": null,
       "grid_area": null,
       "grid_auto_columns": null,
       "grid_auto_flow": null,
       "grid_auto_rows": null,
       "grid_column": null,
       "grid_gap": null,
       "grid_row": null,
       "grid_template_areas": null,
       "grid_template_columns": null,
       "grid_template_rows": null,
       "height": null,
       "justify_content": null,
       "justify_items": null,
       "left": null,
       "margin": null,
       "max_height": null,
       "max_width": null,
       "min_height": null,
       "min_width": null,
       "object_fit": null,
       "object_position": null,
       "order": null,
       "overflow": null,
       "overflow_x": null,
       "overflow_y": null,
       "padding": null,
       "right": null,
       "top": null,
       "visibility": null,
       "width": null
      }
     },
     "1d967044c9cf48c6a1bbf74132eba303": {
      "model_module": "@jupyter-widgets/base",
      "model_module_version": "1.2.0",
      "model_name": "LayoutModel",
      "state": {
       "_model_module": "@jupyter-widgets/base",
       "_model_module_version": "1.2.0",
       "_model_name": "LayoutModel",
       "_view_count": null,
       "_view_module": "@jupyter-widgets/base",
       "_view_module_version": "1.2.0",
       "_view_name": "LayoutView",
       "align_content": null,
       "align_items": null,
       "align_self": null,
       "border": null,
       "bottom": null,
       "display": null,
       "flex": null,
       "flex_flow": null,
       "grid_area": null,
       "grid_auto_columns": null,
       "grid_auto_flow": null,
       "grid_auto_rows": null,
       "grid_column": null,
       "grid_gap": null,
       "grid_row": null,
       "grid_template_areas": null,
       "grid_template_columns": null,
       "grid_template_rows": null,
       "height": null,
       "justify_content": null,
       "justify_items": null,
       "left": null,
       "margin": null,
       "max_height": null,
       "max_width": null,
       "min_height": null,
       "min_width": null,
       "object_fit": null,
       "object_position": null,
       "order": null,
       "overflow": null,
       "overflow_x": null,
       "overflow_y": null,
       "padding": null,
       "right": null,
       "top": null,
       "visibility": null,
       "width": null
      }
     },
     "20ce4da156b544e78ff6d461e0a55f8f": {
      "model_module": "@jupyter-widgets/base",
      "model_module_version": "1.2.0",
      "model_name": "LayoutModel",
      "state": {
       "_model_module": "@jupyter-widgets/base",
       "_model_module_version": "1.2.0",
       "_model_name": "LayoutModel",
       "_view_count": null,
       "_view_module": "@jupyter-widgets/base",
       "_view_module_version": "1.2.0",
       "_view_name": "LayoutView",
       "align_content": null,
       "align_items": null,
       "align_self": null,
       "border": null,
       "bottom": null,
       "display": null,
       "flex": null,
       "flex_flow": null,
       "grid_area": null,
       "grid_auto_columns": null,
       "grid_auto_flow": null,
       "grid_auto_rows": null,
       "grid_column": null,
       "grid_gap": null,
       "grid_row": null,
       "grid_template_areas": null,
       "grid_template_columns": null,
       "grid_template_rows": null,
       "height": null,
       "justify_content": null,
       "justify_items": null,
       "left": null,
       "margin": null,
       "max_height": null,
       "max_width": null,
       "min_height": null,
       "min_width": null,
       "object_fit": null,
       "object_position": null,
       "order": null,
       "overflow": null,
       "overflow_x": null,
       "overflow_y": null,
       "padding": null,
       "right": null,
       "top": null,
       "visibility": null,
       "width": null
      }
     },
     "21091808c86d4a38a3115a3729edd733": {
      "model_module": "@jupyter-widgets/controls",
      "model_module_version": "1.5.0",
      "model_name": "ProgressStyleModel",
      "state": {
       "_model_module": "@jupyter-widgets/controls",
       "_model_module_version": "1.5.0",
       "_model_name": "ProgressStyleModel",
       "_view_count": null,
       "_view_module": "@jupyter-widgets/base",
       "_view_module_version": "1.2.0",
       "_view_name": "StyleView",
       "bar_color": null,
       "description_width": "initial"
      }
     },
     "235df7ac70144a5d9d1ddee42a8a7bb6": {
      "model_module": "@jupyter-widgets/controls",
      "model_module_version": "1.5.0",
      "model_name": "HTMLModel",
      "state": {
       "_dom_classes": [],
       "_model_module": "@jupyter-widgets/controls",
       "_model_module_version": "1.5.0",
       "_model_name": "HTMLModel",
       "_view_count": null,
       "_view_module": "@jupyter-widgets/controls",
       "_view_module_version": "1.5.0",
       "_view_name": "HTMLView",
       "description": "",
       "description_tooltip": null,
       "layout": "IPY_MODEL_8b64465ae3b142fd9407d962cf4ef3ff",
       "placeholder": "​",
       "style": "IPY_MODEL_94f86c521dea4ba58143629a1bc25360",
       "value": " 389561/389561 [15:43&lt;00:00, 412.74it/s]"
      }
     },
     "243df76655344238bf6929e6cce9a739": {
      "model_module": "@jupyter-widgets/controls",
      "model_module_version": "1.5.0",
      "model_name": "ProgressStyleModel",
      "state": {
       "_model_module": "@jupyter-widgets/controls",
       "_model_module_version": "1.5.0",
       "_model_name": "ProgressStyleModel",
       "_view_count": null,
       "_view_module": "@jupyter-widgets/base",
       "_view_module_version": "1.2.0",
       "_view_name": "StyleView",
       "bar_color": null,
       "description_width": "initial"
      }
     },
     "2888def4fd3d47f9b42e81c78b705796": {
      "model_module": "@jupyter-widgets/controls",
      "model_module_version": "1.5.0",
      "model_name": "HBoxModel",
      "state": {
       "_dom_classes": [],
       "_model_module": "@jupyter-widgets/controls",
       "_model_module_version": "1.5.0",
       "_model_name": "HBoxModel",
       "_view_count": null,
       "_view_module": "@jupyter-widgets/controls",
       "_view_module_version": "1.5.0",
       "_view_name": "HBoxView",
       "box_style": "",
       "children": [
        "IPY_MODEL_71dfd083711e439f97983db619acadd7",
        "IPY_MODEL_64eb7fad96d74995914536a5031b3ea1"
       ],
       "layout": "IPY_MODEL_963cca6797754789923733d8189dda75"
      }
     },
     "28c50f44a5804c9696fe8e4bf792d766": {
      "model_module": "@jupyter-widgets/base",
      "model_module_version": "1.2.0",
      "model_name": "LayoutModel",
      "state": {
       "_model_module": "@jupyter-widgets/base",
       "_model_module_version": "1.2.0",
       "_model_name": "LayoutModel",
       "_view_count": null,
       "_view_module": "@jupyter-widgets/base",
       "_view_module_version": "1.2.0",
       "_view_name": "LayoutView",
       "align_content": null,
       "align_items": null,
       "align_self": null,
       "border": null,
       "bottom": null,
       "display": null,
       "flex": null,
       "flex_flow": null,
       "grid_area": null,
       "grid_auto_columns": null,
       "grid_auto_flow": null,
       "grid_auto_rows": null,
       "grid_column": null,
       "grid_gap": null,
       "grid_row": null,
       "grid_template_areas": null,
       "grid_template_columns": null,
       "grid_template_rows": null,
       "height": null,
       "justify_content": null,
       "justify_items": null,
       "left": null,
       "margin": null,
       "max_height": null,
       "max_width": null,
       "min_height": null,
       "min_width": null,
       "object_fit": null,
       "object_position": null,
       "order": null,
       "overflow": null,
       "overflow_x": null,
       "overflow_y": null,
       "padding": null,
       "right": null,
       "top": null,
       "visibility": null,
       "width": null
      }
     },
     "2a057c07d6e14c08822962f1425585a3": {
      "model_module": "@jupyter-widgets/controls",
      "model_module_version": "1.5.0",
      "model_name": "HBoxModel",
      "state": {
       "_dom_classes": [],
       "_model_module": "@jupyter-widgets/controls",
       "_model_module_version": "1.5.0",
       "_model_name": "HBoxModel",
       "_view_count": null,
       "_view_module": "@jupyter-widgets/controls",
       "_view_module_version": "1.5.0",
       "_view_name": "HBoxView",
       "box_style": "",
       "children": [
        "IPY_MODEL_f20a6c670d094ee597b55a95a9a0d30d",
        "IPY_MODEL_7efbc12152d74ad99574924dd079df05"
       ],
       "layout": "IPY_MODEL_b592af6b457548e79cdb89f8d7930288"
      }
     },
     "2a7ffc4bcc03460daa230b6faca9ce58": {
      "model_module": "@jupyter-widgets/base",
      "model_module_version": "1.2.0",
      "model_name": "LayoutModel",
      "state": {
       "_model_module": "@jupyter-widgets/base",
       "_model_module_version": "1.2.0",
       "_model_name": "LayoutModel",
       "_view_count": null,
       "_view_module": "@jupyter-widgets/base",
       "_view_module_version": "1.2.0",
       "_view_name": "LayoutView",
       "align_content": null,
       "align_items": null,
       "align_self": null,
       "border": null,
       "bottom": null,
       "display": null,
       "flex": null,
       "flex_flow": null,
       "grid_area": null,
       "grid_auto_columns": null,
       "grid_auto_flow": null,
       "grid_auto_rows": null,
       "grid_column": null,
       "grid_gap": null,
       "grid_row": null,
       "grid_template_areas": null,
       "grid_template_columns": null,
       "grid_template_rows": null,
       "height": null,
       "justify_content": null,
       "justify_items": null,
       "left": null,
       "margin": null,
       "max_height": null,
       "max_width": null,
       "min_height": null,
       "min_width": null,
       "object_fit": null,
       "object_position": null,
       "order": null,
       "overflow": null,
       "overflow_x": null,
       "overflow_y": null,
       "padding": null,
       "right": null,
       "top": null,
       "visibility": null,
       "width": null
      }
     },
     "2b75fc192b1c43cdac18d1dd3818534f": {
      "model_module": "@jupyter-widgets/base",
      "model_module_version": "1.2.0",
      "model_name": "LayoutModel",
      "state": {
       "_model_module": "@jupyter-widgets/base",
       "_model_module_version": "1.2.0",
       "_model_name": "LayoutModel",
       "_view_count": null,
       "_view_module": "@jupyter-widgets/base",
       "_view_module_version": "1.2.0",
       "_view_name": "LayoutView",
       "align_content": null,
       "align_items": null,
       "align_self": null,
       "border": null,
       "bottom": null,
       "display": null,
       "flex": null,
       "flex_flow": null,
       "grid_area": null,
       "grid_auto_columns": null,
       "grid_auto_flow": null,
       "grid_auto_rows": null,
       "grid_column": null,
       "grid_gap": null,
       "grid_row": null,
       "grid_template_areas": null,
       "grid_template_columns": null,
       "grid_template_rows": null,
       "height": null,
       "justify_content": null,
       "justify_items": null,
       "left": null,
       "margin": null,
       "max_height": null,
       "max_width": null,
       "min_height": null,
       "min_width": null,
       "object_fit": null,
       "object_position": null,
       "order": null,
       "overflow": null,
       "overflow_x": null,
       "overflow_y": null,
       "padding": null,
       "right": null,
       "top": null,
       "visibility": null,
       "width": null
      }
     },
     "2bd6b15dad784be2bc6646412d3e87ec": {
      "model_module": "@jupyter-widgets/controls",
      "model_module_version": "1.5.0",
      "model_name": "FloatProgressModel",
      "state": {
       "_dom_classes": [],
       "_model_module": "@jupyter-widgets/controls",
       "_model_module_version": "1.5.0",
       "_model_name": "FloatProgressModel",
       "_view_count": null,
       "_view_module": "@jupyter-widgets/controls",
       "_view_module_version": "1.5.0",
       "_view_name": "ProgressView",
       "bar_style": "success",
       "description": "100%",
       "description_tooltip": null,
       "layout": "IPY_MODEL_acb6855cebca445d97003fee42848fdf",
       "max": 10948.0,
       "min": 0.0,
       "orientation": "horizontal",
       "style": "IPY_MODEL_21091808c86d4a38a3115a3729edd733",
       "value": 10948.0
      }
     },
     "2cf3d01793df4f9bae9f7bd86e15d1cb": {
      "model_module": "@jupyter-widgets/controls",
      "model_module_version": "1.5.0",
      "model_name": "HTMLModel",
      "state": {
       "_dom_classes": [],
       "_model_module": "@jupyter-widgets/controls",
       "_model_module_version": "1.5.0",
       "_model_name": "HTMLModel",
       "_view_count": null,
       "_view_module": "@jupyter-widgets/controls",
       "_view_module_version": "1.5.0",
       "_view_name": "HTMLView",
       "description": "",
       "description_tooltip": null,
       "layout": "IPY_MODEL_1c384fd3663b48479c3eba202ba34105",
       "placeholder": "​",
       "style": "IPY_MODEL_167e8f440c034360afd55e547bbb011e",
       "value": " 2500/2500 [00:21&lt;00:00, 118.96it/s]"
      }
     },
     "2edfa0919f8e4414aec7ae2489bb3e1b": {
      "model_module": "@jupyter-widgets/controls",
      "model_module_version": "1.5.0",
      "model_name": "FloatProgressModel",
      "state": {
       "_dom_classes": [],
       "_model_module": "@jupyter-widgets/controls",
       "_model_module_version": "1.5.0",
       "_model_name": "FloatProgressModel",
       "_view_count": null,
       "_view_module": "@jupyter-widgets/controls",
       "_view_module_version": "1.5.0",
       "_view_name": "ProgressView",
       "bar_style": "success",
       "description": "100%",
       "description_tooltip": null,
       "layout": "IPY_MODEL_003317c071644c5f9199b1f7c2248dcc",
       "max": 389561.0,
       "min": 0.0,
       "orientation": "horizontal",
       "style": "IPY_MODEL_86d6f38c75024deab16c6ed572c66ea1",
       "value": 389561.0
      }
     },
     "2f99d42fca8441b89440ba90407fb0ff": {
      "model_module": "@jupyter-widgets/controls",
      "model_module_version": "1.5.0",
      "model_name": "HTMLModel",
      "state": {
       "_dom_classes": [],
       "_model_module": "@jupyter-widgets/controls",
       "_model_module_version": "1.5.0",
       "_model_name": "HTMLModel",
       "_view_count": null,
       "_view_module": "@jupyter-widgets/controls",
       "_view_module_version": "1.5.0",
       "_view_name": "HTMLView",
       "description": "",
       "description_tooltip": null,
       "layout": "IPY_MODEL_31cb795cc64a481cabeea47255ba3368",
       "placeholder": "​",
       "style": "IPY_MODEL_12072110c32b4203874a48bb704923a3",
       "value": " 10948/10948 [03:24&lt;00:00, 53.53it/s]"
      }
     },
     "316876036aaf49d591245341aa1a172b": {
      "model_module": "@jupyter-widgets/controls",
      "model_module_version": "1.5.0",
      "model_name": "HTMLModel",
      "state": {
       "_dom_classes": [],
       "_model_module": "@jupyter-widgets/controls",
       "_model_module_version": "1.5.0",
       "_model_name": "HTMLModel",
       "_view_count": null,
       "_view_module": "@jupyter-widgets/controls",
       "_view_module_version": "1.5.0",
       "_view_name": "HTMLView",
       "description": "",
       "description_tooltip": null,
       "layout": "IPY_MODEL_2b75fc192b1c43cdac18d1dd3818534f",
       "placeholder": "​",
       "style": "IPY_MODEL_a2453b74db844f1c8df4f7518f700b08",
       "value": " 3000/3000 [00:22&lt;00:00, 135.85it/s]"
      }
     },
     "31cb795cc64a481cabeea47255ba3368": {
      "model_module": "@jupyter-widgets/base",
      "model_module_version": "1.2.0",
      "model_name": "LayoutModel",
      "state": {
       "_model_module": "@jupyter-widgets/base",
       "_model_module_version": "1.2.0",
       "_model_name": "LayoutModel",
       "_view_count": null,
       "_view_module": "@jupyter-widgets/base",
       "_view_module_version": "1.2.0",
       "_view_name": "LayoutView",
       "align_content": null,
       "align_items": null,
       "align_self": null,
       "border": null,
       "bottom": null,
       "display": null,
       "flex": null,
       "flex_flow": null,
       "grid_area": null,
       "grid_auto_columns": null,
       "grid_auto_flow": null,
       "grid_auto_rows": null,
       "grid_column": null,
       "grid_gap": null,
       "grid_row": null,
       "grid_template_areas": null,
       "grid_template_columns": null,
       "grid_template_rows": null,
       "height": null,
       "justify_content": null,
       "justify_items": null,
       "left": null,
       "margin": null,
       "max_height": null,
       "max_width": null,
       "min_height": null,
       "min_width": null,
       "object_fit": null,
       "object_position": null,
       "order": null,
       "overflow": null,
       "overflow_x": null,
       "overflow_y": null,
       "padding": null,
       "right": null,
       "top": null,
       "visibility": null,
       "width": null
      }
     },
     "356990e3e76b4cc38d4503e9b4885dc2": {
      "model_module": "@jupyter-widgets/base",
      "model_module_version": "1.2.0",
      "model_name": "LayoutModel",
      "state": {
       "_model_module": "@jupyter-widgets/base",
       "_model_module_version": "1.2.0",
       "_model_name": "LayoutModel",
       "_view_count": null,
       "_view_module": "@jupyter-widgets/base",
       "_view_module_version": "1.2.0",
       "_view_name": "LayoutView",
       "align_content": null,
       "align_items": null,
       "align_self": null,
       "border": null,
       "bottom": null,
       "display": null,
       "flex": null,
       "flex_flow": null,
       "grid_area": null,
       "grid_auto_columns": null,
       "grid_auto_flow": null,
       "grid_auto_rows": null,
       "grid_column": null,
       "grid_gap": null,
       "grid_row": null,
       "grid_template_areas": null,
       "grid_template_columns": null,
       "grid_template_rows": null,
       "height": null,
       "justify_content": null,
       "justify_items": null,
       "left": null,
       "margin": null,
       "max_height": null,
       "max_width": null,
       "min_height": null,
       "min_width": null,
       "object_fit": null,
       "object_position": null,
       "order": null,
       "overflow": null,
       "overflow_x": null,
       "overflow_y": null,
       "padding": null,
       "right": null,
       "top": null,
       "visibility": null,
       "width": null
      }
     },
     "36703d1e4b40486791e40d7ed9630ae2": {
      "model_module": "@jupyter-widgets/controls",
      "model_module_version": "1.5.0",
      "model_name": "HBoxModel",
      "state": {
       "_dom_classes": [],
       "_model_module": "@jupyter-widgets/controls",
       "_model_module_version": "1.5.0",
       "_model_name": "HBoxModel",
       "_view_count": null,
       "_view_module": "@jupyter-widgets/controls",
       "_view_module_version": "1.5.0",
       "_view_name": "HBoxView",
       "box_style": "",
       "children": [
        "IPY_MODEL_974fc1bd0ab1445d8253fa03fb33548a",
        "IPY_MODEL_7df65f6fce5c4644817e8656201b0df5"
       ],
       "layout": "IPY_MODEL_50d7b6566a334b03a46895de64a2ff26"
      }
     },
     "375f4f95be6b432a8a73f52776ac10e9": {
      "model_module": "@jupyter-widgets/controls",
      "model_module_version": "1.5.0",
      "model_name": "ProgressStyleModel",
      "state": {
       "_model_module": "@jupyter-widgets/controls",
       "_model_module_version": "1.5.0",
       "_model_name": "ProgressStyleModel",
       "_view_count": null,
       "_view_module": "@jupyter-widgets/base",
       "_view_module_version": "1.2.0",
       "_view_name": "StyleView",
       "bar_color": null,
       "description_width": "initial"
      }
     },
     "38bf5fe0b43848f4a4c732aa30f50172": {
      "model_module": "@jupyter-widgets/base",
      "model_module_version": "1.2.0",
      "model_name": "LayoutModel",
      "state": {
       "_model_module": "@jupyter-widgets/base",
       "_model_module_version": "1.2.0",
       "_model_name": "LayoutModel",
       "_view_count": null,
       "_view_module": "@jupyter-widgets/base",
       "_view_module_version": "1.2.0",
       "_view_name": "LayoutView",
       "align_content": null,
       "align_items": null,
       "align_self": null,
       "border": null,
       "bottom": null,
       "display": null,
       "flex": null,
       "flex_flow": null,
       "grid_area": null,
       "grid_auto_columns": null,
       "grid_auto_flow": null,
       "grid_auto_rows": null,
       "grid_column": null,
       "grid_gap": null,
       "grid_row": null,
       "grid_template_areas": null,
       "grid_template_columns": null,
       "grid_template_rows": null,
       "height": null,
       "justify_content": null,
       "justify_items": null,
       "left": null,
       "margin": null,
       "max_height": null,
       "max_width": null,
       "min_height": null,
       "min_width": null,
       "object_fit": null,
       "object_position": null,
       "order": null,
       "overflow": null,
       "overflow_x": null,
       "overflow_y": null,
       "padding": null,
       "right": null,
       "top": null,
       "visibility": null,
       "width": null
      }
     },
     "38d5e8bcdf01402cb05b50ef3aad4b8f": {
      "model_module": "@jupyter-widgets/controls",
      "model_module_version": "1.5.0",
      "model_name": "HTMLModel",
      "state": {
       "_dom_classes": [],
       "_model_module": "@jupyter-widgets/controls",
       "_model_module_version": "1.5.0",
       "_model_name": "HTMLModel",
       "_view_count": null,
       "_view_module": "@jupyter-widgets/controls",
       "_view_module_version": "1.5.0",
       "_view_name": "HTMLView",
       "description": "",
       "description_tooltip": null,
       "layout": "IPY_MODEL_06e1f82c72534c0a925d7dfb386a51a5",
       "placeholder": "​",
       "style": "IPY_MODEL_07a137577f0246f693e4e561f531df51",
       "value": " 8494/8494 [05:44&lt;00:00, 24.62it/s]"
      }
     },
     "3adcb7e02b9b42ddb5e6cf37706fa038": {
      "model_module": "@jupyter-widgets/controls",
      "model_module_version": "1.5.0",
      "model_name": "HBoxModel",
      "state": {
       "_dom_classes": [],
       "_model_module": "@jupyter-widgets/controls",
       "_model_module_version": "1.5.0",
       "_model_name": "HBoxModel",
       "_view_count": null,
       "_view_module": "@jupyter-widgets/controls",
       "_view_module_version": "1.5.0",
       "_view_name": "HBoxView",
       "box_style": "",
       "children": [
        "IPY_MODEL_87bd8f7da1614fba8070b90450fb32bc",
        "IPY_MODEL_8b262904398f43f9bbeac285e1f61da4"
       ],
       "layout": "IPY_MODEL_4fbbc78d5be448e9958e139738b73709"
      }
     },
     "3d2486e911ec44c9843e53ead113fde3": {
      "model_module": "@jupyter-widgets/controls",
      "model_module_version": "1.5.0",
      "model_name": "ProgressStyleModel",
      "state": {
       "_model_module": "@jupyter-widgets/controls",
       "_model_module_version": "1.5.0",
       "_model_name": "ProgressStyleModel",
       "_view_count": null,
       "_view_module": "@jupyter-widgets/base",
       "_view_module_version": "1.2.0",
       "_view_name": "StyleView",
       "bar_color": null,
       "description_width": "initial"
      }
     },
     "3f3f3e5f29a74e0daa4743e9e82910b8": {
      "model_module": "@jupyter-widgets/base",
      "model_module_version": "1.2.0",
      "model_name": "LayoutModel",
      "state": {
       "_model_module": "@jupyter-widgets/base",
       "_model_module_version": "1.2.0",
       "_model_name": "LayoutModel",
       "_view_count": null,
       "_view_module": "@jupyter-widgets/base",
       "_view_module_version": "1.2.0",
       "_view_name": "LayoutView",
       "align_content": null,
       "align_items": null,
       "align_self": null,
       "border": null,
       "bottom": null,
       "display": null,
       "flex": null,
       "flex_flow": null,
       "grid_area": null,
       "grid_auto_columns": null,
       "grid_auto_flow": null,
       "grid_auto_rows": null,
       "grid_column": null,
       "grid_gap": null,
       "grid_row": null,
       "grid_template_areas": null,
       "grid_template_columns": null,
       "grid_template_rows": null,
       "height": null,
       "justify_content": null,
       "justify_items": null,
       "left": null,
       "margin": null,
       "max_height": null,
       "max_width": null,
       "min_height": null,
       "min_width": null,
       "object_fit": null,
       "object_position": null,
       "order": null,
       "overflow": null,
       "overflow_x": null,
       "overflow_y": null,
       "padding": null,
       "right": null,
       "top": null,
       "visibility": null,
       "width": null
      }
     },
     "3fcfde9c451b41f9b094a31a22680a58": {
      "model_module": "@jupyter-widgets/base",
      "model_module_version": "1.2.0",
      "model_name": "LayoutModel",
      "state": {
       "_model_module": "@jupyter-widgets/base",
       "_model_module_version": "1.2.0",
       "_model_name": "LayoutModel",
       "_view_count": null,
       "_view_module": "@jupyter-widgets/base",
       "_view_module_version": "1.2.0",
       "_view_name": "LayoutView",
       "align_content": null,
       "align_items": null,
       "align_self": null,
       "border": null,
       "bottom": null,
       "display": null,
       "flex": null,
       "flex_flow": null,
       "grid_area": null,
       "grid_auto_columns": null,
       "grid_auto_flow": null,
       "grid_auto_rows": null,
       "grid_column": null,
       "grid_gap": null,
       "grid_row": null,
       "grid_template_areas": null,
       "grid_template_columns": null,
       "grid_template_rows": null,
       "height": null,
       "justify_content": null,
       "justify_items": null,
       "left": null,
       "margin": null,
       "max_height": null,
       "max_width": null,
       "min_height": null,
       "min_width": null,
       "object_fit": null,
       "object_position": null,
       "order": null,
       "overflow": null,
       "overflow_x": null,
       "overflow_y": null,
       "padding": null,
       "right": null,
       "top": null,
       "visibility": null,
       "width": null
      }
     },
     "40a999af3cba4976ac00a933f0da3ea1": {
      "model_module": "@jupyter-widgets/base",
      "model_module_version": "1.2.0",
      "model_name": "LayoutModel",
      "state": {
       "_model_module": "@jupyter-widgets/base",
       "_model_module_version": "1.2.0",
       "_model_name": "LayoutModel",
       "_view_count": null,
       "_view_module": "@jupyter-widgets/base",
       "_view_module_version": "1.2.0",
       "_view_name": "LayoutView",
       "align_content": null,
       "align_items": null,
       "align_self": null,
       "border": null,
       "bottom": null,
       "display": null,
       "flex": null,
       "flex_flow": null,
       "grid_area": null,
       "grid_auto_columns": null,
       "grid_auto_flow": null,
       "grid_auto_rows": null,
       "grid_column": null,
       "grid_gap": null,
       "grid_row": null,
       "grid_template_areas": null,
       "grid_template_columns": null,
       "grid_template_rows": null,
       "height": null,
       "justify_content": null,
       "justify_items": null,
       "left": null,
       "margin": null,
       "max_height": null,
       "max_width": null,
       "min_height": null,
       "min_width": null,
       "object_fit": null,
       "object_position": null,
       "order": null,
       "overflow": null,
       "overflow_x": null,
       "overflow_y": null,
       "padding": null,
       "right": null,
       "top": null,
       "visibility": null,
       "width": null
      }
     },
     "417c6e30ad6c4d19871b164adf55e29a": {
      "model_module": "@jupyter-widgets/controls",
      "model_module_version": "1.5.0",
      "model_name": "ProgressStyleModel",
      "state": {
       "_model_module": "@jupyter-widgets/controls",
       "_model_module_version": "1.5.0",
       "_model_name": "ProgressStyleModel",
       "_view_count": null,
       "_view_module": "@jupyter-widgets/base",
       "_view_module_version": "1.2.0",
       "_view_name": "StyleView",
       "bar_color": null,
       "description_width": "initial"
      }
     },
     "4546f5be7f35411eab925b8ac2e2b4a6": {
      "model_module": "@jupyter-widgets/controls",
      "model_module_version": "1.5.0",
      "model_name": "DescriptionStyleModel",
      "state": {
       "_model_module": "@jupyter-widgets/controls",
       "_model_module_version": "1.5.0",
       "_model_name": "DescriptionStyleModel",
       "_view_count": null,
       "_view_module": "@jupyter-widgets/base",
       "_view_module_version": "1.2.0",
       "_view_name": "StyleView",
       "description_width": ""
      }
     },
     "480b2df220f445b8b86fe92b38ecc200": {
      "model_module": "@jupyter-widgets/controls",
      "model_module_version": "1.5.0",
      "model_name": "HBoxModel",
      "state": {
       "_dom_classes": [],
       "_model_module": "@jupyter-widgets/controls",
       "_model_module_version": "1.5.0",
       "_model_name": "HBoxModel",
       "_view_count": null,
       "_view_module": "@jupyter-widgets/controls",
       "_view_module_version": "1.5.0",
       "_view_name": "HBoxView",
       "box_style": "",
       "children": [
        "IPY_MODEL_7f039fb593b34c89a280cd9803615699",
        "IPY_MODEL_a665ae1b97de4e87877af4fe04ca2f16"
       ],
       "layout": "IPY_MODEL_356990e3e76b4cc38d4503e9b4885dc2"
      }
     },
     "491afdc7622c467984880689c72e71bc": {
      "model_module": "@jupyter-widgets/controls",
      "model_module_version": "1.5.0",
      "model_name": "HBoxModel",
      "state": {
       "_dom_classes": [],
       "_model_module": "@jupyter-widgets/controls",
       "_model_module_version": "1.5.0",
       "_model_name": "HBoxModel",
       "_view_count": null,
       "_view_module": "@jupyter-widgets/controls",
       "_view_module_version": "1.5.0",
       "_view_name": "HBoxView",
       "box_style": "",
       "children": [
        "IPY_MODEL_c81b91edbc0b4ed2b0b3700a577031a0",
        "IPY_MODEL_d2b5138d791042cfaa3a4c8fce63d569"
       ],
       "layout": "IPY_MODEL_19b38f6debb04a60901fefa73adb9187"
      }
     },
     "494f14cf3b144da98c6e2167a440a5d8": {
      "model_module": "@jupyter-widgets/base",
      "model_module_version": "1.2.0",
      "model_name": "LayoutModel",
      "state": {
       "_model_module": "@jupyter-widgets/base",
       "_model_module_version": "1.2.0",
       "_model_name": "LayoutModel",
       "_view_count": null,
       "_view_module": "@jupyter-widgets/base",
       "_view_module_version": "1.2.0",
       "_view_name": "LayoutView",
       "align_content": null,
       "align_items": null,
       "align_self": null,
       "border": null,
       "bottom": null,
       "display": null,
       "flex": null,
       "flex_flow": null,
       "grid_area": null,
       "grid_auto_columns": null,
       "grid_auto_flow": null,
       "grid_auto_rows": null,
       "grid_column": null,
       "grid_gap": null,
       "grid_row": null,
       "grid_template_areas": null,
       "grid_template_columns": null,
       "grid_template_rows": null,
       "height": null,
       "justify_content": null,
       "justify_items": null,
       "left": null,
       "margin": null,
       "max_height": null,
       "max_width": null,
       "min_height": null,
       "min_width": null,
       "object_fit": null,
       "object_position": null,
       "order": null,
       "overflow": null,
       "overflow_x": null,
       "overflow_y": null,
       "padding": null,
       "right": null,
       "top": null,
       "visibility": null,
       "width": null
      }
     },
     "4b96f5bf428440249e0b0019ba6f6508": {
      "model_module": "@jupyter-widgets/controls",
      "model_module_version": "1.5.0",
      "model_name": "DescriptionStyleModel",
      "state": {
       "_model_module": "@jupyter-widgets/controls",
       "_model_module_version": "1.5.0",
       "_model_name": "DescriptionStyleModel",
       "_view_count": null,
       "_view_module": "@jupyter-widgets/base",
       "_view_module_version": "1.2.0",
       "_view_name": "StyleView",
       "description_width": ""
      }
     },
     "4bdc724d7ca04070a2573c9a612ab15e": {
      "model_module": "@jupyter-widgets/base",
      "model_module_version": "1.2.0",
      "model_name": "LayoutModel",
      "state": {
       "_model_module": "@jupyter-widgets/base",
       "_model_module_version": "1.2.0",
       "_model_name": "LayoutModel",
       "_view_count": null,
       "_view_module": "@jupyter-widgets/base",
       "_view_module_version": "1.2.0",
       "_view_name": "LayoutView",
       "align_content": null,
       "align_items": null,
       "align_self": null,
       "border": null,
       "bottom": null,
       "display": null,
       "flex": null,
       "flex_flow": null,
       "grid_area": null,
       "grid_auto_columns": null,
       "grid_auto_flow": null,
       "grid_auto_rows": null,
       "grid_column": null,
       "grid_gap": null,
       "grid_row": null,
       "grid_template_areas": null,
       "grid_template_columns": null,
       "grid_template_rows": null,
       "height": null,
       "justify_content": null,
       "justify_items": null,
       "left": null,
       "margin": null,
       "max_height": null,
       "max_width": null,
       "min_height": null,
       "min_width": null,
       "object_fit": null,
       "object_position": null,
       "order": null,
       "overflow": null,
       "overflow_x": null,
       "overflow_y": null,
       "padding": null,
       "right": null,
       "top": null,
       "visibility": null,
       "width": null
      }
     },
     "4de025b648e44f86b0667b5756c86058": {
      "model_module": "@jupyter-widgets/base",
      "model_module_version": "1.2.0",
      "model_name": "LayoutModel",
      "state": {
       "_model_module": "@jupyter-widgets/base",
       "_model_module_version": "1.2.0",
       "_model_name": "LayoutModel",
       "_view_count": null,
       "_view_module": "@jupyter-widgets/base",
       "_view_module_version": "1.2.0",
       "_view_name": "LayoutView",
       "align_content": null,
       "align_items": null,
       "align_self": null,
       "border": null,
       "bottom": null,
       "display": null,
       "flex": null,
       "flex_flow": null,
       "grid_area": null,
       "grid_auto_columns": null,
       "grid_auto_flow": null,
       "grid_auto_rows": null,
       "grid_column": null,
       "grid_gap": null,
       "grid_row": null,
       "grid_template_areas": null,
       "grid_template_columns": null,
       "grid_template_rows": null,
       "height": null,
       "justify_content": null,
       "justify_items": null,
       "left": null,
       "margin": null,
       "max_height": null,
       "max_width": null,
       "min_height": null,
       "min_width": null,
       "object_fit": null,
       "object_position": null,
       "order": null,
       "overflow": null,
       "overflow_x": null,
       "overflow_y": null,
       "padding": null,
       "right": null,
       "top": null,
       "visibility": null,
       "width": null
      }
     },
     "4fbbc78d5be448e9958e139738b73709": {
      "model_module": "@jupyter-widgets/base",
      "model_module_version": "1.2.0",
      "model_name": "LayoutModel",
      "state": {
       "_model_module": "@jupyter-widgets/base",
       "_model_module_version": "1.2.0",
       "_model_name": "LayoutModel",
       "_view_count": null,
       "_view_module": "@jupyter-widgets/base",
       "_view_module_version": "1.2.0",
       "_view_name": "LayoutView",
       "align_content": null,
       "align_items": null,
       "align_self": null,
       "border": null,
       "bottom": null,
       "display": null,
       "flex": null,
       "flex_flow": null,
       "grid_area": null,
       "grid_auto_columns": null,
       "grid_auto_flow": null,
       "grid_auto_rows": null,
       "grid_column": null,
       "grid_gap": null,
       "grid_row": null,
       "grid_template_areas": null,
       "grid_template_columns": null,
       "grid_template_rows": null,
       "height": null,
       "justify_content": null,
       "justify_items": null,
       "left": null,
       "margin": null,
       "max_height": null,
       "max_width": null,
       "min_height": null,
       "min_width": null,
       "object_fit": null,
       "object_position": null,
       "order": null,
       "overflow": null,
       "overflow_x": null,
       "overflow_y": null,
       "padding": null,
       "right": null,
       "top": null,
       "visibility": null,
       "width": null
      }
     },
     "50c47239697d4d3585c495c1ec41d5f3": {
      "model_module": "@jupyter-widgets/controls",
      "model_module_version": "1.5.0",
      "model_name": "FloatProgressModel",
      "state": {
       "_dom_classes": [],
       "_model_module": "@jupyter-widgets/controls",
       "_model_module_version": "1.5.0",
       "_model_name": "FloatProgressModel",
       "_view_count": null,
       "_view_module": "@jupyter-widgets/controls",
       "_view_module_version": "1.5.0",
       "_view_name": "ProgressView",
       "bar_style": "success",
       "description": "100%",
       "description_tooltip": null,
       "layout": "IPY_MODEL_b5ef489225bf43e5908b3e91109d06ee",
       "max": 2500.0,
       "min": 0.0,
       "orientation": "horizontal",
       "style": "IPY_MODEL_243df76655344238bf6929e6cce9a739",
       "value": 2500.0
      }
     },
     "50d7b6566a334b03a46895de64a2ff26": {
      "model_module": "@jupyter-widgets/base",
      "model_module_version": "1.2.0",
      "model_name": "LayoutModel",
      "state": {
       "_model_module": "@jupyter-widgets/base",
       "_model_module_version": "1.2.0",
       "_model_name": "LayoutModel",
       "_view_count": null,
       "_view_module": "@jupyter-widgets/base",
       "_view_module_version": "1.2.0",
       "_view_name": "LayoutView",
       "align_content": null,
       "align_items": null,
       "align_self": null,
       "border": null,
       "bottom": null,
       "display": null,
       "flex": null,
       "flex_flow": null,
       "grid_area": null,
       "grid_auto_columns": null,
       "grid_auto_flow": null,
       "grid_auto_rows": null,
       "grid_column": null,
       "grid_gap": null,
       "grid_row": null,
       "grid_template_areas": null,
       "grid_template_columns": null,
       "grid_template_rows": null,
       "height": null,
       "justify_content": null,
       "justify_items": null,
       "left": null,
       "margin": null,
       "max_height": null,
       "max_width": null,
       "min_height": null,
       "min_width": null,
       "object_fit": null,
       "object_position": null,
       "order": null,
       "overflow": null,
       "overflow_x": null,
       "overflow_y": null,
       "padding": null,
       "right": null,
       "top": null,
       "visibility": null,
       "width": null
      }
     },
     "5479a7340d2f4fa6851b474b9a987c4d": {
      "model_module": "@jupyter-widgets/controls",
      "model_module_version": "1.5.0",
      "model_name": "ProgressStyleModel",
      "state": {
       "_model_module": "@jupyter-widgets/controls",
       "_model_module_version": "1.5.0",
       "_model_name": "ProgressStyleModel",
       "_view_count": null,
       "_view_module": "@jupyter-widgets/base",
       "_view_module_version": "1.2.0",
       "_view_name": "StyleView",
       "bar_color": null,
       "description_width": "initial"
      }
     },
     "54f0aeb258624f5eb264d565f4b26654": {
      "model_module": "@jupyter-widgets/base",
      "model_module_version": "1.2.0",
      "model_name": "LayoutModel",
      "state": {
       "_model_module": "@jupyter-widgets/base",
       "_model_module_version": "1.2.0",
       "_model_name": "LayoutModel",
       "_view_count": null,
       "_view_module": "@jupyter-widgets/base",
       "_view_module_version": "1.2.0",
       "_view_name": "LayoutView",
       "align_content": null,
       "align_items": null,
       "align_self": null,
       "border": null,
       "bottom": null,
       "display": null,
       "flex": null,
       "flex_flow": null,
       "grid_area": null,
       "grid_auto_columns": null,
       "grid_auto_flow": null,
       "grid_auto_rows": null,
       "grid_column": null,
       "grid_gap": null,
       "grid_row": null,
       "grid_template_areas": null,
       "grid_template_columns": null,
       "grid_template_rows": null,
       "height": null,
       "justify_content": null,
       "justify_items": null,
       "left": null,
       "margin": null,
       "max_height": null,
       "max_width": null,
       "min_height": null,
       "min_width": null,
       "object_fit": null,
       "object_position": null,
       "order": null,
       "overflow": null,
       "overflow_x": null,
       "overflow_y": null,
       "padding": null,
       "right": null,
       "top": null,
       "visibility": null,
       "width": null
      }
     },
     "5895569e57904ebeadc9b79caab3155f": {
      "model_module": "@jupyter-widgets/controls",
      "model_module_version": "1.5.0",
      "model_name": "HBoxModel",
      "state": {
       "_dom_classes": [],
       "_model_module": "@jupyter-widgets/controls",
       "_model_module_version": "1.5.0",
       "_model_name": "HBoxModel",
       "_view_count": null,
       "_view_module": "@jupyter-widgets/controls",
       "_view_module_version": "1.5.0",
       "_view_name": "HBoxView",
       "box_style": "",
       "children": [
        "IPY_MODEL_2bd6b15dad784be2bc6646412d3e87ec",
        "IPY_MODEL_2f99d42fca8441b89440ba90407fb0ff"
       ],
       "layout": "IPY_MODEL_a8d54bdf80134fedb41d92e8ec2263ac"
      }
     },
     "5afb255c19a24980a78f5acff9961803": {
      "model_module": "@jupyter-widgets/base",
      "model_module_version": "1.2.0",
      "model_name": "LayoutModel",
      "state": {
       "_model_module": "@jupyter-widgets/base",
       "_model_module_version": "1.2.0",
       "_model_name": "LayoutModel",
       "_view_count": null,
       "_view_module": "@jupyter-widgets/base",
       "_view_module_version": "1.2.0",
       "_view_name": "LayoutView",
       "align_content": null,
       "align_items": null,
       "align_self": null,
       "border": null,
       "bottom": null,
       "display": null,
       "flex": null,
       "flex_flow": null,
       "grid_area": null,
       "grid_auto_columns": null,
       "grid_auto_flow": null,
       "grid_auto_rows": null,
       "grid_column": null,
       "grid_gap": null,
       "grid_row": null,
       "grid_template_areas": null,
       "grid_template_columns": null,
       "grid_template_rows": null,
       "height": null,
       "justify_content": null,
       "justify_items": null,
       "left": null,
       "margin": null,
       "max_height": null,
       "max_width": null,
       "min_height": null,
       "min_width": null,
       "object_fit": null,
       "object_position": null,
       "order": null,
       "overflow": null,
       "overflow_x": null,
       "overflow_y": null,
       "padding": null,
       "right": null,
       "top": null,
       "visibility": null,
       "width": null
      }
     },
     "5d8ef715f99746ca9834f947608e33fd": {
      "model_module": "@jupyter-widgets/base",
      "model_module_version": "1.2.0",
      "model_name": "LayoutModel",
      "state": {
       "_model_module": "@jupyter-widgets/base",
       "_model_module_version": "1.2.0",
       "_model_name": "LayoutModel",
       "_view_count": null,
       "_view_module": "@jupyter-widgets/base",
       "_view_module_version": "1.2.0",
       "_view_name": "LayoutView",
       "align_content": null,
       "align_items": null,
       "align_self": null,
       "border": null,
       "bottom": null,
       "display": null,
       "flex": null,
       "flex_flow": null,
       "grid_area": null,
       "grid_auto_columns": null,
       "grid_auto_flow": null,
       "grid_auto_rows": null,
       "grid_column": null,
       "grid_gap": null,
       "grid_row": null,
       "grid_template_areas": null,
       "grid_template_columns": null,
       "grid_template_rows": null,
       "height": null,
       "justify_content": null,
       "justify_items": null,
       "left": null,
       "margin": null,
       "max_height": null,
       "max_width": null,
       "min_height": null,
       "min_width": null,
       "object_fit": null,
       "object_position": null,
       "order": null,
       "overflow": null,
       "overflow_x": null,
       "overflow_y": null,
       "padding": null,
       "right": null,
       "top": null,
       "visibility": null,
       "width": null
      }
     },
     "60bdc3191cf147948e071293497ffb4a": {
      "model_module": "@jupyter-widgets/controls",
      "model_module_version": "1.5.0",
      "model_name": "HBoxModel",
      "state": {
       "_dom_classes": [],
       "_model_module": "@jupyter-widgets/controls",
       "_model_module_version": "1.5.0",
       "_model_name": "HBoxModel",
       "_view_count": null,
       "_view_module": "@jupyter-widgets/controls",
       "_view_module_version": "1.5.0",
       "_view_name": "HBoxView",
       "box_style": "",
       "children": [
        "IPY_MODEL_96e0c5eac3f345b59b691dca0c5211b2",
        "IPY_MODEL_b2e4e1d581d24331b9988bbe32b2dbce"
       ],
       "layout": "IPY_MODEL_4de025b648e44f86b0667b5756c86058"
      }
     },
     "64eb7fad96d74995914536a5031b3ea1": {
      "model_module": "@jupyter-widgets/controls",
      "model_module_version": "1.5.0",
      "model_name": "HTMLModel",
      "state": {
       "_dom_classes": [],
       "_model_module": "@jupyter-widgets/controls",
       "_model_module_version": "1.5.0",
       "_model_name": "HTMLModel",
       "_view_count": null,
       "_view_module": "@jupyter-widgets/controls",
       "_view_module_version": "1.5.0",
       "_view_name": "HTMLView",
       "description": "",
       "description_tooltip": null,
       "layout": "IPY_MODEL_af29485d0a4b440d9062bd1995351a59",
       "placeholder": "​",
       "style": "IPY_MODEL_1904ea4b66e24606a0eaef3375e68975",
       "value": " 10920/10920 [07:05&lt;00:00, 25.66it/s]"
      }
     },
     "66cef7cae30a4d82ad5d5d93b7f3a238": {
      "model_module": "@jupyter-widgets/base",
      "model_module_version": "1.2.0",
      "model_name": "LayoutModel",
      "state": {
       "_model_module": "@jupyter-widgets/base",
       "_model_module_version": "1.2.0",
       "_model_name": "LayoutModel",
       "_view_count": null,
       "_view_module": "@jupyter-widgets/base",
       "_view_module_version": "1.2.0",
       "_view_name": "LayoutView",
       "align_content": null,
       "align_items": null,
       "align_self": null,
       "border": null,
       "bottom": null,
       "display": null,
       "flex": null,
       "flex_flow": null,
       "grid_area": null,
       "grid_auto_columns": null,
       "grid_auto_flow": null,
       "grid_auto_rows": null,
       "grid_column": null,
       "grid_gap": null,
       "grid_row": null,
       "grid_template_areas": null,
       "grid_template_columns": null,
       "grid_template_rows": null,
       "height": null,
       "justify_content": null,
       "justify_items": null,
       "left": null,
       "margin": null,
       "max_height": null,
       "max_width": null,
       "min_height": null,
       "min_width": null,
       "object_fit": null,
       "object_position": null,
       "order": null,
       "overflow": null,
       "overflow_x": null,
       "overflow_y": null,
       "padding": null,
       "right": null,
       "top": null,
       "visibility": null,
       "width": null
      }
     },
     "66e6df756eea4f6da67138131fd60b11": {
      "model_module": "@jupyter-widgets/controls",
      "model_module_version": "1.5.0",
      "model_name": "FloatProgressModel",
      "state": {
       "_dom_classes": [],
       "_model_module": "@jupyter-widgets/controls",
       "_model_module_version": "1.5.0",
       "_model_name": "FloatProgressModel",
       "_view_count": null,
       "_view_module": "@jupyter-widgets/controls",
       "_view_module_version": "1.5.0",
       "_view_name": "ProgressView",
       "bar_style": "success",
       "description": "100%",
       "description_tooltip": null,
       "layout": "IPY_MODEL_54f0aeb258624f5eb264d565f4b26654",
       "max": 3000.0,
       "min": 0.0,
       "orientation": "horizontal",
       "style": "IPY_MODEL_417c6e30ad6c4d19871b164adf55e29a",
       "value": 3000.0
      }
     },
     "6751c0a63a874b77b0195efef1df279b": {
      "model_module": "@jupyter-widgets/base",
      "model_module_version": "1.2.0",
      "model_name": "LayoutModel",
      "state": {
       "_model_module": "@jupyter-widgets/base",
       "_model_module_version": "1.2.0",
       "_model_name": "LayoutModel",
       "_view_count": null,
       "_view_module": "@jupyter-widgets/base",
       "_view_module_version": "1.2.0",
       "_view_name": "LayoutView",
       "align_content": null,
       "align_items": null,
       "align_self": null,
       "border": null,
       "bottom": null,
       "display": null,
       "flex": null,
       "flex_flow": null,
       "grid_area": null,
       "grid_auto_columns": null,
       "grid_auto_flow": null,
       "grid_auto_rows": null,
       "grid_column": null,
       "grid_gap": null,
       "grid_row": null,
       "grid_template_areas": null,
       "grid_template_columns": null,
       "grid_template_rows": null,
       "height": null,
       "justify_content": null,
       "justify_items": null,
       "left": null,
       "margin": null,
       "max_height": null,
       "max_width": null,
       "min_height": null,
       "min_width": null,
       "object_fit": null,
       "object_position": null,
       "order": null,
       "overflow": null,
       "overflow_x": null,
       "overflow_y": null,
       "padding": null,
       "right": null,
       "top": null,
       "visibility": null,
       "width": null
      }
     },
     "69db2c112e5c401cbe3c6958a92d8548": {
      "model_module": "@jupyter-widgets/base",
      "model_module_version": "1.2.0",
      "model_name": "LayoutModel",
      "state": {
       "_model_module": "@jupyter-widgets/base",
       "_model_module_version": "1.2.0",
       "_model_name": "LayoutModel",
       "_view_count": null,
       "_view_module": "@jupyter-widgets/base",
       "_view_module_version": "1.2.0",
       "_view_name": "LayoutView",
       "align_content": null,
       "align_items": null,
       "align_self": null,
       "border": null,
       "bottom": null,
       "display": null,
       "flex": null,
       "flex_flow": null,
       "grid_area": null,
       "grid_auto_columns": null,
       "grid_auto_flow": null,
       "grid_auto_rows": null,
       "grid_column": null,
       "grid_gap": null,
       "grid_row": null,
       "grid_template_areas": null,
       "grid_template_columns": null,
       "grid_template_rows": null,
       "height": null,
       "justify_content": null,
       "justify_items": null,
       "left": null,
       "margin": null,
       "max_height": null,
       "max_width": null,
       "min_height": null,
       "min_width": null,
       "object_fit": null,
       "object_position": null,
       "order": null,
       "overflow": null,
       "overflow_x": null,
       "overflow_y": null,
       "padding": null,
       "right": null,
       "top": null,
       "visibility": null,
       "width": null
      }
     },
     "7013502ffc404552a4679ce79d35a093": {
      "model_module": "@jupyter-widgets/controls",
      "model_module_version": "1.5.0",
      "model_name": "DescriptionStyleModel",
      "state": {
       "_model_module": "@jupyter-widgets/controls",
       "_model_module_version": "1.5.0",
       "_model_name": "DescriptionStyleModel",
       "_view_count": null,
       "_view_module": "@jupyter-widgets/base",
       "_view_module_version": "1.2.0",
       "_view_name": "StyleView",
       "description_width": ""
      }
     },
     "71dfd083711e439f97983db619acadd7": {
      "model_module": "@jupyter-widgets/controls",
      "model_module_version": "1.5.0",
      "model_name": "FloatProgressModel",
      "state": {
       "_dom_classes": [],
       "_model_module": "@jupyter-widgets/controls",
       "_model_module_version": "1.5.0",
       "_model_name": "FloatProgressModel",
       "_view_count": null,
       "_view_module": "@jupyter-widgets/controls",
       "_view_module_version": "1.5.0",
       "_view_name": "ProgressView",
       "bar_style": "success",
       "description": "100%",
       "description_tooltip": null,
       "layout": "IPY_MODEL_0fac6a3f34894de7895217c2ff32c4d8",
       "max": 10920.0,
       "min": 0.0,
       "orientation": "horizontal",
       "style": "IPY_MODEL_bbe7f870ea54476ab6abcb0a18fb06bf",
       "value": 10920.0
      }
     },
     "72adcecaff164c449b9ac0091ae16134": {
      "model_module": "@jupyter-widgets/base",
      "model_module_version": "1.2.0",
      "model_name": "LayoutModel",
      "state": {
       "_model_module": "@jupyter-widgets/base",
       "_model_module_version": "1.2.0",
       "_model_name": "LayoutModel",
       "_view_count": null,
       "_view_module": "@jupyter-widgets/base",
       "_view_module_version": "1.2.0",
       "_view_name": "LayoutView",
       "align_content": null,
       "align_items": null,
       "align_self": null,
       "border": null,
       "bottom": null,
       "display": null,
       "flex": null,
       "flex_flow": null,
       "grid_area": null,
       "grid_auto_columns": null,
       "grid_auto_flow": null,
       "grid_auto_rows": null,
       "grid_column": null,
       "grid_gap": null,
       "grid_row": null,
       "grid_template_areas": null,
       "grid_template_columns": null,
       "grid_template_rows": null,
       "height": null,
       "justify_content": null,
       "justify_items": null,
       "left": null,
       "margin": null,
       "max_height": null,
       "max_width": null,
       "min_height": null,
       "min_width": null,
       "object_fit": null,
       "object_position": null,
       "order": null,
       "overflow": null,
       "overflow_x": null,
       "overflow_y": null,
       "padding": null,
       "right": null,
       "top": null,
       "visibility": null,
       "width": null
      }
     },
     "7338ba78aead42e09552ded85429664d": {
      "model_module": "@jupyter-widgets/controls",
      "model_module_version": "1.5.0",
      "model_name": "HBoxModel",
      "state": {
       "_dom_classes": [],
       "_model_module": "@jupyter-widgets/controls",
       "_model_module_version": "1.5.0",
       "_model_name": "HBoxModel",
       "_view_count": null,
       "_view_module": "@jupyter-widgets/controls",
       "_view_module_version": "1.5.0",
       "_view_name": "HBoxView",
       "box_style": "",
       "children": [
        "IPY_MODEL_853c7ce30a0644a0a6559d7e40014f3a",
        "IPY_MODEL_a2a5d4cc7d9f4de6ba0af69603595c4a"
       ],
       "layout": "IPY_MODEL_ccbfce55911e42e1b5eb4e29d88f6d56"
      }
     },
     "745500e2dcc4496bb26e6912bd2bde6d": {
      "model_module": "@jupyter-widgets/controls",
      "model_module_version": "1.5.0",
      "model_name": "HTMLModel",
      "state": {
       "_dom_classes": [],
       "_model_module": "@jupyter-widgets/controls",
       "_model_module_version": "1.5.0",
       "_model_name": "HTMLModel",
       "_view_count": null,
       "_view_module": "@jupyter-widgets/controls",
       "_view_module_version": "1.5.0",
       "_view_name": "HTMLView",
       "description": "",
       "description_tooltip": null,
       "layout": "IPY_MODEL_3fcfde9c451b41f9b094a31a22680a58",
       "placeholder": "​",
       "style": "IPY_MODEL_bd44ba117cc141ff8d5ab7101d2bdcb0",
       "value": " 8438/8438 [08:02&lt;00:00, 17.48it/s]"
      }
     },
     "75930d58d82d45c39c59b5c1a2fee774": {
      "model_module": "@jupyter-widgets/controls",
      "model_module_version": "1.5.0",
      "model_name": "DescriptionStyleModel",
      "state": {
       "_model_module": "@jupyter-widgets/controls",
       "_model_module_version": "1.5.0",
       "_model_name": "DescriptionStyleModel",
       "_view_count": null,
       "_view_module": "@jupyter-widgets/base",
       "_view_module_version": "1.2.0",
       "_view_name": "StyleView",
       "description_width": ""
      }
     },
     "762ddcb153cc46b789a2690aa2e51199": {
      "model_module": "@jupyter-widgets/controls",
      "model_module_version": "1.5.0",
      "model_name": "DescriptionStyleModel",
      "state": {
       "_model_module": "@jupyter-widgets/controls",
       "_model_module_version": "1.5.0",
       "_model_name": "DescriptionStyleModel",
       "_view_count": null,
       "_view_module": "@jupyter-widgets/base",
       "_view_module_version": "1.2.0",
       "_view_name": "StyleView",
       "description_width": ""
      }
     },
     "77965cd85b6c49cb8ba3776c60147d2b": {
      "model_module": "@jupyter-widgets/base",
      "model_module_version": "1.2.0",
      "model_name": "LayoutModel",
      "state": {
       "_model_module": "@jupyter-widgets/base",
       "_model_module_version": "1.2.0",
       "_model_name": "LayoutModel",
       "_view_count": null,
       "_view_module": "@jupyter-widgets/base",
       "_view_module_version": "1.2.0",
       "_view_name": "LayoutView",
       "align_content": null,
       "align_items": null,
       "align_self": null,
       "border": null,
       "bottom": null,
       "display": null,
       "flex": null,
       "flex_flow": null,
       "grid_area": null,
       "grid_auto_columns": null,
       "grid_auto_flow": null,
       "grid_auto_rows": null,
       "grid_column": null,
       "grid_gap": null,
       "grid_row": null,
       "grid_template_areas": null,
       "grid_template_columns": null,
       "grid_template_rows": null,
       "height": null,
       "justify_content": null,
       "justify_items": null,
       "left": null,
       "margin": null,
       "max_height": null,
       "max_width": null,
       "min_height": null,
       "min_width": null,
       "object_fit": null,
       "object_position": null,
       "order": null,
       "overflow": null,
       "overflow_x": null,
       "overflow_y": null,
       "padding": null,
       "right": null,
       "top": null,
       "visibility": null,
       "width": null
      }
     },
     "77f7c74fbe694612ab4a9bae699f96ae": {
      "model_module": "@jupyter-widgets/base",
      "model_module_version": "1.2.0",
      "model_name": "LayoutModel",
      "state": {
       "_model_module": "@jupyter-widgets/base",
       "_model_module_version": "1.2.0",
       "_model_name": "LayoutModel",
       "_view_count": null,
       "_view_module": "@jupyter-widgets/base",
       "_view_module_version": "1.2.0",
       "_view_name": "LayoutView",
       "align_content": null,
       "align_items": null,
       "align_self": null,
       "border": null,
       "bottom": null,
       "display": null,
       "flex": null,
       "flex_flow": null,
       "grid_area": null,
       "grid_auto_columns": null,
       "grid_auto_flow": null,
       "grid_auto_rows": null,
       "grid_column": null,
       "grid_gap": null,
       "grid_row": null,
       "grid_template_areas": null,
       "grid_template_columns": null,
       "grid_template_rows": null,
       "height": null,
       "justify_content": null,
       "justify_items": null,
       "left": null,
       "margin": null,
       "max_height": null,
       "max_width": null,
       "min_height": null,
       "min_width": null,
       "object_fit": null,
       "object_position": null,
       "order": null,
       "overflow": null,
       "overflow_x": null,
       "overflow_y": null,
       "padding": null,
       "right": null,
       "top": null,
       "visibility": null,
       "width": null
      }
     },
     "7df65f6fce5c4644817e8656201b0df5": {
      "model_module": "@jupyter-widgets/controls",
      "model_module_version": "1.5.0",
      "model_name": "HTMLModel",
      "state": {
       "_dom_classes": [],
       "_model_module": "@jupyter-widgets/controls",
       "_model_module_version": "1.5.0",
       "_model_name": "HTMLModel",
       "_view_count": null,
       "_view_module": "@jupyter-widgets/controls",
       "_view_module_version": "1.5.0",
       "_view_name": "HTMLView",
       "description": "",
       "description_tooltip": null,
       "layout": "IPY_MODEL_5afb255c19a24980a78f5acff9961803",
       "placeholder": "​",
       "style": "IPY_MODEL_75930d58d82d45c39c59b5c1a2fee774",
       "value": " 1000/1000 [00:03&lt;00:00, 278.51it/s]"
      }
     },
     "7efbc12152d74ad99574924dd079df05": {
      "model_module": "@jupyter-widgets/controls",
      "model_module_version": "1.5.0",
      "model_name": "HTMLModel",
      "state": {
       "_dom_classes": [],
       "_model_module": "@jupyter-widgets/controls",
       "_model_module_version": "1.5.0",
       "_model_name": "HTMLModel",
       "_view_count": null,
       "_view_module": "@jupyter-widgets/controls",
       "_view_module_version": "1.5.0",
       "_view_name": "HTMLView",
       "description": "",
       "description_tooltip": null,
       "layout": "IPY_MODEL_f2282cb9291541469beb9fb3b9048fc1",
       "placeholder": "​",
       "style": "IPY_MODEL_4546f5be7f35411eab925b8ac2e2b4a6",
       "value": " 11012/11012 [04:45&lt;00:00, 38.63it/s]"
      }
     },
     "7f039fb593b34c89a280cd9803615699": {
      "model_module": "@jupyter-widgets/controls",
      "model_module_version": "1.5.0",
      "model_name": "FloatProgressModel",
      "state": {
       "_dom_classes": [],
       "_model_module": "@jupyter-widgets/controls",
       "_model_module_version": "1.5.0",
       "_model_name": "FloatProgressModel",
       "_view_count": null,
       "_view_module": "@jupyter-widgets/controls",
       "_view_module_version": "1.5.0",
       "_view_name": "ProgressView",
       "bar_style": "success",
       "description": "100%",
       "description_tooltip": null,
       "layout": "IPY_MODEL_1991c386d7014ae7be5c6e589e5a1c49",
       "max": 3000.0,
       "min": 0.0,
       "orientation": "horizontal",
       "style": "IPY_MODEL_c6ea897108fc478b8ce397c4a8402056",
       "value": 3000.0
      }
     },
     "81c91c1be1634432a88e1fc631ffafda": {
      "model_module": "@jupyter-widgets/base",
      "model_module_version": "1.2.0",
      "model_name": "LayoutModel",
      "state": {
       "_model_module": "@jupyter-widgets/base",
       "_model_module_version": "1.2.0",
       "_model_name": "LayoutModel",
       "_view_count": null,
       "_view_module": "@jupyter-widgets/base",
       "_view_module_version": "1.2.0",
       "_view_name": "LayoutView",
       "align_content": null,
       "align_items": null,
       "align_self": null,
       "border": null,
       "bottom": null,
       "display": null,
       "flex": null,
       "flex_flow": null,
       "grid_area": null,
       "grid_auto_columns": null,
       "grid_auto_flow": null,
       "grid_auto_rows": null,
       "grid_column": null,
       "grid_gap": null,
       "grid_row": null,
       "grid_template_areas": null,
       "grid_template_columns": null,
       "grid_template_rows": null,
       "height": null,
       "justify_content": null,
       "justify_items": null,
       "left": null,
       "margin": null,
       "max_height": null,
       "max_width": null,
       "min_height": null,
       "min_width": null,
       "object_fit": null,
       "object_position": null,
       "order": null,
       "overflow": null,
       "overflow_x": null,
       "overflow_y": null,
       "padding": null,
       "right": null,
       "top": null,
       "visibility": null,
       "width": null
      }
     },
     "82bc6b9ff9f7459389dc412cd0f09629": {
      "model_module": "@jupyter-widgets/controls",
      "model_module_version": "1.5.0",
      "model_name": "ProgressStyleModel",
      "state": {
       "_model_module": "@jupyter-widgets/controls",
       "_model_module_version": "1.5.0",
       "_model_name": "ProgressStyleModel",
       "_view_count": null,
       "_view_module": "@jupyter-widgets/base",
       "_view_module_version": "1.2.0",
       "_view_name": "StyleView",
       "bar_color": null,
       "description_width": "initial"
      }
     },
     "82c78752d27f49dca22b4bd7ba495dff": {
      "model_module": "@jupyter-widgets/controls",
      "model_module_version": "1.5.0",
      "model_name": "HBoxModel",
      "state": {
       "_dom_classes": [],
       "_model_module": "@jupyter-widgets/controls",
       "_model_module_version": "1.5.0",
       "_model_name": "HBoxModel",
       "_view_count": null,
       "_view_module": "@jupyter-widgets/controls",
       "_view_module_version": "1.5.0",
       "_view_name": "HBoxView",
       "box_style": "",
       "children": [
        "IPY_MODEL_8833a5eae6a24248ae5303193fdf015a",
        "IPY_MODEL_38d5e8bcdf01402cb05b50ef3aad4b8f"
       ],
       "layout": "IPY_MODEL_fda91c2b5d3b444592275f890790d47f"
      }
     },
     "834a6e978c69430490f539e0046616bf": {
      "model_module": "@jupyter-widgets/controls",
      "model_module_version": "1.5.0",
      "model_name": "HBoxModel",
      "state": {
       "_dom_classes": [],
       "_model_module": "@jupyter-widgets/controls",
       "_model_module_version": "1.5.0",
       "_model_name": "HBoxModel",
       "_view_count": null,
       "_view_module": "@jupyter-widgets/controls",
       "_view_module_version": "1.5.0",
       "_view_name": "HBoxView",
       "box_style": "",
       "children": [
        "IPY_MODEL_069dbd5b8520498c9ea256e81a0fd979",
        "IPY_MODEL_9596ec8621ec49399b0602dfd7efa95a"
       ],
       "layout": "IPY_MODEL_1d4824e56a38497891695a4144f6ff54"
      }
     },
     "853c7ce30a0644a0a6559d7e40014f3a": {
      "model_module": "@jupyter-widgets/controls",
      "model_module_version": "1.5.0",
      "model_name": "FloatProgressModel",
      "state": {
       "_dom_classes": [],
       "_model_module": "@jupyter-widgets/controls",
       "_model_module_version": "1.5.0",
       "_model_name": "FloatProgressModel",
       "_view_count": null,
       "_view_module": "@jupyter-widgets/controls",
       "_view_module_version": "1.5.0",
       "_view_name": "ProgressView",
       "bar_style": "success",
       "description": "Downloading: 100%",
       "description_tooltip": null,
       "layout": "IPY_MODEL_0708c6b5d6da4b7cb882a584a41217a2",
       "max": 512.0,
       "min": 0.0,
       "orientation": "horizontal",
       "style": "IPY_MODEL_c66238d15f03415cb7989915dee2c222",
       "value": 512.0
      }
     },
     "865e1fbc23bf4d849c8b274b24f38f15": {
      "model_module": "@jupyter-widgets/controls",
      "model_module_version": "1.5.0",
      "model_name": "FloatProgressModel",
      "state": {
       "_dom_classes": [],
       "_model_module": "@jupyter-widgets/controls",
       "_model_module_version": "1.5.0",
       "_model_name": "FloatProgressModel",
       "_view_count": null,
       "_view_module": "@jupyter-widgets/controls",
       "_view_module_version": "1.5.0",
       "_view_name": "ProgressView",
       "bar_style": "success",
       "description": "Downloading: 100%",
       "description_tooltip": null,
       "layout": "IPY_MODEL_38bf5fe0b43848f4a4c732aa30f50172",
       "max": 5069051.0,
       "min": 0.0,
       "orientation": "horizontal",
       "style": "IPY_MODEL_3d2486e911ec44c9843e53ead113fde3",
       "value": 5069051.0
      }
     },
     "86cfcbcd4cbe488c81ae97f6bd48b029": {
      "model_module": "@jupyter-widgets/controls",
      "model_module_version": "1.5.0",
      "model_name": "DescriptionStyleModel",
      "state": {
       "_model_module": "@jupyter-widgets/controls",
       "_model_module_version": "1.5.0",
       "_model_name": "DescriptionStyleModel",
       "_view_count": null,
       "_view_module": "@jupyter-widgets/base",
       "_view_module_version": "1.2.0",
       "_view_name": "StyleView",
       "description_width": ""
      }
     },
     "86d6f38c75024deab16c6ed572c66ea1": {
      "model_module": "@jupyter-widgets/controls",
      "model_module_version": "1.5.0",
      "model_name": "ProgressStyleModel",
      "state": {
       "_model_module": "@jupyter-widgets/controls",
       "_model_module_version": "1.5.0",
       "_model_name": "ProgressStyleModel",
       "_view_count": null,
       "_view_module": "@jupyter-widgets/base",
       "_view_module_version": "1.2.0",
       "_view_name": "StyleView",
       "bar_color": null,
       "description_width": "initial"
      }
     },
     "87bd8f7da1614fba8070b90450fb32bc": {
      "model_module": "@jupyter-widgets/controls",
      "model_module_version": "1.5.0",
      "model_name": "FloatProgressModel",
      "state": {
       "_dom_classes": [],
       "_model_module": "@jupyter-widgets/controls",
       "_model_module_version": "1.5.0",
       "_model_name": "FloatProgressModel",
       "_view_count": null,
       "_view_module": "@jupyter-widgets/controls",
       "_view_module_version": "1.5.0",
       "_view_name": "ProgressView",
       "bar_style": "success",
       "description": "100%",
       "description_tooltip": null,
       "layout": "IPY_MODEL_3f3f3e5f29a74e0daa4743e9e82910b8",
       "max": 2500.0,
       "min": 0.0,
       "orientation": "horizontal",
       "style": "IPY_MODEL_fd9ca8c8c90242dc8ee42363352f1169",
       "value": 2500.0
      }
     },
     "8833a5eae6a24248ae5303193fdf015a": {
      "model_module": "@jupyter-widgets/controls",
      "model_module_version": "1.5.0",
      "model_name": "FloatProgressModel",
      "state": {
       "_dom_classes": [],
       "_model_module": "@jupyter-widgets/controls",
       "_model_module_version": "1.5.0",
       "_model_name": "FloatProgressModel",
       "_view_count": null,
       "_view_module": "@jupyter-widgets/controls",
       "_view_module_version": "1.5.0",
       "_view_name": "ProgressView",
       "bar_style": "success",
       "description": "100%",
       "description_tooltip": null,
       "layout": "IPY_MODEL_6751c0a63a874b77b0195efef1df279b",
       "max": 8494.0,
       "min": 0.0,
       "orientation": "horizontal",
       "style": "IPY_MODEL_ed88c10b99044a3bb2ca9fe0ed111b56",
       "value": 8494.0
      }
     },
     "8b262904398f43f9bbeac285e1f61da4": {
      "model_module": "@jupyter-widgets/controls",
      "model_module_version": "1.5.0",
      "model_name": "HTMLModel",
      "state": {
       "_dom_classes": [],
       "_model_module": "@jupyter-widgets/controls",
       "_model_module_version": "1.5.0",
       "_model_name": "HTMLModel",
       "_view_count": null,
       "_view_module": "@jupyter-widgets/controls",
       "_view_module_version": "1.5.0",
       "_view_name": "HTMLView",
       "description": "",
       "description_tooltip": null,
       "layout": "IPY_MODEL_2a7ffc4bcc03460daa230b6faca9ce58",
       "placeholder": "​",
       "style": "IPY_MODEL_ad6e00cf19544566bf99101df777a123",
       "value": " 2500/2500 [00:39&lt;00:00, 64.08it/s]"
      }
     },
     "8b64465ae3b142fd9407d962cf4ef3ff": {
      "model_module": "@jupyter-widgets/base",
      "model_module_version": "1.2.0",
      "model_name": "LayoutModel",
      "state": {
       "_model_module": "@jupyter-widgets/base",
       "_model_module_version": "1.2.0",
       "_model_name": "LayoutModel",
       "_view_count": null,
       "_view_module": "@jupyter-widgets/base",
       "_view_module_version": "1.2.0",
       "_view_name": "LayoutView",
       "align_content": null,
       "align_items": null,
       "align_self": null,
       "border": null,
       "bottom": null,
       "display": null,
       "flex": null,
       "flex_flow": null,
       "grid_area": null,
       "grid_auto_columns": null,
       "grid_auto_flow": null,
       "grid_auto_rows": null,
       "grid_column": null,
       "grid_gap": null,
       "grid_row": null,
       "grid_template_areas": null,
       "grid_template_columns": null,
       "grid_template_rows": null,
       "height": null,
       "justify_content": null,
       "justify_items": null,
       "left": null,
       "margin": null,
       "max_height": null,
       "max_width": null,
       "min_height": null,
       "min_width": null,
       "object_fit": null,
       "object_position": null,
       "order": null,
       "overflow": null,
       "overflow_x": null,
       "overflow_y": null,
       "padding": null,
       "right": null,
       "top": null,
       "visibility": null,
       "width": null
      }
     },
     "8e8872bb8b81443caa1b42e912101571": {
      "model_module": "@jupyter-widgets/base",
      "model_module_version": "1.2.0",
      "model_name": "LayoutModel",
      "state": {
       "_model_module": "@jupyter-widgets/base",
       "_model_module_version": "1.2.0",
       "_model_name": "LayoutModel",
       "_view_count": null,
       "_view_module": "@jupyter-widgets/base",
       "_view_module_version": "1.2.0",
       "_view_name": "LayoutView",
       "align_content": null,
       "align_items": null,
       "align_self": null,
       "border": null,
       "bottom": null,
       "display": null,
       "flex": null,
       "flex_flow": null,
       "grid_area": null,
       "grid_auto_columns": null,
       "grid_auto_flow": null,
       "grid_auto_rows": null,
       "grid_column": null,
       "grid_gap": null,
       "grid_row": null,
       "grid_template_areas": null,
       "grid_template_columns": null,
       "grid_template_rows": null,
       "height": null,
       "justify_content": null,
       "justify_items": null,
       "left": null,
       "margin": null,
       "max_height": null,
       "max_width": null,
       "min_height": null,
       "min_width": null,
       "object_fit": null,
       "object_position": null,
       "order": null,
       "overflow": null,
       "overflow_x": null,
       "overflow_y": null,
       "padding": null,
       "right": null,
       "top": null,
       "visibility": null,
       "width": null
      }
     },
     "9252a7ffd33a40a087966fd1aa4c1e95": {
      "model_module": "@jupyter-widgets/base",
      "model_module_version": "1.2.0",
      "model_name": "LayoutModel",
      "state": {
       "_model_module": "@jupyter-widgets/base",
       "_model_module_version": "1.2.0",
       "_model_name": "LayoutModel",
       "_view_count": null,
       "_view_module": "@jupyter-widgets/base",
       "_view_module_version": "1.2.0",
       "_view_name": "LayoutView",
       "align_content": null,
       "align_items": null,
       "align_self": null,
       "border": null,
       "bottom": null,
       "display": null,
       "flex": null,
       "flex_flow": null,
       "grid_area": null,
       "grid_auto_columns": null,
       "grid_auto_flow": null,
       "grid_auto_rows": null,
       "grid_column": null,
       "grid_gap": null,
       "grid_row": null,
       "grid_template_areas": null,
       "grid_template_columns": null,
       "grid_template_rows": null,
       "height": null,
       "justify_content": null,
       "justify_items": null,
       "left": null,
       "margin": null,
       "max_height": null,
       "max_width": null,
       "min_height": null,
       "min_width": null,
       "object_fit": null,
       "object_position": null,
       "order": null,
       "overflow": null,
       "overflow_x": null,
       "overflow_y": null,
       "padding": null,
       "right": null,
       "top": null,
       "visibility": null,
       "width": null
      }
     },
     "93b31a6329f34aa0b51848fbfbb92285": {
      "model_module": "@jupyter-widgets/base",
      "model_module_version": "1.2.0",
      "model_name": "LayoutModel",
      "state": {
       "_model_module": "@jupyter-widgets/base",
       "_model_module_version": "1.2.0",
       "_model_name": "LayoutModel",
       "_view_count": null,
       "_view_module": "@jupyter-widgets/base",
       "_view_module_version": "1.2.0",
       "_view_name": "LayoutView",
       "align_content": null,
       "align_items": null,
       "align_self": null,
       "border": null,
       "bottom": null,
       "display": null,
       "flex": null,
       "flex_flow": null,
       "grid_area": null,
       "grid_auto_columns": null,
       "grid_auto_flow": null,
       "grid_auto_rows": null,
       "grid_column": null,
       "grid_gap": null,
       "grid_row": null,
       "grid_template_areas": null,
       "grid_template_columns": null,
       "grid_template_rows": null,
       "height": null,
       "justify_content": null,
       "justify_items": null,
       "left": null,
       "margin": null,
       "max_height": null,
       "max_width": null,
       "min_height": null,
       "min_width": null,
       "object_fit": null,
       "object_position": null,
       "order": null,
       "overflow": null,
       "overflow_x": null,
       "overflow_y": null,
       "padding": null,
       "right": null,
       "top": null,
       "visibility": null,
       "width": null
      }
     },
     "94f86c521dea4ba58143629a1bc25360": {
      "model_module": "@jupyter-widgets/controls",
      "model_module_version": "1.5.0",
      "model_name": "DescriptionStyleModel",
      "state": {
       "_model_module": "@jupyter-widgets/controls",
       "_model_module_version": "1.5.0",
       "_model_name": "DescriptionStyleModel",
       "_view_count": null,
       "_view_module": "@jupyter-widgets/base",
       "_view_module_version": "1.2.0",
       "_view_name": "StyleView",
       "description_width": ""
      }
     },
     "9596ec8621ec49399b0602dfd7efa95a": {
      "model_module": "@jupyter-widgets/controls",
      "model_module_version": "1.5.0",
      "model_name": "HTMLModel",
      "state": {
       "_dom_classes": [],
       "_model_module": "@jupyter-widgets/controls",
       "_model_module_version": "1.5.0",
       "_model_name": "HTMLModel",
       "_view_count": null,
       "_view_module": "@jupyter-widgets/controls",
       "_view_module_version": "1.5.0",
       "_view_name": "HTMLView",
       "description": "",
       "description_tooltip": null,
       "layout": "IPY_MODEL_adbbd6339711406c951a35f3a3cae76a",
       "placeholder": "​",
       "style": "IPY_MODEL_7013502ffc404552a4679ce79d35a093",
       "value": " 3000/3000 [00:27&lt;00:00, 108.11it/s]"
      }
     },
     "963cca6797754789923733d8189dda75": {
      "model_module": "@jupyter-widgets/base",
      "model_module_version": "1.2.0",
      "model_name": "LayoutModel",
      "state": {
       "_model_module": "@jupyter-widgets/base",
       "_model_module_version": "1.2.0",
       "_model_name": "LayoutModel",
       "_view_count": null,
       "_view_module": "@jupyter-widgets/base",
       "_view_module_version": "1.2.0",
       "_view_name": "LayoutView",
       "align_content": null,
       "align_items": null,
       "align_self": null,
       "border": null,
       "bottom": null,
       "display": null,
       "flex": null,
       "flex_flow": null,
       "grid_area": null,
       "grid_auto_columns": null,
       "grid_auto_flow": null,
       "grid_auto_rows": null,
       "grid_column": null,
       "grid_gap": null,
       "grid_row": null,
       "grid_template_areas": null,
       "grid_template_columns": null,
       "grid_template_rows": null,
       "height": null,
       "justify_content": null,
       "justify_items": null,
       "left": null,
       "margin": null,
       "max_height": null,
       "max_width": null,
       "min_height": null,
       "min_width": null,
       "object_fit": null,
       "object_position": null,
       "order": null,
       "overflow": null,
       "overflow_x": null,
       "overflow_y": null,
       "padding": null,
       "right": null,
       "top": null,
       "visibility": null,
       "width": null
      }
     },
     "96e0c5eac3f345b59b691dca0c5211b2": {
      "model_module": "@jupyter-widgets/controls",
      "model_module_version": "1.5.0",
      "model_name": "FloatProgressModel",
      "state": {
       "_dom_classes": [],
       "_model_module": "@jupyter-widgets/controls",
       "_model_module_version": "1.5.0",
       "_model_name": "FloatProgressModel",
       "_view_count": null,
       "_view_module": "@jupyter-widgets/controls",
       "_view_module_version": "1.5.0",
       "_view_name": "ProgressView",
       "bar_style": "success",
       "description": "100%",
       "description_tooltip": null,
       "layout": "IPY_MODEL_c4b985ec2e9243188eb62032fe49c7a9",
       "max": 14000.0,
       "min": 0.0,
       "orientation": "horizontal",
       "style": "IPY_MODEL_f78f14b589fe437cac576c3e847f5946",
       "value": 14000.0
      }
     },
     "974fc1bd0ab1445d8253fa03fb33548a": {
      "model_module": "@jupyter-widgets/controls",
      "model_module_version": "1.5.0",
      "model_name": "FloatProgressModel",
      "state": {
       "_dom_classes": [],
       "_model_module": "@jupyter-widgets/controls",
       "_model_module_version": "1.5.0",
       "_model_name": "FloatProgressModel",
       "_view_count": null,
       "_view_module": "@jupyter-widgets/controls",
       "_view_module_version": "1.5.0",
       "_view_name": "ProgressView",
       "bar_style": "success",
       "description": "100%",
       "description_tooltip": null,
       "layout": "IPY_MODEL_9252a7ffd33a40a087966fd1aa4c1e95",
       "max": 1000.0,
       "min": 0.0,
       "orientation": "horizontal",
       "style": "IPY_MODEL_18825bc6e8d44069ba3b5d00e6413cef",
       "value": 1000.0
      }
     },
     "97e1caf20fbb41908c363778e2ca7680": {
      "model_module": "@jupyter-widgets/controls",
      "model_module_version": "1.5.0",
      "model_name": "HBoxModel",
      "state": {
       "_dom_classes": [],
       "_model_module": "@jupyter-widgets/controls",
       "_model_module_version": "1.5.0",
       "_model_name": "HBoxModel",
       "_view_count": null,
       "_view_module": "@jupyter-widgets/controls",
       "_view_module_version": "1.5.0",
       "_view_name": "HBoxView",
       "box_style": "",
       "children": [
        "IPY_MODEL_ce5cf550ba3e43449d90f1412033ad7f",
        "IPY_MODEL_af59392111e94a548536dd943b66bc5a"
       ],
       "layout": "IPY_MODEL_d8d3defd99d94863a891d6116b4224dd"
      }
     },
     "9a7eb8117a994748b7c0df678b3546ba": {
      "model_module": "@jupyter-widgets/base",
      "model_module_version": "1.2.0",
      "model_name": "LayoutModel",
      "state": {
       "_model_module": "@jupyter-widgets/base",
       "_model_module_version": "1.2.0",
       "_model_name": "LayoutModel",
       "_view_count": null,
       "_view_module": "@jupyter-widgets/base",
       "_view_module_version": "1.2.0",
       "_view_name": "LayoutView",
       "align_content": null,
       "align_items": null,
       "align_self": null,
       "border": null,
       "bottom": null,
       "display": null,
       "flex": null,
       "flex_flow": null,
       "grid_area": null,
       "grid_auto_columns": null,
       "grid_auto_flow": null,
       "grid_auto_rows": null,
       "grid_column": null,
       "grid_gap": null,
       "grid_row": null,
       "grid_template_areas": null,
       "grid_template_columns": null,
       "grid_template_rows": null,
       "height": null,
       "justify_content": null,
       "justify_items": null,
       "left": null,
       "margin": null,
       "max_height": null,
       "max_width": null,
       "min_height": null,
       "min_width": null,
       "object_fit": null,
       "object_position": null,
       "order": null,
       "overflow": null,
       "overflow_x": null,
       "overflow_y": null,
       "padding": null,
       "right": null,
       "top": null,
       "visibility": null,
       "width": null
      }
     },
     "9aac43abbd3d44d2b296abeea2cb7864": {
      "model_module": "@jupyter-widgets/controls",
      "model_module_version": "1.5.0",
      "model_name": "FloatProgressModel",
      "state": {
       "_dom_classes": [],
       "_model_module": "@jupyter-widgets/controls",
       "_model_module_version": "1.5.0",
       "_model_name": "FloatProgressModel",
       "_view_count": null,
       "_view_module": "@jupyter-widgets/controls",
       "_view_module_version": "1.5.0",
       "_view_name": "ProgressView",
       "bar_style": "success",
       "description": "100%",
       "description_tooltip": null,
       "layout": "IPY_MODEL_5d8ef715f99746ca9834f947608e33fd",
       "max": 2500.0,
       "min": 0.0,
       "orientation": "horizontal",
       "style": "IPY_MODEL_f2125c2c9d434b64916aeca89fcca7fc",
       "value": 2500.0
      }
     },
     "9ab058b83682439a8b4028e6fc6c5095": {
      "model_module": "@jupyter-widgets/controls",
      "model_module_version": "1.5.0",
      "model_name": "HBoxModel",
      "state": {
       "_dom_classes": [],
       "_model_module": "@jupyter-widgets/controls",
       "_model_module_version": "1.5.0",
       "_model_name": "HBoxModel",
       "_view_count": null,
       "_view_module": "@jupyter-widgets/controls",
       "_view_module_version": "1.5.0",
       "_view_name": "HBoxView",
       "box_style": "",
       "children": [
        "IPY_MODEL_50c47239697d4d3585c495c1ec41d5f3",
        "IPY_MODEL_cabc93088d28484aacfe4e7f74e32578"
       ],
       "layout": "IPY_MODEL_8e8872bb8b81443caa1b42e912101571"
      }
     },
     "9bdaf4b9af174b46a0f1a43f79f85307": {
      "model_module": "@jupyter-widgets/controls",
      "model_module_version": "1.5.0",
      "model_name": "DescriptionStyleModel",
      "state": {
       "_model_module": "@jupyter-widgets/controls",
       "_model_module_version": "1.5.0",
       "_model_name": "DescriptionStyleModel",
       "_view_count": null,
       "_view_module": "@jupyter-widgets/base",
       "_view_module_version": "1.2.0",
       "_view_name": "StyleView",
       "description_width": ""
      }
     },
     "a12f7d792bdd47f985b1875cc31b5737": {
      "model_module": "@jupyter-widgets/controls",
      "model_module_version": "1.5.0",
      "model_name": "HBoxModel",
      "state": {
       "_dom_classes": [],
       "_model_module": "@jupyter-widgets/controls",
       "_model_module_version": "1.5.0",
       "_model_name": "HBoxModel",
       "_view_count": null,
       "_view_module": "@jupyter-widgets/controls",
       "_view_module_version": "1.5.0",
       "_view_name": "HBoxView",
       "box_style": "",
       "children": [
        "IPY_MODEL_ae34c1627e15438da03b51fefcb2d99c",
        "IPY_MODEL_f4823cef8d4f40149a127b9f9364b27d"
       ],
       "layout": "IPY_MODEL_ec0e33e2a86b4f50943826d7828d3158"
      }
     },
     "a2453b74db844f1c8df4f7518f700b08": {
      "model_module": "@jupyter-widgets/controls",
      "model_module_version": "1.5.0",
      "model_name": "DescriptionStyleModel",
      "state": {
       "_model_module": "@jupyter-widgets/controls",
       "_model_module_version": "1.5.0",
       "_model_name": "DescriptionStyleModel",
       "_view_count": null,
       "_view_module": "@jupyter-widgets/base",
       "_view_module_version": "1.2.0",
       "_view_name": "StyleView",
       "description_width": ""
      }
     },
     "a2a5d4cc7d9f4de6ba0af69603595c4a": {
      "model_module": "@jupyter-widgets/controls",
      "model_module_version": "1.5.0",
      "model_name": "HTMLModel",
      "state": {
       "_dom_classes": [],
       "_model_module": "@jupyter-widgets/controls",
       "_model_module_version": "1.5.0",
       "_model_name": "HTMLModel",
       "_view_count": null,
       "_view_module": "@jupyter-widgets/controls",
       "_view_module_version": "1.5.0",
       "_view_name": "HTMLView",
       "description": "",
       "description_tooltip": null,
       "layout": "IPY_MODEL_28c50f44a5804c9696fe8e4bf792d766",
       "placeholder": "​",
       "style": "IPY_MODEL_de03b60e2c424701b002a35c92afb4ac",
       "value": " 512/512 [00:04&lt;00:00, 112B/s]"
      }
     },
     "a665ae1b97de4e87877af4fe04ca2f16": {
      "model_module": "@jupyter-widgets/controls",
      "model_module_version": "1.5.0",
      "model_name": "HTMLModel",
      "state": {
       "_dom_classes": [],
       "_model_module": "@jupyter-widgets/controls",
       "_model_module_version": "1.5.0",
       "_model_name": "HTMLModel",
       "_view_count": null,
       "_view_module": "@jupyter-widgets/controls",
       "_view_module_version": "1.5.0",
       "_view_name": "HTMLView",
       "description": "",
       "description_tooltip": null,
       "layout": "IPY_MODEL_c3f44ac77d9f4782b04429c05d1a71bb",
       "placeholder": "​",
       "style": "IPY_MODEL_762ddcb153cc46b789a2690aa2e51199",
       "value": " 3000/3000 [00:39&lt;00:00, 75.06it/s]"
      }
     },
     "a77db91962d44885b411865514669b46": {
      "model_module": "@jupyter-widgets/base",
      "model_module_version": "1.2.0",
      "model_name": "LayoutModel",
      "state": {
       "_model_module": "@jupyter-widgets/base",
       "_model_module_version": "1.2.0",
       "_model_name": "LayoutModel",
       "_view_count": null,
       "_view_module": "@jupyter-widgets/base",
       "_view_module_version": "1.2.0",
       "_view_name": "LayoutView",
       "align_content": null,
       "align_items": null,
       "align_self": null,
       "border": null,
       "bottom": null,
       "display": null,
       "flex": null,
       "flex_flow": null,
       "grid_area": null,
       "grid_auto_columns": null,
       "grid_auto_flow": null,
       "grid_auto_rows": null,
       "grid_column": null,
       "grid_gap": null,
       "grid_row": null,
       "grid_template_areas": null,
       "grid_template_columns": null,
       "grid_template_rows": null,
       "height": null,
       "justify_content": null,
       "justify_items": null,
       "left": null,
       "margin": null,
       "max_height": null,
       "max_width": null,
       "min_height": null,
       "min_width": null,
       "object_fit": null,
       "object_position": null,
       "order": null,
       "overflow": null,
       "overflow_x": null,
       "overflow_y": null,
       "padding": null,
       "right": null,
       "top": null,
       "visibility": null,
       "width": null
      }
     },
     "a8d54bdf80134fedb41d92e8ec2263ac": {
      "model_module": "@jupyter-widgets/base",
      "model_module_version": "1.2.0",
      "model_name": "LayoutModel",
      "state": {
       "_model_module": "@jupyter-widgets/base",
       "_model_module_version": "1.2.0",
       "_model_name": "LayoutModel",
       "_view_count": null,
       "_view_module": "@jupyter-widgets/base",
       "_view_module_version": "1.2.0",
       "_view_name": "LayoutView",
       "align_content": null,
       "align_items": null,
       "align_self": null,
       "border": null,
       "bottom": null,
       "display": null,
       "flex": null,
       "flex_flow": null,
       "grid_area": null,
       "grid_auto_columns": null,
       "grid_auto_flow": null,
       "grid_auto_rows": null,
       "grid_column": null,
       "grid_gap": null,
       "grid_row": null,
       "grid_template_areas": null,
       "grid_template_columns": null,
       "grid_template_rows": null,
       "height": null,
       "justify_content": null,
       "justify_items": null,
       "left": null,
       "margin": null,
       "max_height": null,
       "max_width": null,
       "min_height": null,
       "min_width": null,
       "object_fit": null,
       "object_position": null,
       "order": null,
       "overflow": null,
       "overflow_x": null,
       "overflow_y": null,
       "padding": null,
       "right": null,
       "top": null,
       "visibility": null,
       "width": null
      }
     },
     "ac42c70c2dbe4e7a8c5767e8bd9859a1": {
      "model_module": "@jupyter-widgets/controls",
      "model_module_version": "1.5.0",
      "model_name": "ProgressStyleModel",
      "state": {
       "_model_module": "@jupyter-widgets/controls",
       "_model_module_version": "1.5.0",
       "_model_name": "ProgressStyleModel",
       "_view_count": null,
       "_view_module": "@jupyter-widgets/base",
       "_view_module_version": "1.2.0",
       "_view_name": "StyleView",
       "bar_color": null,
       "description_width": "initial"
      }
     },
     "acb6855cebca445d97003fee42848fdf": {
      "model_module": "@jupyter-widgets/base",
      "model_module_version": "1.2.0",
      "model_name": "LayoutModel",
      "state": {
       "_model_module": "@jupyter-widgets/base",
       "_model_module_version": "1.2.0",
       "_model_name": "LayoutModel",
       "_view_count": null,
       "_view_module": "@jupyter-widgets/base",
       "_view_module_version": "1.2.0",
       "_view_name": "LayoutView",
       "align_content": null,
       "align_items": null,
       "align_self": null,
       "border": null,
       "bottom": null,
       "display": null,
       "flex": null,
       "flex_flow": null,
       "grid_area": null,
       "grid_auto_columns": null,
       "grid_auto_flow": null,
       "grid_auto_rows": null,
       "grid_column": null,
       "grid_gap": null,
       "grid_row": null,
       "grid_template_areas": null,
       "grid_template_columns": null,
       "grid_template_rows": null,
       "height": null,
       "justify_content": null,
       "justify_items": null,
       "left": null,
       "margin": null,
       "max_height": null,
       "max_width": null,
       "min_height": null,
       "min_width": null,
       "object_fit": null,
       "object_position": null,
       "order": null,
       "overflow": null,
       "overflow_x": null,
       "overflow_y": null,
       "padding": null,
       "right": null,
       "top": null,
       "visibility": null,
       "width": null
      }
     },
     "ad4b1dc3a07c48b88e937c70b2055db5": {
      "model_module": "@jupyter-widgets/base",
      "model_module_version": "1.2.0",
      "model_name": "LayoutModel",
      "state": {
       "_model_module": "@jupyter-widgets/base",
       "_model_module_version": "1.2.0",
       "_model_name": "LayoutModel",
       "_view_count": null,
       "_view_module": "@jupyter-widgets/base",
       "_view_module_version": "1.2.0",
       "_view_name": "LayoutView",
       "align_content": null,
       "align_items": null,
       "align_self": null,
       "border": null,
       "bottom": null,
       "display": null,
       "flex": null,
       "flex_flow": null,
       "grid_area": null,
       "grid_auto_columns": null,
       "grid_auto_flow": null,
       "grid_auto_rows": null,
       "grid_column": null,
       "grid_gap": null,
       "grid_row": null,
       "grid_template_areas": null,
       "grid_template_columns": null,
       "grid_template_rows": null,
       "height": null,
       "justify_content": null,
       "justify_items": null,
       "left": null,
       "margin": null,
       "max_height": null,
       "max_width": null,
       "min_height": null,
       "min_width": null,
       "object_fit": null,
       "object_position": null,
       "order": null,
       "overflow": null,
       "overflow_x": null,
       "overflow_y": null,
       "padding": null,
       "right": null,
       "top": null,
       "visibility": null,
       "width": null
      }
     },
     "ad6aac99c158492ea3239acfd89fd0a8": {
      "model_module": "@jupyter-widgets/base",
      "model_module_version": "1.2.0",
      "model_name": "LayoutModel",
      "state": {
       "_model_module": "@jupyter-widgets/base",
       "_model_module_version": "1.2.0",
       "_model_name": "LayoutModel",
       "_view_count": null,
       "_view_module": "@jupyter-widgets/base",
       "_view_module_version": "1.2.0",
       "_view_name": "LayoutView",
       "align_content": null,
       "align_items": null,
       "align_self": null,
       "border": null,
       "bottom": null,
       "display": null,
       "flex": null,
       "flex_flow": null,
       "grid_area": null,
       "grid_auto_columns": null,
       "grid_auto_flow": null,
       "grid_auto_rows": null,
       "grid_column": null,
       "grid_gap": null,
       "grid_row": null,
       "grid_template_areas": null,
       "grid_template_columns": null,
       "grid_template_rows": null,
       "height": null,
       "justify_content": null,
       "justify_items": null,
       "left": null,
       "margin": null,
       "max_height": null,
       "max_width": null,
       "min_height": null,
       "min_width": null,
       "object_fit": null,
       "object_position": null,
       "order": null,
       "overflow": null,
       "overflow_x": null,
       "overflow_y": null,
       "padding": null,
       "right": null,
       "top": null,
       "visibility": null,
       "width": null
      }
     },
     "ad6e00cf19544566bf99101df777a123": {
      "model_module": "@jupyter-widgets/controls",
      "model_module_version": "1.5.0",
      "model_name": "DescriptionStyleModel",
      "state": {
       "_model_module": "@jupyter-widgets/controls",
       "_model_module_version": "1.5.0",
       "_model_name": "DescriptionStyleModel",
       "_view_count": null,
       "_view_module": "@jupyter-widgets/base",
       "_view_module_version": "1.2.0",
       "_view_name": "StyleView",
       "description_width": ""
      }
     },
     "adbbd6339711406c951a35f3a3cae76a": {
      "model_module": "@jupyter-widgets/base",
      "model_module_version": "1.2.0",
      "model_name": "LayoutModel",
      "state": {
       "_model_module": "@jupyter-widgets/base",
       "_model_module_version": "1.2.0",
       "_model_name": "LayoutModel",
       "_view_count": null,
       "_view_module": "@jupyter-widgets/base",
       "_view_module_version": "1.2.0",
       "_view_name": "LayoutView",
       "align_content": null,
       "align_items": null,
       "align_self": null,
       "border": null,
       "bottom": null,
       "display": null,
       "flex": null,
       "flex_flow": null,
       "grid_area": null,
       "grid_auto_columns": null,
       "grid_auto_flow": null,
       "grid_auto_rows": null,
       "grid_column": null,
       "grid_gap": null,
       "grid_row": null,
       "grid_template_areas": null,
       "grid_template_columns": null,
       "grid_template_rows": null,
       "height": null,
       "justify_content": null,
       "justify_items": null,
       "left": null,
       "margin": null,
       "max_height": null,
       "max_width": null,
       "min_height": null,
       "min_width": null,
       "object_fit": null,
       "object_position": null,
       "order": null,
       "overflow": null,
       "overflow_x": null,
       "overflow_y": null,
       "padding": null,
       "right": null,
       "top": null,
       "visibility": null,
       "width": null
      }
     },
     "ae34c1627e15438da03b51fefcb2d99c": {
      "model_module": "@jupyter-widgets/controls",
      "model_module_version": "1.5.0",
      "model_name": "FloatProgressModel",
      "state": {
       "_dom_classes": [],
       "_model_module": "@jupyter-widgets/controls",
       "_model_module_version": "1.5.0",
       "_model_name": "FloatProgressModel",
       "_view_count": null,
       "_view_module": "@jupyter-widgets/controls",
       "_view_module_version": "1.5.0",
       "_view_name": "ProgressView",
       "bar_style": "success",
       "description": "100%",
       "description_tooltip": null,
       "layout": "IPY_MODEL_77965cd85b6c49cb8ba3776c60147d2b",
       "max": 2500.0,
       "min": 0.0,
       "orientation": "horizontal",
       "style": "IPY_MODEL_00e7eb08180d45f1896b8ca3ebdeaf45",
       "value": 2500.0
      }
     },
     "aeab48cc080043c58591da9fad3b2005": {
      "model_module": "@jupyter-widgets/base",
      "model_module_version": "1.2.0",
      "model_name": "LayoutModel",
      "state": {
       "_model_module": "@jupyter-widgets/base",
       "_model_module_version": "1.2.0",
       "_model_name": "LayoutModel",
       "_view_count": null,
       "_view_module": "@jupyter-widgets/base",
       "_view_module_version": "1.2.0",
       "_view_name": "LayoutView",
       "align_content": null,
       "align_items": null,
       "align_self": null,
       "border": null,
       "bottom": null,
       "display": null,
       "flex": null,
       "flex_flow": null,
       "grid_area": null,
       "grid_auto_columns": null,
       "grid_auto_flow": null,
       "grid_auto_rows": null,
       "grid_column": null,
       "grid_gap": null,
       "grid_row": null,
       "grid_template_areas": null,
       "grid_template_columns": null,
       "grid_template_rows": null,
       "height": null,
       "justify_content": null,
       "justify_items": null,
       "left": null,
       "margin": null,
       "max_height": null,
       "max_width": null,
       "min_height": null,
       "min_width": null,
       "object_fit": null,
       "object_position": null,
       "order": null,
       "overflow": null,
       "overflow_x": null,
       "overflow_y": null,
       "padding": null,
       "right": null,
       "top": null,
       "visibility": null,
       "width": null
      }
     },
     "af29485d0a4b440d9062bd1995351a59": {
      "model_module": "@jupyter-widgets/base",
      "model_module_version": "1.2.0",
      "model_name": "LayoutModel",
      "state": {
       "_model_module": "@jupyter-widgets/base",
       "_model_module_version": "1.2.0",
       "_model_name": "LayoutModel",
       "_view_count": null,
       "_view_module": "@jupyter-widgets/base",
       "_view_module_version": "1.2.0",
       "_view_name": "LayoutView",
       "align_content": null,
       "align_items": null,
       "align_self": null,
       "border": null,
       "bottom": null,
       "display": null,
       "flex": null,
       "flex_flow": null,
       "grid_area": null,
       "grid_auto_columns": null,
       "grid_auto_flow": null,
       "grid_auto_rows": null,
       "grid_column": null,
       "grid_gap": null,
       "grid_row": null,
       "grid_template_areas": null,
       "grid_template_columns": null,
       "grid_template_rows": null,
       "height": null,
       "justify_content": null,
       "justify_items": null,
       "left": null,
       "margin": null,
       "max_height": null,
       "max_width": null,
       "min_height": null,
       "min_width": null,
       "object_fit": null,
       "object_position": null,
       "order": null,
       "overflow": null,
       "overflow_x": null,
       "overflow_y": null,
       "padding": null,
       "right": null,
       "top": null,
       "visibility": null,
       "width": null
      }
     },
     "af59392111e94a548536dd943b66bc5a": {
      "model_module": "@jupyter-widgets/controls",
      "model_module_version": "1.5.0",
      "model_name": "HTMLModel",
      "state": {
       "_dom_classes": [],
       "_model_module": "@jupyter-widgets/controls",
       "_model_module_version": "1.5.0",
       "_model_name": "HTMLModel",
       "_view_count": null,
       "_view_module": "@jupyter-widgets/controls",
       "_view_module_version": "1.5.0",
       "_view_name": "HTMLView",
       "description": "",
       "description_tooltip": null,
       "layout": "IPY_MODEL_037db87ceaf34c3c82fd1b49a71ae39b",
       "placeholder": "​",
       "style": "IPY_MODEL_86cfcbcd4cbe488c81ae97f6bd48b029",
       "value": " 1.89G/1.89G [00:49&lt;00:00, 38.4MB/s]"
      }
     },
     "b2e4e1d581d24331b9988bbe32b2dbce": {
      "model_module": "@jupyter-widgets/controls",
      "model_module_version": "1.5.0",
      "model_name": "HTMLModel",
      "state": {
       "_dom_classes": [],
       "_model_module": "@jupyter-widgets/controls",
       "_model_module_version": "1.5.0",
       "_model_name": "HTMLModel",
       "_view_count": null,
       "_view_module": "@jupyter-widgets/controls",
       "_view_module_version": "1.5.0",
       "_view_name": "HTMLView",
       "description": "",
       "description_tooltip": null,
       "layout": "IPY_MODEL_ea330df0f5a5438b9154894d301cbf3f",
       "placeholder": "​",
       "style": "IPY_MODEL_9bdaf4b9af174b46a0f1a43f79f85307",
       "value": " 14000/14000 [02:06&lt;00:00, 110.48it/s]"
      }
     },
     "b592af6b457548e79cdb89f8d7930288": {
      "model_module": "@jupyter-widgets/base",
      "model_module_version": "1.2.0",
      "model_name": "LayoutModel",
      "state": {
       "_model_module": "@jupyter-widgets/base",
       "_model_module_version": "1.2.0",
       "_model_name": "LayoutModel",
       "_view_count": null,
       "_view_module": "@jupyter-widgets/base",
       "_view_module_version": "1.2.0",
       "_view_name": "LayoutView",
       "align_content": null,
       "align_items": null,
       "align_self": null,
       "border": null,
       "bottom": null,
       "display": null,
       "flex": null,
       "flex_flow": null,
       "grid_area": null,
       "grid_auto_columns": null,
       "grid_auto_flow": null,
       "grid_auto_rows": null,
       "grid_column": null,
       "grid_gap": null,
       "grid_row": null,
       "grid_template_areas": null,
       "grid_template_columns": null,
       "grid_template_rows": null,
       "height": null,
       "justify_content": null,
       "justify_items": null,
       "left": null,
       "margin": null,
       "max_height": null,
       "max_width": null,
       "min_height": null,
       "min_width": null,
       "object_fit": null,
       "object_position": null,
       "order": null,
       "overflow": null,
       "overflow_x": null,
       "overflow_y": null,
       "padding": null,
       "right": null,
       "top": null,
       "visibility": null,
       "width": null
      }
     },
     "b5ef489225bf43e5908b3e91109d06ee": {
      "model_module": "@jupyter-widgets/base",
      "model_module_version": "1.2.0",
      "model_name": "LayoutModel",
      "state": {
       "_model_module": "@jupyter-widgets/base",
       "_model_module_version": "1.2.0",
       "_model_name": "LayoutModel",
       "_view_count": null,
       "_view_module": "@jupyter-widgets/base",
       "_view_module_version": "1.2.0",
       "_view_name": "LayoutView",
       "align_content": null,
       "align_items": null,
       "align_self": null,
       "border": null,
       "bottom": null,
       "display": null,
       "flex": null,
       "flex_flow": null,
       "grid_area": null,
       "grid_auto_columns": null,
       "grid_auto_flow": null,
       "grid_auto_rows": null,
       "grid_column": null,
       "grid_gap": null,
       "grid_row": null,
       "grid_template_areas": null,
       "grid_template_columns": null,
       "grid_template_rows": null,
       "height": null,
       "justify_content": null,
       "justify_items": null,
       "left": null,
       "margin": null,
       "max_height": null,
       "max_width": null,
       "min_height": null,
       "min_width": null,
       "object_fit": null,
       "object_position": null,
       "order": null,
       "overflow": null,
       "overflow_x": null,
       "overflow_y": null,
       "padding": null,
       "right": null,
       "top": null,
       "visibility": null,
       "width": null
      }
     },
     "bbe7f870ea54476ab6abcb0a18fb06bf": {
      "model_module": "@jupyter-widgets/controls",
      "model_module_version": "1.5.0",
      "model_name": "ProgressStyleModel",
      "state": {
       "_model_module": "@jupyter-widgets/controls",
       "_model_module_version": "1.5.0",
       "_model_name": "ProgressStyleModel",
       "_view_count": null,
       "_view_module": "@jupyter-widgets/base",
       "_view_module_version": "1.2.0",
       "_view_name": "StyleView",
       "bar_color": null,
       "description_width": "initial"
      }
     },
     "bca59218fc1048c59fd319ea4cb245db": {
      "model_module": "@jupyter-widgets/controls",
      "model_module_version": "1.5.0",
      "model_name": "DescriptionStyleModel",
      "state": {
       "_model_module": "@jupyter-widgets/controls",
       "_model_module_version": "1.5.0",
       "_model_name": "DescriptionStyleModel",
       "_view_count": null,
       "_view_module": "@jupyter-widgets/base",
       "_view_module_version": "1.2.0",
       "_view_name": "StyleView",
       "description_width": ""
      }
     },
     "bd44ba117cc141ff8d5ab7101d2bdcb0": {
      "model_module": "@jupyter-widgets/controls",
      "model_module_version": "1.5.0",
      "model_name": "DescriptionStyleModel",
      "state": {
       "_model_module": "@jupyter-widgets/controls",
       "_model_module_version": "1.5.0",
       "_model_name": "DescriptionStyleModel",
       "_view_count": null,
       "_view_module": "@jupyter-widgets/base",
       "_view_module_version": "1.2.0",
       "_view_name": "StyleView",
       "description_width": ""
      }
     },
     "bfd0dc4691854bdf9ee2e84211fb291b": {
      "model_module": "@jupyter-widgets/base",
      "model_module_version": "1.2.0",
      "model_name": "LayoutModel",
      "state": {
       "_model_module": "@jupyter-widgets/base",
       "_model_module_version": "1.2.0",
       "_model_name": "LayoutModel",
       "_view_count": null,
       "_view_module": "@jupyter-widgets/base",
       "_view_module_version": "1.2.0",
       "_view_name": "LayoutView",
       "align_content": null,
       "align_items": null,
       "align_self": null,
       "border": null,
       "bottom": null,
       "display": null,
       "flex": null,
       "flex_flow": null,
       "grid_area": null,
       "grid_auto_columns": null,
       "grid_auto_flow": null,
       "grid_auto_rows": null,
       "grid_column": null,
       "grid_gap": null,
       "grid_row": null,
       "grid_template_areas": null,
       "grid_template_columns": null,
       "grid_template_rows": null,
       "height": null,
       "justify_content": null,
       "justify_items": null,
       "left": null,
       "margin": null,
       "max_height": null,
       "max_width": null,
       "min_height": null,
       "min_width": null,
       "object_fit": null,
       "object_position": null,
       "order": null,
       "overflow": null,
       "overflow_x": null,
       "overflow_y": null,
       "padding": null,
       "right": null,
       "top": null,
       "visibility": null,
       "width": null
      }
     },
     "c3f44ac77d9f4782b04429c05d1a71bb": {
      "model_module": "@jupyter-widgets/base",
      "model_module_version": "1.2.0",
      "model_name": "LayoutModel",
      "state": {
       "_model_module": "@jupyter-widgets/base",
       "_model_module_version": "1.2.0",
       "_model_name": "LayoutModel",
       "_view_count": null,
       "_view_module": "@jupyter-widgets/base",
       "_view_module_version": "1.2.0",
       "_view_name": "LayoutView",
       "align_content": null,
       "align_items": null,
       "align_self": null,
       "border": null,
       "bottom": null,
       "display": null,
       "flex": null,
       "flex_flow": null,
       "grid_area": null,
       "grid_auto_columns": null,
       "grid_auto_flow": null,
       "grid_auto_rows": null,
       "grid_column": null,
       "grid_gap": null,
       "grid_row": null,
       "grid_template_areas": null,
       "grid_template_columns": null,
       "grid_template_rows": null,
       "height": null,
       "justify_content": null,
       "justify_items": null,
       "left": null,
       "margin": null,
       "max_height": null,
       "max_width": null,
       "min_height": null,
       "min_width": null,
       "object_fit": null,
       "object_position": null,
       "order": null,
       "overflow": null,
       "overflow_x": null,
       "overflow_y": null,
       "padding": null,
       "right": null,
       "top": null,
       "visibility": null,
       "width": null
      }
     },
     "c4b985ec2e9243188eb62032fe49c7a9": {
      "model_module": "@jupyter-widgets/base",
      "model_module_version": "1.2.0",
      "model_name": "LayoutModel",
      "state": {
       "_model_module": "@jupyter-widgets/base",
       "_model_module_version": "1.2.0",
       "_model_name": "LayoutModel",
       "_view_count": null,
       "_view_module": "@jupyter-widgets/base",
       "_view_module_version": "1.2.0",
       "_view_name": "LayoutView",
       "align_content": null,
       "align_items": null,
       "align_self": null,
       "border": null,
       "bottom": null,
       "display": null,
       "flex": null,
       "flex_flow": null,
       "grid_area": null,
       "grid_auto_columns": null,
       "grid_auto_flow": null,
       "grid_auto_rows": null,
       "grid_column": null,
       "grid_gap": null,
       "grid_row": null,
       "grid_template_areas": null,
       "grid_template_columns": null,
       "grid_template_rows": null,
       "height": null,
       "justify_content": null,
       "justify_items": null,
       "left": null,
       "margin": null,
       "max_height": null,
       "max_width": null,
       "min_height": null,
       "min_width": null,
       "object_fit": null,
       "object_position": null,
       "order": null,
       "overflow": null,
       "overflow_x": null,
       "overflow_y": null,
       "padding": null,
       "right": null,
       "top": null,
       "visibility": null,
       "width": null
      }
     },
     "c66238d15f03415cb7989915dee2c222": {
      "model_module": "@jupyter-widgets/controls",
      "model_module_version": "1.5.0",
      "model_name": "ProgressStyleModel",
      "state": {
       "_model_module": "@jupyter-widgets/controls",
       "_model_module_version": "1.5.0",
       "_model_name": "ProgressStyleModel",
       "_view_count": null,
       "_view_module": "@jupyter-widgets/base",
       "_view_module_version": "1.2.0",
       "_view_name": "StyleView",
       "bar_color": null,
       "description_width": "initial"
      }
     },
     "c6ea897108fc478b8ce397c4a8402056": {
      "model_module": "@jupyter-widgets/controls",
      "model_module_version": "1.5.0",
      "model_name": "ProgressStyleModel",
      "state": {
       "_model_module": "@jupyter-widgets/controls",
       "_model_module_version": "1.5.0",
       "_model_name": "ProgressStyleModel",
       "_view_count": null,
       "_view_module": "@jupyter-widgets/base",
       "_view_module_version": "1.2.0",
       "_view_name": "StyleView",
       "bar_color": null,
       "description_width": "initial"
      }
     },
     "c81b91edbc0b4ed2b0b3700a577031a0": {
      "model_module": "@jupyter-widgets/controls",
      "model_module_version": "1.5.0",
      "model_name": "FloatProgressModel",
      "state": {
       "_dom_classes": [],
       "_model_module": "@jupyter-widgets/controls",
       "_model_module_version": "1.5.0",
       "_model_name": "FloatProgressModel",
       "_view_count": null,
       "_view_module": "@jupyter-widgets/controls",
       "_view_module_version": "1.5.0",
       "_view_name": "ProgressView",
       "bar_style": "success",
       "description": "100%",
       "description_tooltip": null,
       "layout": "IPY_MODEL_bfd0dc4691854bdf9ee2e84211fb291b",
       "max": 3000.0,
       "min": 0.0,
       "orientation": "horizontal",
       "style": "IPY_MODEL_5479a7340d2f4fa6851b474b9a987c4d",
       "value": 3000.0
      }
     },
     "c8ce0443163e445fbb34f5d73e7f0b03": {
      "model_module": "@jupyter-widgets/controls",
      "model_module_version": "1.5.0",
      "model_name": "HTMLModel",
      "state": {
       "_dom_classes": [],
       "_model_module": "@jupyter-widgets/controls",
       "_model_module_version": "1.5.0",
       "_model_name": "HTMLModel",
       "_view_count": null,
       "_view_module": "@jupyter-widgets/controls",
       "_view_module_version": "1.5.0",
       "_view_name": "HTMLView",
       "description": "",
       "description_tooltip": null,
       "layout": "IPY_MODEL_40a999af3cba4976ac00a933f0da3ea1",
       "placeholder": "​",
       "style": "IPY_MODEL_058b5d07b9a3474689933dc425f7a8b1",
       "value": " 5.07M/5.07M [00:03&lt;00:00, 1.43MB/s]"
      }
     },
     "cabc93088d28484aacfe4e7f74e32578": {
      "model_module": "@jupyter-widgets/controls",
      "model_module_version": "1.5.0",
      "model_name": "HTMLModel",
      "state": {
       "_dom_classes": [],
       "_model_module": "@jupyter-widgets/controls",
       "_model_module_version": "1.5.0",
       "_model_name": "HTMLModel",
       "_view_count": null,
       "_view_module": "@jupyter-widgets/controls",
       "_view_module_version": "1.5.0",
       "_view_name": "HTMLView",
       "description": "",
       "description_tooltip": null,
       "layout": "IPY_MODEL_0a85a0bf97c842be9d11dfde03c89102",
       "placeholder": "​",
       "style": "IPY_MODEL_bca59218fc1048c59fd319ea4cb245db",
       "value": " 2500/2500 [00:59&lt;00:00, 42.10it/s]"
      }
     },
     "ccbfce55911e42e1b5eb4e29d88f6d56": {
      "model_module": "@jupyter-widgets/base",
      "model_module_version": "1.2.0",
      "model_name": "LayoutModel",
      "state": {
       "_model_module": "@jupyter-widgets/base",
       "_model_module_version": "1.2.0",
       "_model_name": "LayoutModel",
       "_view_count": null,
       "_view_module": "@jupyter-widgets/base",
       "_view_module_version": "1.2.0",
       "_view_name": "LayoutView",
       "align_content": null,
       "align_items": null,
       "align_self": null,
       "border": null,
       "bottom": null,
       "display": null,
       "flex": null,
       "flex_flow": null,
       "grid_area": null,
       "grid_auto_columns": null,
       "grid_auto_flow": null,
       "grid_auto_rows": null,
       "grid_column": null,
       "grid_gap": null,
       "grid_row": null,
       "grid_template_areas": null,
       "grid_template_columns": null,
       "grid_template_rows": null,
       "height": null,
       "justify_content": null,
       "justify_items": null,
       "left": null,
       "margin": null,
       "max_height": null,
       "max_width": null,
       "min_height": null,
       "min_width": null,
       "object_fit": null,
       "object_position": null,
       "order": null,
       "overflow": null,
       "overflow_x": null,
       "overflow_y": null,
       "padding": null,
       "right": null,
       "top": null,
       "visibility": null,
       "width": null
      }
     },
     "ce5cf550ba3e43449d90f1412033ad7f": {
      "model_module": "@jupyter-widgets/controls",
      "model_module_version": "1.5.0",
      "model_name": "FloatProgressModel",
      "state": {
       "_dom_classes": [],
       "_model_module": "@jupyter-widgets/controls",
       "_model_module_version": "1.5.0",
       "_model_name": "FloatProgressModel",
       "_view_count": null,
       "_view_module": "@jupyter-widgets/controls",
       "_view_module_version": "1.5.0",
       "_view_name": "ProgressView",
       "bar_style": "success",
       "description": "Downloading: 100%",
       "description_tooltip": null,
       "layout": "IPY_MODEL_69db2c112e5c401cbe3c6958a92d8548",
       "max": 1885418496.0,
       "min": 0.0,
       "orientation": "horizontal",
       "style": "IPY_MODEL_de3ec4e51b664a6da0af4fa082c08b44",
       "value": 1885418496.0
      }
     },
     "d2b5138d791042cfaa3a4c8fce63d569": {
      "model_module": "@jupyter-widgets/controls",
      "model_module_version": "1.5.0",
      "model_name": "HTMLModel",
      "state": {
       "_dom_classes": [],
       "_model_module": "@jupyter-widgets/controls",
       "_model_module_version": "1.5.0",
       "_model_name": "HTMLModel",
       "_view_count": null,
       "_view_module": "@jupyter-widgets/controls",
       "_view_module_version": "1.5.0",
       "_view_name": "HTMLView",
       "description": "",
       "description_tooltip": null,
       "layout": "IPY_MODEL_81c91c1be1634432a88e1fc631ffafda",
       "placeholder": "​",
       "style": "IPY_MODEL_4b96f5bf428440249e0b0019ba6f6508",
       "value": " 3000/3000 [00:41&lt;00:00, 72.89it/s]"
      }
     },
     "d5fbb6a8cdf74b2bbe638380486b864a": {
      "model_module": "@jupyter-widgets/controls",
      "model_module_version": "1.5.0",
      "model_name": "DescriptionStyleModel",
      "state": {
       "_model_module": "@jupyter-widgets/controls",
       "_model_module_version": "1.5.0",
       "_model_name": "DescriptionStyleModel",
       "_view_count": null,
       "_view_module": "@jupyter-widgets/base",
       "_view_module_version": "1.2.0",
       "_view_name": "StyleView",
       "description_width": ""
      }
     },
     "d8d3defd99d94863a891d6116b4224dd": {
      "model_module": "@jupyter-widgets/base",
      "model_module_version": "1.2.0",
      "model_name": "LayoutModel",
      "state": {
       "_model_module": "@jupyter-widgets/base",
       "_model_module_version": "1.2.0",
       "_model_name": "LayoutModel",
       "_view_count": null,
       "_view_module": "@jupyter-widgets/base",
       "_view_module_version": "1.2.0",
       "_view_name": "LayoutView",
       "align_content": null,
       "align_items": null,
       "align_self": null,
       "border": null,
       "bottom": null,
       "display": null,
       "flex": null,
       "flex_flow": null,
       "grid_area": null,
       "grid_auto_columns": null,
       "grid_auto_flow": null,
       "grid_auto_rows": null,
       "grid_column": null,
       "grid_gap": null,
       "grid_row": null,
       "grid_template_areas": null,
       "grid_template_columns": null,
       "grid_template_rows": null,
       "height": null,
       "justify_content": null,
       "justify_items": null,
       "left": null,
       "margin": null,
       "max_height": null,
       "max_width": null,
       "min_height": null,
       "min_width": null,
       "object_fit": null,
       "object_position": null,
       "order": null,
       "overflow": null,
       "overflow_x": null,
       "overflow_y": null,
       "padding": null,
       "right": null,
       "top": null,
       "visibility": null,
       "width": null
      }
     },
     "de03b60e2c424701b002a35c92afb4ac": {
      "model_module": "@jupyter-widgets/controls",
      "model_module_version": "1.5.0",
      "model_name": "DescriptionStyleModel",
      "state": {
       "_model_module": "@jupyter-widgets/controls",
       "_model_module_version": "1.5.0",
       "_model_name": "DescriptionStyleModel",
       "_view_count": null,
       "_view_module": "@jupyter-widgets/base",
       "_view_module_version": "1.2.0",
       "_view_name": "StyleView",
       "description_width": ""
      }
     },
     "de3ec4e51b664a6da0af4fa082c08b44": {
      "model_module": "@jupyter-widgets/controls",
      "model_module_version": "1.5.0",
      "model_name": "ProgressStyleModel",
      "state": {
       "_model_module": "@jupyter-widgets/controls",
       "_model_module_version": "1.5.0",
       "_model_name": "ProgressStyleModel",
       "_view_count": null,
       "_view_module": "@jupyter-widgets/base",
       "_view_module_version": "1.2.0",
       "_view_name": "StyleView",
       "bar_color": null,
       "description_width": "initial"
      }
     },
     "df020052657d4f89a14a053d5e0559e1": {
      "model_module": "@jupyter-widgets/controls",
      "model_module_version": "1.5.0",
      "model_name": "FloatProgressModel",
      "state": {
       "_dom_classes": [],
       "_model_module": "@jupyter-widgets/controls",
       "_model_module_version": "1.5.0",
       "_model_name": "FloatProgressModel",
       "_view_count": null,
       "_view_module": "@jupyter-widgets/controls",
       "_view_module_version": "1.5.0",
       "_view_name": "ProgressView",
       "bar_style": "success",
       "description": "100%",
       "description_tooltip": null,
       "layout": "IPY_MODEL_77f7c74fbe694612ab4a9bae699f96ae",
       "max": 389561.0,
       "min": 0.0,
       "orientation": "horizontal",
       "style": "IPY_MODEL_f9ffb2a5b1cd48e28927c171d29900d9",
       "value": 389561.0
      }
     },
     "e1f259ca7e66497a9cd94f340e6cb5ff": {
      "model_module": "@jupyter-widgets/controls",
      "model_module_version": "1.5.0",
      "model_name": "FloatProgressModel",
      "state": {
       "_dom_classes": [],
       "_model_module": "@jupyter-widgets/controls",
       "_model_module_version": "1.5.0",
       "_model_name": "FloatProgressModel",
       "_view_count": null,
       "_view_module": "@jupyter-widgets/controls",
       "_view_module_version": "1.5.0",
       "_view_name": "ProgressView",
       "bar_style": "success",
       "description": "100%",
       "description_tooltip": null,
       "layout": "IPY_MODEL_93b31a6329f34aa0b51848fbfbb92285",
       "max": 8438.0,
       "min": 0.0,
       "orientation": "horizontal",
       "style": "IPY_MODEL_82bc6b9ff9f7459389dc412cd0f09629",
       "value": 8438.0
      }
     },
     "e2d7a83541f6428d85aade9e34cb49d1": {
      "model_module": "@jupyter-widgets/controls",
      "model_module_version": "1.5.0",
      "model_name": "HBoxModel",
      "state": {
       "_dom_classes": [],
       "_model_module": "@jupyter-widgets/controls",
       "_model_module_version": "1.5.0",
       "_model_name": "HBoxModel",
       "_view_count": null,
       "_view_module": "@jupyter-widgets/controls",
       "_view_module_version": "1.5.0",
       "_view_name": "HBoxView",
       "box_style": "",
       "children": [
        "IPY_MODEL_865e1fbc23bf4d849c8b274b24f38f15",
        "IPY_MODEL_c8ce0443163e445fbb34f5d73e7f0b03"
       ],
       "layout": "IPY_MODEL_f79803ced3aa4ed88f2c04133f5327c3"
      }
     },
     "e9ac6276f6ac4494b4ec0cbb6056f964": {
      "model_module": "@jupyter-widgets/controls",
      "model_module_version": "1.5.0",
      "model_name": "HBoxModel",
      "state": {
       "_dom_classes": [],
       "_model_module": "@jupyter-widgets/controls",
       "_model_module_version": "1.5.0",
       "_model_name": "HBoxModel",
       "_view_count": null,
       "_view_module": "@jupyter-widgets/controls",
       "_view_module_version": "1.5.0",
       "_view_name": "HBoxView",
       "box_style": "",
       "children": [
        "IPY_MODEL_66e6df756eea4f6da67138131fd60b11",
        "IPY_MODEL_316876036aaf49d591245341aa1a172b"
       ],
       "layout": "IPY_MODEL_a77db91962d44885b411865514669b46"
      }
     },
     "ea330df0f5a5438b9154894d301cbf3f": {
      "model_module": "@jupyter-widgets/base",
      "model_module_version": "1.2.0",
      "model_name": "LayoutModel",
      "state": {
       "_model_module": "@jupyter-widgets/base",
       "_model_module_version": "1.2.0",
       "_model_name": "LayoutModel",
       "_view_count": null,
       "_view_module": "@jupyter-widgets/base",
       "_view_module_version": "1.2.0",
       "_view_name": "LayoutView",
       "align_content": null,
       "align_items": null,
       "align_self": null,
       "border": null,
       "bottom": null,
       "display": null,
       "flex": null,
       "flex_flow": null,
       "grid_area": null,
       "grid_auto_columns": null,
       "grid_auto_flow": null,
       "grid_auto_rows": null,
       "grid_column": null,
       "grid_gap": null,
       "grid_row": null,
       "grid_template_areas": null,
       "grid_template_columns": null,
       "grid_template_rows": null,
       "height": null,
       "justify_content": null,
       "justify_items": null,
       "left": null,
       "margin": null,
       "max_height": null,
       "max_width": null,
       "min_height": null,
       "min_width": null,
       "object_fit": null,
       "object_position": null,
       "order": null,
       "overflow": null,
       "overflow_x": null,
       "overflow_y": null,
       "padding": null,
       "right": null,
       "top": null,
       "visibility": null,
       "width": null
      }
     },
     "ec0e33e2a86b4f50943826d7828d3158": {
      "model_module": "@jupyter-widgets/base",
      "model_module_version": "1.2.0",
      "model_name": "LayoutModel",
      "state": {
       "_model_module": "@jupyter-widgets/base",
       "_model_module_version": "1.2.0",
       "_model_name": "LayoutModel",
       "_view_count": null,
       "_view_module": "@jupyter-widgets/base",
       "_view_module_version": "1.2.0",
       "_view_name": "LayoutView",
       "align_content": null,
       "align_items": null,
       "align_self": null,
       "border": null,
       "bottom": null,
       "display": null,
       "flex": null,
       "flex_flow": null,
       "grid_area": null,
       "grid_auto_columns": null,
       "grid_auto_flow": null,
       "grid_auto_rows": null,
       "grid_column": null,
       "grid_gap": null,
       "grid_row": null,
       "grid_template_areas": null,
       "grid_template_columns": null,
       "grid_template_rows": null,
       "height": null,
       "justify_content": null,
       "justify_items": null,
       "left": null,
       "margin": null,
       "max_height": null,
       "max_width": null,
       "min_height": null,
       "min_width": null,
       "object_fit": null,
       "object_position": null,
       "order": null,
       "overflow": null,
       "overflow_x": null,
       "overflow_y": null,
       "padding": null,
       "right": null,
       "top": null,
       "visibility": null,
       "width": null
      }
     },
     "ed88c10b99044a3bb2ca9fe0ed111b56": {
      "model_module": "@jupyter-widgets/controls",
      "model_module_version": "1.5.0",
      "model_name": "ProgressStyleModel",
      "state": {
       "_model_module": "@jupyter-widgets/controls",
       "_model_module_version": "1.5.0",
       "_model_name": "ProgressStyleModel",
       "_view_count": null,
       "_view_module": "@jupyter-widgets/base",
       "_view_module_version": "1.2.0",
       "_view_name": "StyleView",
       "bar_color": null,
       "description_width": "initial"
      }
     },
     "ee718c8d1dce4ff298b725d332e449fd": {
      "model_module": "@jupyter-widgets/controls",
      "model_module_version": "1.5.0",
      "model_name": "HBoxModel",
      "state": {
       "_dom_classes": [],
       "_model_module": "@jupyter-widgets/controls",
       "_model_module_version": "1.5.0",
       "_model_name": "HBoxModel",
       "_view_count": null,
       "_view_module": "@jupyter-widgets/controls",
       "_view_module_version": "1.5.0",
       "_view_name": "HBoxView",
       "box_style": "",
       "children": [
        "IPY_MODEL_fc96b194721d4dce946b4149e18d8960",
        "IPY_MODEL_f838c2849fb845bfac3a2b5bbb7505c6"
       ],
       "layout": "IPY_MODEL_ad4b1dc3a07c48b88e937c70b2055db5"
      }
     },
     "f13e8972fef1434187f1e6e1368a09c8": {
      "model_module": "@jupyter-widgets/controls",
      "model_module_version": "1.5.0",
      "model_name": "ProgressStyleModel",
      "state": {
       "_model_module": "@jupyter-widgets/controls",
       "_model_module_version": "1.5.0",
       "_model_name": "ProgressStyleModel",
       "_view_count": null,
       "_view_module": "@jupyter-widgets/base",
       "_view_module_version": "1.2.0",
       "_view_name": "StyleView",
       "bar_color": null,
       "description_width": "initial"
      }
     },
     "f20a6c670d094ee597b55a95a9a0d30d": {
      "model_module": "@jupyter-widgets/controls",
      "model_module_version": "1.5.0",
      "model_name": "FloatProgressModel",
      "state": {
       "_dom_classes": [],
       "_model_module": "@jupyter-widgets/controls",
       "_model_module_version": "1.5.0",
       "_model_name": "FloatProgressModel",
       "_view_count": null,
       "_view_module": "@jupyter-widgets/controls",
       "_view_module_version": "1.5.0",
       "_view_name": "ProgressView",
       "bar_style": "success",
       "description": "100%",
       "description_tooltip": null,
       "layout": "IPY_MODEL_494f14cf3b144da98c6e2167a440a5d8",
       "max": 11012.0,
       "min": 0.0,
       "orientation": "horizontal",
       "style": "IPY_MODEL_f13e8972fef1434187f1e6e1368a09c8",
       "value": 11012.0
      }
     },
     "f2125c2c9d434b64916aeca89fcca7fc": {
      "model_module": "@jupyter-widgets/controls",
      "model_module_version": "1.5.0",
      "model_name": "ProgressStyleModel",
      "state": {
       "_model_module": "@jupyter-widgets/controls",
       "_model_module_version": "1.5.0",
       "_model_name": "ProgressStyleModel",
       "_view_count": null,
       "_view_module": "@jupyter-widgets/base",
       "_view_module_version": "1.2.0",
       "_view_name": "StyleView",
       "bar_color": null,
       "description_width": "initial"
      }
     },
     "f2282cb9291541469beb9fb3b9048fc1": {
      "model_module": "@jupyter-widgets/base",
      "model_module_version": "1.2.0",
      "model_name": "LayoutModel",
      "state": {
       "_model_module": "@jupyter-widgets/base",
       "_model_module_version": "1.2.0",
       "_model_name": "LayoutModel",
       "_view_count": null,
       "_view_module": "@jupyter-widgets/base",
       "_view_module_version": "1.2.0",
       "_view_name": "LayoutView",
       "align_content": null,
       "align_items": null,
       "align_self": null,
       "border": null,
       "bottom": null,
       "display": null,
       "flex": null,
       "flex_flow": null,
       "grid_area": null,
       "grid_auto_columns": null,
       "grid_auto_flow": null,
       "grid_auto_rows": null,
       "grid_column": null,
       "grid_gap": null,
       "grid_row": null,
       "grid_template_areas": null,
       "grid_template_columns": null,
       "grid_template_rows": null,
       "height": null,
       "justify_content": null,
       "justify_items": null,
       "left": null,
       "margin": null,
       "max_height": null,
       "max_width": null,
       "min_height": null,
       "min_width": null,
       "object_fit": null,
       "object_position": null,
       "order": null,
       "overflow": null,
       "overflow_x": null,
       "overflow_y": null,
       "padding": null,
       "right": null,
       "top": null,
       "visibility": null,
       "width": null
      }
     },
     "f4823cef8d4f40149a127b9f9364b27d": {
      "model_module": "@jupyter-widgets/controls",
      "model_module_version": "1.5.0",
      "model_name": "HTMLModel",
      "state": {
       "_dom_classes": [],
       "_model_module": "@jupyter-widgets/controls",
       "_model_module_version": "1.5.0",
       "_model_name": "HTMLModel",
       "_view_count": null,
       "_view_module": "@jupyter-widgets/controls",
       "_view_module_version": "1.5.0",
       "_view_name": "HTMLView",
       "description": "",
       "description_tooltip": null,
       "layout": "IPY_MODEL_9a7eb8117a994748b7c0df678b3546ba",
       "placeholder": "​",
       "style": "IPY_MODEL_1d18a569c65347e49d149c6a7a1ef7e8",
       "value": " 2500/2500 [08:50&lt;00:00,  4.71it/s]"
      }
     },
     "f4e68e60ac034259ad6c2828c679fb25": {
      "model_module": "@jupyter-widgets/controls",
      "model_module_version": "1.5.0",
      "model_name": "HBoxModel",
      "state": {
       "_dom_classes": [],
       "_model_module": "@jupyter-widgets/controls",
       "_model_module_version": "1.5.0",
       "_model_name": "HBoxModel",
       "_view_count": null,
       "_view_module": "@jupyter-widgets/controls",
       "_view_module_version": "1.5.0",
       "_view_name": "HBoxView",
       "box_style": "",
       "children": [
        "IPY_MODEL_df020052657d4f89a14a053d5e0559e1",
        "IPY_MODEL_0ef13f27061e4f2e97f9b7e8279c2c1b"
       ],
       "layout": "IPY_MODEL_ad6aac99c158492ea3239acfd89fd0a8"
      }
     },
     "f78f14b589fe437cac576c3e847f5946": {
      "model_module": "@jupyter-widgets/controls",
      "model_module_version": "1.5.0",
      "model_name": "ProgressStyleModel",
      "state": {
       "_model_module": "@jupyter-widgets/controls",
       "_model_module_version": "1.5.0",
       "_model_name": "ProgressStyleModel",
       "_view_count": null,
       "_view_module": "@jupyter-widgets/base",
       "_view_module_version": "1.2.0",
       "_view_name": "StyleView",
       "bar_color": null,
       "description_width": "initial"
      }
     },
     "f79803ced3aa4ed88f2c04133f5327c3": {
      "model_module": "@jupyter-widgets/base",
      "model_module_version": "1.2.0",
      "model_name": "LayoutModel",
      "state": {
       "_model_module": "@jupyter-widgets/base",
       "_model_module_version": "1.2.0",
       "_model_name": "LayoutModel",
       "_view_count": null,
       "_view_module": "@jupyter-widgets/base",
       "_view_module_version": "1.2.0",
       "_view_name": "LayoutView",
       "align_content": null,
       "align_items": null,
       "align_self": null,
       "border": null,
       "bottom": null,
       "display": null,
       "flex": null,
       "flex_flow": null,
       "grid_area": null,
       "grid_auto_columns": null,
       "grid_auto_flow": null,
       "grid_auto_rows": null,
       "grid_column": null,
       "grid_gap": null,
       "grid_row": null,
       "grid_template_areas": null,
       "grid_template_columns": null,
       "grid_template_rows": null,
       "height": null,
       "justify_content": null,
       "justify_items": null,
       "left": null,
       "margin": null,
       "max_height": null,
       "max_width": null,
       "min_height": null,
       "min_width": null,
       "object_fit": null,
       "object_position": null,
       "order": null,
       "overflow": null,
       "overflow_x": null,
       "overflow_y": null,
       "padding": null,
       "right": null,
       "top": null,
       "visibility": null,
       "width": null
      }
     },
     "f838c2849fb845bfac3a2b5bbb7505c6": {
      "model_module": "@jupyter-widgets/controls",
      "model_module_version": "1.5.0",
      "model_name": "HTMLModel",
      "state": {
       "_dom_classes": [],
       "_model_module": "@jupyter-widgets/controls",
       "_model_module_version": "1.5.0",
       "_model_name": "HTMLModel",
       "_view_count": null,
       "_view_module": "@jupyter-widgets/controls",
       "_view_module_version": "1.5.0",
       "_view_name": "HTMLView",
       "description": "",
       "description_tooltip": null,
       "layout": "IPY_MODEL_13f39b500e3b498485596f71436483b4",
       "placeholder": "​",
       "style": "IPY_MODEL_d5fbb6a8cdf74b2bbe638380486b864a",
       "value": " 1000/1000 [00:02&lt;00:00, 334.47it/s]"
      }
     },
     "f9ffb2a5b1cd48e28927c171d29900d9": {
      "model_module": "@jupyter-widgets/controls",
      "model_module_version": "1.5.0",
      "model_name": "ProgressStyleModel",
      "state": {
       "_model_module": "@jupyter-widgets/controls",
       "_model_module_version": "1.5.0",
       "_model_name": "ProgressStyleModel",
       "_view_count": null,
       "_view_module": "@jupyter-widgets/base",
       "_view_module_version": "1.2.0",
       "_view_name": "StyleView",
       "bar_color": null,
       "description_width": "initial"
      }
     },
     "fc96b194721d4dce946b4149e18d8960": {
      "model_module": "@jupyter-widgets/controls",
      "model_module_version": "1.5.0",
      "model_name": "FloatProgressModel",
      "state": {
       "_dom_classes": [],
       "_model_module": "@jupyter-widgets/controls",
       "_model_module_version": "1.5.0",
       "_model_name": "FloatProgressModel",
       "_view_count": null,
       "_view_module": "@jupyter-widgets/controls",
       "_view_module_version": "1.5.0",
       "_view_name": "ProgressView",
       "bar_style": "success",
       "description": "100%",
       "description_tooltip": null,
       "layout": "IPY_MODEL_72adcecaff164c449b9ac0091ae16134",
       "max": 1000.0,
       "min": 0.0,
       "orientation": "horizontal",
       "style": "IPY_MODEL_375f4f95be6b432a8a73f52776ac10e9",
       "value": 1000.0
      }
     },
     "fd9ca8c8c90242dc8ee42363352f1169": {
      "model_module": "@jupyter-widgets/controls",
      "model_module_version": "1.5.0",
      "model_name": "ProgressStyleModel",
      "state": {
       "_model_module": "@jupyter-widgets/controls",
       "_model_module_version": "1.5.0",
       "_model_name": "ProgressStyleModel",
       "_view_count": null,
       "_view_module": "@jupyter-widgets/base",
       "_view_module_version": "1.2.0",
       "_view_name": "StyleView",
       "bar_color": null,
       "description_width": "initial"
      }
     },
     "fda91c2b5d3b444592275f890790d47f": {
      "model_module": "@jupyter-widgets/base",
      "model_module_version": "1.2.0",
      "model_name": "LayoutModel",
      "state": {
       "_model_module": "@jupyter-widgets/base",
       "_model_module_version": "1.2.0",
       "_model_name": "LayoutModel",
       "_view_count": null,
       "_view_module": "@jupyter-widgets/base",
       "_view_module_version": "1.2.0",
       "_view_name": "LayoutView",
       "align_content": null,
       "align_items": null,
       "align_self": null,
       "border": null,
       "bottom": null,
       "display": null,
       "flex": null,
       "flex_flow": null,
       "grid_area": null,
       "grid_auto_columns": null,
       "grid_auto_flow": null,
       "grid_auto_rows": null,
       "grid_column": null,
       "grid_gap": null,
       "grid_row": null,
       "grid_template_areas": null,
       "grid_template_columns": null,
       "grid_template_rows": null,
       "height": null,
       "justify_content": null,
       "justify_items": null,
       "left": null,
       "margin": null,
       "max_height": null,
       "max_width": null,
       "min_height": null,
       "min_width": null,
       "object_fit": null,
       "object_position": null,
       "order": null,
       "overflow": null,
       "overflow_x": null,
       "overflow_y": null,
       "padding": null,
       "right": null,
       "top": null,
       "visibility": null,
       "width": null
      }
     },
     "ff2be2e2268549ba98a21890ed1b742f": {
      "model_module": "@jupyter-widgets/controls",
      "model_module_version": "1.5.0",
      "model_name": "HBoxModel",
      "state": {
       "_dom_classes": [],
       "_model_module": "@jupyter-widgets/controls",
       "_model_module_version": "1.5.0",
       "_model_name": "HBoxModel",
       "_view_count": null,
       "_view_module": "@jupyter-widgets/controls",
       "_view_module_version": "1.5.0",
       "_view_name": "HBoxView",
       "box_style": "",
       "children": [
        "IPY_MODEL_9aac43abbd3d44d2b296abeea2cb7864",
        "IPY_MODEL_2cf3d01793df4f9bae9f7bd86e15d1cb"
       ],
       "layout": "IPY_MODEL_20ce4da156b544e78ff6d461e0a55f8f"
      }
     }
    },
    "version_major": 2,
    "version_minor": 0
   }
  }
 },
 "nbformat": 4,
 "nbformat_minor": 4
}
